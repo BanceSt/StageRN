{
  "nbformat": 4,
  "nbformat_minor": 0,
  "metadata": {
    "colab": {
      "name": "catsVsDogsSpectro2.ipynb",
      "provenance": [],
      "collapsed_sections": [],
      "authorship_tag": "ABX9TyPUyPniqYfzD0M3Z6ritEIm",
      "include_colab_link": true
    },
    "kernelspec": {
      "name": "python3",
      "display_name": "Python 3"
    },
    "accelerator": "GPU"
  },
  "cells": [
    {
      "cell_type": "markdown",
      "metadata": {
        "id": "view-in-github",
        "colab_type": "text"
      },
      "source": [
        "<a href=\"https://colab.research.google.com/github/BanceSt/StageRN/blob/master/catsVsDogsSpectro2.ipynb\" target=\"_parent\"><img src=\"https://colab.research.google.com/assets/colab-badge.svg\" alt=\"Open In Colab\"/></a>"
      ]
    },
    {
      "cell_type": "code",
      "metadata": {
        "id": "EhkwBlLYOx0v",
        "colab_type": "code",
        "outputId": "8a5c9158-de5e-46b2-8436-840a4fc9afbd",
        "colab": {
          "base_uri": "https://localhost:8080/",
          "height": 125
        }
      },
      "source": [
        "from google.colab import drive\n",
        "drive.mount('/content/drive')"
      ],
      "execution_count": 4,
      "outputs": [
        {
          "output_type": "stream",
          "text": [
            "Go to this URL in a browser: https://accounts.google.com/o/oauth2/auth?client_id=947318989803-6bn6qk8qdgf4n4g3pfee6491hc0brc4i.apps.googleusercontent.com&redirect_uri=urn%3aietf%3awg%3aoauth%3a2.0%3aoob&response_type=code&scope=email%20https%3a%2f%2fwww.googleapis.com%2fauth%2fdocs.test%20https%3a%2f%2fwww.googleapis.com%2fauth%2fdrive%20https%3a%2f%2fwww.googleapis.com%2fauth%2fdrive.photos.readonly%20https%3a%2f%2fwww.googleapis.com%2fauth%2fpeopleapi.readonly\n",
            "\n",
            "Enter your authorization code:\n",
            "··········\n",
            "Mounted at /content/drive\n"
          ],
          "name": "stdout"
        }
      ]
    },
    {
      "cell_type": "code",
      "metadata": {
        "id": "4-K8k755PFLM",
        "colab_type": "code",
        "outputId": "45794b5f-6ed2-465f-ae29-68458748bf43",
        "colab": {
          "base_uri": "https://localhost:8080/",
          "height": 1000
        }
      },
      "source": [
        "!unzip \"/content/drive/My Drive/dataStage/audio-cats-and-dogs.zip\" -d /content/sample_data"
      ],
      "execution_count": 5,
      "outputs": [
        {
          "output_type": "stream",
          "text": [
            "Archive:  /content/drive/My Drive/dataStage/audio-cats-and-dogs.zip\n",
            "  inflating: /content/sample_data/cats_dogs/cat_1.wav  \n",
            "  inflating: /content/sample_data/cats_dogs/cat_10.wav  \n",
            "  inflating: /content/sample_data/cats_dogs/cat_100.wav  \n",
            "  inflating: /content/sample_data/cats_dogs/cat_101.wav  \n",
            "  inflating: /content/sample_data/cats_dogs/cat_102.wav  \n",
            "  inflating: /content/sample_data/cats_dogs/cat_103.wav  \n",
            "  inflating: /content/sample_data/cats_dogs/cat_105.wav  \n",
            "  inflating: /content/sample_data/cats_dogs/cat_106.wav  \n",
            "  inflating: /content/sample_data/cats_dogs/cat_107.wav  \n",
            "  inflating: /content/sample_data/cats_dogs/cat_108.wav  \n",
            "  inflating: /content/sample_data/cats_dogs/cat_109.wav  \n",
            "  inflating: /content/sample_data/cats_dogs/cat_11.wav  \n",
            "  inflating: /content/sample_data/cats_dogs/cat_110.wav  \n",
            "  inflating: /content/sample_data/cats_dogs/cat_112.wav  \n",
            "  inflating: /content/sample_data/cats_dogs/cat_113.wav  \n",
            "  inflating: /content/sample_data/cats_dogs/cat_114.wav  \n",
            "  inflating: /content/sample_data/cats_dogs/cat_115.wav  \n",
            "  inflating: /content/sample_data/cats_dogs/cat_116.wav  \n",
            "  inflating: /content/sample_data/cats_dogs/cat_117.wav  \n",
            "  inflating: /content/sample_data/cats_dogs/cat_118.wav  \n",
            "  inflating: /content/sample_data/cats_dogs/cat_119.wav  \n",
            "  inflating: /content/sample_data/cats_dogs/cat_12.wav  \n",
            "  inflating: /content/sample_data/cats_dogs/cat_120.wav  \n",
            "  inflating: /content/sample_data/cats_dogs/cat_121.wav  \n",
            "  inflating: /content/sample_data/cats_dogs/cat_122.wav  \n",
            "  inflating: /content/sample_data/cats_dogs/cat_123.wav  \n",
            "  inflating: /content/sample_data/cats_dogs/cat_124.wav  \n",
            "  inflating: /content/sample_data/cats_dogs/cat_125.wav  \n",
            "  inflating: /content/sample_data/cats_dogs/cat_126.wav  \n",
            "  inflating: /content/sample_data/cats_dogs/cat_127.wav  \n",
            "  inflating: /content/sample_data/cats_dogs/cat_128.wav  \n",
            "  inflating: /content/sample_data/cats_dogs/cat_129.wav  \n",
            "  inflating: /content/sample_data/cats_dogs/cat_13.wav  \n",
            "  inflating: /content/sample_data/cats_dogs/cat_130.wav  \n",
            "  inflating: /content/sample_data/cats_dogs/cat_131.wav  \n",
            "  inflating: /content/sample_data/cats_dogs/cat_132.wav  \n",
            "  inflating: /content/sample_data/cats_dogs/cat_133.wav  \n",
            "  inflating: /content/sample_data/cats_dogs/cat_134.wav  \n",
            "  inflating: /content/sample_data/cats_dogs/cat_135.wav  \n",
            "  inflating: /content/sample_data/cats_dogs/cat_136.wav  \n",
            "  inflating: /content/sample_data/cats_dogs/cat_137.wav  \n",
            "  inflating: /content/sample_data/cats_dogs/cat_138.wav  \n",
            "  inflating: /content/sample_data/cats_dogs/cat_139.wav  \n",
            "  inflating: /content/sample_data/cats_dogs/cat_14.wav  \n",
            "  inflating: /content/sample_data/cats_dogs/cat_140.wav  \n",
            "  inflating: /content/sample_data/cats_dogs/cat_141.wav  \n",
            "  inflating: /content/sample_data/cats_dogs/cat_142.wav  \n",
            "  inflating: /content/sample_data/cats_dogs/cat_143.wav  \n",
            "  inflating: /content/sample_data/cats_dogs/cat_144.wav  \n",
            "  inflating: /content/sample_data/cats_dogs/cat_146.wav  \n",
            "  inflating: /content/sample_data/cats_dogs/cat_147.wav  \n",
            "  inflating: /content/sample_data/cats_dogs/cat_148.wav  \n",
            "  inflating: /content/sample_data/cats_dogs/cat_149.wav  \n",
            "  inflating: /content/sample_data/cats_dogs/cat_15.wav  \n",
            "  inflating: /content/sample_data/cats_dogs/cat_150.wav  \n",
            "  inflating: /content/sample_data/cats_dogs/cat_151.wav  \n",
            "  inflating: /content/sample_data/cats_dogs/cat_152.wav  \n",
            "  inflating: /content/sample_data/cats_dogs/cat_153.wav  \n",
            "  inflating: /content/sample_data/cats_dogs/cat_154.wav  \n",
            "  inflating: /content/sample_data/cats_dogs/cat_155.wav  \n",
            "  inflating: /content/sample_data/cats_dogs/cat_156.wav  \n",
            "  inflating: /content/sample_data/cats_dogs/cat_157.wav  \n",
            "  inflating: /content/sample_data/cats_dogs/cat_158.wav  \n",
            "  inflating: /content/sample_data/cats_dogs/cat_159.wav  \n",
            "  inflating: /content/sample_data/cats_dogs/cat_16.wav  \n",
            "  inflating: /content/sample_data/cats_dogs/cat_160.wav  \n",
            "  inflating: /content/sample_data/cats_dogs/cat_161.wav  \n",
            "  inflating: /content/sample_data/cats_dogs/cat_162.wav  \n",
            "  inflating: /content/sample_data/cats_dogs/cat_163.wav  \n",
            "  inflating: /content/sample_data/cats_dogs/cat_164.wav  \n",
            "  inflating: /content/sample_data/cats_dogs/cat_165.wav  \n",
            "  inflating: /content/sample_data/cats_dogs/cat_166.wav  \n",
            "  inflating: /content/sample_data/cats_dogs/cat_167.wav  \n",
            "  inflating: /content/sample_data/cats_dogs/cat_17.wav  \n",
            "  inflating: /content/sample_data/cats_dogs/cat_18.wav  \n",
            "  inflating: /content/sample_data/cats_dogs/cat_19.wav  \n",
            "  inflating: /content/sample_data/cats_dogs/cat_2.wav  \n",
            "  inflating: /content/sample_data/cats_dogs/cat_20.wav  \n",
            "  inflating: /content/sample_data/cats_dogs/cat_21.wav  \n",
            "  inflating: /content/sample_data/cats_dogs/cat_22.wav  \n",
            "  inflating: /content/sample_data/cats_dogs/cat_23.wav  \n",
            "  inflating: /content/sample_data/cats_dogs/cat_24.wav  \n",
            "  inflating: /content/sample_data/cats_dogs/cat_25.wav  \n",
            "  inflating: /content/sample_data/cats_dogs/cat_26.wav  \n",
            "  inflating: /content/sample_data/cats_dogs/cat_27.wav  \n",
            "  inflating: /content/sample_data/cats_dogs/cat_28.wav  \n",
            "  inflating: /content/sample_data/cats_dogs/cat_29.wav  \n",
            "  inflating: /content/sample_data/cats_dogs/cat_3.wav  \n",
            "  inflating: /content/sample_data/cats_dogs/cat_30.wav  \n",
            "  inflating: /content/sample_data/cats_dogs/cat_31.wav  \n",
            "  inflating: /content/sample_data/cats_dogs/cat_32.wav  \n",
            "  inflating: /content/sample_data/cats_dogs/cat_33.wav  \n",
            "  inflating: /content/sample_data/cats_dogs/cat_34.wav  \n",
            "  inflating: /content/sample_data/cats_dogs/cat_35.wav  \n",
            "  inflating: /content/sample_data/cats_dogs/cat_36.wav  \n",
            "  inflating: /content/sample_data/cats_dogs/cat_37.wav  \n",
            "  inflating: /content/sample_data/cats_dogs/cat_38.wav  \n",
            "  inflating: /content/sample_data/cats_dogs/cat_39.wav  \n",
            "  inflating: /content/sample_data/cats_dogs/cat_4.wav  \n",
            "  inflating: /content/sample_data/cats_dogs/cat_40.wav  \n",
            "  inflating: /content/sample_data/cats_dogs/cat_41.wav  \n",
            "  inflating: /content/sample_data/cats_dogs/cat_42.wav  \n",
            "  inflating: /content/sample_data/cats_dogs/cat_43.wav  \n",
            "  inflating: /content/sample_data/cats_dogs/cat_44.wav  \n",
            "  inflating: /content/sample_data/cats_dogs/cat_45.wav  \n",
            "  inflating: /content/sample_data/cats_dogs/cat_46.wav  \n",
            "  inflating: /content/sample_data/cats_dogs/cat_47.wav  \n",
            "  inflating: /content/sample_data/cats_dogs/cat_48.wav  \n",
            "  inflating: /content/sample_data/cats_dogs/cat_49.wav  \n",
            "  inflating: /content/sample_data/cats_dogs/cat_5.wav  \n",
            "  inflating: /content/sample_data/cats_dogs/cat_50.wav  \n",
            "  inflating: /content/sample_data/cats_dogs/cat_51.wav  \n",
            "  inflating: /content/sample_data/cats_dogs/cat_52.wav  \n",
            "  inflating: /content/sample_data/cats_dogs/cat_53.wav  \n",
            "  inflating: /content/sample_data/cats_dogs/cat_54.wav  \n",
            "  inflating: /content/sample_data/cats_dogs/cat_55.wav  \n",
            "  inflating: /content/sample_data/cats_dogs/cat_56.wav  \n",
            "  inflating: /content/sample_data/cats_dogs/cat_57.wav  \n",
            "  inflating: /content/sample_data/cats_dogs/cat_58.wav  \n",
            "  inflating: /content/sample_data/cats_dogs/cat_59.wav  \n",
            "  inflating: /content/sample_data/cats_dogs/cat_6.wav  \n",
            "  inflating: /content/sample_data/cats_dogs/cat_60.wav  \n",
            "  inflating: /content/sample_data/cats_dogs/cat_61.wav  \n",
            "  inflating: /content/sample_data/cats_dogs/cat_62.wav  \n",
            "  inflating: /content/sample_data/cats_dogs/cat_63.wav  \n",
            "  inflating: /content/sample_data/cats_dogs/cat_64.wav  \n",
            "  inflating: /content/sample_data/cats_dogs/cat_65.wav  \n",
            "  inflating: /content/sample_data/cats_dogs/cat_66.wav  \n",
            "  inflating: /content/sample_data/cats_dogs/cat_67.wav  \n",
            "  inflating: /content/sample_data/cats_dogs/cat_68.wav  \n",
            "  inflating: /content/sample_data/cats_dogs/cat_69.wav  \n",
            "  inflating: /content/sample_data/cats_dogs/cat_7.wav  \n",
            "  inflating: /content/sample_data/cats_dogs/cat_70.wav  \n",
            "  inflating: /content/sample_data/cats_dogs/cat_71.wav  \n",
            "  inflating: /content/sample_data/cats_dogs/cat_72.wav  \n",
            "  inflating: /content/sample_data/cats_dogs/cat_73.wav  \n",
            "  inflating: /content/sample_data/cats_dogs/cat_74.wav  \n",
            "  inflating: /content/sample_data/cats_dogs/cat_75.wav  \n",
            "  inflating: /content/sample_data/cats_dogs/cat_76.wav  \n",
            "  inflating: /content/sample_data/cats_dogs/cat_77.wav  \n",
            "  inflating: /content/sample_data/cats_dogs/cat_78.wav  \n",
            "  inflating: /content/sample_data/cats_dogs/cat_79.wav  \n",
            "  inflating: /content/sample_data/cats_dogs/cat_8.wav  \n",
            "  inflating: /content/sample_data/cats_dogs/cat_80.wav  \n",
            "  inflating: /content/sample_data/cats_dogs/cat_81.wav  \n",
            "  inflating: /content/sample_data/cats_dogs/cat_82.wav  \n",
            "  inflating: /content/sample_data/cats_dogs/cat_83.wav  \n",
            "  inflating: /content/sample_data/cats_dogs/cat_84.wav  \n",
            "  inflating: /content/sample_data/cats_dogs/cat_85.wav  \n",
            "  inflating: /content/sample_data/cats_dogs/cat_86.wav  \n",
            "  inflating: /content/sample_data/cats_dogs/cat_87.wav  \n",
            "  inflating: /content/sample_data/cats_dogs/cat_88.wav  \n",
            "  inflating: /content/sample_data/cats_dogs/cat_89.wav  \n",
            "  inflating: /content/sample_data/cats_dogs/cat_9.wav  \n",
            "  inflating: /content/sample_data/cats_dogs/cat_90.wav  \n",
            "  inflating: /content/sample_data/cats_dogs/cat_91.wav  \n",
            "  inflating: /content/sample_data/cats_dogs/cat_92.wav  \n",
            "  inflating: /content/sample_data/cats_dogs/cat_93.wav  \n",
            "  inflating: /content/sample_data/cats_dogs/cat_94.wav  \n",
            "  inflating: /content/sample_data/cats_dogs/cat_95.wav  \n",
            "  inflating: /content/sample_data/cats_dogs/cat_96.wav  \n",
            "  inflating: /content/sample_data/cats_dogs/cat_97.wav  \n",
            "  inflating: /content/sample_data/cats_dogs/cat_98.wav  \n",
            "  inflating: /content/sample_data/cats_dogs/cat_99.wav  \n",
            "  inflating: /content/sample_data/cats_dogs/dog_barking_0.wav  \n",
            "  inflating: /content/sample_data/cats_dogs/dog_barking_1.wav  \n",
            "  inflating: /content/sample_data/cats_dogs/dog_barking_10.wav  \n",
            "  inflating: /content/sample_data/cats_dogs/dog_barking_100.wav  \n",
            "  inflating: /content/sample_data/cats_dogs/dog_barking_101.wav  \n",
            "  inflating: /content/sample_data/cats_dogs/dog_barking_102.wav  \n",
            "  inflating: /content/sample_data/cats_dogs/dog_barking_103.wav  \n",
            "  inflating: /content/sample_data/cats_dogs/dog_barking_104.wav  \n",
            "  inflating: /content/sample_data/cats_dogs/dog_barking_105.wav  \n",
            "  inflating: /content/sample_data/cats_dogs/dog_barking_106.wav  \n",
            "  inflating: /content/sample_data/cats_dogs/dog_barking_107.wav  \n",
            "  inflating: /content/sample_data/cats_dogs/dog_barking_108.wav  \n",
            "  inflating: /content/sample_data/cats_dogs/dog_barking_109.wav  \n",
            "  inflating: /content/sample_data/cats_dogs/dog_barking_11.wav  \n",
            "  inflating: /content/sample_data/cats_dogs/dog_barking_110.wav  \n",
            "  inflating: /content/sample_data/cats_dogs/dog_barking_111.wav  \n",
            "  inflating: /content/sample_data/cats_dogs/dog_barking_112.wav  \n",
            "  inflating: /content/sample_data/cats_dogs/dog_barking_12.wav  \n",
            "  inflating: /content/sample_data/cats_dogs/dog_barking_13.wav  \n",
            "  inflating: /content/sample_data/cats_dogs/dog_barking_14.wav  \n",
            "  inflating: /content/sample_data/cats_dogs/dog_barking_15.wav  \n",
            "  inflating: /content/sample_data/cats_dogs/dog_barking_16.wav  \n",
            "  inflating: /content/sample_data/cats_dogs/dog_barking_17.wav  \n",
            "  inflating: /content/sample_data/cats_dogs/dog_barking_18.wav  \n",
            "  inflating: /content/sample_data/cats_dogs/dog_barking_19.wav  \n",
            "  inflating: /content/sample_data/cats_dogs/dog_barking_2.wav  \n",
            "  inflating: /content/sample_data/cats_dogs/dog_barking_20.wav  \n",
            "  inflating: /content/sample_data/cats_dogs/dog_barking_21.wav  \n",
            "  inflating: /content/sample_data/cats_dogs/dog_barking_22.wav  \n",
            "  inflating: /content/sample_data/cats_dogs/dog_barking_23.wav  \n",
            "  inflating: /content/sample_data/cats_dogs/dog_barking_24.wav  \n",
            "  inflating: /content/sample_data/cats_dogs/dog_barking_25.wav  \n",
            "  inflating: /content/sample_data/cats_dogs/dog_barking_26.wav  \n",
            "  inflating: /content/sample_data/cats_dogs/dog_barking_27.wav  \n",
            "  inflating: /content/sample_data/cats_dogs/dog_barking_28.wav  \n",
            "  inflating: /content/sample_data/cats_dogs/dog_barking_29.wav  \n",
            "  inflating: /content/sample_data/cats_dogs/dog_barking_3.wav  \n",
            "  inflating: /content/sample_data/cats_dogs/dog_barking_30.wav  \n",
            "  inflating: /content/sample_data/cats_dogs/dog_barking_31.wav  \n",
            "  inflating: /content/sample_data/cats_dogs/dog_barking_32.wav  \n",
            "  inflating: /content/sample_data/cats_dogs/dog_barking_33.wav  \n",
            "  inflating: /content/sample_data/cats_dogs/dog_barking_34.wav  \n",
            "  inflating: /content/sample_data/cats_dogs/dog_barking_35.wav  \n",
            "  inflating: /content/sample_data/cats_dogs/dog_barking_36.wav  \n",
            "  inflating: /content/sample_data/cats_dogs/dog_barking_37.wav  \n",
            "  inflating: /content/sample_data/cats_dogs/dog_barking_38.wav  \n",
            "  inflating: /content/sample_data/cats_dogs/dog_barking_39.wav  \n",
            "  inflating: /content/sample_data/cats_dogs/dog_barking_4.wav  \n",
            "  inflating: /content/sample_data/cats_dogs/dog_barking_40.wav  \n",
            "  inflating: /content/sample_data/cats_dogs/dog_barking_41.wav  \n",
            "  inflating: /content/sample_data/cats_dogs/dog_barking_42.wav  \n",
            "  inflating: /content/sample_data/cats_dogs/dog_barking_43.wav  \n",
            "  inflating: /content/sample_data/cats_dogs/dog_barking_44.wav  \n",
            "  inflating: /content/sample_data/cats_dogs/dog_barking_45.wav  \n",
            "  inflating: /content/sample_data/cats_dogs/dog_barking_46.wav  \n",
            "  inflating: /content/sample_data/cats_dogs/dog_barking_47.wav  \n",
            "  inflating: /content/sample_data/cats_dogs/dog_barking_48.wav  \n",
            "  inflating: /content/sample_data/cats_dogs/dog_barking_49.wav  \n",
            "  inflating: /content/sample_data/cats_dogs/dog_barking_5.wav  \n",
            "  inflating: /content/sample_data/cats_dogs/dog_barking_50.wav  \n",
            "  inflating: /content/sample_data/cats_dogs/dog_barking_51.wav  \n",
            "  inflating: /content/sample_data/cats_dogs/dog_barking_52.wav  \n",
            "  inflating: /content/sample_data/cats_dogs/dog_barking_53.wav  \n",
            "  inflating: /content/sample_data/cats_dogs/dog_barking_54.wav  \n",
            "  inflating: /content/sample_data/cats_dogs/dog_barking_55.wav  \n",
            "  inflating: /content/sample_data/cats_dogs/dog_barking_56.wav  \n",
            "  inflating: /content/sample_data/cats_dogs/dog_barking_57.wav  \n",
            "  inflating: /content/sample_data/cats_dogs/dog_barking_58.wav  \n",
            "  inflating: /content/sample_data/cats_dogs/dog_barking_59.wav  \n",
            "  inflating: /content/sample_data/cats_dogs/dog_barking_6.wav  \n",
            "  inflating: /content/sample_data/cats_dogs/dog_barking_60.wav  \n",
            "  inflating: /content/sample_data/cats_dogs/dog_barking_61.wav  \n",
            "  inflating: /content/sample_data/cats_dogs/dog_barking_62.wav  \n",
            "  inflating: /content/sample_data/cats_dogs/dog_barking_63.wav  \n",
            "  inflating: /content/sample_data/cats_dogs/dog_barking_64.wav  \n",
            "  inflating: /content/sample_data/cats_dogs/dog_barking_65.wav  \n",
            "  inflating: /content/sample_data/cats_dogs/dog_barking_66.wav  \n",
            "  inflating: /content/sample_data/cats_dogs/dog_barking_67.wav  \n",
            "  inflating: /content/sample_data/cats_dogs/dog_barking_68.wav  \n",
            "  inflating: /content/sample_data/cats_dogs/dog_barking_69.wav  \n",
            "  inflating: /content/sample_data/cats_dogs/dog_barking_7.wav  \n",
            "  inflating: /content/sample_data/cats_dogs/dog_barking_70.wav  \n",
            "  inflating: /content/sample_data/cats_dogs/dog_barking_71.wav  \n",
            "  inflating: /content/sample_data/cats_dogs/dog_barking_72.wav  \n",
            "  inflating: /content/sample_data/cats_dogs/dog_barking_73.wav  \n",
            "  inflating: /content/sample_data/cats_dogs/dog_barking_74.wav  \n",
            "  inflating: /content/sample_data/cats_dogs/dog_barking_75.wav  \n",
            "  inflating: /content/sample_data/cats_dogs/dog_barking_76.wav  \n",
            "  inflating: /content/sample_data/cats_dogs/dog_barking_77.wav  \n",
            "  inflating: /content/sample_data/cats_dogs/dog_barking_78.wav  \n",
            "  inflating: /content/sample_data/cats_dogs/dog_barking_79.wav  \n",
            "  inflating: /content/sample_data/cats_dogs/dog_barking_8.wav  \n",
            "  inflating: /content/sample_data/cats_dogs/dog_barking_80.wav  \n",
            "  inflating: /content/sample_data/cats_dogs/dog_barking_81.wav  \n",
            "  inflating: /content/sample_data/cats_dogs/dog_barking_82.wav  \n",
            "  inflating: /content/sample_data/cats_dogs/dog_barking_83.wav  \n",
            "  inflating: /content/sample_data/cats_dogs/dog_barking_84.wav  \n",
            "  inflating: /content/sample_data/cats_dogs/dog_barking_85.wav  \n",
            "  inflating: /content/sample_data/cats_dogs/dog_barking_86.wav  \n",
            "  inflating: /content/sample_data/cats_dogs/dog_barking_87.wav  \n",
            "  inflating: /content/sample_data/cats_dogs/dog_barking_88.wav  \n",
            "  inflating: /content/sample_data/cats_dogs/dog_barking_89.wav  \n",
            "  inflating: /content/sample_data/cats_dogs/dog_barking_9.wav  \n",
            "  inflating: /content/sample_data/cats_dogs/dog_barking_90.wav  \n",
            "  inflating: /content/sample_data/cats_dogs/dog_barking_91.wav  \n",
            "  inflating: /content/sample_data/cats_dogs/dog_barking_92.wav  \n",
            "  inflating: /content/sample_data/cats_dogs/dog_barking_93.wav  \n",
            "  inflating: /content/sample_data/cats_dogs/dog_barking_94.wav  \n",
            "  inflating: /content/sample_data/cats_dogs/dog_barking_95.wav  \n",
            "  inflating: /content/sample_data/cats_dogs/dog_barking_96.wav  \n",
            "  inflating: /content/sample_data/cats_dogs/dog_barking_97.wav  \n",
            "  inflating: /content/sample_data/cats_dogs/dog_barking_98.wav  \n",
            "  inflating: /content/sample_data/cats_dogs/dog_barking_99.wav  \n",
            "  inflating: /content/sample_data/cats_dogs/test/cats/cat_110.wav  \n",
            "  inflating: /content/sample_data/cats_dogs/test/cats/cat_112.wav  \n",
            "  inflating: /content/sample_data/cats_dogs/test/cats/cat_115.wav  \n",
            "  inflating: /content/sample_data/cats_dogs/test/cats/cat_126.wav  \n",
            "  inflating: /content/sample_data/cats_dogs/test/cats/cat_129.wav  \n",
            "  inflating: /content/sample_data/cats_dogs/test/cats/cat_130.wav  \n",
            "  inflating: /content/sample_data/cats_dogs/test/cats/cat_133.wav  \n",
            "  inflating: /content/sample_data/cats_dogs/test/cats/cat_135.wav  \n",
            "  inflating: /content/sample_data/cats_dogs/test/cats/cat_137.wav  \n",
            "  inflating: /content/sample_data/cats_dogs/test/cats/cat_14.wav  \n",
            "  inflating: /content/sample_data/cats_dogs/test/cats/cat_143.wav  \n",
            "  inflating: /content/sample_data/cats_dogs/test/cats/cat_144.wav  \n",
            "  inflating: /content/sample_data/cats_dogs/test/cats/cat_148.wav  \n",
            "  inflating: /content/sample_data/cats_dogs/test/cats/cat_152.wav  \n",
            "  inflating: /content/sample_data/cats_dogs/test/cats/cat_158.wav  \n",
            "  inflating: /content/sample_data/cats_dogs/test/cats/cat_17.wav  \n",
            "  inflating: /content/sample_data/cats_dogs/test/cats/cat_20.wav  \n",
            "  inflating: /content/sample_data/cats_dogs/test/cats/cat_24.wav  \n",
            "  inflating: /content/sample_data/cats_dogs/test/cats/cat_28.wav  \n",
            "  inflating: /content/sample_data/cats_dogs/test/cats/cat_29.wav  \n",
            "  inflating: /content/sample_data/cats_dogs/test/cats/cat_3.wav  \n",
            "  inflating: /content/sample_data/cats_dogs/test/cats/cat_36.wav  \n",
            "  inflating: /content/sample_data/cats_dogs/test/cats/cat_42.wav  \n",
            "  inflating: /content/sample_data/cats_dogs/test/cats/cat_55.wav  \n",
            "  inflating: /content/sample_data/cats_dogs/test/cats/cat_56.wav  \n",
            "  inflating: /content/sample_data/cats_dogs/test/cats/cat_57.wav  \n",
            "  inflating: /content/sample_data/cats_dogs/test/cats/cat_58.wav  \n",
            "  inflating: /content/sample_data/cats_dogs/test/cats/cat_59.wav  \n",
            "  inflating: /content/sample_data/cats_dogs/test/cats/cat_61.wav  \n",
            "  inflating: /content/sample_data/cats_dogs/test/cats/cat_66.wav  \n",
            "  inflating: /content/sample_data/cats_dogs/test/cats/cat_67.wav  \n",
            "  inflating: /content/sample_data/cats_dogs/test/cats/cat_75.wav  \n",
            "  inflating: /content/sample_data/cats_dogs/test/cats/cat_76.wav  \n",
            "  inflating: /content/sample_data/cats_dogs/test/cats/cat_79.wav  \n",
            "  inflating: /content/sample_data/cats_dogs/test/cats/cat_82.wav  \n",
            "  inflating: /content/sample_data/cats_dogs/test/cats/cat_85.wav  \n",
            "  inflating: /content/sample_data/cats_dogs/test/cats/cat_86.wav  \n",
            "  inflating: /content/sample_data/cats_dogs/test/cats/cat_88.wav  \n",
            "  inflating: /content/sample_data/cats_dogs/test/cats/cat_90.wav  \n",
            "  inflating: /content/sample_data/cats_dogs/test/test/dog_barking_112.wav  \n",
            "  inflating: /content/sample_data/cats_dogs/test/test/dog_barking_12.wav  \n",
            "  inflating: /content/sample_data/cats_dogs/test/test/dog_barking_15.wav  \n",
            "  inflating: /content/sample_data/cats_dogs/test/test/dog_barking_19.wav  \n",
            "  inflating: /content/sample_data/cats_dogs/test/test/dog_barking_24.wav  \n",
            "  inflating: /content/sample_data/cats_dogs/test/test/dog_barking_3.wav  \n",
            "  inflating: /content/sample_data/cats_dogs/test/test/dog_barking_34.wav  \n",
            "  inflating: /content/sample_data/cats_dogs/test/test/dog_barking_43.wav  \n",
            "  inflating: /content/sample_data/cats_dogs/test/test/dog_barking_44.wav  \n",
            "  inflating: /content/sample_data/cats_dogs/test/test/dog_barking_45.wav  \n",
            "  inflating: /content/sample_data/cats_dogs/test/test/dog_barking_46.wav  \n",
            "  inflating: /content/sample_data/cats_dogs/test/test/dog_barking_48.wav  \n",
            "  inflating: /content/sample_data/cats_dogs/test/test/dog_barking_49.wav  \n",
            "  inflating: /content/sample_data/cats_dogs/test/test/dog_barking_54.wav  \n",
            "  inflating: /content/sample_data/cats_dogs/test/test/dog_barking_59.wav  \n",
            "  inflating: /content/sample_data/cats_dogs/test/test/dog_barking_62.wav  \n",
            "  inflating: /content/sample_data/cats_dogs/test/test/dog_barking_64.wav  \n",
            "  inflating: /content/sample_data/cats_dogs/test/test/dog_barking_66.wav  \n",
            "  inflating: /content/sample_data/cats_dogs/test/test/dog_barking_7.wav  \n",
            "  inflating: /content/sample_data/cats_dogs/test/test/dog_barking_73.wav  \n",
            "  inflating: /content/sample_data/cats_dogs/test/test/dog_barking_78.wav  \n",
            "  inflating: /content/sample_data/cats_dogs/test/test/dog_barking_8.wav  \n",
            "  inflating: /content/sample_data/cats_dogs/test/test/dog_barking_82.wav  \n",
            "  inflating: /content/sample_data/cats_dogs/test/test/dog_barking_89.wav  \n",
            "  inflating: /content/sample_data/cats_dogs/test/test/dog_barking_9.wav  \n",
            "  inflating: /content/sample_data/cats_dogs/test/test/dog_barking_90.wav  \n",
            "  inflating: /content/sample_data/cats_dogs/test/test/dog_barking_91.wav  \n",
            "  inflating: /content/sample_data/cats_dogs/test/test/dog_barking_99.wav  \n",
            "  inflating: /content/sample_data/cats_dogs/train/cat/cat_1.wav  \n",
            "  inflating: /content/sample_data/cats_dogs/train/cat/cat_10.wav  \n",
            "  inflating: /content/sample_data/cats_dogs/train/cat/cat_100.wav  \n",
            "  inflating: /content/sample_data/cats_dogs/train/cat/cat_101.wav  \n",
            "  inflating: /content/sample_data/cats_dogs/train/cat/cat_102.wav  \n",
            "  inflating: /content/sample_data/cats_dogs/train/cat/cat_103.wav  \n",
            "  inflating: /content/sample_data/cats_dogs/train/cat/cat_105.wav  \n",
            "  inflating: /content/sample_data/cats_dogs/train/cat/cat_106.wav  \n",
            "  inflating: /content/sample_data/cats_dogs/train/cat/cat_107.wav  \n",
            "  inflating: /content/sample_data/cats_dogs/train/cat/cat_108.wav  \n",
            "  inflating: /content/sample_data/cats_dogs/train/cat/cat_109.wav  \n",
            "  inflating: /content/sample_data/cats_dogs/train/cat/cat_11.wav  \n",
            "  inflating: /content/sample_data/cats_dogs/train/cat/cat_113.wav  \n",
            "  inflating: /content/sample_data/cats_dogs/train/cat/cat_114.wav  \n",
            "  inflating: /content/sample_data/cats_dogs/train/cat/cat_116.wav  \n",
            "  inflating: /content/sample_data/cats_dogs/train/cat/cat_117.wav  \n",
            "  inflating: /content/sample_data/cats_dogs/train/cat/cat_118.wav  \n",
            "  inflating: /content/sample_data/cats_dogs/train/cat/cat_119.wav  \n",
            "  inflating: /content/sample_data/cats_dogs/train/cat/cat_12.wav  \n",
            "  inflating: /content/sample_data/cats_dogs/train/cat/cat_120.wav  \n",
            "  inflating: /content/sample_data/cats_dogs/train/cat/cat_121.wav  \n",
            "  inflating: /content/sample_data/cats_dogs/train/cat/cat_122.wav  \n",
            "  inflating: /content/sample_data/cats_dogs/train/cat/cat_123.wav  \n",
            "  inflating: /content/sample_data/cats_dogs/train/cat/cat_124.wav  \n",
            "  inflating: /content/sample_data/cats_dogs/train/cat/cat_125.wav  \n",
            "  inflating: /content/sample_data/cats_dogs/train/cat/cat_127.wav  \n",
            "  inflating: /content/sample_data/cats_dogs/train/cat/cat_128.wav  \n",
            "  inflating: /content/sample_data/cats_dogs/train/cat/cat_13.wav  \n",
            "  inflating: /content/sample_data/cats_dogs/train/cat/cat_131.wav  \n",
            "  inflating: /content/sample_data/cats_dogs/train/cat/cat_132.wav  \n",
            "  inflating: /content/sample_data/cats_dogs/train/cat/cat_134.wav  \n",
            "  inflating: /content/sample_data/cats_dogs/train/cat/cat_136.wav  \n",
            "  inflating: /content/sample_data/cats_dogs/train/cat/cat_138.wav  \n",
            "  inflating: /content/sample_data/cats_dogs/train/cat/cat_139.wav  \n",
            "  inflating: /content/sample_data/cats_dogs/train/cat/cat_140.wav  \n",
            "  inflating: /content/sample_data/cats_dogs/train/cat/cat_141.wav  \n",
            "  inflating: /content/sample_data/cats_dogs/train/cat/cat_142.wav  \n",
            "  inflating: /content/sample_data/cats_dogs/train/cat/cat_146.wav  \n",
            "  inflating: /content/sample_data/cats_dogs/train/cat/cat_147.wav  \n",
            "  inflating: /content/sample_data/cats_dogs/train/cat/cat_149.wav  \n",
            "  inflating: /content/sample_data/cats_dogs/train/cat/cat_15.wav  \n",
            "  inflating: /content/sample_data/cats_dogs/train/cat/cat_150.wav  \n",
            "  inflating: /content/sample_data/cats_dogs/train/cat/cat_151.wav  \n",
            "  inflating: /content/sample_data/cats_dogs/train/cat/cat_153.wav  \n",
            "  inflating: /content/sample_data/cats_dogs/train/cat/cat_154.wav  \n",
            "  inflating: /content/sample_data/cats_dogs/train/cat/cat_155.wav  \n",
            "  inflating: /content/sample_data/cats_dogs/train/cat/cat_156.wav  \n",
            "  inflating: /content/sample_data/cats_dogs/train/cat/cat_157.wav  \n",
            "  inflating: /content/sample_data/cats_dogs/train/cat/cat_159.wav  \n",
            "  inflating: /content/sample_data/cats_dogs/train/cat/cat_16.wav  \n",
            "  inflating: /content/sample_data/cats_dogs/train/cat/cat_160.wav  \n",
            "  inflating: /content/sample_data/cats_dogs/train/cat/cat_161.wav  \n",
            "  inflating: /content/sample_data/cats_dogs/train/cat/cat_162.wav  \n",
            "  inflating: /content/sample_data/cats_dogs/train/cat/cat_163.wav  \n",
            "  inflating: /content/sample_data/cats_dogs/train/cat/cat_164.wav  \n",
            "  inflating: /content/sample_data/cats_dogs/train/cat/cat_165.wav  \n",
            "  inflating: /content/sample_data/cats_dogs/train/cat/cat_166.wav  \n",
            "  inflating: /content/sample_data/cats_dogs/train/cat/cat_167.wav  \n",
            "  inflating: /content/sample_data/cats_dogs/train/cat/cat_18.wav  \n",
            "  inflating: /content/sample_data/cats_dogs/train/cat/cat_19.wav  \n",
            "  inflating: /content/sample_data/cats_dogs/train/cat/cat_2.wav  \n",
            "  inflating: /content/sample_data/cats_dogs/train/cat/cat_21.wav  \n",
            "  inflating: /content/sample_data/cats_dogs/train/cat/cat_22.wav  \n",
            "  inflating: /content/sample_data/cats_dogs/train/cat/cat_23.wav  \n",
            "  inflating: /content/sample_data/cats_dogs/train/cat/cat_25.wav  \n",
            "  inflating: /content/sample_data/cats_dogs/train/cat/cat_26.wav  \n",
            "  inflating: /content/sample_data/cats_dogs/train/cat/cat_27.wav  \n",
            "  inflating: /content/sample_data/cats_dogs/train/cat/cat_30.wav  \n",
            "  inflating: /content/sample_data/cats_dogs/train/cat/cat_31.wav  \n",
            "  inflating: /content/sample_data/cats_dogs/train/cat/cat_32.wav  \n",
            "  inflating: /content/sample_data/cats_dogs/train/cat/cat_33.wav  \n",
            "  inflating: /content/sample_data/cats_dogs/train/cat/cat_34.wav  \n",
            "  inflating: /content/sample_data/cats_dogs/train/cat/cat_35.wav  \n",
            "  inflating: /content/sample_data/cats_dogs/train/cat/cat_37.wav  \n",
            "  inflating: /content/sample_data/cats_dogs/train/cat/cat_38.wav  \n",
            "  inflating: /content/sample_data/cats_dogs/train/cat/cat_39.wav  \n",
            "  inflating: /content/sample_data/cats_dogs/train/cat/cat_4.wav  \n",
            "  inflating: /content/sample_data/cats_dogs/train/cat/cat_40.wav  \n",
            "  inflating: /content/sample_data/cats_dogs/train/cat/cat_41.wav  \n",
            "  inflating: /content/sample_data/cats_dogs/train/cat/cat_43.wav  \n",
            "  inflating: /content/sample_data/cats_dogs/train/cat/cat_44.wav  \n",
            "  inflating: /content/sample_data/cats_dogs/train/cat/cat_45.wav  \n",
            "  inflating: /content/sample_data/cats_dogs/train/cat/cat_46.wav  \n",
            "  inflating: /content/sample_data/cats_dogs/train/cat/cat_47.wav  \n",
            "  inflating: /content/sample_data/cats_dogs/train/cat/cat_48.wav  \n",
            "  inflating: /content/sample_data/cats_dogs/train/cat/cat_49.wav  \n",
            "  inflating: /content/sample_data/cats_dogs/train/cat/cat_5.wav  \n",
            "  inflating: /content/sample_data/cats_dogs/train/cat/cat_50.wav  \n",
            "  inflating: /content/sample_data/cats_dogs/train/cat/cat_51.wav  \n",
            "  inflating: /content/sample_data/cats_dogs/train/cat/cat_52.wav  \n",
            "  inflating: /content/sample_data/cats_dogs/train/cat/cat_53.wav  \n",
            "  inflating: /content/sample_data/cats_dogs/train/cat/cat_54.wav  \n",
            "  inflating: /content/sample_data/cats_dogs/train/cat/cat_6.wav  \n",
            "  inflating: /content/sample_data/cats_dogs/train/cat/cat_60.wav  \n",
            "  inflating: /content/sample_data/cats_dogs/train/cat/cat_62.wav  \n",
            "  inflating: /content/sample_data/cats_dogs/train/cat/cat_63.wav  \n",
            "  inflating: /content/sample_data/cats_dogs/train/cat/cat_64.wav  \n",
            "  inflating: /content/sample_data/cats_dogs/train/cat/cat_65.wav  \n",
            "  inflating: /content/sample_data/cats_dogs/train/cat/cat_68.wav  \n",
            "  inflating: /content/sample_data/cats_dogs/train/cat/cat_69.wav  \n",
            "  inflating: /content/sample_data/cats_dogs/train/cat/cat_7.wav  \n",
            "  inflating: /content/sample_data/cats_dogs/train/cat/cat_70.wav  \n",
            "  inflating: /content/sample_data/cats_dogs/train/cat/cat_71.wav  \n",
            "  inflating: /content/sample_data/cats_dogs/train/cat/cat_72.wav  \n",
            "  inflating: /content/sample_data/cats_dogs/train/cat/cat_73.wav  \n",
            "  inflating: /content/sample_data/cats_dogs/train/cat/cat_74.wav  \n",
            "  inflating: /content/sample_data/cats_dogs/train/cat/cat_77.wav  \n",
            "  inflating: /content/sample_data/cats_dogs/train/cat/cat_78.wav  \n",
            "  inflating: /content/sample_data/cats_dogs/train/cat/cat_8.wav  \n",
            "  inflating: /content/sample_data/cats_dogs/train/cat/cat_80.wav  \n",
            "  inflating: /content/sample_data/cats_dogs/train/cat/cat_81.wav  \n",
            "  inflating: /content/sample_data/cats_dogs/train/cat/cat_83.wav  \n",
            "  inflating: /content/sample_data/cats_dogs/train/cat/cat_84.wav  \n",
            "  inflating: /content/sample_data/cats_dogs/train/cat/cat_87.wav  \n",
            "  inflating: /content/sample_data/cats_dogs/train/cat/cat_89.wav  \n",
            "  inflating: /content/sample_data/cats_dogs/train/cat/cat_9.wav  \n",
            "  inflating: /content/sample_data/cats_dogs/train/cat/cat_91.wav  \n",
            "  inflating: /content/sample_data/cats_dogs/train/cat/cat_92.wav  \n",
            "  inflating: /content/sample_data/cats_dogs/train/cat/cat_93.wav  \n",
            "  inflating: /content/sample_data/cats_dogs/train/cat/cat_94.wav  \n",
            "  inflating: /content/sample_data/cats_dogs/train/cat/cat_95.wav  \n",
            "  inflating: /content/sample_data/cats_dogs/train/cat/cat_96.wav  \n",
            "  inflating: /content/sample_data/cats_dogs/train/cat/cat_97.wav  \n",
            "  inflating: /content/sample_data/cats_dogs/train/cat/cat_98.wav  \n",
            "  inflating: /content/sample_data/cats_dogs/train/cat/cat_99.wav  \n",
            "  inflating: /content/sample_data/cats_dogs/train/dog/dog_barking_0.wav  \n",
            "  inflating: /content/sample_data/cats_dogs/train/dog/dog_barking_1.wav  \n",
            "  inflating: /content/sample_data/cats_dogs/train/dog/dog_barking_10.wav  \n",
            "  inflating: /content/sample_data/cats_dogs/train/dog/dog_barking_100.wav  \n",
            "  inflating: /content/sample_data/cats_dogs/train/dog/dog_barking_101.wav  \n",
            "  inflating: /content/sample_data/cats_dogs/train/dog/dog_barking_102.wav  \n",
            "  inflating: /content/sample_data/cats_dogs/train/dog/dog_barking_103.wav  \n",
            "  inflating: /content/sample_data/cats_dogs/train/dog/dog_barking_104.wav  \n",
            "  inflating: /content/sample_data/cats_dogs/train/dog/dog_barking_105.wav  \n",
            "  inflating: /content/sample_data/cats_dogs/train/dog/dog_barking_106.wav  \n",
            "  inflating: /content/sample_data/cats_dogs/train/dog/dog_barking_107.wav  \n",
            "  inflating: /content/sample_data/cats_dogs/train/dog/dog_barking_108.wav  \n",
            "  inflating: /content/sample_data/cats_dogs/train/dog/dog_barking_109.wav  \n",
            "  inflating: /content/sample_data/cats_dogs/train/dog/dog_barking_11.wav  \n",
            "  inflating: /content/sample_data/cats_dogs/train/dog/dog_barking_110.wav  \n",
            "  inflating: /content/sample_data/cats_dogs/train/dog/dog_barking_111.wav  \n",
            "  inflating: /content/sample_data/cats_dogs/train/dog/dog_barking_13.wav  \n",
            "  inflating: /content/sample_data/cats_dogs/train/dog/dog_barking_14.wav  \n",
            "  inflating: /content/sample_data/cats_dogs/train/dog/dog_barking_16.wav  \n",
            "  inflating: /content/sample_data/cats_dogs/train/dog/dog_barking_17.wav  \n",
            "  inflating: /content/sample_data/cats_dogs/train/dog/dog_barking_18.wav  \n",
            "  inflating: /content/sample_data/cats_dogs/train/dog/dog_barking_2.wav  \n",
            "  inflating: /content/sample_data/cats_dogs/train/dog/dog_barking_20.wav  \n",
            "  inflating: /content/sample_data/cats_dogs/train/dog/dog_barking_21.wav  \n",
            "  inflating: /content/sample_data/cats_dogs/train/dog/dog_barking_22.wav  \n",
            "  inflating: /content/sample_data/cats_dogs/train/dog/dog_barking_23.wav  \n",
            "  inflating: /content/sample_data/cats_dogs/train/dog/dog_barking_25.wav  \n",
            "  inflating: /content/sample_data/cats_dogs/train/dog/dog_barking_26.wav  \n",
            "  inflating: /content/sample_data/cats_dogs/train/dog/dog_barking_27.wav  \n",
            "  inflating: /content/sample_data/cats_dogs/train/dog/dog_barking_28.wav  \n",
            "  inflating: /content/sample_data/cats_dogs/train/dog/dog_barking_29.wav  \n",
            "  inflating: /content/sample_data/cats_dogs/train/dog/dog_barking_30.wav  \n",
            "  inflating: /content/sample_data/cats_dogs/train/dog/dog_barking_31.wav  \n",
            "  inflating: /content/sample_data/cats_dogs/train/dog/dog_barking_32.wav  \n",
            "  inflating: /content/sample_data/cats_dogs/train/dog/dog_barking_33.wav  \n",
            "  inflating: /content/sample_data/cats_dogs/train/dog/dog_barking_35.wav  \n",
            "  inflating: /content/sample_data/cats_dogs/train/dog/dog_barking_36.wav  \n",
            "  inflating: /content/sample_data/cats_dogs/train/dog/dog_barking_37.wav  \n",
            "  inflating: /content/sample_data/cats_dogs/train/dog/dog_barking_38.wav  \n",
            "  inflating: /content/sample_data/cats_dogs/train/dog/dog_barking_39.wav  \n",
            "  inflating: /content/sample_data/cats_dogs/train/dog/dog_barking_4.wav  \n",
            "  inflating: /content/sample_data/cats_dogs/train/dog/dog_barking_40.wav  \n",
            "  inflating: /content/sample_data/cats_dogs/train/dog/dog_barking_41.wav  \n",
            "  inflating: /content/sample_data/cats_dogs/train/dog/dog_barking_42.wav  \n",
            "  inflating: /content/sample_data/cats_dogs/train/dog/dog_barking_47.wav  \n",
            "  inflating: /content/sample_data/cats_dogs/train/dog/dog_barking_5.wav  \n",
            "  inflating: /content/sample_data/cats_dogs/train/dog/dog_barking_50.wav  \n",
            "  inflating: /content/sample_data/cats_dogs/train/dog/dog_barking_51.wav  \n",
            "  inflating: /content/sample_data/cats_dogs/train/dog/dog_barking_52.wav  \n",
            "  inflating: /content/sample_data/cats_dogs/train/dog/dog_barking_53.wav  \n",
            "  inflating: /content/sample_data/cats_dogs/train/dog/dog_barking_55.wav  \n",
            "  inflating: /content/sample_data/cats_dogs/train/dog/dog_barking_56.wav  \n",
            "  inflating: /content/sample_data/cats_dogs/train/dog/dog_barking_57.wav  \n",
            "  inflating: /content/sample_data/cats_dogs/train/dog/dog_barking_58.wav  \n",
            "  inflating: /content/sample_data/cats_dogs/train/dog/dog_barking_6.wav  \n",
            "  inflating: /content/sample_data/cats_dogs/train/dog/dog_barking_60.wav  \n",
            "  inflating: /content/sample_data/cats_dogs/train/dog/dog_barking_61.wav  \n",
            "  inflating: /content/sample_data/cats_dogs/train/dog/dog_barking_63.wav  \n",
            "  inflating: /content/sample_data/cats_dogs/train/dog/dog_barking_65.wav  \n",
            "  inflating: /content/sample_data/cats_dogs/train/dog/dog_barking_67.wav  \n",
            "  inflating: /content/sample_data/cats_dogs/train/dog/dog_barking_68.wav  \n",
            "  inflating: /content/sample_data/cats_dogs/train/dog/dog_barking_69.wav  \n",
            "  inflating: /content/sample_data/cats_dogs/train/dog/dog_barking_70.wav  \n",
            "  inflating: /content/sample_data/cats_dogs/train/dog/dog_barking_71.wav  \n",
            "  inflating: /content/sample_data/cats_dogs/train/dog/dog_barking_72.wav  \n",
            "  inflating: /content/sample_data/cats_dogs/train/dog/dog_barking_74.wav  \n",
            "  inflating: /content/sample_data/cats_dogs/train/dog/dog_barking_75.wav  \n",
            "  inflating: /content/sample_data/cats_dogs/train/dog/dog_barking_76.wav  \n",
            "  inflating: /content/sample_data/cats_dogs/train/dog/dog_barking_77.wav  \n",
            "  inflating: /content/sample_data/cats_dogs/train/dog/dog_barking_79.wav  \n",
            "  inflating: /content/sample_data/cats_dogs/train/dog/dog_barking_80.wav  \n",
            "  inflating: /content/sample_data/cats_dogs/train/dog/dog_barking_81.wav  \n",
            "  inflating: /content/sample_data/cats_dogs/train/dog/dog_barking_83.wav  \n",
            "  inflating: /content/sample_data/cats_dogs/train/dog/dog_barking_84.wav  \n",
            "  inflating: /content/sample_data/cats_dogs/train/dog/dog_barking_85.wav  \n",
            "  inflating: /content/sample_data/cats_dogs/train/dog/dog_barking_86.wav  \n",
            "  inflating: /content/sample_data/cats_dogs/train/dog/dog_barking_87.wav  \n",
            "  inflating: /content/sample_data/cats_dogs/train/dog/dog_barking_88.wav  \n",
            "  inflating: /content/sample_data/cats_dogs/train/dog/dog_barking_92.wav  \n",
            "  inflating: /content/sample_data/cats_dogs/train/dog/dog_barking_93.wav  \n",
            "  inflating: /content/sample_data/cats_dogs/train/dog/dog_barking_94.wav  \n",
            "  inflating: /content/sample_data/cats_dogs/train/dog/dog_barking_95.wav  \n",
            "  inflating: /content/sample_data/cats_dogs/train/dog/dog_barking_96.wav  \n",
            "  inflating: /content/sample_data/cats_dogs/train/dog/dog_barking_97.wav  \n",
            "  inflating: /content/sample_data/cats_dogs/train/dog/dog_barking_98.wav  \n",
            "  inflating: /content/sample_data/train_test_split.csv  \n",
            "  inflating: /content/sample_data/utils.py  \n"
          ],
          "name": "stdout"
        }
      ]
    },
    {
      "cell_type": "code",
      "metadata": {
        "id": "TMs5Le61Qeay",
        "colab_type": "code",
        "outputId": "97afec1f-8974-4d3e-cd19-a4b6addab374",
        "colab": {
          "base_uri": "https://localhost:8080/",
          "height": 34
        }
      },
      "source": [
        "from __future__ import absolute_import, division, print_function, unicode_literals\n",
        "from tensorflow.keras.layers import Dense, Conv2D, Flatten, Dropout, MaxPooling2D\n",
        "from tensorflow.keras.preprocessing.image import ImageDataGenerator\n",
        "from tensorflow.keras.models import Sequential\n",
        "from matplotlib.image import imread\n",
        "from tensorflow import keras\n",
        "import numpy as np # linear algebra\n",
        "import pandas as pd # data processing, CSV file I/O (e.g. pd.read_csv)\n",
        "import scipy\n",
        "import scipy.io.wavfile as wavfile\n",
        "import sklearn\n",
        "import sklearn.metrics\n",
        "import seaborn as sns\n",
        "import random\n",
        "import math\n",
        "import sklearn.utils\n",
        "import sklearn.metrics\n",
        "import matplotlib.pyplot as plt\n",
        "import glob\n",
        "import os\n",
        "import scipy\n",
        "import scipy.signal\n",
        "import tensorflow as tf\n",
        "from imblearn.over_sampling import RandomOverSampler\n",
        "import IPython\n",
        "\n",
        "print(tf.version.VERSION)\n"
      ],
      "execution_count": 6,
      "outputs": [
        {
          "output_type": "stream",
          "text": [
            "1.15.0\n"
          ],
          "name": "stdout"
        }
      ]
    },
    {
      "cell_type": "code",
      "metadata": {
        "id": "D-2unp2xQf3P",
        "colab_type": "code",
        "colab": {}
      },
      "source": [
        "WAVE_FOLDER = '/content/sample_data/cats_dogs'\n",
        "FRAMERATE = 16000\n",
        "MAX_WAV_SAMPLES = 20*FRAMERATE\n",
        "DOWNSAMPLING_SCALE = 1\n",
        "\n",
        "df = pd.read_csv(\"/content/sample_data/train_test_split.csv\")\n",
        "test_cat = df[['test_cat']].dropna().rename(index=str, columns={\"test_cat\": \"file\"}).assign(label=0)\n",
        "test_dog = df[['test_dog']].dropna().rename(index=str, columns={\"test_dog\": \"file\"}).assign(label=1)\n",
        "train_cat = df[['train_cat']].dropna().rename(index=str, columns={\"train_cat\": \"file\"}).assign(label=0)\n",
        "train_dog = df[['train_dog']].dropna().rename(index=str, columns={\"train_dog\": \"file\"}).assign(label=1)\n",
        "\n",
        "test_df = pd.concat([test_cat, test_dog]).reset_index(drop=True)\n",
        "train_df = pd.concat([train_cat, train_dog]).reset_index(drop=True)"
      ],
      "execution_count": 0,
      "outputs": []
    },
    {
      "cell_type": "markdown",
      "metadata": {
        "id": "Lyd96EDx6ls0",
        "colab_type": "text"
      },
      "source": [
        "**Fonction pour créer un spectrogramme, avec exemple :**\n"
      ]
    },
    {
      "cell_type": "code",
      "metadata": {
        "id": "XYiqLvL5Q6bl",
        "colab_type": "code",
        "outputId": "370a684a-e89f-4159-adb5-d0d9c34d45fb",
        "colab": {
          "base_uri": "https://localhost:8080/",
          "height": 307
        }
      },
      "source": [
        "def plot_spectrogram(file):\n",
        "    x = wavfile.read(file)[1]\n",
        "    f, t, Sxx = scipy.signal.spectrogram(x)\n",
        "    #plt.pcolormesh(t, f, Sxx)\n",
        "    plt.imshow(np.flip(Sxx, axis=0),cmap='gray')\n",
        "    plt.ylabel('Frequency [Hz]')\n",
        "    plt.xlabel('Time [sample]')\n",
        "\n",
        "\n",
        "plt.figure(figsize=(50,50))\n",
        "for i in range(0,2,2):\n",
        "    plt.subplot(5,2,i+1)\n",
        "    plot_spectrogram(os.path.join(WAVE_FOLDER, test_cat.iloc[i]['file']))\n",
        "    plt.subplot(5,2,i+2)\n",
        "    plot_spectrogram(os.path.join(WAVE_FOLDER, test_dog.iloc[i]['file']))"
      ],
      "execution_count": 8,
      "outputs": [
        {
          "output_type": "display_data",
          "data": {
            "image/png": "[encoded data removed]",
            "text/plain": [
              "<Figure size 3600x3600 with 2 Axes>"
            ]
          },
          "metadata": {
            "tags": []
          }
        }
      ]
    },
    {
      "cell_type": "markdown",
      "metadata": {
        "id": "jgA5_lDb7GrM",
        "colab_type": "text"
      },
      "source": [
        "**Fonction pour sauvegarder les spectres, de tous un dossier de son :**"
      ]
    },
    {
      "cell_type": "code",
      "metadata": {
        "id": "QohIHgvmmpiL",
        "colab_type": "code",
        "colab": {}
      },
      "source": [
        "def save_all_spectro(base ,path) :\n",
        "  fig = plt.figure()\n",
        "  for i in range(len(base)) :\n",
        "    img = base.iloc[i][\"file\"][:-3] + \"png\"\n",
        "    plt.axis(\"off\")\n",
        "    plot_spectrogram(os.path.join(\"/content/sample_data/cats_dogs\", base.iloc[i][\"file\"]))\n",
        "    fig.savefig(path + img,bbox_inches='tight',transparent=True, pad_inches=0)\n",
        "    plt.clf()"
      ],
      "execution_count": 0,
      "outputs": []
    },
    {
      "cell_type": "markdown",
      "metadata": {
        "id": "pBkPglIi8KAc",
        "colab_type": "text"
      },
      "source": [
        "**Création des fichiers contenant les spectres :**"
      ]
    },
    {
      "cell_type": "code",
      "metadata": {
        "id": "Pe3ue31wUeaw",
        "colab_type": "code",
        "colab": {}
      },
      "source": [
        "try :\n",
        "  os.makedirs(\"/content/sample_data/cats_dogs_spec\")\n",
        "  os.makedirs(\"/content/sample_data/cats_dogs_spec/test\")\n",
        "  os.makedirs(\"/content/sample_data/cats_dogs_spec/test/cats\")\n",
        "  os.makedirs(\"/content/sample_data/cats_dogs_spec/test/dogs\")\n",
        "  os.makedirs(\"/content/sample_data/cats_dogs_spec/train/cats\")\n",
        "  os.makedirs(\"/content/sample_data/cats_dogs_spec/train/dogs\")\n",
        "except OSError:\n",
        "  pass "
      ],
      "execution_count": 0,
      "outputs": []
    },
    {
      "cell_type": "markdown",
      "metadata": {
        "id": "DhXTNfMx9gCF",
        "colab_type": "text"
      },
      "source": [
        "**Sauvegarde des spectres :**"
      ]
    },
    {
      "cell_type": "code",
      "metadata": {
        "id": "ECI_9ULFaiVS",
        "colab_type": "code",
        "outputId": "657d4283-6c61-427e-c65c-5ce30ce52dbc",
        "colab": {
          "base_uri": "https://localhost:8080/",
          "height": 87
        }
      },
      "source": [
        "save_all_spectro(train_cat, \"/content/sample_data/cats_dogs_spec/train/cats/\")\n",
        "save_all_spectro(train_dog, \"/content/sample_data/cats_dogs_spec/train/dogs/\")\n",
        "save_all_spectro(test_cat, \"/content/sample_data/cats_dogs_spec/test/cats/\")\n",
        "save_all_spectro(test_dog, \"/content/sample_data/cats_dogs_spec/test/dogs/\")"
      ],
      "execution_count": 52,
      "outputs": [
        {
          "output_type": "display_data",
          "data": {
            "text/plain": [
              "<Figure size 432x288 with 0 Axes>"
            ]
          },
          "metadata": {
            "tags": []
          }
        },
        {
          "output_type": "display_data",
          "data": {
            "text/plain": [
              "<Figure size 432x288 with 0 Axes>"
            ]
          },
          "metadata": {
            "tags": []
          }
        },
        {
          "output_type": "display_data",
          "data": {
            "text/plain": [
              "<Figure size 432x288 with 0 Axes>"
            ]
          },
          "metadata": {
            "tags": []
          }
        },
        {
          "output_type": "display_data",
          "data": {
            "text/plain": [
              "<Figure size 432x288 with 0 Axes>"
            ]
          },
          "metadata": {
            "tags": []
          }
        }
      ]
    },
    {
      "cell_type": "markdown",
      "metadata": {
        "id": "F2Zz4CVp93al",
        "colab_type": "text"
      },
      "source": [
        "**Partie qui servira à equilibre le nombre de cris de chats et de chiens, puis les spectrogrammes**"
      ]
    },
    {
      "cell_type": "code",
      "metadata": {
        "id": "VU03wbCpSv8p",
        "colab_type": "code",
        "outputId": "b371e680-7a5e-4347-e91a-f863f1d8ddae",
        "colab": {
          "base_uri": "https://localhost:8080/",
          "height": 285
        }
      },
      "source": [
        "#Histogramme du nombre de cris par type d'animaux (chat, chien)\n",
        "train_df['label'].plot.hist(bins=2)"
      ],
      "execution_count": 12,
      "outputs": [
        {
          "output_type": "execute_result",
          "data": {
            "text/plain": [
              "<matplotlib.axes._subplots.AxesSubplot at 0x7f38970f5ac8>"
            ]
          },
          "metadata": {
            "tags": []
          },
          "execution_count": 12
        },
        {
          "output_type": "display_data",
          "data": {
            "image/png": "[encoded data removed]",
            "text/plain": [
              "<Figure size 432x288 with 1 Axes>"
            ]
          },
          "metadata": {
            "tags": []
          }
        }
      ]
    },
    {
      "cell_type": "code",
      "metadata": {
        "id": "OQVMiqVQTn4V",
        "colab_type": "code",
        "outputId": "13794571-b213-4a56-f3cc-99bc48874f15",
        "colab": {
          "base_uri": "https://localhost:8080/",
          "height": 72
        }
      },
      "source": [
        "#Equilibrage des nombres de cris dans train_files, train_labels\n",
        "random_oversampler = RandomOverSampler()\n",
        "idx = np.arange(0, len(train_df)).reshape(-1, 1)\n",
        "idx_sampled, _ = random_oversampler.fit_sample(idx, train_df['label'])\n",
        "train_files, train_labels = train_df.iloc[idx_sampled.flatten()]['file'].values, train_df.iloc[idx_sampled.flatten()]['label'].values\n",
        "train_files, train_labels = sklearn.utils.shuffle(train_files, train_labels)\n",
        "test_files, test_labels = test_df['file'].values, test_df['label'].values\n",
        "\n"
      ],
      "execution_count": 14,
      "outputs": [
        {
          "output_type": "stream",
          "text": [
            "/usr/local/lib/python3.6/dist-packages/sklearn/utils/deprecation.py:87: FutureWarning: Function safe_indexing is deprecated; safe_indexing is deprecated in version 0.22 and will be removed in version 0.24.\n",
            "  warnings.warn(msg, category=FutureWarning)\n"
          ],
          "name": "stderr"
        }
      ]
    },
    {
      "cell_type": "code",
      "metadata": {
        "id": "cbDVt30zUald",
        "colab_type": "code",
        "outputId": "84d0db93-3df0-4bac-ee38-b0cea22fdb29",
        "colab": {
          "base_uri": "https://localhost:8080/",
          "height": 267
        }
      },
      "source": [
        "#Historigramme après équilibrage\n",
        "pd.Series(train_labels).plot.hist(bins=2);"
      ],
      "execution_count": 15,
      "outputs": [
        {
          "output_type": "display_data",
          "data": {
            "image/png": "[encoded data removed]",
            "text/plain": [
              "<Figure size 432x288 with 1 Axes>"
            ]
          },
          "metadata": {
            "tags": []
          }
        }
      ]
    },
    {
      "cell_type": "code",
      "metadata": {
        "id": "IG3ZsUpmcPyd",
        "colab_type": "code",
        "colab": {}
      },
      "source": [
        "train_files_spec = []\n",
        "test_files_spec = []\n",
        "for i in range(len(train_files)) :\n",
        "  train_files_spec.append(train_files[i].replace(\"wav\",\"png\"))\n",
        "for i in range(len(test_files)) :\n",
        "  test_files_spec.append(test_files[i].replace(\"wav\",\"png\"))\n"
      ],
      "execution_count": 0,
      "outputs": []
    },
    {
      "cell_type": "markdown",
      "metadata": {
        "id": "JGupPfXu5ez8",
        "colab_type": "text"
      },
      "source": [
        " **Transformation des images en matrice :**"
      ]
    },
    {
      "cell_type": "code",
      "metadata": {
        "id": "9wo_6gGEfLwX",
        "colab_type": "code",
        "outputId": "4c2c5350-3ca7-4650-9e24-4cefeaf54c64",
        "colab": {
          "base_uri": "https://localhost:8080/",
          "height": 134
        }
      },
      "source": [
        "img = imread(\"/content/sample_data/cats_dogs_spec/train/cats/\" + train_files_spec[1])\n",
        "plt.figure(figsize=(10,10))\n",
        "plt.imshow(img)\n",
        "plt.show()"
      ],
      "execution_count": 17,
      "outputs": [
        {
          "output_type": "display_data",
          "data": {
            "image/png": "[encoded data removed]",
            "text/plain": [
              "<Figure size 720x720 with 1 Axes>"
            ]
          },
          "metadata": {
            "tags": []
          }
        }
      ]
    },
    {
      "cell_type": "code",
      "metadata": {
        "id": "6ZtB3rDolC4f",
        "colab_type": "code",
        "colab": {}
      },
      "source": [
        "for i in range(len(train_files_spec)) :\n",
        "  if \"dog\" in train_files_spec[i] :\n",
        "    train_files_spec[i] = imread(\"/content/sample_data/cats_dogs_spec/train/dogs/\" + train_files_spec[i])\n",
        "  else :\n",
        "    train_files_spec[i] = imread(\"/content/sample_data/cats_dogs_spec/train/cats/\" + train_files_spec[i])\n",
        "\n",
        "  \n",
        "\n",
        "for i in range(len(test_files_spec)) :\n",
        "  if \"cat\" in test_files_spec[i] :\n",
        "    test_files_spec[i] = imread(\"/content/sample_data/cats_dogs_spec/test/cats/\" + test_files_spec[i])\n",
        "  else :\n",
        "    test_files_spec[i] = imread(\"/content/sample_data/cats_dogs_spec/test/dogs/\" + test_files_spec[i])"
      ],
      "execution_count": 0,
      "outputs": []
    },
    {
      "cell_type": "code",
      "metadata": {
        "id": "gEDyn7Uiqb_-",
        "colab_type": "code",
        "outputId": "94326717-84b0-46ab-b4de-32a3c1695835",
        "colab": {
          "base_uri": "https://localhost:8080/",
          "height": 52
        }
      },
      "source": [
        "train_files_spec = np.asarray(train_files_spec)\n",
        "print(train_files_spec.shape)\n",
        "test_files_spec = np.asarray(test_files_spec)\n",
        "print(test_files_spec.shape)\n",
        "train_files_spec = train_files_spec/255.0\n",
        "test_files_spec = test_files_spec/255.0\n"
      ],
      "execution_count": 19,
      "outputs": [
        {
          "output_type": "stream",
          "text": [
            "(230,)\n",
            "(98,)\n"
          ],
          "name": "stdout"
        }
      ]
    },
    {
      "cell_type": "markdown",
      "metadata": {
        "id": "lkZfmj1rp8Fi",
        "colab_type": "text"
      },
      "source": [
        "**Mise en place des points de sauvegarde :**"
      ]
    },
    {
      "cell_type": "code",
      "metadata": {
        "id": "7U-doLlmMxaL",
        "colab_type": "code",
        "outputId": "f6c7e46d-046c-47a4-cbff-9b71560088f9",
        "colab": {
          "base_uri": "https://localhost:8080/",
          "height": 34
        }
      },
      "source": [
        "checkpoint_path = \"/content/drive/My Drive/savemodel/Model15chkSpec/cp-{epoch:04d}\"\n",
        "checkpoint_dir = os.path.dirname(checkpoint_path)\n",
        "\n",
        "cp_callback = tf.keras.callbacks.ModelCheckpoint(filepath=checkpoint_path,\n",
        "                                                 save_weights_only=True,\n",
        "                                                 verbose=1)\n",
        "\n",
        "print(checkpoint_dir)"
      ],
      "execution_count": 20,
      "outputs": [
        {
          "output_type": "stream",
          "text": [
            "/content/drive/My Drive/savemodel/Model15chkSpec\n"
          ],
          "name": "stdout"
        }
      ]
    },
    {
      "cell_type": "markdown",
      "metadata": {
        "id": "mYmsRMPA7vWh",
        "colab_type": "text"
      },
      "source": [
        "**Création du Model :**"
      ]
    },
    {
      "cell_type": "code",
      "metadata": {
        "id": "Jn8huuX6_mRS",
        "colab_type": "code",
        "colab": {}
      },
      "source": [
        "batch_size = 20\n",
        "epochs = 100\n",
        "IMG_HEIGHT = 50\n",
        "IMG_WIDTH = 334\n",
        "total_train = 179\n",
        "total_val = 98"
      ],
      "execution_count": 0,
      "outputs": []
    },
    {
      "cell_type": "code",
      "metadata": {
        "id": "A3ZJVwsAwmDV",
        "colab_type": "code",
        "colab": {}
      },
      "source": [
        "def create_model_spec() :\n",
        "  model = Sequential([\n",
        "    Conv2D(8, 3, padding='same', activation='relu', input_shape=(IMG_HEIGHT, IMG_WIDTH ,1)),\n",
        "    MaxPooling2D(),\n",
        "    Dropout(0.2),\n",
        "    Conv2D(8, 3, padding='same', activation='relu'),\n",
        "    MaxPooling2D(),\n",
        "    Conv2D(8, 3, padding='same', activation='relu'),\n",
        "    MaxPooling2D(),\n",
        "    Dropout(0.2),\n",
        "    Flatten(),\n",
        "    Dense(16, activation='relu'),\n",
        "    Dense(1, activation='sigmoid')\n",
        "])\n",
        "  return model\n",
        "\n",
        "model = create_model_spec()\n",
        "\n",
        "model.compile(optimizer='adam',\n",
        "              loss='binary_crossentropy',\n",
        "              metrics=['accuracy'])"
      ],
      "execution_count": 0,
      "outputs": []
    },
    {
      "cell_type": "code",
      "metadata": {
        "id": "7lOIF25tPx6s",
        "colab_type": "code",
        "colab": {
          "base_uri": "https://localhost:8080/",
          "height": 550
        },
        "outputId": "d9abfa7a-7cdf-4abb-8c91-b0e3bc28b1e5"
      },
      "source": [
        "model.summary()"
      ],
      "execution_count": 23,
      "outputs": [
        {
          "output_type": "stream",
          "text": [
            "Model: \"sequential\"\n",
            "_________________________________________________________________\n",
            "Layer (type)                 Output Shape              Param #   \n",
            "=================================================================\n",
            "conv2d (Conv2D)              (None, 50, 334, 16)       448       \n",
            "_________________________________________________________________\n",
            "max_pooling2d (MaxPooling2D) (None, 25, 167, 16)       0         \n",
            "_________________________________________________________________\n",
            "dropout (Dropout)            (None, 25, 167, 16)       0         \n",
            "_________________________________________________________________\n",
            "conv2d_1 (Conv2D)            (None, 25, 167, 32)       4640      \n",
            "_________________________________________________________________\n",
            "max_pooling2d_1 (MaxPooling2 (None, 12, 83, 32)        0         \n",
            "_________________________________________________________________\n",
            "conv2d_2 (Conv2D)            (None, 12, 83, 64)        18496     \n",
            "_________________________________________________________________\n",
            "max_pooling2d_2 (MaxPooling2 (None, 6, 41, 64)         0         \n",
            "_________________________________________________________________\n",
            "dropout_1 (Dropout)          (None, 6, 41, 64)         0         \n",
            "_________________________________________________________________\n",
            "flatten (Flatten)            (None, 15744)             0         \n",
            "_________________________________________________________________\n",
            "dense (Dense)                (None, 512)               8061440   \n",
            "_________________________________________________________________\n",
            "dense_1 (Dense)              (None, 1)                 513       \n",
            "=================================================================\n",
            "Total params: 8,085,537\n",
            "Trainable params: 8,085,537\n",
            "Non-trainable params: 0\n",
            "_________________________________________________________________\n"
          ],
          "name": "stdout"
        }
      ]
    },
    {
      "cell_type": "markdown",
      "metadata": {
        "id": "CiS6PJCi7_UN",
        "colab_type": "text"
      },
      "source": [
        "**Générateur pour le modele :**"
      ]
    },
    {
      "cell_type": "code",
      "metadata": {
        "id": "JL7PjwS7AO_u",
        "colab_type": "code",
        "colab": {}
      },
      "source": [
        "train_image_generator = ImageDataGenerator(rescale=1./255) # Generator for our training data\n",
        "validation_image_generator = ImageDataGenerator(rescale=1./255) # Generator for our validation data"
      ],
      "execution_count": 0,
      "outputs": []
    },
    {
      "cell_type": "code",
      "metadata": {
        "id": "vbZ13cj8AXdo",
        "colab_type": "code",
        "outputId": "cd2a243c-6776-4a35-a7a5-576f5b72171a",
        "colab": {
          "base_uri": "https://localhost:8080/",
          "height": 34
        }
      },
      "source": [
        "train_data_gen = train_image_generator.flow_from_directory(batch_size=batch_size,\n",
        "                                                           directory=\"/content/sample_data/cats_dogs_spec/train\",\n",
        "                                                           shuffle=True,\n",
        "                                                           color_mode =\"grayscale\",\n",
        "                                                           target_size=(IMG_HEIGHT, IMG_WIDTH),\n",
        "                                                           class_mode='binary')\n",
        "\n"
      ],
      "execution_count": 47,
      "outputs": [
        {
          "output_type": "stream",
          "text": [
            "Found 179 images belonging to 2 classes.\n"
          ],
          "name": "stdout"
        }
      ]
    },
    {
      "cell_type": "code",
      "metadata": {
        "id": "GUbpproKAvSk",
        "colab_type": "code",
        "outputId": "d1a64a04-1cc1-4b28-c4da-3e7467760372",
        "colab": {
          "base_uri": "https://localhost:8080/",
          "height": 34
        }
      },
      "source": [
        "val_data_gen = validation_image_generator.flow_from_directory(batch_size=batch_size,\n",
        "                                                              directory=\"/content/sample_data/cats_dogs_spec/test\",\n",
        "                                                              color_mode =\"grayscale\",\n",
        "                                                              target_size=(IMG_HEIGHT, IMG_WIDTH),\n",
        "                                                              class_mode='binary')"
      ],
      "execution_count": 48,
      "outputs": [
        {
          "output_type": "stream",
          "text": [
            "Found 98 images belonging to 2 classes.\n"
          ],
          "name": "stdout"
        }
      ]
    },
    {
      "cell_type": "code",
      "metadata": {
        "id": "4Cw3WSHAfXrB",
        "colab_type": "code",
        "colab": {
          "base_uri": "https://localhost:8080/",
          "height": 105
        },
        "outputId": "287fc8ff-7562-414d-f5a9-d234d8054c9d"
      },
      "source": [
        "print(val_data_gen.labels)\n",
        "print(val_data_gen.class_indices)"
      ],
      "execution_count": 75,
      "outputs": [
        {
          "output_type": "stream",
          "text": [
            "[0 0 0 0 0 0 0 0 0 0 0 0 0 0 0 0 0 0 0 0 0 0 0 0 0 0 0 0 0 0 0 0 0 0 0 0 0\n",
            " 0 0 0 0 0 0 0 0 0 0 0 0 1 1 1 1 1 1 1 1 1 1 1 1 1 1 1 1 1 1 1 1 1 1 1 1 1\n",
            " 1 1 1 1 1 1 1 1 1 1 1 1 1 1 1 1 1 1 1 1 1 1 1 1]\n",
            "{'cats': 0, 'dogs': 1}\n"
          ],
          "name": "stdout"
        },
        {
          "output_type": "execute_result",
          "data": {
            "text/plain": [
              "20"
            ]
          },
          "metadata": {
            "tags": []
          },
          "execution_count": 75
        }
      ]
    },
    {
      "cell_type": "markdown",
      "metadata": {
        "id": "WYCTaz418JxQ",
        "colab_type": "text"
      },
      "source": [
        "**Apprentissage et validation :**"
      ]
    },
    {
      "cell_type": "code",
      "metadata": {
        "id": "y8hq0VdtBHyo",
        "colab_type": "code",
        "outputId": "5f7b0c70-9522-4cdb-e2f6-e84f38bd22f7",
        "colab": {
          "base_uri": "https://localhost:8080/",
          "height": 1000
        }
      },
      "source": [
        "model.save_weights(checkpoint_path.format(epoch=0))\n",
        "history = model.fit_generator(\n",
        "    train_data_gen,\n",
        "    steps_per_epoch=total_train // batch_size,\n",
        "    epochs=epochs,\n",
        "    validation_data=val_data_gen,\n",
        "    validation_steps=total_val // batch_size,\n",
        "    callbacks = [cp_callback],\n",
        "    class_weight ={0:1,1:2}\n",
        ")"
      ],
      "execution_count": 54,
      "outputs": [
        {
          "output_type": "stream",
          "text": [
            "Epoch 1/100\n",
            "1/8 [==>...........................] - ETA: 5s - loss: 0.8673 - acc: 0.5500Epoch 1/100\n",
            "1/8 [==>...........................] - ETA: 1s - loss: 0.6785 - acc: 0.7000\n",
            "Epoch 00001: saving model to /content/drive/My Drive/savemodel/Model15chkSpec/cp-0001\n",
            "8/8 [==============================] - 1s 163ms/step - loss: 0.9367 - acc: 0.6478 - val_loss: 0.6816 - val_acc: 0.5750\n",
            "Epoch 2/100\n",
            "1/8 [==>...........................] - ETA: 3s - loss: 0.8727 - acc: 0.4500Epoch 1/100\n",
            "1/8 [==>...........................] - ETA: 1s - loss: 0.6491 - acc: 0.7500\n",
            "Epoch 00002: saving model to /content/drive/My Drive/savemodel/Model15chkSpec/cp-0002\n",
            "8/8 [==============================] - 1s 140ms/step - loss: 0.8993 - acc: 0.5220 - val_loss: 0.6598 - val_acc: 0.5875\n",
            "Epoch 3/100\n",
            "6/8 [=====================>........] - ETA: 0s - loss: 0.8359 - acc: 0.6000Epoch 1/100\n",
            "1/8 [==>...........................] - ETA: 2s - loss: 0.6246 - acc: 0.6500\n",
            "Epoch 00003: saving model to /content/drive/My Drive/savemodel/Model15chkSpec/cp-0003\n",
            "8/8 [==============================] - 1s 134ms/step - loss: 0.8245 - acc: 0.6750 - val_loss: 0.6118 - val_acc: 0.7500\n",
            "Epoch 4/100\n",
            "7/8 [=========================>....] - ETA: 0s - loss: 0.7324 - acc: 0.8116Epoch 1/100\n",
            "1/8 [==>...........................] - ETA: 2s - loss: 0.5637 - acc: 0.6000\n",
            "Epoch 00004: saving model to /content/drive/My Drive/savemodel/Model15chkSpec/cp-0004\n",
            "8/8 [==============================] - 1s 163ms/step - loss: 0.7098 - acc: 0.8101 - val_loss: 0.5532 - val_acc: 0.7500\n",
            "Epoch 5/100\n",
            "6/8 [=====================>........] - ETA: 0s - loss: 0.5965 - acc: 0.8908Epoch 1/100\n",
            "1/8 [==>...........................] - ETA: 2s - loss: 0.5031 - acc: 0.6000\n",
            "Epoch 00005: saving model to /content/drive/My Drive/savemodel/Model15chkSpec/cp-0005\n",
            "8/8 [==============================] - 1s 132ms/step - loss: 0.6144 - acc: 0.8679 - val_loss: 0.5146 - val_acc: 0.7375\n",
            "Epoch 6/100\n",
            "6/8 [=====================>........] - ETA: 0s - loss: 0.5613 - acc: 0.7750Epoch 1/100\n",
            "1/8 [==>...........................] - ETA: 2s - loss: 0.5559 - acc: 0.6000\n",
            "Epoch 00006: saving model to /content/drive/My Drive/savemodel/Model15chkSpec/cp-0006\n",
            "8/8 [==============================] - 1s 152ms/step - loss: 0.5139 - acc: 0.8062 - val_loss: 0.4884 - val_acc: 0.7500\n",
            "Epoch 7/100\n",
            "7/8 [=========================>....] - ETA: 0s - loss: 0.4418 - acc: 0.8705Epoch 1/100\n",
            "1/8 [==>...........................] - ETA: 2s - loss: 0.4802 - acc: 0.6500\n",
            "Epoch 00007: saving model to /content/drive/My Drive/savemodel/Model15chkSpec/cp-0007\n",
            "8/8 [==============================] - 1s 164ms/step - loss: 0.4184 - acc: 0.8742 - val_loss: 0.4797 - val_acc: 0.7750\n",
            "Epoch 8/100\n",
            "1/8 [==>...........................] - ETA: 3s - loss: 0.4422 - acc: 0.8500Epoch 1/100\n",
            "1/8 [==>...........................] - ETA: 2s - loss: 0.4885 - acc: 0.6500\n",
            "Epoch 00008: saving model to /content/drive/My Drive/savemodel/Model15chkSpec/cp-0008\n",
            "8/8 [==============================] - 1s 166ms/step - loss: 0.4430 - acc: 0.8679 - val_loss: 0.4812 - val_acc: 0.7875\n",
            "Epoch 9/100\n",
            "1/8 [==>...........................] - ETA: 4s - loss: 0.4855 - acc: 0.7368Epoch 1/100\n",
            "1/8 [==>...........................] - ETA: 3s - loss: 0.5623 - acc: 0.6000\n",
            "Epoch 00009: saving model to /content/drive/My Drive/savemodel/Model15chkSpec/cp-0009\n",
            "8/8 [==============================] - 1s 163ms/step - loss: 0.3534 - acc: 0.8742 - val_loss: 0.5094 - val_acc: 0.7750\n",
            "Epoch 10/100\n",
            "1/8 [==>...........................] - ETA: 4s - loss: 0.6052 - acc: 0.7500Epoch 1/100\n",
            "1/8 [==>...........................] - ETA: 2s - loss: 0.4871 - acc: 0.6500\n",
            "Epoch 00010: saving model to /content/drive/My Drive/savemodel/Model15chkSpec/cp-0010\n",
            "8/8 [==============================] - 1s 136ms/step - loss: 0.3388 - acc: 0.8742 - val_loss: 0.4896 - val_acc: 0.7875\n",
            "Epoch 11/100\n",
            "1/8 [==>...........................] - ETA: 5s - loss: 0.2470 - acc: 0.9500Epoch 1/100\n",
            "1/8 [==>...........................] - ETA: 2s - loss: 0.5015 - acc: 0.6500\n",
            "Epoch 00011: saving model to /content/drive/My Drive/savemodel/Model15chkSpec/cp-0011\n",
            "8/8 [==============================] - 1s 181ms/step - loss: 0.3004 - acc: 0.8994 - val_loss: 0.5109 - val_acc: 0.7750\n",
            "Epoch 12/100\n",
            "6/8 [=====================>........] - ETA: 0s - loss: 0.2594 - acc: 0.9250Epoch 1/100\n",
            "1/8 [==>...........................] - ETA: 3s - loss: 0.5010 - acc: 0.6500\n",
            "Epoch 00012: saving model to /content/drive/My Drive/savemodel/Model15chkSpec/cp-0012\n",
            "8/8 [==============================] - 2s 188ms/step - loss: 0.2932 - acc: 0.9119 - val_loss: 0.5300 - val_acc: 0.7500\n",
            "Epoch 13/100\n",
            "5/8 [=================>............] - ETA: 0s - loss: 0.2640 - acc: 0.9000Epoch 1/100\n",
            "1/8 [==>...........................] - ETA: 3s - loss: 0.4474 - acc: 0.6500\n",
            "Epoch 00013: saving model to /content/drive/My Drive/savemodel/Model15chkSpec/cp-0013\n",
            "8/8 [==============================] - 2s 201ms/step - loss: 0.2499 - acc: 0.8994 - val_loss: 0.5259 - val_acc: 0.7500\n",
            "Epoch 14/100\n",
            "5/8 [=================>............] - ETA: 0s - loss: 0.2582 - acc: 0.9200Epoch 1/100\n",
            "1/8 [==>...........................] - ETA: 4s - loss: 0.5037 - acc: 0.6500\n",
            "Epoch 00014: saving model to /content/drive/My Drive/savemodel/Model15chkSpec/cp-0014\n",
            "8/8 [==============================] - 2s 201ms/step - loss: 0.2456 - acc: 0.9250 - val_loss: 0.5739 - val_acc: 0.7500\n",
            "Epoch 15/100\n",
            "6/8 [=====================>........] - ETA: 0s - loss: 0.2061 - acc: 0.9496Epoch 1/100\n",
            "1/8 [==>...........................] - ETA: 4s - loss: 0.4678 - acc: 0.6500\n",
            "Epoch 00015: saving model to /content/drive/My Drive/savemodel/Model15chkSpec/cp-0015\n",
            "8/8 [==============================] - 2s 206ms/step - loss: 0.2150 - acc: 0.9430 - val_loss: 0.5768 - val_acc: 0.7625\n",
            "Epoch 16/100\n",
            "7/8 [=========================>....] - ETA: 0s - loss: 0.1865 - acc: 0.9286Epoch 1/100\n",
            "1/8 [==>...........................] - ETA: 4s - loss: 0.4943 - acc: 0.6500\n",
            "Epoch 00016: saving model to /content/drive/My Drive/savemodel/Model15chkSpec/cp-0016\n",
            "8/8 [==============================] - 2s 220ms/step - loss: 0.1771 - acc: 0.9375 - val_loss: 0.6168 - val_acc: 0.7500\n",
            "Epoch 17/100\n",
            "1/8 [==>...........................] - ETA: 5s - loss: 0.2981 - acc: 0.9000Epoch 1/100\n",
            "1/8 [==>...........................] - ETA: 5s - loss: 0.5739 - acc: 0.6500\n",
            "Epoch 00017: saving model to /content/drive/My Drive/savemodel/Model15chkSpec/cp-0017\n",
            "8/8 [==============================] - 2s 219ms/step - loss: 0.2003 - acc: 0.9434 - val_loss: 0.7046 - val_acc: 0.7500\n",
            "Epoch 18/100\n",
            "1/8 [==>...........................] - ETA: 5s - loss: 0.1187 - acc: 1.0000Epoch 1/100\n",
            "1/8 [==>...........................] - ETA: 4s - loss: 0.4897 - acc: 0.7000\n",
            "Epoch 00018: saving model to /content/drive/My Drive/savemodel/Model15chkSpec/cp-0018\n",
            "8/8 [==============================] - 2s 218ms/step - loss: 0.1681 - acc: 0.9623 - val_loss: 0.6841 - val_acc: 0.7750\n",
            "Epoch 19/100\n",
            "1/8 [==>...........................] - ETA: 5s - loss: 0.2794 - acc: 0.9000Epoch 1/100\n",
            "1/8 [==>...........................] - ETA: 4s - loss: 0.5556 - acc: 0.6500\n",
            "Epoch 00019: saving model to /content/drive/My Drive/savemodel/Model15chkSpec/cp-0019\n",
            "8/8 [==============================] - 2s 221ms/step - loss: 0.1683 - acc: 0.9182 - val_loss: 0.7491 - val_acc: 0.7500\n",
            "Epoch 20/100\n",
            "1/8 [==>...........................] - ETA: 9s - loss: 0.3595 - acc: 0.8500Epoch 1/100\n",
            "1/8 [==>...........................] - ETA: 4s - loss: 0.5282 - acc: 0.7000\n",
            "Epoch 00020: saving model to /content/drive/My Drive/savemodel/Model15chkSpec/cp-0020\n",
            "8/8 [==============================] - 2s 249ms/step - loss: 0.2231 - acc: 0.9308 - val_loss: 0.7469 - val_acc: 0.7750\n",
            "Epoch 21/100\n",
            "7/8 [=========================>....] - ETA: 0s - loss: 0.1806 - acc: 0.9281Epoch 1/100\n",
            "1/8 [==>...........................] - ETA: 4s - loss: 0.5090 - acc: 0.6500\n",
            "Epoch 00021: saving model to /content/drive/My Drive/savemodel/Model15chkSpec/cp-0021\n",
            "8/8 [==============================] - 2s 239ms/step - loss: 0.1797 - acc: 0.9245 - val_loss: 0.7525 - val_acc: 0.7500\n",
            "Epoch 22/100\n",
            "7/8 [=========================>....] - ETA: 0s - loss: 0.1382 - acc: 0.9857Epoch 1/100\n",
            "1/8 [==>...........................] - ETA: 4s - loss: 0.5235 - acc: 0.6500\n",
            "Epoch 00022: saving model to /content/drive/My Drive/savemodel/Model15chkSpec/cp-0022\n",
            "8/8 [==============================] - 2s 241ms/step - loss: 0.1324 - acc: 0.9875 - val_loss: 0.7797 - val_acc: 0.7500\n",
            "Epoch 23/100\n",
            "7/8 [=========================>....] - ETA: 0s - loss: 0.1212 - acc: 0.9712Epoch 1/100\n",
            "1/8 [==>...........................] - ETA: 5s - loss: 0.6015 - acc: 0.6500\n",
            "Epoch 00023: saving model to /content/drive/My Drive/savemodel/Model15chkSpec/cp-0023\n",
            "8/8 [==============================] - 2s 251ms/step - loss: 0.1255 - acc: 0.9748 - val_loss: 0.8472 - val_acc: 0.7625\n",
            "Epoch 24/100\n",
            "6/8 [=====================>........] - ETA: 0s - loss: 0.1470 - acc: 0.9580Epoch 1/100\n",
            "1/8 [==>...........................] - ETA: 5s - loss: 0.6685 - acc: 0.6500\n",
            "Epoch 00024: saving model to /content/drive/My Drive/savemodel/Model15chkSpec/cp-0024\n",
            "8/8 [==============================] - 2s 254ms/step - loss: 0.1648 - acc: 0.9560 - val_loss: 0.9139 - val_acc: 0.7375\n",
            "Epoch 25/100\n",
            "7/8 [=========================>....] - ETA: 0s - loss: 0.1619 - acc: 0.9496Epoch 1/100\n",
            "1/8 [==>...........................] - ETA: 5s - loss: 0.5605 - acc: 0.7000\n",
            "Epoch 00025: saving model to /content/drive/My Drive/savemodel/Model15chkSpec/cp-0025\n",
            "8/8 [==============================] - 2s 249ms/step - loss: 0.1455 - acc: 0.9557 - val_loss: 0.8810 - val_acc: 0.7625\n",
            "Epoch 26/100\n",
            "7/8 [=========================>....] - ETA: 0s - loss: 0.1254 - acc: 0.9643Epoch 1/100\n",
            "1/8 [==>...........................] - ETA: 5s - loss: 0.6844 - acc: 0.6500\n",
            "Epoch 00026: saving model to /content/drive/My Drive/savemodel/Model15chkSpec/cp-0026\n",
            "8/8 [==============================] - 2s 267ms/step - loss: 0.1179 - acc: 0.9688 - val_loss: 0.9572 - val_acc: 0.7375\n",
            "Epoch 27/100\n",
            "1/8 [==>...........................] - ETA: 8s - loss: 0.2309 - acc: 0.9000Epoch 1/100\n",
            "1/8 [==>...........................] - ETA: 5s - loss: 0.6664 - acc: 0.6500\n",
            "Epoch 00027: saving model to /content/drive/My Drive/savemodel/Model15chkSpec/cp-0027\n",
            "8/8 [==============================] - 2s 289ms/step - loss: 0.1258 - acc: 0.9686 - val_loss: 0.9741 - val_acc: 0.7375\n",
            "Epoch 28/100\n",
            "1/8 [==>...........................] - ETA: 6s - loss: 0.0584 - acc: 1.0000Epoch 1/100\n",
            "1/8 [==>...........................] - ETA: 5s - loss: 0.6569 - acc: 0.7000\n",
            "Epoch 00028: saving model to /content/drive/My Drive/savemodel/Model15chkSpec/cp-0028\n",
            "8/8 [==============================] - 2s 254ms/step - loss: 0.0953 - acc: 0.9812 - val_loss: 0.9841 - val_acc: 0.7625\n",
            "Epoch 29/100\n",
            "1/8 [==>...........................] - ETA: 9s - loss: 0.1026 - acc: 1.0000Epoch 1/100\n",
            "1/8 [==>...........................] - ETA: 5s - loss: 0.7291 - acc: 0.6500\n",
            "Epoch 00029: saving model to /content/drive/My Drive/savemodel/Model15chkSpec/cp-0029\n",
            "8/8 [==============================] - 2s 290ms/step - loss: 0.0926 - acc: 0.9810 - val_loss: 1.0676 - val_acc: 0.7375\n",
            "Epoch 30/100\n",
            "6/8 [=====================>........] - ETA: 0s - loss: 0.1370 - acc: 0.9583Epoch 1/100\n",
            "1/8 [==>...........................] - ETA: 5s - loss: 0.6839 - acc: 0.7000\n",
            "Epoch 00030: saving model to /content/drive/My Drive/savemodel/Model15chkSpec/cp-0030\n",
            "8/8 [==============================] - 3s 317ms/step - loss: 0.1246 - acc: 0.9686 - val_loss: 1.0468 - val_acc: 0.7750\n",
            "Epoch 31/100\n",
            "7/8 [=========================>....] - ETA: 0s - loss: 0.0645 - acc: 0.9856Epoch 1/100\n",
            "1/8 [==>...........................] - ETA: 6s - loss: 0.9278 - acc: 0.6500\n",
            "Epoch 00031: saving model to /content/drive/My Drive/savemodel/Model15chkSpec/cp-0031\n",
            "8/8 [==============================] - 2s 283ms/step - loss: 0.0694 - acc: 0.9874 - val_loss: 1.3329 - val_acc: 0.7625\n",
            "Epoch 32/100\n",
            "5/8 [=================>............] - ETA: 0s - loss: 0.1318 - acc: 0.9500Epoch 1/100\n",
            "1/8 [==>...........................] - ETA: 5s - loss: 0.6139 - acc: 0.7500\n",
            "Epoch 00032: saving model to /content/drive/My Drive/savemodel/Model15chkSpec/cp-0032\n",
            "8/8 [==============================] - 2s 294ms/step - loss: 0.1481 - acc: 0.9438 - val_loss: 1.0786 - val_acc: 0.7750\n",
            "Epoch 33/100\n",
            "6/8 [=====================>........] - ETA: 0s - loss: 0.0930 - acc: 0.9748Epoch 1/100\n",
            "1/8 [==>...........................] - ETA: 6s - loss: 0.7529 - acc: 0.7000\n",
            "Epoch 00033: saving model to /content/drive/My Drive/savemodel/Model15chkSpec/cp-0033\n",
            "8/8 [==============================] - 2s 307ms/step - loss: 0.0925 - acc: 0.9748 - val_loss: 1.2437 - val_acc: 0.7750\n",
            "Epoch 34/100\n",
            "7/8 [=========================>....] - ETA: 0s - loss: 0.0731 - acc: 0.9928Epoch 1/100\n",
            "1/8 [==>...........................] - ETA: 7s - loss: 0.6840 - acc: 0.7500\n",
            "Epoch 00034: saving model to /content/drive/My Drive/savemodel/Model15chkSpec/cp-0034\n",
            "8/8 [==============================] - 2s 292ms/step - loss: 0.0768 - acc: 0.9937 - val_loss: 1.1715 - val_acc: 0.7750\n",
            "Epoch 35/100\n",
            "1/8 [==>...........................] - ETA: 7s - loss: 0.0556 - acc: 1.0000Epoch 1/100\n",
            "1/8 [==>...........................] - ETA: 6s - loss: 0.7811 - acc: 0.7000\n",
            "Epoch 00035: saving model to /content/drive/My Drive/savemodel/Model15chkSpec/cp-0035\n",
            "8/8 [==============================] - 2s 297ms/step - loss: 0.1331 - acc: 0.9497 - val_loss: 1.2415 - val_acc: 0.7750\n",
            "Epoch 36/100\n",
            "1/8 [==>...........................] - ETA: 9s - loss: 0.0299 - acc: 1.0000Epoch 1/100\n",
            "1/8 [==>...........................] - ETA: 6s - loss: 0.7572 - acc: 0.7000\n",
            "Epoch 00036: saving model to /content/drive/My Drive/savemodel/Model15chkSpec/cp-0036\n",
            "8/8 [==============================] - 2s 302ms/step - loss: 0.0793 - acc: 0.9811 - val_loss: 1.2131 - val_acc: 0.7875\n",
            "Epoch 37/100\n",
            "1/8 [==>...........................] - ETA: 9s - loss: 0.0682 - acc: 1.0000Epoch 1/100\n",
            "1/8 [==>...........................] - ETA: 6s - loss: 0.8383 - acc: 0.7000\n",
            "Epoch 00037: saving model to /content/drive/My Drive/savemodel/Model15chkSpec/cp-0037\n",
            "8/8 [==============================] - 2s 291ms/step - loss: 0.0783 - acc: 0.9874 - val_loss: 1.3361 - val_acc: 0.7875\n",
            "Epoch 38/100\n",
            "1/8 [==>...........................] - ETA: 11s - loss: 0.0611 - acc: 1.0000Epoch 1/100\n",
            "1/8 [==>...........................] - ETA: 6s - loss: 0.6834 - acc: 0.8000\n",
            "Epoch 00038: saving model to /content/drive/My Drive/savemodel/Model15chkSpec/cp-0038\n",
            "8/8 [==============================] - 3s 343ms/step - loss: 0.1072 - acc: 0.9686 - val_loss: 1.1811 - val_acc: 0.8125\n",
            "Epoch 39/100\n",
            "6/8 [=====================>........] - ETA: 0s - loss: 0.0885 - acc: 0.9583Epoch 1/100\n",
            "1/8 [==>...........................] - ETA: 7s - loss: 0.7666 - acc: 0.7000\n",
            "Epoch 00039: saving model to /content/drive/My Drive/savemodel/Model15chkSpec/cp-0039\n",
            "8/8 [==============================] - 3s 325ms/step - loss: 0.0757 - acc: 0.9688 - val_loss: 1.2689 - val_acc: 0.7750\n",
            "Epoch 40/100\n",
            "7/8 [=========================>....] - ETA: 0s - loss: 0.1436 - acc: 0.9638Epoch 1/100\n",
            "1/8 [==>...........................] - ETA: 6s - loss: 0.9172 - acc: 0.7000\n",
            "Epoch 00040: saving model to /content/drive/My Drive/savemodel/Model15chkSpec/cp-0040\n",
            "8/8 [==============================] - 3s 321ms/step - loss: 0.1261 - acc: 0.9684 - val_loss: 1.4485 - val_acc: 0.7750\n",
            "Epoch 41/100\n",
            "5/8 [=================>............] - ETA: 0s - loss: 0.1007 - acc: 0.9500Epoch 1/100\n",
            "1/8 [==>...........................] - ETA: 6s - loss: 0.8126 - acc: 0.7000\n",
            "Epoch 00041: saving model to /content/drive/My Drive/savemodel/Model15chkSpec/cp-0041\n",
            "8/8 [==============================] - 3s 333ms/step - loss: 0.0906 - acc: 0.9625 - val_loss: 1.3637 - val_acc: 0.7875\n",
            "Epoch 42/100\n",
            "6/8 [=====================>........] - ETA: 0s - loss: 0.0556 - acc: 0.9916Epoch 1/100\n",
            "1/8 [==>...........................] - ETA: 7s - loss: 0.7698 - acc: 0.7000\n",
            "Epoch 00042: saving model to /content/drive/My Drive/savemodel/Model15chkSpec/cp-0042\n",
            "8/8 [==============================] - 3s 337ms/step - loss: 0.0532 - acc: 0.9874 - val_loss: 1.3195 - val_acc: 0.7625\n",
            "Epoch 43/100\n",
            "7/8 [=========================>....] - ETA: 0s - loss: 0.0766 - acc: 0.9856 Epoch 1/100\n",
            "1/8 [==>...........................] - ETA: 8s - loss: 0.8188 - acc: 0.7000\n",
            "Epoch 00043: saving model to /content/drive/My Drive/savemodel/Model15chkSpec/cp-0043\n",
            "8/8 [==============================] - 3s 351ms/step - loss: 0.0735 - acc: 0.9811 - val_loss: 1.3812 - val_acc: 0.7625\n",
            "Epoch 44/100\n",
            "1/8 [==>...........................] - ETA: 9s - loss: 0.0228 - acc: 1.0000Epoch 1/100\n",
            "1/8 [==>...........................] - ETA: 9s - loss: 0.8016 - acc: 0.7000\n",
            "Epoch 00044: saving model to /content/drive/My Drive/savemodel/Model15chkSpec/cp-0044\n",
            "8/8 [==============================] - 3s 396ms/step - loss: 0.0733 - acc: 0.9937 - val_loss: 1.3543 - val_acc: 0.7750\n",
            "Epoch 45/100\n",
            "1/8 [==>...........................] - ETA: 9s - loss: 0.0047 - acc: 1.0000Epoch 1/100\n",
            "1/8 [==>...........................] - ETA: 9s - loss: 0.9332 - acc: 0.7000\n",
            "Epoch 00045: saving model to /content/drive/My Drive/savemodel/Model15chkSpec/cp-0045\n",
            "8/8 [==============================] - 3s 369ms/step - loss: 0.0395 - acc: 0.9937 - val_loss: 1.4921 - val_acc: 0.7625\n",
            "Epoch 46/100\n",
            "1/8 [==>...........................] - ETA: 10s - loss: 0.0127 - acc: 1.0000Epoch 1/100\n",
            "1/8 [==>...........................] - ETA: 7s - loss: 0.8491 - acc: 0.7500\n",
            "Epoch 00046: saving model to /content/drive/My Drive/savemodel/Model15chkSpec/cp-0046\n",
            "8/8 [==============================] - 3s 350ms/step - loss: 0.0579 - acc: 0.9811 - val_loss: 1.3860 - val_acc: 0.8000\n",
            "Epoch 47/100\n",
            "1/8 [==>...........................] - ETA: 13s - loss: 0.0201 - acc: 1.0000Epoch 1/100\n",
            "1/8 [==>...........................] - ETA: 8s - loss: 1.0339 - acc: 0.6500\n",
            "Epoch 00047: saving model to /content/drive/My Drive/savemodel/Model15chkSpec/cp-0047\n",
            "8/8 [==============================] - 3s 423ms/step - loss: 0.0517 - acc: 0.9812 - val_loss: 1.5661 - val_acc: 0.7375\n",
            "Epoch 48/100\n",
            "7/8 [=========================>....] - ETA: 0s - loss: 0.1005 - acc: 0.9638Epoch 1/100\n",
            "1/8 [==>...........................] - ETA: 8s - loss: 0.8383 - acc: 0.7500\n",
            "Epoch 00048: saving model to /content/drive/My Drive/savemodel/Model15chkSpec/cp-0048\n",
            "8/8 [==============================] - 3s 379ms/step - loss: 0.0944 - acc: 0.9684 - val_loss: 1.3329 - val_acc: 0.8000\n",
            "Epoch 49/100\n",
            "7/8 [=========================>....] - ETA: 0s - loss: 0.0916 - acc: 0.9784Epoch 1/100\n",
            "1/8 [==>...........................] - ETA: 9s - loss: 0.8297 - acc: 0.7500\n",
            "Epoch 00049: saving model to /content/drive/My Drive/savemodel/Model15chkSpec/cp-0049\n",
            "8/8 [==============================] - 3s 430ms/step - loss: 0.0891 - acc: 0.9811 - val_loss: 1.3002 - val_acc: 0.8000\n",
            "Epoch 50/100\n",
            "6/8 [=====================>........] - ETA: 0s - loss: 0.0516 - acc: 0.9832 Epoch 1/100\n",
            "1/8 [==>...........................] - ETA: 9s - loss: 0.9325 - acc: 0.7000\n",
            "Epoch 00050: saving model to /content/drive/My Drive/savemodel/Model15chkSpec/cp-0050\n",
            "8/8 [==============================] - 3s 411ms/step - loss: 0.0580 - acc: 0.9811 - val_loss: 1.4313 - val_acc: 0.7750\n",
            "Epoch 51/100\n",
            "6/8 [=====================>........] - ETA: 0s - loss: 0.0551 - acc: 0.9917 Epoch 1/100\n",
            "1/8 [==>...........................] - ETA: 8s - loss: 0.9434 - acc: 0.7000\n",
            "Epoch 00051: saving model to /content/drive/My Drive/savemodel/Model15chkSpec/cp-0051\n",
            "8/8 [==============================] - 3s 413ms/step - loss: 0.0520 - acc: 0.9937 - val_loss: 1.4435 - val_acc: 0.7625\n",
            "Epoch 52/100\n",
            "7/8 [=========================>....] - ETA: 0s - loss: 0.0557 - acc: 0.9714 Epoch 1/100\n",
            "1/8 [==>...........................] - ETA: 9s - loss: 0.9624 - acc: 0.7000\n",
            "Epoch 00052: saving model to /content/drive/My Drive/savemodel/Model15chkSpec/cp-0052\n",
            "8/8 [==============================] - 3s 435ms/step - loss: 0.0527 - acc: 0.9750 - val_loss: 1.4809 - val_acc: 0.7500\n",
            "Epoch 53/100\n",
            "1/8 [==>...........................] - ETA: 12s - loss: 0.0883 - acc: 0.9500Epoch 1/100\n",
            "1/8 [==>...........................] - ETA: 9s - loss: 0.9645 - acc: 0.7500\n",
            "Epoch 00053: saving model to /content/drive/My Drive/savemodel/Model15chkSpec/cp-0053\n",
            "8/8 [==============================] - 3s 413ms/step - loss: 0.0397 - acc: 0.9937 - val_loss: 1.4505 - val_acc: 0.7875\n",
            "Epoch 54/100\n",
            "1/8 [==>...........................] - ETA: 12s - loss: 0.0549 - acc: 1.0000Epoch 1/100\n",
            "1/8 [==>...........................] - ETA: 9s - loss: 1.1317 - acc: 0.6500\n",
            "Epoch 00054: saving model to /content/drive/My Drive/savemodel/Model15chkSpec/cp-0054\n",
            "8/8 [==============================] - 3s 433ms/step - loss: 0.0936 - acc: 0.9748 - val_loss: 1.6914 - val_acc: 0.7500\n",
            "Epoch 55/100\n",
            "1/8 [==>...........................] - ETA: 12s - loss: 0.0094 - acc: 1.0000Epoch 1/100\n",
            "1/8 [==>...........................] - ETA: 9s - loss: 0.8530 - acc: 0.7500\n",
            "Epoch 00055: saving model to /content/drive/My Drive/savemodel/Model15chkSpec/cp-0055\n",
            "8/8 [==============================] - 3s 409ms/step - loss: 0.0266 - acc: 1.0000 - val_loss: 1.3915 - val_acc: 0.7875\n",
            "Epoch 56/100\n",
            "1/8 [==>...........................] - ETA: 15s - loss: 0.1171 - acc: 1.0000Epoch 1/100\n",
            "1/8 [==>...........................] - ETA: 9s - loss: 0.9573 - acc: 0.7000\n",
            "Epoch 00056: saving model to /content/drive/My Drive/savemodel/Model15chkSpec/cp-0056\n",
            "8/8 [==============================] - 4s 467ms/step - loss: 0.0612 - acc: 0.9811 - val_loss: 1.5122 - val_acc: 0.7625\n",
            "Epoch 57/100\n",
            "6/8 [=====================>........] - ETA: 0s - loss: 0.0304 - acc: 1.0000Epoch 1/100\n",
            "1/8 [==>...........................] - ETA: 9s - loss: 1.0972 - acc: 0.6500\n",
            "Epoch 00057: saving model to /content/drive/My Drive/savemodel/Model15chkSpec/cp-0057\n",
            "8/8 [==============================] - 4s 456ms/step - loss: 0.0362 - acc: 1.0000 - val_loss: 1.7015 - val_acc: 0.7500\n",
            "Epoch 58/100\n",
            "7/8 [=========================>....] - ETA: 0s - loss: 0.0379 - acc: 0.9928Epoch 1/100\n",
            "1/8 [==>...........................] - ETA: 9s - loss: 0.9963 - acc: 0.7000\n",
            "Epoch 00058: saving model to /content/drive/My Drive/savemodel/Model15chkSpec/cp-0058\n",
            "8/8 [==============================] - 4s 465ms/step - loss: 0.0363 - acc: 0.9937 - val_loss: 1.5460 - val_acc: 0.7750\n",
            "Epoch 59/100\n",
            "5/8 [=================>............] - ETA: 1s - loss: 0.0618 - acc: 0.9700     Epoch 1/100\n",
            "1/8 [==>...........................] - ETA: 11s - loss: 1.1967 - acc: 0.6500\n",
            "Epoch 00059: saving model to /content/drive/My Drive/savemodel/Model15chkSpec/cp-0059\n",
            "8/8 [==============================] - 4s 480ms/step - loss: 0.0432 - acc: 0.9811 - val_loss: 1.7347 - val_acc: 0.7500\n",
            "Epoch 60/100\n",
            "6/8 [=====================>........] - ETA: 0s - loss: 0.0269 - acc: 1.0000 Epoch 1/100\n",
            "1/8 [==>...........................] - ETA: 11s - loss: 1.1852 - acc: 0.7000\n",
            "Epoch 00060: saving model to /content/drive/My Drive/savemodel/Model15chkSpec/cp-0060\n",
            "8/8 [==============================] - 4s 491ms/step - loss: 0.0315 - acc: 1.0000 - val_loss: 1.7112 - val_acc: 0.7750\n",
            "Epoch 61/100\n",
            "7/8 [=========================>....] - ETA: 0s - loss: 0.1233 - acc: 0.9565 Epoch 1/100\n",
            "1/8 [==>...........................] - ETA: 12s - loss: 1.0311 - acc: 0.7500\n",
            "Epoch 00061: saving model to /content/drive/My Drive/savemodel/Model15chkSpec/cp-0061\n",
            "8/8 [==============================] - 4s 475ms/step - loss: 0.1113 - acc: 0.9620 - val_loss: 1.6248 - val_acc: 0.8000\n",
            "Epoch 62/100\n",
            "1/8 [==>...........................] - ETA: 12s - loss: 0.0346 - acc: 1.0000Epoch 1/100\n",
            "1/8 [==>...........................] - ETA: 12s - loss: 1.2692 - acc: 0.7000\n",
            "Epoch 00062: saving model to /content/drive/My Drive/savemodel/Model15chkSpec/cp-0062\n",
            "8/8 [==============================] - 4s 490ms/step - loss: 0.0199 - acc: 1.0000 - val_loss: 1.9786 - val_acc: 0.7625\n",
            "Epoch 63/100\n",
            "1/8 [==>...........................] - ETA: 13s - loss: 0.0055 - acc: 1.0000Epoch 1/100\n",
            "1/8 [==>...........................] - ETA: 12s - loss: 1.0818 - acc: 0.7000\n",
            "Epoch 00063: saving model to /content/drive/My Drive/savemodel/Model15chkSpec/cp-0063\n",
            "8/8 [==============================] - 4s 503ms/step - loss: 0.0482 - acc: 0.9874 - val_loss: 1.7720 - val_acc: 0.7750\n",
            "Epoch 64/100\n",
            "1/8 [==>...........................] - ETA: 14s - loss: 0.0174 - acc: 1.0000Epoch 1/100\n",
            "1/8 [==>...........................] - ETA: 10s - loss: 0.9466 - acc: 0.8000\n",
            "Epoch 00064: saving model to /content/drive/My Drive/savemodel/Model15chkSpec/cp-0064\n",
            "8/8 [==============================] - 4s 478ms/step - loss: 0.0396 - acc: 0.9811 - val_loss: 1.6034 - val_acc: 0.8125\n",
            "Epoch 65/100\n",
            "1/8 [==>...........................] - ETA: 17s - loss: 0.0029 - acc: 1.0000Epoch 1/100\n",
            "1/8 [==>...........................] - ETA: 11s - loss: 1.1432 - acc: 0.6500\n",
            "Epoch 00065: saving model to /content/drive/My Drive/savemodel/Model15chkSpec/cp-0065\n",
            "8/8 [==============================] - 4s 522ms/step - loss: 0.0295 - acc: 0.9937 - val_loss: 1.7959 - val_acc: 0.7375\n",
            "Epoch 66/100\n",
            "7/8 [=========================>....] - ETA: 0s - loss: 0.0535 - acc: 0.9857Epoch 1/100\n",
            "1/8 [==>...........................] - ETA: 11s - loss: 1.2027 - acc: 0.6500\n",
            "Epoch 00066: saving model to /content/drive/My Drive/savemodel/Model15chkSpec/cp-0066\n",
            "8/8 [==============================] - 4s 519ms/step - loss: 0.0474 - acc: 0.9875 - val_loss: 1.8903 - val_acc: 0.7500\n",
            "Epoch 67/100\n",
            "7/8 [=========================>....] - ETA: 0s - loss: 0.0637 - acc: 0.9710Epoch 1/100\n",
            "1/8 [==>...........................] - ETA: 11s - loss: 0.8593 - acc: 0.8000\n",
            "Epoch 00067: saving model to /content/drive/My Drive/savemodel/Model15chkSpec/cp-0067\n",
            "8/8 [==============================] - 4s 512ms/step - loss: 0.0719 - acc: 0.9684 - val_loss: 1.4880 - val_acc: 0.7875\n",
            "Epoch 68/100\n",
            "5/8 [=================>............] - ETA: 1s - loss: 0.1346 - acc: 0.9400 Epoch 1/100\n",
            "1/8 [==>...........................] - ETA: 13s - loss: 1.1762 - acc: 0.6500\n",
            "Epoch 00068: saving model to /content/drive/My Drive/savemodel/Model15chkSpec/cp-0068\n",
            "8/8 [==============================] - 4s 557ms/step - loss: 0.0887 - acc: 0.9625 - val_loss: 1.8852 - val_acc: 0.7500\n",
            "Epoch 69/100\n",
            "6/8 [=====================>........] - ETA: 0s - loss: 0.0513 - acc: 0.9916 Epoch 1/100\n",
            "1/8 [==>...........................] - ETA: 13s - loss: 1.2726 - acc: 0.6500\n",
            "Epoch 00069: saving model to /content/drive/My Drive/savemodel/Model15chkSpec/cp-0069\n",
            "8/8 [==============================] - 4s 537ms/step - loss: 0.0421 - acc: 0.9937 - val_loss: 2.1690 - val_acc: 0.7500\n",
            "Epoch 70/100\n",
            "7/8 [=========================>....] - ETA: 0s - loss: 0.0344 - acc: 1.0000 Epoch 1/100\n",
            "1/8 [==>...........................] - ETA: 11s - loss: 0.8697 - acc: 0.8000\n",
            "Epoch 00070: saving model to /content/drive/My Drive/savemodel/Model15chkSpec/cp-0070\n",
            "8/8 [==============================] - 4s 533ms/step - loss: 0.0323 - acc: 1.0000 - val_loss: 1.6124 - val_acc: 0.8250\n",
            "Epoch 71/100\n",
            "1/8 [==>...........................] - ETA: 16s - loss: 0.1080 - acc: 0.9500Epoch 1/100\n",
            "1/8 [==>...........................] - ETA: 12s - loss: 0.9582 - acc: 0.7500\n",
            "Epoch 00071: saving model to /content/drive/My Drive/savemodel/Model15chkSpec/cp-0071\n",
            "8/8 [==============================] - 5s 566ms/step - loss: 0.0872 - acc: 0.9748 - val_loss: 1.6551 - val_acc: 0.8250\n",
            "Epoch 72/100\n",
            "1/8 [==>...........................] - ETA: 15s - loss: 0.0129 - acc: 1.0000Epoch 1/100\n",
            "1/8 [==>...........................] - ETA: 12s - loss: 0.9848 - acc: 0.7500\n",
            "Epoch 00072: saving model to /content/drive/My Drive/savemodel/Model15chkSpec/cp-0072\n",
            "8/8 [==============================] - 4s 523ms/step - loss: 0.0534 - acc: 0.9937 - val_loss: 1.6227 - val_acc: 0.8000\n",
            "Epoch 73/100\n",
            "1/8 [==>...........................] - ETA: 16s - loss: 0.0139 - acc: 1.0000Epoch 1/100\n",
            "1/8 [==>...........................] - ETA: 12s - loss: 1.0198 - acc: 0.7000\n",
            "Epoch 00073: saving model to /content/drive/My Drive/savemodel/Model15chkSpec/cp-0073\n",
            "8/8 [==============================] - 4s 527ms/step - loss: 0.0454 - acc: 0.9811 - val_loss: 1.6381 - val_acc: 0.7750\n",
            "Epoch 74/100\n",
            "7/8 [=========================>....] - ETA: 0s - loss: 0.0242 - acc: 1.0000 Epoch 1/100\n",
            "1/8 [==>...........................] - ETA: 12s - loss: 1.0798 - acc: 0.7000\n",
            "Epoch 00074: saving model to /content/drive/My Drive/savemodel/Model15chkSpec/cp-0074\n",
            "8/8 [==============================] - 5s 587ms/step - loss: 0.0222 - acc: 1.0000 - val_loss: 1.6977 - val_acc: 0.7750\n",
            "Epoch 75/100\n",
            "6/8 [=====================>........] - ETA: 0s - loss: 0.0255 - acc: 1.0000Epoch 1/100\n",
            "1/8 [==>...........................] - ETA: 14s - loss: 1.1684 - acc: 0.6500\n",
            "Epoch 00075: saving model to /content/drive/My Drive/savemodel/Model15chkSpec/cp-0075\n",
            "8/8 [==============================] - 5s 591ms/step - loss: 0.0321 - acc: 0.9937 - val_loss: 1.7888 - val_acc: 0.7500\n",
            "Epoch 76/100\n",
            "7/8 [=========================>....] - ETA: 0s - loss: 0.0161 - acc: 1.0000Epoch 1/100\n",
            "1/8 [==>...........................] - ETA: 14s - loss: 1.2014 - acc: 0.6500\n",
            "Epoch 00076: saving model to /content/drive/My Drive/savemodel/Model15chkSpec/cp-0076\n",
            "8/8 [==============================] - 5s 583ms/step - loss: 0.0185 - acc: 1.0000 - val_loss: 1.8249 - val_acc: 0.7625\n",
            "Epoch 77/100\n",
            "5/8 [=================>............] - ETA: 1s - loss: 0.0260 - acc: 1.0000 Epoch 1/100\n",
            "1/8 [==>...........................] - ETA: 13s - loss: 1.0426 - acc: 0.7000\n",
            "Epoch 00077: saving model to /content/drive/My Drive/savemodel/Model15chkSpec/cp-0077\n",
            "8/8 [==============================] - 5s 589ms/step - loss: 0.0398 - acc: 0.9937 - val_loss: 1.6669 - val_acc: 0.7875\n",
            "Epoch 78/100\n",
            "6/8 [=====================>........] - ETA: 0s - loss: 0.0196 - acc: 1.0000 Epoch 1/100\n",
            "1/8 [==>...........................] - ETA: 13s - loss: 1.1327 - acc: 0.7000\n",
            "Epoch 00078: saving model to /content/drive/My Drive/savemodel/Model15chkSpec/cp-0078\n",
            "8/8 [==============================] - 5s 587ms/step - loss: 0.0178 - acc: 1.0000 - val_loss: 1.8222 - val_acc: 0.7750\n",
            "Epoch 79/100\n",
            "7/8 [=========================>....] - ETA: 0s - loss: 0.0269 - acc: 1.0000 Epoch 1/100\n",
            "1/8 [==>...........................] - ETA: 15s - loss: 1.1618 - acc: 0.7500\n",
            "Epoch 00079: saving model to /content/drive/My Drive/savemodel/Model15chkSpec/cp-0079\n",
            "8/8 [==============================] - 5s 600ms/step - loss: 0.0265 - acc: 1.0000 - val_loss: 1.8868 - val_acc: 0.8000\n",
            "Epoch 80/100\n",
            "1/8 [==>...........................] - ETA: 17s - loss: 0.0534 - acc: 0.9500Epoch 1/100\n",
            "1/8 [==>...........................] - ETA: 13s - loss: 1.1653 - acc: 0.7500\n",
            "Epoch 00080: saving model to /content/drive/My Drive/savemodel/Model15chkSpec/cp-0080\n",
            "8/8 [==============================] - 5s 586ms/step - loss: 0.0181 - acc: 0.9937 - val_loss: 1.9237 - val_acc: 0.7875\n",
            "Epoch 81/100\n",
            "1/8 [==>...........................] - ETA: 17s - loss: 6.3089e-04 - acc: 1.0000Epoch 1/100\n",
            "1/8 [==>...........................] - ETA: 13s - loss: 1.1920 - acc: 0.7500\n",
            "Epoch 00081: saving model to /content/drive/My Drive/savemodel/Model15chkSpec/cp-0081\n",
            "8/8 [==============================] - 5s 574ms/step - loss: 0.0315 - acc: 0.9874 - val_loss: 1.9726 - val_acc: 0.7875\n",
            "Epoch 82/100\n",
            "1/8 [==>...........................] - ETA: 17s - loss: 0.0283 - acc: 1.0000Epoch 1/100\n",
            "1/8 [==>...........................] - ETA: 14s - loss: 1.2303 - acc: 0.6500\n",
            "Epoch 00082: saving model to /content/drive/My Drive/savemodel/Model15chkSpec/cp-0082\n",
            "8/8 [==============================] - 5s 612ms/step - loss: 0.0282 - acc: 0.9937 - val_loss: 2.0475 - val_acc: 0.7500\n",
            "Epoch 83/100\n",
            "1/8 [==>...........................] - ETA: 18s - loss: 3.7548e-04 - acc: 1.0000Epoch 1/100\n",
            "1/8 [==>...........................] - ETA: 15s - loss: 1.1005 - acc: 0.8000\n",
            "Epoch 00083: saving model to /content/drive/My Drive/savemodel/Model15chkSpec/cp-0083\n",
            "8/8 [==============================] - 5s 629ms/step - loss: 0.0161 - acc: 1.0000 - val_loss: 1.9471 - val_acc: 0.8125\n",
            "Epoch 84/100\n",
            "7/8 [=========================>....] - ETA: 0s - loss: 0.0350 - acc: 0.9928Epoch 1/100\n",
            "1/8 [==>...........................] - ETA: 13s - loss: 1.1541 - acc: 0.7500\n",
            "Epoch 00084: saving model to /content/drive/My Drive/savemodel/Model15chkSpec/cp-0084\n",
            "8/8 [==============================] - 5s 590ms/step - loss: 0.0310 - acc: 0.9937 - val_loss: 2.0259 - val_acc: 0.7750\n",
            "Epoch 85/100\n",
            "7/8 [=========================>....] - ETA: 0s - loss: 0.0122 - acc: 1.0000Epoch 1/100\n",
            "1/8 [==>...........................] - ETA: 13s - loss: 1.3353 - acc: 0.7000\n",
            "Epoch 00085: saving model to /content/drive/My Drive/savemodel/Model15chkSpec/cp-0085\n",
            "8/8 [==============================] - 5s 605ms/step - loss: 0.0116 - acc: 1.0000 - val_loss: 2.2698 - val_acc: 0.7500\n",
            "Epoch 86/100\n",
            "5/8 [=================>............] - ETA: 1s - loss: 0.0381 - acc: 0.9798 Epoch 1/100\n",
            "1/8 [==>...........................] - ETA: 15s - loss: 1.1791 - acc: 0.8000\n",
            "Epoch 00086: saving model to /content/drive/My Drive/savemodel/Model15chkSpec/cp-0086\n",
            "8/8 [==============================] - 5s 635ms/step - loss: 0.0286 - acc: 0.9874 - val_loss: 2.1247 - val_acc: 0.7875\n",
            "Epoch 87/100\n",
            "6/8 [=====================>........] - ETA: 0s - loss: 0.0170 - acc: 0.9917 Epoch 1/100\n",
            "1/8 [==>...........................] - ETA: 14s - loss: 1.1751 - acc: 0.7500\n",
            "Epoch 00087: saving model to /content/drive/My Drive/savemodel/Model15chkSpec/cp-0087\n",
            "8/8 [==============================] - 5s 634ms/step - loss: 0.0231 - acc: 0.9875 - val_loss: 2.0870 - val_acc: 0.7750\n",
            "Epoch 88/100\n",
            "7/8 [=========================>....] - ETA: 0s - loss: 0.0187 - acc: 1.0000 Epoch 1/100\n",
            "1/8 [==>...........................] - ETA: 14s - loss: 1.2515 - acc: 0.7500\n",
            "Epoch 00088: saving model to /content/drive/My Drive/savemodel/Model15chkSpec/cp-0088\n",
            "8/8 [==============================] - 5s 629ms/step - loss: 0.0180 - acc: 1.0000 - val_loss: 2.1492 - val_acc: 0.7750\n",
            "Epoch 89/100\n",
            "1/8 [==>...........................] - ETA: 18s - loss: 0.0011 - acc: 1.0000Epoch 1/100\n",
            "1/8 [==>...........................] - ETA: 16s - loss: 1.4525 - acc: 0.6500\n",
            "Epoch 00089: saving model to /content/drive/My Drive/savemodel/Model15chkSpec/cp-0089\n",
            "8/8 [==============================] - 5s 662ms/step - loss: 0.0150 - acc: 0.9937 - val_loss: 2.3592 - val_acc: 0.7500\n",
            "Epoch 90/100\n",
            "1/8 [==>...........................] - ETA: 17s - loss: 0.0227 - acc: 1.0000Epoch 1/100\n",
            "1/8 [==>...........................] - ETA: 16s - loss: 1.2757 - acc: 0.7500\n",
            "Epoch 00090: saving model to /content/drive/My Drive/savemodel/Model15chkSpec/cp-0090\n",
            "8/8 [==============================] - 5s 645ms/step - loss: 0.0568 - acc: 0.9937 - val_loss: 2.1653 - val_acc: 0.8000\n",
            "Epoch 91/100\n",
            "1/8 [==>...........................] - ETA: 19s - loss: 0.0024 - acc: 1.0000Epoch 1/100\n",
            "1/8 [==>...........................] - ETA: 14s - loss: 1.3083 - acc: 0.7500\n",
            "Epoch 00091: saving model to /content/drive/My Drive/savemodel/Model15chkSpec/cp-0091\n",
            "8/8 [==============================] - 5s 619ms/step - loss: 0.0207 - acc: 0.9937 - val_loss: 2.2448 - val_acc: 0.7875\n",
            "Epoch 92/100\n",
            "1/8 [==>...........................] - ETA: 22s - loss: 1.6975e-04 - acc: 1.0000Epoch 1/100\n",
            "1/8 [==>...........................] - ETA: 16s - loss: 1.2836 - acc: 0.7500\n",
            "Epoch 00092: saving model to /content/drive/My Drive/savemodel/Model15chkSpec/cp-0092\n",
            "8/8 [==============================] - 6s 704ms/step - loss: 0.0245 - acc: 1.0000 - val_loss: 2.2535 - val_acc: 0.7750\n",
            "Epoch 93/100\n",
            "6/8 [=====================>........] - ETA: 0s - loss: 0.0387 - acc: 0.9833Epoch 1/100\n",
            "1/8 [==>...........................] - ETA: 15s - loss: 1.2003 - acc: 0.8000\n",
            "Epoch 00093: saving model to /content/drive/My Drive/savemodel/Model15chkSpec/cp-0093\n",
            "8/8 [==============================] - 5s 677ms/step - loss: 0.0311 - acc: 0.9875 - val_loss: 2.1792 - val_acc: 0.8000\n",
            "Epoch 94/100\n",
            "7/8 [=========================>....] - ETA: 0s - loss: 0.0200 - acc: 1.0000Epoch 1/100\n",
            "1/8 [==>...........................] - ETA: 15s - loss: 1.2076 - acc: 0.7500\n",
            "Epoch 00094: saving model to /content/drive/My Drive/savemodel/Model15chkSpec/cp-0094\n",
            "8/8 [==============================] - 5s 672ms/step - loss: 0.0234 - acc: 1.0000 - val_loss: 2.1763 - val_acc: 0.7875\n",
            "Epoch 95/100\n",
            "5/8 [=================>............] - ETA: 1s - loss: 0.0043 - acc: 1.0000 Epoch 1/100\n",
            "1/8 [==>...........................] - ETA: 17s - loss: 1.2378 - acc: 0.7500\n",
            "Epoch 00095: saving model to /content/drive/My Drive/savemodel/Model15chkSpec/cp-0095\n",
            "8/8 [==============================] - 6s 726ms/step - loss: 0.0077 - acc: 1.0000 - val_loss: 2.2100 - val_acc: 0.7750\n",
            "Epoch 96/100\n",
            "6/8 [=====================>........] - ETA: 0s - loss: 0.0169 - acc: 1.0000 Epoch 1/100\n",
            "1/8 [==>...........................] - ETA: 16s - loss: 1.2876 - acc: 0.7500\n",
            "Epoch 00096: saving model to /content/drive/My Drive/savemodel/Model15chkSpec/cp-0096\n",
            "8/8 [==============================] - 6s 700ms/step - loss: 0.0159 - acc: 1.0000 - val_loss: 2.2347 - val_acc: 0.7750\n",
            "Epoch 97/100\n",
            "7/8 [=========================>....] - ETA: 0s - loss: 0.0323 - acc: 0.9929 Epoch 1/100\n",
            "1/8 [==>...........................] - ETA: 18s - loss: 1.2272 - acc: 0.7500\n",
            "Epoch 00097: saving model to /content/drive/My Drive/savemodel/Model15chkSpec/cp-0097\n",
            "8/8 [==============================] - 6s 717ms/step - loss: 0.0284 - acc: 0.9937 - val_loss: 2.1426 - val_acc: 0.7875\n",
            "Epoch 98/100\n",
            "1/8 [==>...........................] - ETA: 18s - loss: 0.0078 - acc: 1.0000Epoch 1/100\n",
            "1/8 [==>...........................] - ETA: 18s - loss: 1.1871 - acc: 0.8000\n",
            "Epoch 00098: saving model to /content/drive/My Drive/savemodel/Model15chkSpec/cp-0098\n",
            "8/8 [==============================] - 6s 711ms/step - loss: 0.0144 - acc: 1.0000 - val_loss: 2.1685 - val_acc: 0.8125\n",
            "Epoch 99/100\n",
            "1/8 [==>...........................] - ETA: 20s - loss: 0.0072 - acc: 1.0000Epoch 1/100\n",
            "1/8 [==>...........................] - ETA: 17s - loss: 1.2644 - acc: 0.7500\n",
            "Epoch 00099: saving model to /content/drive/My Drive/savemodel/Model15chkSpec/cp-0099\n",
            "8/8 [==============================] - 6s 715ms/step - loss: 0.0100 - acc: 1.0000 - val_loss: 2.2094 - val_acc: 0.7875\n",
            "Epoch 100/100\n",
            "1/8 [==>...........................] - ETA: 21s - loss: 0.0436 - acc: 1.0000Epoch 1/100\n",
            "1/8 [==>...........................] - ETA: 18s - loss: 1.3050 - acc: 0.7500\n",
            "Epoch 00100: saving model to /content/drive/My Drive/savemodel/Model15chkSpec/cp-0100\n",
            "8/8 [==============================] - 6s 727ms/step - loss: 0.0119 - acc: 1.0000 - val_loss: 2.2395 - val_acc: 0.7750\n"
          ],
          "name": "stdout"
        }
      ]
    },
    {
      "cell_type": "code",
      "metadata": {
        "id": "B41zPJ_5OmvU",
        "colab_type": "code",
        "outputId": "4dcb54de-c963-40f1-f067-ea8b83d9dbf9",
        "colab": {
          "base_uri": "https://localhost:8080/",
          "height": 498
        }
      },
      "source": [
        "acc = history.history['acc']\n",
        "val_acc = history.history['val_acc']\n",
        "\n",
        "loss = history.history['loss']\n",
        "val_loss = history.history['val_loss']\n",
        "\n",
        "epochs_range = range(epochs)\n",
        "\n",
        "plt.figure(figsize=(8, 8))\n",
        "plt.subplot(1, 2, 1)\n",
        "plt.plot(epochs_range, acc, label='Training Accuracy')\n",
        "plt.plot(epochs_range, val_acc, label='Validation Accuracy')\n",
        "plt.legend(loc='lower right')\n",
        "plt.title('Training and Validation Accuracy')\n",
        "\n",
        "plt.subplot(1, 2, 2)\n",
        "plt.plot(epochs_range, loss, label='Training Loss')\n",
        "plt.plot(epochs_range, val_loss, label='Validation Loss')\n",
        "plt.legend(loc='upper right')\n",
        "plt.title('Training and Validation Loss')\n",
        "plt.show()"
      ],
      "execution_count": 55,
      "outputs": [
        {
          "output_type": "display_data",
          "data": {
            "image/png": "[encoded data removed]",
            "text/plain": [
              "<Figure size 576x576 with 2 Axes>"
            ]
          },
          "metadata": {
            "tags": []
          }
        }
      ]
    },
    {
      "cell_type": "code",
      "metadata": {
        "id": "QK8RR15Ye2gl",
        "colab_type": "code",
        "outputId": "fdc1fa5d-df84-44f2-9760-c02ce979b5ed",
        "colab": {
          "base_uri": "https://localhost:8080/",
          "height": 353
        }
      },
      "source": [
        "#Matrice de confusion\n",
        "def matrice_confusion(modele) :\n",
        "  predicted_probs = modele.predict_generator(val_data_gen,)\n",
        "  #steps=total_val // batch_size)\n",
        "  predicted_classes = np.round(predicted_probs)\n",
        "  predicted_classes = predicted_classes.reshape(predicted_classes.size)\n",
        "\n",
        "  print(val_data_gen.labels)\n",
        "  print(np.count_nonzero(test_labels == 1))\n",
        "  print(sklearn.metrics.accuracy_score(predicted_classes, val_data_gen.labels))\n",
        "  sns.heatmap(sklearn.metrics.confusion_matrix(predicted_classes, val_data_gen.labels), annot=True)\n",
        "matrice_confusion(model)"
      ],
      "execution_count": 66,
      "outputs": [
        {
          "output_type": "stream",
          "text": [
            "[0 0 0 0 0 0 0 0 0 0 0 0 0 0 0 0 0 0 0 0 0 0 0 0 0 0 0 0 0 0 0 0 0 0 0 0 0\n",
            " 0 0 0 0 0 0 0 0 0 0 0 0 1 1 1 1 1 1 1 1 1 1 1 1 1 1 1 1 1 1 1 1 1 1 1 1 1\n",
            " 1 1 1 1 1 1 1 1 1 1 1 1 1 1 1 1 1 1 1 1 1 1 1 1]\n",
            "49\n",
            "0.5\n"
          ],
          "name": "stdout"
        },
        {
          "output_type": "display_data",
          "data": {
            "image/png": "[encoded data removed]",
            "text/plain": [
              "<Figure size 432x288 with 2 Axes>"
            ]
          },
          "metadata": {
            "tags": []
          }
        }
      ]
    },
    {
      "cell_type": "code",
      "metadata": {
        "id": "XAvyXS2NlaF6",
        "colab_type": "code",
        "colab": {}
      },
      "source": [
        "model1 = create_model_spec()\n"
      ],
      "execution_count": 0,
      "outputs": []
    },
    {
      "cell_type": "code",
      "metadata": {
        "id": "slBoFkF_lgj7",
        "colab_type": "code",
        "outputId": "ed440209-da49-48c0-e002-ff14713ac4cf",
        "colab": {
          "base_uri": "https://localhost:8080/",
          "height": 371
        }
      },
      "source": [
        "model1.load_weights(checkpoint_path.format(epoch=6))\n",
        "matrice_confusion(model1)"
      ],
      "execution_count": 43,
      "outputs": [
        {
          "output_type": "stream",
          "text": [
            "[0 0 0 0 0 0 0 0 0 0 0 0 0 0 0 0 0 0 0 0 0 0 0 0 0 0 0 0 0 0 0 0 0 0 0 0 0\n",
            " 0 0 0 0 0 0 0 0 0 0 0 0 1 1 1 1 1 1 1 1 1 1 1 1 1 1 1 1 1 1 1 1 1 1 1 1 1\n",
            " 1 1 1 1 1 1 1 1 1 1 1 1 1 1 1 1 1 1 1 1 1 1 1 1]\n",
            "49\n",
            "98\n",
            "0.5408163265306123\n"
          ],
          "name": "stdout"
        },
        {
          "output_type": "display_data",
          "data": {
            "image/png": "[encoded data removed]",
            "text/plain": [
              "<Figure size 432x288 with 2 Axes>"
            ]
          },
          "metadata": {
            "tags": []
          }
        }
      ]
    },
    {
      "cell_type": "code",
      "metadata": {
        "id": "ygKIo1zapva_",
        "colab_type": "code",
        "colab": {}
      },
      "source": [
        "\n",
        "# test sur un wav particulier\n",
        "aFile = \"/content/sample_data/cats_dogs/test/cats/cat_110.wav\"\n",
        "\n",
        "wave_raw = wavfile.read(aFile)[1]\n",
        "wave_raw = wave_raw/np.std(wave_raw)\n",
        "length = len(wave_raw)\n",
        "left = 0\n",
        "right = MAX_WAV_SAMPLES - left - length\n",
        "wave = np.pad(wave_raw, pad_width=((left, right)), mode='wrap')\n",
        "\n"
      ],
      "execution_count": 0,
      "outputs": []
    },
    {
      "cell_type": "code",
      "metadata": {
        "id": "mKzYIjaRDLDB",
        "colab_type": "code",
        "outputId": "1bd5e4d1-75ac-4511-9d35-da3c75bb8621",
        "colab": {
          "base_uri": "https://localhost:8080/",
          "height": 51
        }
      },
      "source": [
        "wave = wave.reshape( (1,wave.size) )\n",
        "print(wave.shape)\n",
        "\n",
        "resu = model.predict(wave)\n",
        "print(resu)"
      ],
      "execution_count": 0,
      "outputs": [
        {
          "output_type": "stream",
          "text": [
            "(1, 320000)\n",
            "[[0.50153714 0.4984629 ]]\n"
          ],
          "name": "stdout"
        }
      ]
    },
    {
      "cell_type": "code",
      "metadata": {
        "id": "XLN9QXi0FXPV",
        "colab_type": "code",
        "outputId": "96512ab7-7478-49b0-d099-1304f664acd4",
        "colab": {
          "base_uri": "https://localhost:8080/",
          "height": 51
        }
      },
      "source": [
        "# test sur un wav particulier\n",
        "files = [\"/content/sample_data/cats_dogs/test/cats/cat_110.wav\",\"/content/sample_data/cats_dogs/train/dog/dog_barking_10.wav\"]\n",
        "\n",
        "waves = []\n",
        "for aFile in files:\n",
        "  \n",
        "  wave_raw = wavfile.read(aFile)[1]\n",
        "  wave_raw = wave_raw/np.std(wave_raw)\n",
        "  length = len(wave_raw)\n",
        "  left = 0\n",
        "  right = MAX_WAV_SAMPLES - left - length\n",
        "  wave = np.pad(wave_raw, pad_width=((left, right)), mode='wrap')\n",
        "  wave = wave.reshape( (1,wave.size) )\n",
        "  print(wave.shape)\n",
        "\n",
        "  if len(waves) == 0 :\n",
        "    waves = wave\n",
        "  else :\n",
        "    waves = np.concatenate((waves, wave), axis = 0)\n"
      ],
      "execution_count": 0,
      "outputs": [
        {
          "output_type": "stream",
          "text": [
            "(1, 320000)\n",
            "(1, 320000)\n"
          ],
          "name": "stdout"
        }
      ]
    },
    {
      "cell_type": "code",
      "metadata": {
        "id": "tLGI6CVLHVL-",
        "colab_type": "code",
        "outputId": "5f16d63a-9bbc-481f-82ec-253a4514b123",
        "colab": {
          "base_uri": "https://localhost:8080/",
          "height": 34
        }
      },
      "source": [
        "print(waves.shape)"
      ],
      "execution_count": 0,
      "outputs": [
        {
          "output_type": "stream",
          "text": [
            "(2, 320000)\n"
          ],
          "name": "stdout"
        }
      ]
    },
    {
      "cell_type": "code",
      "metadata": {
        "id": "pdXI2HRXIaih",
        "colab_type": "code",
        "outputId": "31d9e31c-f84e-4fb1-dc60-85aec0df375f",
        "colab": {
          "base_uri": "https://localhost:8080/",
          "height": 51
        }
      },
      "source": [
        "resu = model.predict(waves)\n",
        "print(resu)"
      ],
      "execution_count": 0,
      "outputs": [
        {
          "output_type": "stream",
          "text": [
            "[[0.50153714 0.4984629 ]\n",
            " [0.50484157 0.49515846]]\n"
          ],
          "name": "stdout"
        }
      ]
    },
    {
      "cell_type": "code",
      "metadata": {
        "id": "7izCYKE2oK55",
        "colab_type": "code",
        "outputId": "5316e9d3-5c5f-491c-fb8f-b47095173f26",
        "colab": {
          "base_uri": "https://localhost:8080/",
          "height": 408
        }
      },
      "source": [
        "valeur = \"/content/drive/My Drive/savemodel/Model15chk\"\n",
        "!ls \"$valeur\"\n"
      ],
      "execution_count": 0,
      "outputs": [
        {
          "output_type": "stream",
          "text": [
            "checkpoint\t\t     cp-0008.data-00001-of-00002\n",
            "cp-0001.data-00000-of-00002  cp-0008.index\n",
            "cp-0001.data-00001-of-00002  cp-0009.data-00000-of-00002\n",
            "cp-0001.index\t\t     cp-0009.data-00001-of-00002\n",
            "cp-0002.data-00000-of-00002  cp-0009.index\n",
            "cp-0002.data-00001-of-00002  cp-0010.data-00000-of-00002\n",
            "cp-0002.index\t\t     cp-0010.data-00001-of-00002\n",
            "cp-0003.data-00000-of-00002  cp-0010.index\n",
            "cp-0003.data-00001-of-00002  cp-0011.data-00000-of-00002\n",
            "cp-0003.index\t\t     cp-0011.data-00001-of-00002\n",
            "cp-0004.data-00000-of-00002  cp-0011.index\n",
            "cp-0004.data-00001-of-00002  cp-0012.data-00000-of-00002\n",
            "cp-0004.index\t\t     cp-0012.data-00001-of-00002\n",
            "cp-0005.data-00000-of-00002  cp-0012.index\n",
            "cp-0005.data-00001-of-00002  cp-0013.data-00000-of-00002\n",
            "cp-0005.index\t\t     cp-0013.data-00001-of-00002\n",
            "cp-0006.data-00000-of-00002  cp-0013.index\n",
            "cp-0006.data-00001-of-00002  cp-0014.data-00000-of-00002\n",
            "cp-0006.index\t\t     cp-0014.data-00001-of-00002\n",
            "cp-0007.data-00000-of-00002  cp-0014.index\n",
            "cp-0007.data-00001-of-00002  cp-0015.data-00000-of-00002\n",
            "cp-0007.index\t\t     cp-0015.data-00001-of-00002\n",
            "cp-0008.data-00000-of-00002  cp-0015.index\n"
          ],
          "name": "stdout"
        }
      ]
    },
    {
      "cell_type": "code",
      "metadata": {
        "id": "0rMYLf6131b4",
        "colab_type": "code",
        "outputId": "bceca0ca-fce4-49ce-a250-19ae1790c669",
        "colab": {
          "base_uri": "https://localhost:8080/",
          "height": 34
        }
      },
      "source": [
        "chaine=\"toto\"\n",
        "!echo \"truc$chaine\""
      ],
      "execution_count": 0,
      "outputs": [
        {
          "output_type": "stream",
          "text": [
            "tructoto\n"
          ],
          "name": "stdout"
        }
      ]
    },
    {
      "cell_type": "code",
      "metadata": {
        "id": "D7cWabb0sEfS",
        "colab_type": "code",
        "outputId": "b935b5f8-4fd9-49d7-ec49-a56c801014f4",
        "colab": {
          "base_uri": "https://localhost:8080/",
          "height": 34
        }
      },
      "source": [
        "model1 = create_model_spec()\n",
        "model1.load_weights(checkpoint_path.format(epoch=10))"
      ],
      "execution_count": 76,
      "outputs": [
        {
          "output_type": "execute_result",
          "data": {
            "text/plain": [
              "<tensorflow.python.training.tracking.util.CheckpointLoadStatus at 0x7fc80a51b9b0>"
            ]
          },
          "metadata": {
            "tags": []
          },
          "execution_count": 76
        }
      ]
    },
    {
      "cell_type": "code",
      "metadata": {
        "id": "4V4uBhOetjmS",
        "colab_type": "code",
        "outputId": "f1c11bd9-0adb-43ac-ec92-874c22913078",
        "colab": {
          "base_uri": "https://localhost:8080/",
          "height": 371
        }
      },
      "source": [
        "#Matrice de confusion\n",
        "matrice_confusion(model1)"
      ],
      "execution_count": 77,
      "outputs": [
        {
          "output_type": "stream",
          "text": [
            "[0 0 0 0 0 0 0 0 0 0 0 0 0 0 0 0 0 0 0 0 0 0 0 0 0 0 0 0 0 0 0 0 0 0 0 0 0\n",
            " 0 0 0 0 0 0 0 0 0 0 0 0 1 1 1 1 1 1 1 1 1 1 1 1 1 1 1 1 1 1 1 1 1 1 1 1 1\n",
            " 1 1 1 1 1 1 1 1 1 1 1 1 1 1 1 1 1 1 1 1 1 1 1 1]\n",
            "49\n",
            "98\n",
            "0.47959183673469385\n"
          ],
          "name": "stdout"
        },
        {
          "output_type": "display_data",
          "data": {
            "image/png": "[encoded data removed]",
            "text/plain": [
              "<Figure size 432x288 with 2 Axes>"
            ]
          },
          "metadata": {
            "tags": []
          }
        }
      ]
    },
    {
      "cell_type": "markdown",
      "metadata": {
        "id": "NoS6shGCkzXA",
        "colab_type": "text"
      },
      "source": [
        ""
      ]
    }
  ]
}