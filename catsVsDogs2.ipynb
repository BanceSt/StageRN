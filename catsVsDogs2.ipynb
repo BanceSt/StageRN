{
  "nbformat": 4,
  "nbformat_minor": 0,
  "metadata": {
    "colab": {
      "name": "catsVsDogs2.ipynb",
      "provenance": [],
      "collapsed_sections": [],
      "authorship_tag": "ABX9TyN1o5JY+i/0g5YG3YiiWFqU",
      "include_colab_link": true
    },
    "kernelspec": {
      "name": "python3",
      "display_name": "Python 3"
    },
    "accelerator": "GPU"
  },
  "cells": [
    {
      "cell_type": "markdown",
      "metadata": {
        "id": "view-in-github",
        "colab_type": "text"
      },
      "source": [
        "<a href=\"https://colab.research.google.com/github/BanceSt/StageRN/blob/master/catsVsDogs2.ipynb\" target=\"_parent\"><img src=\"https://colab.research.google.com/assets/colab-badge.svg\" alt=\"Open In Colab\"/></a>"
      ]
    },
    {
      "cell_type": "code",
      "metadata": {
        "id": "EhkwBlLYOx0v",
        "colab_type": "code",
        "outputId": "9c0107b4-9fe8-48dd-a34a-4cf58724dbb4",
        "colab": {
          "base_uri": "https://localhost:8080/",
          "height": 122
        }
      },
      "source": [
        "from google.colab import drive\n",
        "drive.mount('/content/drive')"
      ],
      "execution_count": 0,
      "outputs": [
        {
          "output_type": "stream",
          "text": [
            "Go to this URL in a browser: https://accounts.google.com/o/oauth2/auth?client_id=947318989803-6bn6qk8qdgf4n4g3pfee6491hc0brc4i.apps.googleusercontent.com&redirect_uri=urn%3aietf%3awg%3aoauth%3a2.0%3aoob&response_type=code&scope=email%20https%3a%2f%2fwww.googleapis.com%2fauth%2fdocs.test%20https%3a%2f%2fwww.googleapis.com%2fauth%2fdrive%20https%3a%2f%2fwww.googleapis.com%2fauth%2fdrive.photos.readonly%20https%3a%2f%2fwww.googleapis.com%2fauth%2fpeopleapi.readonly\n",
            "\n",
            "Enter your authorization code:\n",
            "··········\n",
            "Mounted at /content/drive\n"
          ],
          "name": "stdout"
        }
      ]
    },
    {
      "cell_type": "code",
      "metadata": {
        "id": "4-K8k755PFLM",
        "colab_type": "code",
        "outputId": "3bffea1d-8526-4ab2-e3cd-9cd25e81bb40",
        "colab": {
          "base_uri": "https://localhost:8080/",
          "height": 1000
        }
      },
      "source": [
        "!unzip \"/content/drive/My Drive/dataStage/audio-cats-and-dogs.zip\" -d /content/sample_data"
      ],
      "execution_count": 0,
      "outputs": [
        {
          "output_type": "stream",
          "text": [
            "Archive:  /content/drive/My Drive/dataStage/audio-cats-and-dogs.zip\n",
            "  inflating: /content/sample_data/cats_dogs/cat_1.wav  \n",
            "  inflating: /content/sample_data/cats_dogs/cat_10.wav  \n",
            "  inflating: /content/sample_data/cats_dogs/cat_100.wav  \n",
            "  inflating: /content/sample_data/cats_dogs/cat_101.wav  \n",
            "  inflating: /content/sample_data/cats_dogs/cat_102.wav  \n",
            "  inflating: /content/sample_data/cats_dogs/cat_103.wav  \n",
            "  inflating: /content/sample_data/cats_dogs/cat_105.wav  \n",
            "  inflating: /content/sample_data/cats_dogs/cat_106.wav  \n",
            "  inflating: /content/sample_data/cats_dogs/cat_107.wav  \n",
            "  inflating: /content/sample_data/cats_dogs/cat_108.wav  \n",
            "  inflating: /content/sample_data/cats_dogs/cat_109.wav  \n",
            "  inflating: /content/sample_data/cats_dogs/cat_11.wav  \n",
            "  inflating: /content/sample_data/cats_dogs/cat_110.wav  \n",
            "  inflating: /content/sample_data/cats_dogs/cat_112.wav  \n",
            "  inflating: /content/sample_data/cats_dogs/cat_113.wav  \n",
            "  inflating: /content/sample_data/cats_dogs/cat_114.wav  \n",
            "  inflating: /content/sample_data/cats_dogs/cat_115.wav  \n",
            "  inflating: /content/sample_data/cats_dogs/cat_116.wav  \n",
            "  inflating: /content/sample_data/cats_dogs/cat_117.wav  \n",
            "  inflating: /content/sample_data/cats_dogs/cat_118.wav  \n",
            "  inflating: /content/sample_data/cats_dogs/cat_119.wav  \n",
            "  inflating: /content/sample_data/cats_dogs/cat_12.wav  \n",
            "  inflating: /content/sample_data/cats_dogs/cat_120.wav  \n",
            "  inflating: /content/sample_data/cats_dogs/cat_121.wav  \n",
            "  inflating: /content/sample_data/cats_dogs/cat_122.wav  \n",
            "  inflating: /content/sample_data/cats_dogs/cat_123.wav  \n",
            "  inflating: /content/sample_data/cats_dogs/cat_124.wav  \n",
            "  inflating: /content/sample_data/cats_dogs/cat_125.wav  \n",
            "  inflating: /content/sample_data/cats_dogs/cat_126.wav  \n",
            "  inflating: /content/sample_data/cats_dogs/cat_127.wav  \n",
            "  inflating: /content/sample_data/cats_dogs/cat_128.wav  \n",
            "  inflating: /content/sample_data/cats_dogs/cat_129.wav  \n",
            "  inflating: /content/sample_data/cats_dogs/cat_13.wav  \n",
            "  inflating: /content/sample_data/cats_dogs/cat_130.wav  \n",
            "  inflating: /content/sample_data/cats_dogs/cat_131.wav  \n",
            "  inflating: /content/sample_data/cats_dogs/cat_132.wav  \n",
            "  inflating: /content/sample_data/cats_dogs/cat_133.wav  \n",
            "  inflating: /content/sample_data/cats_dogs/cat_134.wav  \n",
            "  inflating: /content/sample_data/cats_dogs/cat_135.wav  \n",
            "  inflating: /content/sample_data/cats_dogs/cat_136.wav  \n",
            "  inflating: /content/sample_data/cats_dogs/cat_137.wav  \n",
            "  inflating: /content/sample_data/cats_dogs/cat_138.wav  \n",
            "  inflating: /content/sample_data/cats_dogs/cat_139.wav  \n",
            "  inflating: /content/sample_data/cats_dogs/cat_14.wav  \n",
            "  inflating: /content/sample_data/cats_dogs/cat_140.wav  \n",
            "  inflating: /content/sample_data/cats_dogs/cat_141.wav  \n",
            "  inflating: /content/sample_data/cats_dogs/cat_142.wav  \n",
            "  inflating: /content/sample_data/cats_dogs/cat_143.wav  \n",
            "  inflating: /content/sample_data/cats_dogs/cat_144.wav  \n",
            "  inflating: /content/sample_data/cats_dogs/cat_146.wav  \n",
            "  inflating: /content/sample_data/cats_dogs/cat_147.wav  \n",
            "  inflating: /content/sample_data/cats_dogs/cat_148.wav  \n",
            "  inflating: /content/sample_data/cats_dogs/cat_149.wav  \n",
            "  inflating: /content/sample_data/cats_dogs/cat_15.wav  \n",
            "  inflating: /content/sample_data/cats_dogs/cat_150.wav  \n",
            "  inflating: /content/sample_data/cats_dogs/cat_151.wav  \n",
            "  inflating: /content/sample_data/cats_dogs/cat_152.wav  \n",
            "  inflating: /content/sample_data/cats_dogs/cat_153.wav  \n",
            "  inflating: /content/sample_data/cats_dogs/cat_154.wav  \n",
            "  inflating: /content/sample_data/cats_dogs/cat_155.wav  \n",
            "  inflating: /content/sample_data/cats_dogs/cat_156.wav  \n",
            "  inflating: /content/sample_data/cats_dogs/cat_157.wav  \n",
            "  inflating: /content/sample_data/cats_dogs/cat_158.wav  \n",
            "  inflating: /content/sample_data/cats_dogs/cat_159.wav  \n",
            "  inflating: /content/sample_data/cats_dogs/cat_16.wav  \n",
            "  inflating: /content/sample_data/cats_dogs/cat_160.wav  \n",
            "  inflating: /content/sample_data/cats_dogs/cat_161.wav  \n",
            "  inflating: /content/sample_data/cats_dogs/cat_162.wav  \n",
            "  inflating: /content/sample_data/cats_dogs/cat_163.wav  \n",
            "  inflating: /content/sample_data/cats_dogs/cat_164.wav  \n",
            "  inflating: /content/sample_data/cats_dogs/cat_165.wav  \n",
            "  inflating: /content/sample_data/cats_dogs/cat_166.wav  \n",
            "  inflating: /content/sample_data/cats_dogs/cat_167.wav  \n",
            "  inflating: /content/sample_data/cats_dogs/cat_17.wav  \n",
            "  inflating: /content/sample_data/cats_dogs/cat_18.wav  \n",
            "  inflating: /content/sample_data/cats_dogs/cat_19.wav  \n",
            "  inflating: /content/sample_data/cats_dogs/cat_2.wav  \n",
            "  inflating: /content/sample_data/cats_dogs/cat_20.wav  \n",
            "  inflating: /content/sample_data/cats_dogs/cat_21.wav  \n",
            "  inflating: /content/sample_data/cats_dogs/cat_22.wav  \n",
            "  inflating: /content/sample_data/cats_dogs/cat_23.wav  \n",
            "  inflating: /content/sample_data/cats_dogs/cat_24.wav  \n",
            "  inflating: /content/sample_data/cats_dogs/cat_25.wav  \n",
            "  inflating: /content/sample_data/cats_dogs/cat_26.wav  \n",
            "  inflating: /content/sample_data/cats_dogs/cat_27.wav  \n",
            "  inflating: /content/sample_data/cats_dogs/cat_28.wav  \n",
            "  inflating: /content/sample_data/cats_dogs/cat_29.wav  \n",
            "  inflating: /content/sample_data/cats_dogs/cat_3.wav  \n",
            "  inflating: /content/sample_data/cats_dogs/cat_30.wav  \n",
            "  inflating: /content/sample_data/cats_dogs/cat_31.wav  \n",
            "  inflating: /content/sample_data/cats_dogs/cat_32.wav  \n",
            "  inflating: /content/sample_data/cats_dogs/cat_33.wav  \n",
            "  inflating: /content/sample_data/cats_dogs/cat_34.wav  \n",
            "  inflating: /content/sample_data/cats_dogs/cat_35.wav  \n",
            "  inflating: /content/sample_data/cats_dogs/cat_36.wav  \n",
            "  inflating: /content/sample_data/cats_dogs/cat_37.wav  \n",
            "  inflating: /content/sample_data/cats_dogs/cat_38.wav  \n",
            "  inflating: /content/sample_data/cats_dogs/cat_39.wav  \n",
            "  inflating: /content/sample_data/cats_dogs/cat_4.wav  \n",
            "  inflating: /content/sample_data/cats_dogs/cat_40.wav  \n",
            "  inflating: /content/sample_data/cats_dogs/cat_41.wav  \n",
            "  inflating: /content/sample_data/cats_dogs/cat_42.wav  \n",
            "  inflating: /content/sample_data/cats_dogs/cat_43.wav  \n",
            "  inflating: /content/sample_data/cats_dogs/cat_44.wav  \n",
            "  inflating: /content/sample_data/cats_dogs/cat_45.wav  \n",
            "  inflating: /content/sample_data/cats_dogs/cat_46.wav  \n",
            "  inflating: /content/sample_data/cats_dogs/cat_47.wav  \n",
            "  inflating: /content/sample_data/cats_dogs/cat_48.wav  \n",
            "  inflating: /content/sample_data/cats_dogs/cat_49.wav  \n",
            "  inflating: /content/sample_data/cats_dogs/cat_5.wav  \n",
            "  inflating: /content/sample_data/cats_dogs/cat_50.wav  \n",
            "  inflating: /content/sample_data/cats_dogs/cat_51.wav  \n",
            "  inflating: /content/sample_data/cats_dogs/cat_52.wav  \n",
            "  inflating: /content/sample_data/cats_dogs/cat_53.wav  \n",
            "  inflating: /content/sample_data/cats_dogs/cat_54.wav  \n",
            "  inflating: /content/sample_data/cats_dogs/cat_55.wav  \n",
            "  inflating: /content/sample_data/cats_dogs/cat_56.wav  \n",
            "  inflating: /content/sample_data/cats_dogs/cat_57.wav  \n",
            "  inflating: /content/sample_data/cats_dogs/cat_58.wav  \n",
            "  inflating: /content/sample_data/cats_dogs/cat_59.wav  \n",
            "  inflating: /content/sample_data/cats_dogs/cat_6.wav  \n",
            "  inflating: /content/sample_data/cats_dogs/cat_60.wav  \n",
            "  inflating: /content/sample_data/cats_dogs/cat_61.wav  \n",
            "  inflating: /content/sample_data/cats_dogs/cat_62.wav  \n",
            "  inflating: /content/sample_data/cats_dogs/cat_63.wav  \n",
            "  inflating: /content/sample_data/cats_dogs/cat_64.wav  \n",
            "  inflating: /content/sample_data/cats_dogs/cat_65.wav  \n",
            "  inflating: /content/sample_data/cats_dogs/cat_66.wav  \n",
            "  inflating: /content/sample_data/cats_dogs/cat_67.wav  \n",
            "  inflating: /content/sample_data/cats_dogs/cat_68.wav  \n",
            "  inflating: /content/sample_data/cats_dogs/cat_69.wav  \n",
            "  inflating: /content/sample_data/cats_dogs/cat_7.wav  \n",
            "  inflating: /content/sample_data/cats_dogs/cat_70.wav  \n",
            "  inflating: /content/sample_data/cats_dogs/cat_71.wav  \n",
            "  inflating: /content/sample_data/cats_dogs/cat_72.wav  \n",
            "  inflating: /content/sample_data/cats_dogs/cat_73.wav  \n",
            "  inflating: /content/sample_data/cats_dogs/cat_74.wav  \n",
            "  inflating: /content/sample_data/cats_dogs/cat_75.wav  \n",
            "  inflating: /content/sample_data/cats_dogs/cat_76.wav  \n",
            "  inflating: /content/sample_data/cats_dogs/cat_77.wav  \n",
            "  inflating: /content/sample_data/cats_dogs/cat_78.wav  \n",
            "  inflating: /content/sample_data/cats_dogs/cat_79.wav  \n",
            "  inflating: /content/sample_data/cats_dogs/cat_8.wav  \n",
            "  inflating: /content/sample_data/cats_dogs/cat_80.wav  \n",
            "  inflating: /content/sample_data/cats_dogs/cat_81.wav  \n",
            "  inflating: /content/sample_data/cats_dogs/cat_82.wav  \n",
            "  inflating: /content/sample_data/cats_dogs/cat_83.wav  \n",
            "  inflating: /content/sample_data/cats_dogs/cat_84.wav  \n",
            "  inflating: /content/sample_data/cats_dogs/cat_85.wav  \n",
            "  inflating: /content/sample_data/cats_dogs/cat_86.wav  \n",
            "  inflating: /content/sample_data/cats_dogs/cat_87.wav  \n",
            "  inflating: /content/sample_data/cats_dogs/cat_88.wav  \n",
            "  inflating: /content/sample_data/cats_dogs/cat_89.wav  \n",
            "  inflating: /content/sample_data/cats_dogs/cat_9.wav  \n",
            "  inflating: /content/sample_data/cats_dogs/cat_90.wav  \n",
            "  inflating: /content/sample_data/cats_dogs/cat_91.wav  \n",
            "  inflating: /content/sample_data/cats_dogs/cat_92.wav  \n",
            "  inflating: /content/sample_data/cats_dogs/cat_93.wav  \n",
            "  inflating: /content/sample_data/cats_dogs/cat_94.wav  \n",
            "  inflating: /content/sample_data/cats_dogs/cat_95.wav  \n",
            "  inflating: /content/sample_data/cats_dogs/cat_96.wav  \n",
            "  inflating: /content/sample_data/cats_dogs/cat_97.wav  \n",
            "  inflating: /content/sample_data/cats_dogs/cat_98.wav  \n",
            "  inflating: /content/sample_data/cats_dogs/cat_99.wav  \n",
            "  inflating: /content/sample_data/cats_dogs/dog_barking_0.wav  \n",
            "  inflating: /content/sample_data/cats_dogs/dog_barking_1.wav  \n",
            "  inflating: /content/sample_data/cats_dogs/dog_barking_10.wav  \n",
            "  inflating: /content/sample_data/cats_dogs/dog_barking_100.wav  \n",
            "  inflating: /content/sample_data/cats_dogs/dog_barking_101.wav  \n",
            "  inflating: /content/sample_data/cats_dogs/dog_barking_102.wav  \n",
            "  inflating: /content/sample_data/cats_dogs/dog_barking_103.wav  \n",
            "  inflating: /content/sample_data/cats_dogs/dog_barking_104.wav  \n",
            "  inflating: /content/sample_data/cats_dogs/dog_barking_105.wav  \n",
            "  inflating: /content/sample_data/cats_dogs/dog_barking_106.wav  \n",
            "  inflating: /content/sample_data/cats_dogs/dog_barking_107.wav  \n",
            "  inflating: /content/sample_data/cats_dogs/dog_barking_108.wav  \n",
            "  inflating: /content/sample_data/cats_dogs/dog_barking_109.wav  \n",
            "  inflating: /content/sample_data/cats_dogs/dog_barking_11.wav  \n",
            "  inflating: /content/sample_data/cats_dogs/dog_barking_110.wav  \n",
            "  inflating: /content/sample_data/cats_dogs/dog_barking_111.wav  \n",
            "  inflating: /content/sample_data/cats_dogs/dog_barking_112.wav  \n",
            "  inflating: /content/sample_data/cats_dogs/dog_barking_12.wav  \n",
            "  inflating: /content/sample_data/cats_dogs/dog_barking_13.wav  \n",
            "  inflating: /content/sample_data/cats_dogs/dog_barking_14.wav  \n",
            "  inflating: /content/sample_data/cats_dogs/dog_barking_15.wav  \n",
            "  inflating: /content/sample_data/cats_dogs/dog_barking_16.wav  \n",
            "  inflating: /content/sample_data/cats_dogs/dog_barking_17.wav  \n",
            "  inflating: /content/sample_data/cats_dogs/dog_barking_18.wav  \n",
            "  inflating: /content/sample_data/cats_dogs/dog_barking_19.wav  \n",
            "  inflating: /content/sample_data/cats_dogs/dog_barking_2.wav  \n",
            "  inflating: /content/sample_data/cats_dogs/dog_barking_20.wav  \n",
            "  inflating: /content/sample_data/cats_dogs/dog_barking_21.wav  \n",
            "  inflating: /content/sample_data/cats_dogs/dog_barking_22.wav  \n",
            "  inflating: /content/sample_data/cats_dogs/dog_barking_23.wav  \n",
            "  inflating: /content/sample_data/cats_dogs/dog_barking_24.wav  \n",
            "  inflating: /content/sample_data/cats_dogs/dog_barking_25.wav  \n",
            "  inflating: /content/sample_data/cats_dogs/dog_barking_26.wav  \n",
            "  inflating: /content/sample_data/cats_dogs/dog_barking_27.wav  \n",
            "  inflating: /content/sample_data/cats_dogs/dog_barking_28.wav  \n",
            "  inflating: /content/sample_data/cats_dogs/dog_barking_29.wav  \n",
            "  inflating: /content/sample_data/cats_dogs/dog_barking_3.wav  \n",
            "  inflating: /content/sample_data/cats_dogs/dog_barking_30.wav  \n",
            "  inflating: /content/sample_data/cats_dogs/dog_barking_31.wav  \n",
            "  inflating: /content/sample_data/cats_dogs/dog_barking_32.wav  \n",
            "  inflating: /content/sample_data/cats_dogs/dog_barking_33.wav  \n",
            "  inflating: /content/sample_data/cats_dogs/dog_barking_34.wav  \n",
            "  inflating: /content/sample_data/cats_dogs/dog_barking_35.wav  \n",
            "  inflating: /content/sample_data/cats_dogs/dog_barking_36.wav  \n",
            "  inflating: /content/sample_data/cats_dogs/dog_barking_37.wav  \n",
            "  inflating: /content/sample_data/cats_dogs/dog_barking_38.wav  \n",
            "  inflating: /content/sample_data/cats_dogs/dog_barking_39.wav  \n",
            "  inflating: /content/sample_data/cats_dogs/dog_barking_4.wav  \n",
            "  inflating: /content/sample_data/cats_dogs/dog_barking_40.wav  \n",
            "  inflating: /content/sample_data/cats_dogs/dog_barking_41.wav  \n",
            "  inflating: /content/sample_data/cats_dogs/dog_barking_42.wav  \n",
            "  inflating: /content/sample_data/cats_dogs/dog_barking_43.wav  \n",
            "  inflating: /content/sample_data/cats_dogs/dog_barking_44.wav  \n",
            "  inflating: /content/sample_data/cats_dogs/dog_barking_45.wav  \n",
            "  inflating: /content/sample_data/cats_dogs/dog_barking_46.wav  \n",
            "  inflating: /content/sample_data/cats_dogs/dog_barking_47.wav  \n",
            "  inflating: /content/sample_data/cats_dogs/dog_barking_48.wav  \n",
            "  inflating: /content/sample_data/cats_dogs/dog_barking_49.wav  \n",
            "  inflating: /content/sample_data/cats_dogs/dog_barking_5.wav  \n",
            "  inflating: /content/sample_data/cats_dogs/dog_barking_50.wav  \n",
            "  inflating: /content/sample_data/cats_dogs/dog_barking_51.wav  \n",
            "  inflating: /content/sample_data/cats_dogs/dog_barking_52.wav  \n",
            "  inflating: /content/sample_data/cats_dogs/dog_barking_53.wav  \n",
            "  inflating: /content/sample_data/cats_dogs/dog_barking_54.wav  \n",
            "  inflating: /content/sample_data/cats_dogs/dog_barking_55.wav  \n",
            "  inflating: /content/sample_data/cats_dogs/dog_barking_56.wav  \n",
            "  inflating: /content/sample_data/cats_dogs/dog_barking_57.wav  \n",
            "  inflating: /content/sample_data/cats_dogs/dog_barking_58.wav  \n",
            "  inflating: /content/sample_data/cats_dogs/dog_barking_59.wav  \n",
            "  inflating: /content/sample_data/cats_dogs/dog_barking_6.wav  \n",
            "  inflating: /content/sample_data/cats_dogs/dog_barking_60.wav  \n",
            "  inflating: /content/sample_data/cats_dogs/dog_barking_61.wav  \n",
            "  inflating: /content/sample_data/cats_dogs/dog_barking_62.wav  \n",
            "  inflating: /content/sample_data/cats_dogs/dog_barking_63.wav  \n",
            "  inflating: /content/sample_data/cats_dogs/dog_barking_64.wav  \n",
            "  inflating: /content/sample_data/cats_dogs/dog_barking_65.wav  \n",
            "  inflating: /content/sample_data/cats_dogs/dog_barking_66.wav  \n",
            "  inflating: /content/sample_data/cats_dogs/dog_barking_67.wav  \n",
            "  inflating: /content/sample_data/cats_dogs/dog_barking_68.wav  \n",
            "  inflating: /content/sample_data/cats_dogs/dog_barking_69.wav  \n",
            "  inflating: /content/sample_data/cats_dogs/dog_barking_7.wav  \n",
            "  inflating: /content/sample_data/cats_dogs/dog_barking_70.wav  \n",
            "  inflating: /content/sample_data/cats_dogs/dog_barking_71.wav  \n",
            "  inflating: /content/sample_data/cats_dogs/dog_barking_72.wav  \n",
            "  inflating: /content/sample_data/cats_dogs/dog_barking_73.wav  \n",
            "  inflating: /content/sample_data/cats_dogs/dog_barking_74.wav  \n",
            "  inflating: /content/sample_data/cats_dogs/dog_barking_75.wav  \n",
            "  inflating: /content/sample_data/cats_dogs/dog_barking_76.wav  \n",
            "  inflating: /content/sample_data/cats_dogs/dog_barking_77.wav  \n",
            "  inflating: /content/sample_data/cats_dogs/dog_barking_78.wav  \n",
            "  inflating: /content/sample_data/cats_dogs/dog_barking_79.wav  \n",
            "  inflating: /content/sample_data/cats_dogs/dog_barking_8.wav  \n",
            "  inflating: /content/sample_data/cats_dogs/dog_barking_80.wav  \n",
            "  inflating: /content/sample_data/cats_dogs/dog_barking_81.wav  \n",
            "  inflating: /content/sample_data/cats_dogs/dog_barking_82.wav  \n",
            "  inflating: /content/sample_data/cats_dogs/dog_barking_83.wav  \n",
            "  inflating: /content/sample_data/cats_dogs/dog_barking_84.wav  \n",
            "  inflating: /content/sample_data/cats_dogs/dog_barking_85.wav  \n",
            "  inflating: /content/sample_data/cats_dogs/dog_barking_86.wav  \n",
            "  inflating: /content/sample_data/cats_dogs/dog_barking_87.wav  \n",
            "  inflating: /content/sample_data/cats_dogs/dog_barking_88.wav  \n",
            "  inflating: /content/sample_data/cats_dogs/dog_barking_89.wav  \n",
            "  inflating: /content/sample_data/cats_dogs/dog_barking_9.wav  \n",
            "  inflating: /content/sample_data/cats_dogs/dog_barking_90.wav  \n",
            "  inflating: /content/sample_data/cats_dogs/dog_barking_91.wav  \n",
            "  inflating: /content/sample_data/cats_dogs/dog_barking_92.wav  \n",
            "  inflating: /content/sample_data/cats_dogs/dog_barking_93.wav  \n",
            "  inflating: /content/sample_data/cats_dogs/dog_barking_94.wav  \n",
            "  inflating: /content/sample_data/cats_dogs/dog_barking_95.wav  \n",
            "  inflating: /content/sample_data/cats_dogs/dog_barking_96.wav  \n",
            "  inflating: /content/sample_data/cats_dogs/dog_barking_97.wav  \n",
            "  inflating: /content/sample_data/cats_dogs/dog_barking_98.wav  \n",
            "  inflating: /content/sample_data/cats_dogs/dog_barking_99.wav  \n",
            "  inflating: /content/sample_data/cats_dogs/test/cats/cat_110.wav  \n",
            "  inflating: /content/sample_data/cats_dogs/test/cats/cat_112.wav  \n",
            "  inflating: /content/sample_data/cats_dogs/test/cats/cat_115.wav  \n",
            "  inflating: /content/sample_data/cats_dogs/test/cats/cat_126.wav  \n",
            "  inflating: /content/sample_data/cats_dogs/test/cats/cat_129.wav  \n",
            "  inflating: /content/sample_data/cats_dogs/test/cats/cat_130.wav  \n",
            "  inflating: /content/sample_data/cats_dogs/test/cats/cat_133.wav  \n",
            "  inflating: /content/sample_data/cats_dogs/test/cats/cat_135.wav  \n",
            "  inflating: /content/sample_data/cats_dogs/test/cats/cat_137.wav  \n",
            "  inflating: /content/sample_data/cats_dogs/test/cats/cat_14.wav  \n",
            "  inflating: /content/sample_data/cats_dogs/test/cats/cat_143.wav  \n",
            "  inflating: /content/sample_data/cats_dogs/test/cats/cat_144.wav  \n",
            "  inflating: /content/sample_data/cats_dogs/test/cats/cat_148.wav  \n",
            "  inflating: /content/sample_data/cats_dogs/test/cats/cat_152.wav  \n",
            "  inflating: /content/sample_data/cats_dogs/test/cats/cat_158.wav  \n",
            "  inflating: /content/sample_data/cats_dogs/test/cats/cat_17.wav  \n",
            "  inflating: /content/sample_data/cats_dogs/test/cats/cat_20.wav  \n",
            "  inflating: /content/sample_data/cats_dogs/test/cats/cat_24.wav  \n",
            "  inflating: /content/sample_data/cats_dogs/test/cats/cat_28.wav  \n",
            "  inflating: /content/sample_data/cats_dogs/test/cats/cat_29.wav  \n",
            "  inflating: /content/sample_data/cats_dogs/test/cats/cat_3.wav  \n",
            "  inflating: /content/sample_data/cats_dogs/test/cats/cat_36.wav  \n",
            "  inflating: /content/sample_data/cats_dogs/test/cats/cat_42.wav  \n",
            "  inflating: /content/sample_data/cats_dogs/test/cats/cat_55.wav  \n",
            "  inflating: /content/sample_data/cats_dogs/test/cats/cat_56.wav  \n",
            "  inflating: /content/sample_data/cats_dogs/test/cats/cat_57.wav  \n",
            "  inflating: /content/sample_data/cats_dogs/test/cats/cat_58.wav  \n",
            "  inflating: /content/sample_data/cats_dogs/test/cats/cat_59.wav  \n",
            "  inflating: /content/sample_data/cats_dogs/test/cats/cat_61.wav  \n",
            "  inflating: /content/sample_data/cats_dogs/test/cats/cat_66.wav  \n",
            "  inflating: /content/sample_data/cats_dogs/test/cats/cat_67.wav  \n",
            "  inflating: /content/sample_data/cats_dogs/test/cats/cat_75.wav  \n",
            "  inflating: /content/sample_data/cats_dogs/test/cats/cat_76.wav  \n",
            "  inflating: /content/sample_data/cats_dogs/test/cats/cat_79.wav  \n",
            "  inflating: /content/sample_data/cats_dogs/test/cats/cat_82.wav  \n",
            "  inflating: /content/sample_data/cats_dogs/test/cats/cat_85.wav  \n",
            "  inflating: /content/sample_data/cats_dogs/test/cats/cat_86.wav  \n",
            "  inflating: /content/sample_data/cats_dogs/test/cats/cat_88.wav  \n",
            "  inflating: /content/sample_data/cats_dogs/test/cats/cat_90.wav  \n",
            "  inflating: /content/sample_data/cats_dogs/test/test/dog_barking_112.wav  \n",
            "  inflating: /content/sample_data/cats_dogs/test/test/dog_barking_12.wav  \n",
            "  inflating: /content/sample_data/cats_dogs/test/test/dog_barking_15.wav  \n",
            "  inflating: /content/sample_data/cats_dogs/test/test/dog_barking_19.wav  \n",
            "  inflating: /content/sample_data/cats_dogs/test/test/dog_barking_24.wav  \n",
            "  inflating: /content/sample_data/cats_dogs/test/test/dog_barking_3.wav  \n",
            "  inflating: /content/sample_data/cats_dogs/test/test/dog_barking_34.wav  \n",
            "  inflating: /content/sample_data/cats_dogs/test/test/dog_barking_43.wav  \n",
            "  inflating: /content/sample_data/cats_dogs/test/test/dog_barking_44.wav  \n",
            "  inflating: /content/sample_data/cats_dogs/test/test/dog_barking_45.wav  \n",
            "  inflating: /content/sample_data/cats_dogs/test/test/dog_barking_46.wav  \n",
            "  inflating: /content/sample_data/cats_dogs/test/test/dog_barking_48.wav  \n",
            "  inflating: /content/sample_data/cats_dogs/test/test/dog_barking_49.wav  \n",
            "  inflating: /content/sample_data/cats_dogs/test/test/dog_barking_54.wav  \n",
            "  inflating: /content/sample_data/cats_dogs/test/test/dog_barking_59.wav  \n",
            "  inflating: /content/sample_data/cats_dogs/test/test/dog_barking_62.wav  \n",
            "  inflating: /content/sample_data/cats_dogs/test/test/dog_barking_64.wav  \n",
            "  inflating: /content/sample_data/cats_dogs/test/test/dog_barking_66.wav  \n",
            "  inflating: /content/sample_data/cats_dogs/test/test/dog_barking_7.wav  \n",
            "  inflating: /content/sample_data/cats_dogs/test/test/dog_barking_73.wav  \n",
            "  inflating: /content/sample_data/cats_dogs/test/test/dog_barking_78.wav  \n",
            "  inflating: /content/sample_data/cats_dogs/test/test/dog_barking_8.wav  \n",
            "  inflating: /content/sample_data/cats_dogs/test/test/dog_barking_82.wav  \n",
            "  inflating: /content/sample_data/cats_dogs/test/test/dog_barking_89.wav  \n",
            "  inflating: /content/sample_data/cats_dogs/test/test/dog_barking_9.wav  \n",
            "  inflating: /content/sample_data/cats_dogs/test/test/dog_barking_90.wav  \n",
            "  inflating: /content/sample_data/cats_dogs/test/test/dog_barking_91.wav  \n",
            "  inflating: /content/sample_data/cats_dogs/test/test/dog_barking_99.wav  \n",
            "  inflating: /content/sample_data/cats_dogs/train/cat/cat_1.wav  \n",
            "  inflating: /content/sample_data/cats_dogs/train/cat/cat_10.wav  \n",
            "  inflating: /content/sample_data/cats_dogs/train/cat/cat_100.wav  \n",
            "  inflating: /content/sample_data/cats_dogs/train/cat/cat_101.wav  \n",
            "  inflating: /content/sample_data/cats_dogs/train/cat/cat_102.wav  \n",
            "  inflating: /content/sample_data/cats_dogs/train/cat/cat_103.wav  \n",
            "  inflating: /content/sample_data/cats_dogs/train/cat/cat_105.wav  \n",
            "  inflating: /content/sample_data/cats_dogs/train/cat/cat_106.wav  \n",
            "  inflating: /content/sample_data/cats_dogs/train/cat/cat_107.wav  \n",
            "  inflating: /content/sample_data/cats_dogs/train/cat/cat_108.wav  \n",
            "  inflating: /content/sample_data/cats_dogs/train/cat/cat_109.wav  \n",
            "  inflating: /content/sample_data/cats_dogs/train/cat/cat_11.wav  \n",
            "  inflating: /content/sample_data/cats_dogs/train/cat/cat_113.wav  \n",
            "  inflating: /content/sample_data/cats_dogs/train/cat/cat_114.wav  \n",
            "  inflating: /content/sample_data/cats_dogs/train/cat/cat_116.wav  \n",
            "  inflating: /content/sample_data/cats_dogs/train/cat/cat_117.wav  \n",
            "  inflating: /content/sample_data/cats_dogs/train/cat/cat_118.wav  \n",
            "  inflating: /content/sample_data/cats_dogs/train/cat/cat_119.wav  \n",
            "  inflating: /content/sample_data/cats_dogs/train/cat/cat_12.wav  \n",
            "  inflating: /content/sample_data/cats_dogs/train/cat/cat_120.wav  \n",
            "  inflating: /content/sample_data/cats_dogs/train/cat/cat_121.wav  \n",
            "  inflating: /content/sample_data/cats_dogs/train/cat/cat_122.wav  \n",
            "  inflating: /content/sample_data/cats_dogs/train/cat/cat_123.wav  \n",
            "  inflating: /content/sample_data/cats_dogs/train/cat/cat_124.wav  \n",
            "  inflating: /content/sample_data/cats_dogs/train/cat/cat_125.wav  \n",
            "  inflating: /content/sample_data/cats_dogs/train/cat/cat_127.wav  \n",
            "  inflating: /content/sample_data/cats_dogs/train/cat/cat_128.wav  \n",
            "  inflating: /content/sample_data/cats_dogs/train/cat/cat_13.wav  \n",
            "  inflating: /content/sample_data/cats_dogs/train/cat/cat_131.wav  \n",
            "  inflating: /content/sample_data/cats_dogs/train/cat/cat_132.wav  \n",
            "  inflating: /content/sample_data/cats_dogs/train/cat/cat_134.wav  \n",
            "  inflating: /content/sample_data/cats_dogs/train/cat/cat_136.wav  \n",
            "  inflating: /content/sample_data/cats_dogs/train/cat/cat_138.wav  \n",
            "  inflating: /content/sample_data/cats_dogs/train/cat/cat_139.wav  \n",
            "  inflating: /content/sample_data/cats_dogs/train/cat/cat_140.wav  \n",
            "  inflating: /content/sample_data/cats_dogs/train/cat/cat_141.wav  \n",
            "  inflating: /content/sample_data/cats_dogs/train/cat/cat_142.wav  \n",
            "  inflating: /content/sample_data/cats_dogs/train/cat/cat_146.wav  \n",
            "  inflating: /content/sample_data/cats_dogs/train/cat/cat_147.wav  \n",
            "  inflating: /content/sample_data/cats_dogs/train/cat/cat_149.wav  \n",
            "  inflating: /content/sample_data/cats_dogs/train/cat/cat_15.wav  \n",
            "  inflating: /content/sample_data/cats_dogs/train/cat/cat_150.wav  \n",
            "  inflating: /content/sample_data/cats_dogs/train/cat/cat_151.wav  \n",
            "  inflating: /content/sample_data/cats_dogs/train/cat/cat_153.wav  \n",
            "  inflating: /content/sample_data/cats_dogs/train/cat/cat_154.wav  \n",
            "  inflating: /content/sample_data/cats_dogs/train/cat/cat_155.wav  \n",
            "  inflating: /content/sample_data/cats_dogs/train/cat/cat_156.wav  \n",
            "  inflating: /content/sample_data/cats_dogs/train/cat/cat_157.wav  \n",
            "  inflating: /content/sample_data/cats_dogs/train/cat/cat_159.wav  \n",
            "  inflating: /content/sample_data/cats_dogs/train/cat/cat_16.wav  \n",
            "  inflating: /content/sample_data/cats_dogs/train/cat/cat_160.wav  \n",
            "  inflating: /content/sample_data/cats_dogs/train/cat/cat_161.wav  \n",
            "  inflating: /content/sample_data/cats_dogs/train/cat/cat_162.wav  \n",
            "  inflating: /content/sample_data/cats_dogs/train/cat/cat_163.wav  \n",
            "  inflating: /content/sample_data/cats_dogs/train/cat/cat_164.wav  \n",
            "  inflating: /content/sample_data/cats_dogs/train/cat/cat_165.wav  \n",
            "  inflating: /content/sample_data/cats_dogs/train/cat/cat_166.wav  \n",
            "  inflating: /content/sample_data/cats_dogs/train/cat/cat_167.wav  \n",
            "  inflating: /content/sample_data/cats_dogs/train/cat/cat_18.wav  \n",
            "  inflating: /content/sample_data/cats_dogs/train/cat/cat_19.wav  \n",
            "  inflating: /content/sample_data/cats_dogs/train/cat/cat_2.wav  \n",
            "  inflating: /content/sample_data/cats_dogs/train/cat/cat_21.wav  \n",
            "  inflating: /content/sample_data/cats_dogs/train/cat/cat_22.wav  \n",
            "  inflating: /content/sample_data/cats_dogs/train/cat/cat_23.wav  \n",
            "  inflating: /content/sample_data/cats_dogs/train/cat/cat_25.wav  \n",
            "  inflating: /content/sample_data/cats_dogs/train/cat/cat_26.wav  \n",
            "  inflating: /content/sample_data/cats_dogs/train/cat/cat_27.wav  \n",
            "  inflating: /content/sample_data/cats_dogs/train/cat/cat_30.wav  \n",
            "  inflating: /content/sample_data/cats_dogs/train/cat/cat_31.wav  \n",
            "  inflating: /content/sample_data/cats_dogs/train/cat/cat_32.wav  \n",
            "  inflating: /content/sample_data/cats_dogs/train/cat/cat_33.wav  \n",
            "  inflating: /content/sample_data/cats_dogs/train/cat/cat_34.wav  \n",
            "  inflating: /content/sample_data/cats_dogs/train/cat/cat_35.wav  \n",
            "  inflating: /content/sample_data/cats_dogs/train/cat/cat_37.wav  \n",
            "  inflating: /content/sample_data/cats_dogs/train/cat/cat_38.wav  \n",
            "  inflating: /content/sample_data/cats_dogs/train/cat/cat_39.wav  \n",
            "  inflating: /content/sample_data/cats_dogs/train/cat/cat_4.wav  \n",
            "  inflating: /content/sample_data/cats_dogs/train/cat/cat_40.wav  \n",
            "  inflating: /content/sample_data/cats_dogs/train/cat/cat_41.wav  \n",
            "  inflating: /content/sample_data/cats_dogs/train/cat/cat_43.wav  \n",
            "  inflating: /content/sample_data/cats_dogs/train/cat/cat_44.wav  \n",
            "  inflating: /content/sample_data/cats_dogs/train/cat/cat_45.wav  \n",
            "  inflating: /content/sample_data/cats_dogs/train/cat/cat_46.wav  \n",
            "  inflating: /content/sample_data/cats_dogs/train/cat/cat_47.wav  \n",
            "  inflating: /content/sample_data/cats_dogs/train/cat/cat_48.wav  \n",
            "  inflating: /content/sample_data/cats_dogs/train/cat/cat_49.wav  \n",
            "  inflating: /content/sample_data/cats_dogs/train/cat/cat_5.wav  \n",
            "  inflating: /content/sample_data/cats_dogs/train/cat/cat_50.wav  \n",
            "  inflating: /content/sample_data/cats_dogs/train/cat/cat_51.wav  \n",
            "  inflating: /content/sample_data/cats_dogs/train/cat/cat_52.wav  \n",
            "  inflating: /content/sample_data/cats_dogs/train/cat/cat_53.wav  \n",
            "  inflating: /content/sample_data/cats_dogs/train/cat/cat_54.wav  \n",
            "  inflating: /content/sample_data/cats_dogs/train/cat/cat_6.wav  \n",
            "  inflating: /content/sample_data/cats_dogs/train/cat/cat_60.wav  \n",
            "  inflating: /content/sample_data/cats_dogs/train/cat/cat_62.wav  \n",
            "  inflating: /content/sample_data/cats_dogs/train/cat/cat_63.wav  \n",
            "  inflating: /content/sample_data/cats_dogs/train/cat/cat_64.wav  \n",
            "  inflating: /content/sample_data/cats_dogs/train/cat/cat_65.wav  \n",
            "  inflating: /content/sample_data/cats_dogs/train/cat/cat_68.wav  \n",
            "  inflating: /content/sample_data/cats_dogs/train/cat/cat_69.wav  \n",
            "  inflating: /content/sample_data/cats_dogs/train/cat/cat_7.wav  \n",
            "  inflating: /content/sample_data/cats_dogs/train/cat/cat_70.wav  \n",
            "  inflating: /content/sample_data/cats_dogs/train/cat/cat_71.wav  \n",
            "  inflating: /content/sample_data/cats_dogs/train/cat/cat_72.wav  \n",
            "  inflating: /content/sample_data/cats_dogs/train/cat/cat_73.wav  \n",
            "  inflating: /content/sample_data/cats_dogs/train/cat/cat_74.wav  \n",
            "  inflating: /content/sample_data/cats_dogs/train/cat/cat_77.wav  \n",
            "  inflating: /content/sample_data/cats_dogs/train/cat/cat_78.wav  \n",
            "  inflating: /content/sample_data/cats_dogs/train/cat/cat_8.wav  \n",
            "  inflating: /content/sample_data/cats_dogs/train/cat/cat_80.wav  \n",
            "  inflating: /content/sample_data/cats_dogs/train/cat/cat_81.wav  \n",
            "  inflating: /content/sample_data/cats_dogs/train/cat/cat_83.wav  \n",
            "  inflating: /content/sample_data/cats_dogs/train/cat/cat_84.wav  \n",
            "  inflating: /content/sample_data/cats_dogs/train/cat/cat_87.wav  \n",
            "  inflating: /content/sample_data/cats_dogs/train/cat/cat_89.wav  \n",
            "  inflating: /content/sample_data/cats_dogs/train/cat/cat_9.wav  \n",
            "  inflating: /content/sample_data/cats_dogs/train/cat/cat_91.wav  \n",
            "  inflating: /content/sample_data/cats_dogs/train/cat/cat_92.wav  \n",
            "  inflating: /content/sample_data/cats_dogs/train/cat/cat_93.wav  \n",
            "  inflating: /content/sample_data/cats_dogs/train/cat/cat_94.wav  \n",
            "  inflating: /content/sample_data/cats_dogs/train/cat/cat_95.wav  \n",
            "  inflating: /content/sample_data/cats_dogs/train/cat/cat_96.wav  \n",
            "  inflating: /content/sample_data/cats_dogs/train/cat/cat_97.wav  \n",
            "  inflating: /content/sample_data/cats_dogs/train/cat/cat_98.wav  \n",
            "  inflating: /content/sample_data/cats_dogs/train/cat/cat_99.wav  \n",
            "  inflating: /content/sample_data/cats_dogs/train/dog/dog_barking_0.wav  \n",
            "  inflating: /content/sample_data/cats_dogs/train/dog/dog_barking_1.wav  \n",
            "  inflating: /content/sample_data/cats_dogs/train/dog/dog_barking_10.wav  \n",
            "  inflating: /content/sample_data/cats_dogs/train/dog/dog_barking_100.wav  \n",
            "  inflating: /content/sample_data/cats_dogs/train/dog/dog_barking_101.wav  \n",
            "  inflating: /content/sample_data/cats_dogs/train/dog/dog_barking_102.wav  \n",
            "  inflating: /content/sample_data/cats_dogs/train/dog/dog_barking_103.wav  \n",
            "  inflating: /content/sample_data/cats_dogs/train/dog/dog_barking_104.wav  \n",
            "  inflating: /content/sample_data/cats_dogs/train/dog/dog_barking_105.wav  \n",
            "  inflating: /content/sample_data/cats_dogs/train/dog/dog_barking_106.wav  \n",
            "  inflating: /content/sample_data/cats_dogs/train/dog/dog_barking_107.wav  \n",
            "  inflating: /content/sample_data/cats_dogs/train/dog/dog_barking_108.wav  \n",
            "  inflating: /content/sample_data/cats_dogs/train/dog/dog_barking_109.wav  \n",
            "  inflating: /content/sample_data/cats_dogs/train/dog/dog_barking_11.wav  \n",
            "  inflating: /content/sample_data/cats_dogs/train/dog/dog_barking_110.wav  \n",
            "  inflating: /content/sample_data/cats_dogs/train/dog/dog_barking_111.wav  \n",
            "  inflating: /content/sample_data/cats_dogs/train/dog/dog_barking_13.wav  \n",
            "  inflating: /content/sample_data/cats_dogs/train/dog/dog_barking_14.wav  \n",
            "  inflating: /content/sample_data/cats_dogs/train/dog/dog_barking_16.wav  \n",
            "  inflating: /content/sample_data/cats_dogs/train/dog/dog_barking_17.wav  \n",
            "  inflating: /content/sample_data/cats_dogs/train/dog/dog_barking_18.wav  \n",
            "  inflating: /content/sample_data/cats_dogs/train/dog/dog_barking_2.wav  \n",
            "  inflating: /content/sample_data/cats_dogs/train/dog/dog_barking_20.wav  \n",
            "  inflating: /content/sample_data/cats_dogs/train/dog/dog_barking_21.wav  \n",
            "  inflating: /content/sample_data/cats_dogs/train/dog/dog_barking_22.wav  \n",
            "  inflating: /content/sample_data/cats_dogs/train/dog/dog_barking_23.wav  \n",
            "  inflating: /content/sample_data/cats_dogs/train/dog/dog_barking_25.wav  \n",
            "  inflating: /content/sample_data/cats_dogs/train/dog/dog_barking_26.wav  \n",
            "  inflating: /content/sample_data/cats_dogs/train/dog/dog_barking_27.wav  \n",
            "  inflating: /content/sample_data/cats_dogs/train/dog/dog_barking_28.wav  \n",
            "  inflating: /content/sample_data/cats_dogs/train/dog/dog_barking_29.wav  \n",
            "  inflating: /content/sample_data/cats_dogs/train/dog/dog_barking_30.wav  \n",
            "  inflating: /content/sample_data/cats_dogs/train/dog/dog_barking_31.wav  \n",
            "  inflating: /content/sample_data/cats_dogs/train/dog/dog_barking_32.wav  \n",
            "  inflating: /content/sample_data/cats_dogs/train/dog/dog_barking_33.wav  \n",
            "  inflating: /content/sample_data/cats_dogs/train/dog/dog_barking_35.wav  \n",
            "  inflating: /content/sample_data/cats_dogs/train/dog/dog_barking_36.wav  \n",
            "  inflating: /content/sample_data/cats_dogs/train/dog/dog_barking_37.wav  \n",
            "  inflating: /content/sample_data/cats_dogs/train/dog/dog_barking_38.wav  \n",
            "  inflating: /content/sample_data/cats_dogs/train/dog/dog_barking_39.wav  \n",
            "  inflating: /content/sample_data/cats_dogs/train/dog/dog_barking_4.wav  \n",
            "  inflating: /content/sample_data/cats_dogs/train/dog/dog_barking_40.wav  \n",
            "  inflating: /content/sample_data/cats_dogs/train/dog/dog_barking_41.wav  \n",
            "  inflating: /content/sample_data/cats_dogs/train/dog/dog_barking_42.wav  \n",
            "  inflating: /content/sample_data/cats_dogs/train/dog/dog_barking_47.wav  \n",
            "  inflating: /content/sample_data/cats_dogs/train/dog/dog_barking_5.wav  \n",
            "  inflating: /content/sample_data/cats_dogs/train/dog/dog_barking_50.wav  \n",
            "  inflating: /content/sample_data/cats_dogs/train/dog/dog_barking_51.wav  \n",
            "  inflating: /content/sample_data/cats_dogs/train/dog/dog_barking_52.wav  \n",
            "  inflating: /content/sample_data/cats_dogs/train/dog/dog_barking_53.wav  \n",
            "  inflating: /content/sample_data/cats_dogs/train/dog/dog_barking_55.wav  \n",
            "  inflating: /content/sample_data/cats_dogs/train/dog/dog_barking_56.wav  \n",
            "  inflating: /content/sample_data/cats_dogs/train/dog/dog_barking_57.wav  \n",
            "  inflating: /content/sample_data/cats_dogs/train/dog/dog_barking_58.wav  \n",
            "  inflating: /content/sample_data/cats_dogs/train/dog/dog_barking_6.wav  \n",
            "  inflating: /content/sample_data/cats_dogs/train/dog/dog_barking_60.wav  \n",
            "  inflating: /content/sample_data/cats_dogs/train/dog/dog_barking_61.wav  \n",
            "  inflating: /content/sample_data/cats_dogs/train/dog/dog_barking_63.wav  \n",
            "  inflating: /content/sample_data/cats_dogs/train/dog/dog_barking_65.wav  \n",
            "  inflating: /content/sample_data/cats_dogs/train/dog/dog_barking_67.wav  \n",
            "  inflating: /content/sample_data/cats_dogs/train/dog/dog_barking_68.wav  \n",
            "  inflating: /content/sample_data/cats_dogs/train/dog/dog_barking_69.wav  \n",
            "  inflating: /content/sample_data/cats_dogs/train/dog/dog_barking_70.wav  \n",
            "  inflating: /content/sample_data/cats_dogs/train/dog/dog_barking_71.wav  \n",
            "  inflating: /content/sample_data/cats_dogs/train/dog/dog_barking_72.wav  \n",
            "  inflating: /content/sample_data/cats_dogs/train/dog/dog_barking_74.wav  \n",
            "  inflating: /content/sample_data/cats_dogs/train/dog/dog_barking_75.wav  \n",
            "  inflating: /content/sample_data/cats_dogs/train/dog/dog_barking_76.wav  \n",
            "  inflating: /content/sample_data/cats_dogs/train/dog/dog_barking_77.wav  \n",
            "  inflating: /content/sample_data/cats_dogs/train/dog/dog_barking_79.wav  \n",
            "  inflating: /content/sample_data/cats_dogs/train/dog/dog_barking_80.wav  \n",
            "  inflating: /content/sample_data/cats_dogs/train/dog/dog_barking_81.wav  \n",
            "  inflating: /content/sample_data/cats_dogs/train/dog/dog_barking_83.wav  \n",
            "  inflating: /content/sample_data/cats_dogs/train/dog/dog_barking_84.wav  \n",
            "  inflating: /content/sample_data/cats_dogs/train/dog/dog_barking_85.wav  \n",
            "  inflating: /content/sample_data/cats_dogs/train/dog/dog_barking_86.wav  \n",
            "  inflating: /content/sample_data/cats_dogs/train/dog/dog_barking_87.wav  \n",
            "  inflating: /content/sample_data/cats_dogs/train/dog/dog_barking_88.wav  \n",
            "  inflating: /content/sample_data/cats_dogs/train/dog/dog_barking_92.wav  \n",
            "  inflating: /content/sample_data/cats_dogs/train/dog/dog_barking_93.wav  \n",
            "  inflating: /content/sample_data/cats_dogs/train/dog/dog_barking_94.wav  \n",
            "  inflating: /content/sample_data/cats_dogs/train/dog/dog_barking_95.wav  \n",
            "  inflating: /content/sample_data/cats_dogs/train/dog/dog_barking_96.wav  \n",
            "  inflating: /content/sample_data/cats_dogs/train/dog/dog_barking_97.wav  \n",
            "  inflating: /content/sample_data/cats_dogs/train/dog/dog_barking_98.wav  \n",
            "  inflating: /content/sample_data/train_test_split.csv  \n",
            "  inflating: /content/sample_data/utils.py  \n"
          ],
          "name": "stdout"
        }
      ]
    },
    {
      "cell_type": "code",
      "metadata": {
        "id": "TMs5Le61Qeay",
        "colab_type": "code",
        "outputId": "3fee3815-d87d-4a4a-d7d6-c9bda4ea39e3",
        "colab": {
          "base_uri": "https://localhost:8080/",
          "height": 34
        }
      },
      "source": [
        "from __future__ import absolute_import, division, print_function, unicode_literals\n",
        "from tensorflow.keras.layers import Dense, Conv2D, Flatten, Dropout, MaxPooling2D\n",
        "from tensorflow.keras.preprocessing.image import ImageDataGenerator\n",
        "from tensorflow.keras.models import Sequential\n",
        "from matplotlib.image import imread\n",
        "from tensorflow import keras\n",
        "import numpy as np # linear algebra\n",
        "import pandas as pd # data processing, CSV file I/O (e.g. pd.read_csv)\n",
        "import scipy\n",
        "import scipy.io.wavfile as wavfile\n",
        "import sklearn\n",
        "import sklearn.metrics\n",
        "import seaborn as sns\n",
        "import random\n",
        "import math\n",
        "import sklearn.utils\n",
        "import sklearn.metrics\n",
        "import matplotlib.pyplot as plt\n",
        "import glob\n",
        "import os\n",
        "import scipy\n",
        "import scipy.signal\n",
        "import tensorflow as tf\n",
        "from imblearn.over_sampling import RandomOverSampler\n",
        "import IPython\n",
        "\n",
        "print(tf.version.VERSION)\n"
      ],
      "execution_count": 98,
      "outputs": [
        {
          "output_type": "stream",
          "text": [
            "1.15.0\n"
          ],
          "name": "stdout"
        }
      ]
    },
    {
      "cell_type": "code",
      "metadata": {
        "id": "D-2unp2xQf3P",
        "colab_type": "code",
        "colab": {}
      },
      "source": [
        "WAVE_FOLDER = '/content/sample_data/cats_dogs'\n",
        "FRAMERATE = 16000\n",
        "MAX_WAV_SAMPLES = 20*FRAMERATE\n",
        "DOWNSAMPLING_SCALE = 1\n",
        "\n",
        "df = pd.read_csv(\"/content/sample_data/train_test_split.csv\")\n",
        "test_cat = df[['test_cat']].dropna().rename(index=str, columns={\"test_cat\": \"file\"}).assign(label=0)\n",
        "test_dog = df[['test_dog']].dropna().rename(index=str, columns={\"test_dog\": \"file\"}).assign(label=1)\n",
        "train_cat = df[['train_cat']].dropna().rename(index=str, columns={\"train_cat\": \"file\"}).assign(label=0)\n",
        "train_dog = df[['train_dog']].dropna().rename(index=str, columns={\"train_dog\": \"file\"}).assign(label=1)\n",
        "\n",
        "test_df = pd.concat([test_cat, test_dog]).reset_index(drop=True)\n",
        "train_df = pd.concat([train_cat, train_dog]).reset_index(drop=True)"
      ],
      "execution_count": 0,
      "outputs": []
    },
    {
      "cell_type": "markdown",
      "metadata": {
        "id": "Lyd96EDx6ls0",
        "colab_type": "text"
      },
      "source": [
        "**Fonction pour créer un spectrogramme, avec exemple :**\n"
      ]
    },
    {
      "cell_type": "code",
      "metadata": {
        "id": "XYiqLvL5Q6bl",
        "colab_type": "code",
        "outputId": "ae15df52-d5a9-464f-e627-3c4005d015d4",
        "colab": {
          "base_uri": "https://localhost:8080/",
          "height": 555
        }
      },
      "source": [
        "def plot_spectrogram(file):\n",
        "    x = wavfile.read(file)[1]\n",
        "    f, t, Sxx = scipy.signal.spectrogram(x)\n",
        "    plt.pcolormesh(t, f, Sxx)\n",
        "    plt.ylabel('Frequency [Hz]')\n",
        "    plt.xlabel('Time [sample]')\n",
        "\n",
        "\n",
        "plt.figure(figsize=(50,50))\n",
        "for i in range(0,2,2):\n",
        "    plt.subplot(5,2,i+1)\n",
        "    plot_spectrogram(os.path.join(WAVE_FOLDER, test_cat.iloc[i]['file']))\n",
        "    plt.subplot(5,2,i+2)\n",
        "    plot_spectrogram(os.path.join(WAVE_FOLDER, test_dog.iloc[i]['file']))"
      ],
      "execution_count": 0,
      "outputs": [
        {
          "output_type": "display_data",
          "data": {
            "image/png": "[encoded data removed]",
            "text/plain": [
              "<Figure size 3600x3600 with 2 Axes>"
            ]
          },
          "metadata": {
            "tags": []
          }
        }
      ]
    },
    {
      "cell_type": "markdown",
      "metadata": {
        "id": "jgA5_lDb7GrM",
        "colab_type": "text"
      },
      "source": [
        "**Fonction pour sauvegarder les spectres, de tous un dossier de son :**"
      ]
    },
    {
      "cell_type": "code",
      "metadata": {
        "id": "QohIHgvmmpiL",
        "colab_type": "code",
        "outputId": "3ad1344b-fdd4-4a7a-e2bc-30df35e54dd0",
        "colab": {
          "base_uri": "https://localhost:8080/",
          "height": 54
        }
      },
      "source": [
        "def save_all_spectro(base ,path) :\n",
        "  fig = plt.figure()\n",
        "  for i in range(len(base)) :\n",
        "    img = base.iloc[i][\"file\"][:-3] + \"png\"\n",
        "    plt.axis(\"off\")\n",
        "    plot_spectrogram(os.path.join(\"/content/sample_data/cats_dogs\", base.iloc[i][\"file\"]))\n",
        "    fig.savefig(path + img,bbox_inches='tight',transparent=True, pad_inches=0)\n",
        "    plt.clf()\n",
        "\"\"\"\n",
        "\n",
        "plt.axis('off')\n",
        "plot_spectrogram(os.path.join(WAVE_FOLDER, test_cat.iloc[0]['file']))\n",
        "fig.savefig(\"/content/drive/My Drive/dataStage/cat_spec_0.png\",bbox_inches='tight',transparent=True, pad_inches=0)\n",
        "plt.clf()\n",
        "plt.axis('off')\n",
        "plot_spectrogram(os.path.join(WAVE_FOLDER, test_dog.iloc[0]['file']))\n",
        "fig.savefig(\"/content/drive/My Drive/dataStage/dog_spec_0.png\",bbox_inches='tight',transparent=True, pad_inches=0)\"\"\"\n"
      ],
      "execution_count": 0,
      "outputs": [
        {
          "output_type": "execute_result",
          "data": {
            "text/plain": [
              "'\\n\\nplt.axis(\\'off\\')\\nplot_spectrogram(os.path.join(WAVE_FOLDER, test_cat.iloc[0][\\'file\\']))\\nfig.savefig(\"/content/drive/My Drive/dataStage/cat_spec_0.png\",bbox_inches=\\'tight\\',transparent=True, pad_inches=0)\\nplt.clf()\\nplt.axis(\\'off\\')\\nplot_spectrogram(os.path.join(WAVE_FOLDER, test_dog.iloc[0][\\'file\\']))\\nfig.savefig(\"/content/drive/My Drive/dataStage/dog_spec_0.png\",bbox_inches=\\'tight\\',transparent=True, pad_inches=0)'"
            ]
          },
          "metadata": {
            "tags": []
          },
          "execution_count": 50
        }
      ]
    },
    {
      "cell_type": "markdown",
      "metadata": {
        "id": "pBkPglIi8KAc",
        "colab_type": "text"
      },
      "source": [
        "**Création des fichiers contenant les spectres :**"
      ]
    },
    {
      "cell_type": "code",
      "metadata": {
        "id": "Pe3ue31wUeaw",
        "colab_type": "code",
        "colab": {}
      },
      "source": [
        "try :\n",
        "  os.makedirs(\"/content/sample_data/cats_dogs_spec\")\n",
        "  os.makedirs(\"/content/sample_data/cats_dogs_spec/test\")\n",
        "  os.makedirs(\"/content/sample_data/cats_dogs_spec/test/cats\")\n",
        "  os.makedirs(\"/content/sample_data/cats_dogs_spec/test/dogs\")\n",
        "  os.makedirs(\"/content/sample_data/cats_dogs_spec/train/cats\")\n",
        "  os.makedirs(\"/content/sample_data/cats_dogs_spec/train/dogs\")\n",
        "except OSError:\n",
        "  pass "
      ],
      "execution_count": 0,
      "outputs": []
    },
    {
      "cell_type": "markdown",
      "metadata": {
        "id": "DhXTNfMx9gCF",
        "colab_type": "text"
      },
      "source": [
        "**Sauvegarde des spectres :**"
      ]
    },
    {
      "cell_type": "code",
      "metadata": {
        "id": "ECI_9ULFaiVS",
        "colab_type": "code",
        "outputId": "36202cb6-2be3-4f05-daf5-70ab96a23411",
        "colab": {
          "base_uri": "https://localhost:8080/",
          "height": 85
        }
      },
      "source": [
        "save_all_spectro(train_cat, \"/content/sample_data/cats_dogs_spec/train/cats/\")\n",
        "save_all_spectro(train_dog, \"/content/sample_data/cats_dogs_spec/train/dogs/\")\n",
        "save_all_spectro(test_cat, \"/content/sample_data/cats_dogs_spec/test/cats/\")\n",
        "save_all_spectro(test_dog, \"/content/sample_data/cats_dogs_spec/test/dogs/\")"
      ],
      "execution_count": 0,
      "outputs": [
        {
          "output_type": "display_data",
          "data": {
            "text/plain": [
              "<Figure size 432x288 with 0 Axes>"
            ]
          },
          "metadata": {
            "tags": []
          }
        },
        {
          "output_type": "display_data",
          "data": {
            "text/plain": [
              "<Figure size 432x288 with 0 Axes>"
            ]
          },
          "metadata": {
            "tags": []
          }
        },
        {
          "output_type": "display_data",
          "data": {
            "text/plain": [
              "<Figure size 432x288 with 0 Axes>"
            ]
          },
          "metadata": {
            "tags": []
          }
        },
        {
          "output_type": "display_data",
          "data": {
            "text/plain": [
              "<Figure size 432x288 with 0 Axes>"
            ]
          },
          "metadata": {
            "tags": []
          }
        }
      ]
    },
    {
      "cell_type": "markdown",
      "metadata": {
        "id": "F2Zz4CVp93al",
        "colab_type": "text"
      },
      "source": [
        "**Partie qui servira à equilibre le nombre de cris de chats et de chiens**"
      ]
    },
    {
      "cell_type": "code",
      "metadata": {
        "id": "VU03wbCpSv8p",
        "colab_type": "code",
        "outputId": "d2de8a1f-1d7a-41c8-f284-67d3da2e0e0a",
        "colab": {
          "base_uri": "https://localhost:8080/",
          "height": 285
        }
      },
      "source": [
        "#Histogramme du nombre de cris par type d'animaux (chat, chien)\n",
        "train_df['label'].plot.hist(bins=2)"
      ],
      "execution_count": 0,
      "outputs": [
        {
          "output_type": "execute_result",
          "data": {
            "text/plain": [
              "<matplotlib.axes._subplots.AxesSubplot at 0x7f6422759b00>"
            ]
          },
          "metadata": {
            "tags": []
          },
          "execution_count": 10
        },
        {
          "output_type": "display_data",
          "data": {
            "image/png": "[encoded data removed]",
            "text/plain": [
              "<Figure size 432x288 with 1 Axes>"
            ]
          },
          "metadata": {
            "tags": []
          }
        }
      ]
    },
    {
      "cell_type": "code",
      "metadata": {
        "id": "OQVMiqVQTn4V",
        "colab_type": "code",
        "outputId": "6fe082b9-54bd-4410-9b03-be250efe53b9",
        "colab": {
          "base_uri": "https://localhost:8080/",
          "height": 71
        }
      },
      "source": [
        "#Equilibrage des nombres de cris dans train_files, train_labels\n",
        "random_oversampler = RandomOverSampler()\n",
        "idx = np.arange(0, len(train_df)).reshape(-1, 1)\n",
        "idx_sampled, _ = random_oversampler.fit_sample(idx, train_df['label'])\n",
        "train_files, train_labels = train_df.iloc[idx_sampled.flatten()]['file'].values, train_df.iloc[idx_sampled.flatten()]['label'].values\n",
        "train_files, train_labels = sklearn.utils.shuffle(train_files, train_labels)\n",
        "test_files, test_labels = test_df['file'].values, test_df['label'].values\n",
        "\n"
      ],
      "execution_count": 0,
      "outputs": [
        {
          "output_type": "stream",
          "text": [
            "/usr/local/lib/python3.6/dist-packages/sklearn/utils/deprecation.py:87: FutureWarning: Function safe_indexing is deprecated; safe_indexing is deprecated in version 0.22 and will be removed in version 0.24.\n",
            "  warnings.warn(msg, category=FutureWarning)\n"
          ],
          "name": "stderr"
        }
      ]
    },
    {
      "cell_type": "code",
      "metadata": {
        "id": "IG3ZsUpmcPyd",
        "colab_type": "code",
        "colab": {}
      },
      "source": [
        "train_files_spec = []\n",
        "test_files_spec = []\n",
        "for i in range(len(train_files)) :\n",
        "  train_files_spec.append(train_files[i].replace(\"wav\",\"png\"))\n",
        "for i in range(len(test_files)) :\n",
        "  test_files_spec.append(test_files[i].replace(\"wav\",\"png\"))\n"
      ],
      "execution_count": 0,
      "outputs": []
    },
    {
      "cell_type": "code",
      "metadata": {
        "id": "9wo_6gGEfLwX",
        "colab_type": "code",
        "outputId": "365d81da-778e-4d9e-d11e-03cc27a71a65",
        "colab": {
          "base_uri": "https://localhost:8080/",
          "height": 414
        }
      },
      "source": [
        "img = imread(\"/content/sample_data/cats_dogs_spec/train/cats/\" + train_files_spec[24])\n",
        "plt.figure(figsize=(10,10))\n",
        "plt.imshow(img)\n",
        "plt.show()"
      ],
      "execution_count": 0,
      "outputs": [
        {
          "output_type": "display_data",
          "data": {
            "image/png": "[encoded data removed]",
            "text/plain": [
              "<Figure size 720x720 with 1 Axes>"
            ]
          },
          "metadata": {
            "tags": []
          }
        }
      ]
    },
    {
      "cell_type": "code",
      "metadata": {
        "id": "6ZtB3rDolC4f",
        "colab_type": "code",
        "colab": {}
      },
      "source": [
        "for i in range(len(train_files_spec)) :\n",
        "  if \"dog\" in train_files_spec[i] :\n",
        "    train_files_spec[i] = imread(\"/content/sample_data/cats_dogs_spec/train/dogs/\" + train_files_spec[i])\n",
        "  else :\n",
        "    train_files_spec[i] = imread(\"/content/sample_data/cats_dogs_spec/train/cats/\" + train_files_spec[i])\n",
        "\n",
        "  \n",
        "\n",
        "for i in range(len(test_files_spec)) :\n",
        "  if \"cat\" in test_files_spec[i] :\n",
        "    test_files_spec[i] = imread(\"/content/sample_data/cats_dogs_spec/test/cats/\" + test_files_spec[i])\n",
        "  else :\n",
        "    test_files_spec[i] = imread(\"/content/sample_data/cats_dogs_spec/test/dogs/\" + test_files_spec[i])"
      ],
      "execution_count": 0,
      "outputs": []
    },
    {
      "cell_type": "code",
      "metadata": {
        "id": "gEDyn7Uiqb_-",
        "colab_type": "code",
        "outputId": "808a7fde-b2d6-4047-82da-ccbb216064ba",
        "colab": {
          "base_uri": "https://localhost:8080/",
          "height": 68
        }
      },
      "source": [
        "train_files_spec = np.asarray(train_files_spec)\n",
        "print(train_files_spec.shape)\n",
        "test_files_spec = np.asarray(test_files_spec)\n",
        "print(test_files_spec.shape)\n",
        "train_files_spec = train_files_spec/255.0\n",
        "test_files_spec = test_files_spec/255.0\n"
      ],
      "execution_count": 0,
      "outputs": [
        {
          "output_type": "stream",
          "text": [
            "(230, 217, 334, 4)\n",
            "(98, 217, 334, 4)\n",
            "(230, 217, 334, 4)\n"
          ],
          "name": "stdout"
        }
      ]
    },
    {
      "cell_type": "code",
      "metadata": {
        "id": "cbDVt30zUald",
        "colab_type": "code",
        "outputId": "c073fb74-8232-4d69-b6f2-26669847264c",
        "colab": {
          "base_uri": "https://localhost:8080/",
          "height": 268
        }
      },
      "source": [
        "#Historigramme après équilibrage\n",
        "pd.Series(train_labels).plot.hist(bins=2);"
      ],
      "execution_count": 0,
      "outputs": [
        {
          "output_type": "display_data",
          "data": {
            "image/png": "[encoded data removed]",
            "text/plain": [
              "<Figure size 432x288 with 1 Axes>"
            ]
          },
          "metadata": {
            "tags": []
          }
        }
      ]
    },
    {
      "cell_type": "markdown",
      "metadata": {
        "id": "VN3-ONIW-Fa0",
        "colab_type": "text"
      },
      "source": [
        "**Générateur qui seront utiliser sur le model**"
      ]
    },
    {
      "cell_type": "code",
      "metadata": {
        "id": "xw-49Be5W-Al",
        "colab_type": "code",
        "colab": {}
      },
      "source": [
        "#Génére des batch, et des labels pour l'apprentissage\n",
        "def fit_generator(train_files, train_labels, wavs_per_batch=20, augments=5):\n",
        "    while True:\n",
        "        maxidx = len(train_files)\n",
        "        for i in range(0, maxidx, wavs_per_batch):\n",
        "            waves_batch = []\n",
        "            labels_batch = []\n",
        "            for j in range(i, min(maxidx, i+wavs_per_batch)):\n",
        "                file, label = train_files[j], train_labels[j]\n",
        "                wave_raw = wavfile.read(os.path.join(WAVE_FOLDER, file))[1]\n",
        "                wave_raw = wave_raw/np.std(wave_raw)\n",
        "                length = len(wave_raw)\n",
        "                waves_batch.append(np.pad(wave_raw, pad_width=((0, MAX_WAV_SAMPLES - length)), mode='wrap'))\n",
        "                labels_batch.append(label)\n",
        "                for _ in range(augments):\n",
        "                    wave_rotated = np.roll(wave_raw, random.randint(0, length))\n",
        "                    while random.choice([True, False]):\n",
        "                        wave_rotated += np.roll(wave_raw, random.randint(0, length))\n",
        "                    wave = np.pad(wave_rotated, pad_width=((0, MAX_WAV_SAMPLES - length)), mode='wrap')\n",
        "                    #wave = scipy.signal.decimate(wave, DOWNSAMPLING_SCALE)\n",
        "                    waves_batch.append(wave)\n",
        "                    labels_batch.append(label)\n",
        "            yield np.array(waves_batch), np.array(labels_batch)\n",
        "\n"
      ],
      "execution_count": 0,
      "outputs": []
    },
    {
      "cell_type": "code",
      "metadata": {
        "id": "-fEPNDf1Z9zg",
        "colab_type": "code",
        "colab": {}
      },
      "source": [
        "#Génére des batch, et des labels pour la validation\n",
        "def validate_generator(test_files, test_labels, wavs_per_batch=20):\n",
        "    while True:\n",
        "        maxidx = len(test_files)\n",
        "        for i in range(0, maxidx, wavs_per_batch):\n",
        "            waves_batch = []\n",
        "            labels_batch = []\n",
        "            for j in range(i, min(maxidx, i+wavs_per_batch)):\n",
        "                file, label = test_files[j], test_labels[j]\n",
        "                wave_raw = wavfile.read(os.path.join(WAVE_FOLDER, file))[1]\n",
        "                wave_raw = wave_raw/np.std(wave_raw)\n",
        "                length = len(wave_raw)\n",
        "                left = 0\n",
        "                right = MAX_WAV_SAMPLES - left - length\n",
        "                wave = np.pad(wave_raw, pad_width=((left, right)), mode='wrap')\n",
        "                #wave = scipy.signal.decimate(wave, DOWNSAMPLING_SCALE)\n",
        "                waves_batch.append(wave)\n",
        "                labels_batch.append(label)\n",
        "            yield np.array(waves_batch), np.array(labels_batch)"
      ],
      "execution_count": 0,
      "outputs": []
    },
    {
      "cell_type": "code",
      "metadata": {
        "id": "V9xH3m7zbH2V",
        "colab_type": "code",
        "colab": {}
      },
      "source": [
        "def steps_per_epoch(wavs_per_epoch, wavs_per_batch):\n",
        "    return int(math.ceil(wavs_per_epoch/wavs_per_batch))"
      ],
      "execution_count": 0,
      "outputs": []
    },
    {
      "cell_type": "code",
      "metadata": {
        "id": "7U-doLlmMxaL",
        "colab_type": "code",
        "outputId": "285d56f0-7b0d-4942-92dc-3049278d3fe6",
        "colab": {
          "base_uri": "https://localhost:8080/",
          "height": 34
        }
      },
      "source": [
        "checkpoint_path = \"/content/drive/My Drive/savemodel/Model15chk/cp-{epoch:04d}\"\n",
        "checkpoint_dir = os.path.dirname(checkpoint_path)\n",
        "\n",
        "cp_callback = tf.keras.callbacks.ModelCheckpoint(filepath=checkpoint_path,\n",
        "                                                 save_weights_only=True,\n",
        "                                                 verbose=1)\n",
        "\n",
        "print(checkpoint_dir)"
      ],
      "execution_count": 0,
      "outputs": [
        {
          "output_type": "stream",
          "text": [
            "/content/drive/My Drive/savemodel/Model15chk\n"
          ],
          "name": "stdout"
        }
      ]
    },
    {
      "cell_type": "code",
      "metadata": {
        "id": "mW0MlKAGb-UL",
        "colab_type": "code",
        "outputId": "7bd52b6b-392b-4ac5-c6fe-9502d91a4400",
        "colab": {
          "base_uri": "https://localhost:8080/",
          "height": 88
        }
      },
      "source": [
        "#Création du model\n",
        "def create_model() :\n",
        "  model = tf.keras.models.Sequential()\n",
        "  model.add(tf.keras.layers.Reshape((MAX_WAV_SAMPLES//DOWNSAMPLING_SCALE,1), input_shape=(MAX_WAV_SAMPLES//DOWNSAMPLING_SCALE,)))\n",
        "  for i in range(14):\n",
        "    model.add(tf.keras.layers.Conv1D(32, kernel_size=5, \n",
        "                                     padding='same',\n",
        "                                     activation='relu',\n",
        "                                     kernel_initializer=tf.keras.initializers.Orthogonal(),\n",
        "                                     ))\n",
        "    model.add(tf.keras.layers.MaxPooling1D(pool_size=3, strides=2))\n",
        "    model.add(tf.keras.layers.BatchNormalization())\n",
        "  model.add(tf.keras.layers.Flatten())\n",
        "  model.add(tf.keras.layers.BatchNormalization())\n",
        "  model.add(tf.keras.layers.Dense(2, activation='softmax'))\n",
        "  \n",
        "  model.compile(optimizer=tf.keras.optimizers.Adam(0.0005),\n",
        "                loss=tf.keras.losses.sparse_categorical_crossentropy,\n",
        "                metrics=['accuracy'])\n",
        "  return model\n",
        "  \n",
        "model = create_model()"
      ],
      "execution_count": 0,
      "outputs": [
        {
          "output_type": "stream",
          "text": [
            "WARNING:tensorflow:From /usr/local/lib/python3.6/dist-packages/tensorflow_core/python/ops/resource_variable_ops.py:1630: calling BaseResourceVariable.__init__ (from tensorflow.python.ops.resource_variable_ops) with constraint is deprecated and will be removed in a future version.\n",
            "Instructions for updating:\n",
            "If using Keras pass *_constraint arguments to layers.\n"
          ],
          "name": "stdout"
        }
      ]
    },
    {
      "cell_type": "code",
      "metadata": {
        "id": "A3ZJVwsAwmDV",
        "colab_type": "code",
        "colab": {
          "base_uri": "https://localhost:8080/",
          "height": 88
        },
        "outputId": "f0e87a7d-7d6b-46c0-e6e4-32d0fbb24248"
      },
      "source": [
        "def create_model_spec() :\n",
        "  model = Sequential([\n",
        "    Conv2D(16, 3, padding='same', activation='relu', input_shape=(217, 334 ,4)),\n",
        "    MaxPooling2D(),\n",
        "    Conv2D(32, 3, padding='same', activation='relu'),\n",
        "    MaxPooling2D(),\n",
        "    Conv2D(64, 3, padding='same', activation='relu'),\n",
        "    MaxPooling2D(),\n",
        "    Flatten(),\n",
        "    Dense(512, activation='relu'),\n",
        "    Dense(1, activation='sigmoid')\n",
        "])\n",
        "  return model\n",
        "\n",
        "model2 = create_model_spec()\n",
        "\n",
        "model2.compile(optimizer='adam',\n",
        "              loss='binary_crossentropy',\n",
        "              metrics=['accuracy'])"
      ],
      "execution_count": 97,
      "outputs": [
        {
          "output_type": "stream",
          "text": [
            "WARNING:tensorflow:From /usr/local/lib/python3.6/dist-packages/tensorflow_core/python/ops/nn_impl.py:183: where (from tensorflow.python.ops.array_ops) is deprecated and will be removed in a future version.\n",
            "Instructions for updating:\n",
            "Use tf.where in 2.0, which has the same broadcast rule as np.where\n"
          ],
          "name": "stdout"
        }
      ]
    },
    {
      "cell_type": "code",
      "metadata": {
        "id": "lh6gnGb0Ztii",
        "colab_type": "code",
        "colab": {}
      },
      "source": [
        "WAVS_PER_BATCH = 3\n",
        "AUGMENTS = 10\n",
        "EPOCHS=15"
      ],
      "execution_count": 0,
      "outputs": []
    },
    {
      "cell_type": "code",
      "metadata": {
        "id": "Jn8huuX6_mRS",
        "colab_type": "code",
        "colab": {}
      },
      "source": [
        "batch_size = 20\n",
        "epochs = 15\n",
        "IMG_HEIGHT = 217\n",
        "IMG_WIDTH = 334\n",
        "total_train = 230\n",
        "total_val = 98"
      ],
      "execution_count": 0,
      "outputs": []
    },
    {
      "cell_type": "code",
      "metadata": {
        "id": "JL7PjwS7AO_u",
        "colab_type": "code",
        "colab": {}
      },
      "source": [
        "train_image_generator = ImageDataGenerator(rescale=1./255) # Generator for our training data\n",
        "validation_image_generator = ImageDataGenerator(rescale=1./255) # Generator for our validation data"
      ],
      "execution_count": 0,
      "outputs": []
    },
    {
      "cell_type": "code",
      "metadata": {
        "id": "vbZ13cj8AXdo",
        "colab_type": "code",
        "colab": {
          "base_uri": "https://localhost:8080/",
          "height": 34
        },
        "outputId": "edf6d9cc-2870-4eb4-db33-5bf5e67df6fb"
      },
      "source": [
        "train_data_gen = train_image_generator.flow_from_directory(batch_size=batch_size,\n",
        "                                                           directory=\"/content/sample_data/cats_dogs_spec/train\",\n",
        "                                                           shuffle=True,\n",
        "                                                           target_size=(IMG_HEIGHT, IMG_WIDTH),\n",
        "                                                           class_mode='binary')\n",
        "\n"
      ],
      "execution_count": 112,
      "outputs": [
        {
          "output_type": "stream",
          "text": [
            "Found 179 images belonging to 2 classes.\n"
          ],
          "name": "stdout"
        }
      ]
    },
    {
      "cell_type": "code",
      "metadata": {
        "id": "GUbpproKAvSk",
        "colab_type": "code",
        "colab": {
          "base_uri": "https://localhost:8080/",
          "height": 34
        },
        "outputId": "12e06886-a931-47bd-d5f9-bf8494f0b742"
      },
      "source": [
        "val_data_gen = validation_image_generator.flow_from_directory(batch_size=batch_size,\n",
        "                                                              directory=\"/content/sample_data/cats_dogs_spec/test\",\n",
        "                                                              target_size=(IMG_HEIGHT, IMG_WIDTH),\n",
        "                                                              class_mode='binary')"
      ],
      "execution_count": 113,
      "outputs": [
        {
          "output_type": "stream",
          "text": [
            "Found 98 images belonging to 2 classes.\n"
          ],
          "name": "stdout"
        }
      ]
    },
    {
      "cell_type": "code",
      "metadata": {
        "id": "y8hq0VdtBHyo",
        "colab_type": "code",
        "colab": {
          "base_uri": "https://localhost:8080/",
          "height": 394
        },
        "outputId": "b98e96d7-ebf0-4bf6-e2b1-8172ecb02caf"
      },
      "source": [
        "history = model.fit_generator(\n",
        "    train_data_gen,\n",
        "    steps_per_epoch=total_train // batch_size,\n",
        "    epochs=epochs,\n",
        "    validation_data=val_data_gen,\n",
        "    validation_steps=total_val // batch_size\n",
        ")"
      ],
      "execution_count": 114,
      "outputs": [
        {
          "output_type": "stream",
          "text": [
            "Epoch 1/15\n"
          ],
          "name": "stdout"
        },
        {
          "output_type": "error",
          "ename": "ValueError",
          "evalue": "ignored",
          "traceback": [
            "\u001b[0;31m---------------------------------------------------------------------------\u001b[0m",
            "\u001b[0;31mValueError\u001b[0m                                Traceback (most recent call last)",
            "\u001b[0;32m<ipython-input-114-01c6f78f4d4f>\u001b[0m in \u001b[0;36m<module>\u001b[0;34m()\u001b[0m\n\u001b[1;32m      4\u001b[0m     \u001b[0mepochs\u001b[0m\u001b[0;34m=\u001b[0m\u001b[0mepochs\u001b[0m\u001b[0;34m,\u001b[0m\u001b[0;34m\u001b[0m\u001b[0;34m\u001b[0m\u001b[0m\n\u001b[1;32m      5\u001b[0m     \u001b[0mvalidation_data\u001b[0m\u001b[0;34m=\u001b[0m\u001b[0mval_data_gen\u001b[0m\u001b[0;34m,\u001b[0m\u001b[0;34m\u001b[0m\u001b[0;34m\u001b[0m\u001b[0m\n\u001b[0;32m----> 6\u001b[0;31m     \u001b[0mvalidation_steps\u001b[0m\u001b[0;34m=\u001b[0m\u001b[0mtotal_val\u001b[0m \u001b[0;34m//\u001b[0m \u001b[0mbatch_size\u001b[0m\u001b[0;34m\u001b[0m\u001b[0;34m\u001b[0m\u001b[0m\n\u001b[0m\u001b[1;32m      7\u001b[0m )\n",
            "\u001b[0;32m/usr/local/lib/python3.6/dist-packages/tensorflow_core/python/keras/engine/training.py\u001b[0m in \u001b[0;36mfit_generator\u001b[0;34m(self, generator, steps_per_epoch, epochs, verbose, callbacks, validation_data, validation_steps, validation_freq, class_weight, max_queue_size, workers, use_multiprocessing, shuffle, initial_epoch)\u001b[0m\n\u001b[1;32m   1294\u001b[0m         \u001b[0mshuffle\u001b[0m\u001b[0;34m=\u001b[0m\u001b[0mshuffle\u001b[0m\u001b[0;34m,\u001b[0m\u001b[0;34m\u001b[0m\u001b[0;34m\u001b[0m\u001b[0m\n\u001b[1;32m   1295\u001b[0m         \u001b[0minitial_epoch\u001b[0m\u001b[0;34m=\u001b[0m\u001b[0minitial_epoch\u001b[0m\u001b[0;34m,\u001b[0m\u001b[0;34m\u001b[0m\u001b[0;34m\u001b[0m\u001b[0m\n\u001b[0;32m-> 1296\u001b[0;31m         steps_name='steps_per_epoch')\n\u001b[0m\u001b[1;32m   1297\u001b[0m \u001b[0;34m\u001b[0m\u001b[0m\n\u001b[1;32m   1298\u001b[0m   def evaluate_generator(self,\n",
            "\u001b[0;32m/usr/local/lib/python3.6/dist-packages/tensorflow_core/python/keras/engine/training_generator.py\u001b[0m in \u001b[0;36mmodel_iteration\u001b[0;34m(model, data, steps_per_epoch, epochs, verbose, callbacks, validation_data, validation_steps, validation_freq, class_weight, max_queue_size, workers, use_multiprocessing, shuffle, initial_epoch, mode, batch_size, steps_name, **kwargs)\u001b[0m\n\u001b[1;32m    263\u001b[0m \u001b[0;34m\u001b[0m\u001b[0m\n\u001b[1;32m    264\u001b[0m       \u001b[0mis_deferred\u001b[0m \u001b[0;34m=\u001b[0m \u001b[0;32mnot\u001b[0m \u001b[0mmodel\u001b[0m\u001b[0;34m.\u001b[0m\u001b[0m_is_compiled\u001b[0m\u001b[0;34m\u001b[0m\u001b[0;34m\u001b[0m\u001b[0m\n\u001b[0;32m--> 265\u001b[0;31m       \u001b[0mbatch_outs\u001b[0m \u001b[0;34m=\u001b[0m \u001b[0mbatch_function\u001b[0m\u001b[0;34m(\u001b[0m\u001b[0;34m*\u001b[0m\u001b[0mbatch_data\u001b[0m\u001b[0;34m)\u001b[0m\u001b[0;34m\u001b[0m\u001b[0;34m\u001b[0m\u001b[0m\n\u001b[0m\u001b[1;32m    266\u001b[0m       \u001b[0;32mif\u001b[0m \u001b[0;32mnot\u001b[0m \u001b[0misinstance\u001b[0m\u001b[0;34m(\u001b[0m\u001b[0mbatch_outs\u001b[0m\u001b[0;34m,\u001b[0m \u001b[0mlist\u001b[0m\u001b[0;34m)\u001b[0m\u001b[0;34m:\u001b[0m\u001b[0;34m\u001b[0m\u001b[0;34m\u001b[0m\u001b[0m\n\u001b[1;32m    267\u001b[0m         \u001b[0mbatch_outs\u001b[0m \u001b[0;34m=\u001b[0m \u001b[0;34m[\u001b[0m\u001b[0mbatch_outs\u001b[0m\u001b[0;34m]\u001b[0m\u001b[0;34m\u001b[0m\u001b[0;34m\u001b[0m\u001b[0m\n",
            "\u001b[0;32m/usr/local/lib/python3.6/dist-packages/tensorflow_core/python/keras/engine/training.py\u001b[0m in \u001b[0;36mtrain_on_batch\u001b[0;34m(self, x, y, sample_weight, class_weight, reset_metrics)\u001b[0m\n\u001b[1;32m    989\u001b[0m     x, y, sample_weights = self._standardize_user_data(\n\u001b[1;32m    990\u001b[0m         \u001b[0mx\u001b[0m\u001b[0;34m,\u001b[0m \u001b[0my\u001b[0m\u001b[0;34m,\u001b[0m \u001b[0msample_weight\u001b[0m\u001b[0;34m=\u001b[0m\u001b[0msample_weight\u001b[0m\u001b[0;34m,\u001b[0m \u001b[0mclass_weight\u001b[0m\u001b[0;34m=\u001b[0m\u001b[0mclass_weight\u001b[0m\u001b[0;34m,\u001b[0m\u001b[0;34m\u001b[0m\u001b[0;34m\u001b[0m\u001b[0m\n\u001b[0;32m--> 991\u001b[0;31m         extract_tensors_from_dataset=True)\n\u001b[0m\u001b[1;32m    992\u001b[0m \u001b[0;34m\u001b[0m\u001b[0m\n\u001b[1;32m    993\u001b[0m     \u001b[0;31m# If `self._distribution_strategy` is True, then we are in a replica context\u001b[0m\u001b[0;34m\u001b[0m\u001b[0;34m\u001b[0m\u001b[0;34m\u001b[0m\u001b[0m\n",
            "\u001b[0;32m/usr/local/lib/python3.6/dist-packages/tensorflow_core/python/keras/engine/training.py\u001b[0m in \u001b[0;36m_standardize_user_data\u001b[0;34m(self, x, y, sample_weight, class_weight, batch_size, check_steps, steps_name, steps, validation_split, shuffle, extract_tensors_from_dataset)\u001b[0m\n\u001b[1;32m   2469\u001b[0m           \u001b[0mfeed_input_shapes\u001b[0m\u001b[0;34m,\u001b[0m\u001b[0;34m\u001b[0m\u001b[0;34m\u001b[0m\u001b[0m\n\u001b[1;32m   2470\u001b[0m           \u001b[0mcheck_batch_axis\u001b[0m\u001b[0;34m=\u001b[0m\u001b[0;32mFalse\u001b[0m\u001b[0;34m,\u001b[0m  \u001b[0;31m# Don't enforce the batch size.\u001b[0m\u001b[0;34m\u001b[0m\u001b[0;34m\u001b[0m\u001b[0m\n\u001b[0;32m-> 2471\u001b[0;31m           exception_prefix='input')\n\u001b[0m\u001b[1;32m   2472\u001b[0m \u001b[0;34m\u001b[0m\u001b[0m\n\u001b[1;32m   2473\u001b[0m     \u001b[0;31m# Get typespecs for the input data and sanitize it if necessary.\u001b[0m\u001b[0;34m\u001b[0m\u001b[0;34m\u001b[0m\u001b[0;34m\u001b[0m\u001b[0m\n",
            "\u001b[0;32m/usr/local/lib/python3.6/dist-packages/tensorflow_core/python/keras/engine/training_utils.py\u001b[0m in \u001b[0;36mstandardize_input_data\u001b[0;34m(data, names, shapes, check_batch_axis, exception_prefix)\u001b[0m\n\u001b[1;32m    561\u001b[0m                            \u001b[0;34m': expected '\u001b[0m \u001b[0;34m+\u001b[0m \u001b[0mnames\u001b[0m\u001b[0;34m[\u001b[0m\u001b[0mi\u001b[0m\u001b[0;34m]\u001b[0m \u001b[0;34m+\u001b[0m \u001b[0;34m' to have '\u001b[0m \u001b[0;34m+\u001b[0m\u001b[0;34m\u001b[0m\u001b[0;34m\u001b[0m\u001b[0m\n\u001b[1;32m    562\u001b[0m                            \u001b[0mstr\u001b[0m\u001b[0;34m(\u001b[0m\u001b[0mlen\u001b[0m\u001b[0;34m(\u001b[0m\u001b[0mshape\u001b[0m\u001b[0;34m)\u001b[0m\u001b[0;34m)\u001b[0m \u001b[0;34m+\u001b[0m \u001b[0;34m' dimensions, but got array '\u001b[0m\u001b[0;34m\u001b[0m\u001b[0;34m\u001b[0m\u001b[0m\n\u001b[0;32m--> 563\u001b[0;31m                            'with shape ' + str(data_shape))\n\u001b[0m\u001b[1;32m    564\u001b[0m         \u001b[0;32mif\u001b[0m \u001b[0;32mnot\u001b[0m \u001b[0mcheck_batch_axis\u001b[0m\u001b[0;34m:\u001b[0m\u001b[0;34m\u001b[0m\u001b[0;34m\u001b[0m\u001b[0m\n\u001b[1;32m    565\u001b[0m           \u001b[0mdata_shape\u001b[0m \u001b[0;34m=\u001b[0m \u001b[0mdata_shape\u001b[0m\u001b[0;34m[\u001b[0m\u001b[0;36m1\u001b[0m\u001b[0;34m:\u001b[0m\u001b[0;34m]\u001b[0m\u001b[0;34m\u001b[0m\u001b[0;34m\u001b[0m\u001b[0m\n",
            "\u001b[0;31mValueError\u001b[0m: Error when checking input: expected reshape_input to have 2 dimensions, but got array with shape (19, 217, 334, 3)"
          ]
        }
      ]
    },
    {
      "cell_type": "code",
      "metadata": {
        "id": "du7iAeo9d9uJ",
        "colab_type": "code",
        "outputId": "5ebabea3-c7b8-4841-8ae0-622e3c974ea2",
        "colab": {
          "base_uri": "https://localhost:8080/",
          "height": 1000
        }
      },
      "source": [
        "#Apprentissage\n",
        "\n",
        "model.save_weights(checkpoint_path.format(epoch=0))\n",
        "model.fit_generator(fit_generator(train_files, train_labels, WAVS_PER_BATCH, AUGMENTS),\n",
        "                    steps_per_epoch=steps_per_epoch(len(train_files), WAVS_PER_BATCH),\n",
        "                    epochs = EPOCHS,\n",
        "                    validation_data=validate_generator(test_files, test_labels, WAVS_PER_BATCH),\n",
        "                    validation_steps=steps_per_epoch(len(test_files), WAVS_PER_BATCH),\n",
        "                    callbacks = [cp_callback],\n",
        "                    verbose=2)"
      ],
      "execution_count": 0,
      "outputs": [
        {
          "output_type": "stream",
          "text": [
            "Epoch 1/15\n",
            "Epoch 1/15\n",
            "\n",
            "Epoch 00001: saving model to /content/drive/My Drive/savemodel/Model15chk/cp-0001\n",
            "77/77 - 39s - loss: 0.7455 - acc: 0.6763 - val_loss: 0.7020 - val_acc: 0.5000\n",
            "Epoch 2/15\n",
            "Epoch 1/15\n",
            "\n",
            "Epoch 00002: saving model to /content/drive/My Drive/savemodel/Model15chk/cp-0002\n",
            "77/77 - 30s - loss: 0.6178 - acc: 0.7170 - val_loss: 0.6319 - val_acc: 0.5510\n",
            "Epoch 3/15\n",
            "Epoch 1/15\n",
            "\n",
            "Epoch 00003: saving model to /content/drive/My Drive/savemodel/Model15chk/cp-0003\n",
            "77/77 - 30s - loss: 0.5239 - acc: 0.7636 - val_loss: 0.3632 - val_acc: 0.8673\n",
            "Epoch 4/15\n",
            "Epoch 1/15\n",
            "\n",
            "Epoch 00004: saving model to /content/drive/My Drive/savemodel/Model15chk/cp-0004\n",
            "77/77 - 30s - loss: 0.4932 - acc: 0.7818 - val_loss: 0.2810 - val_acc: 0.9286\n",
            "Epoch 5/15\n",
            "Epoch 1/15\n",
            "\n",
            "Epoch 00005: saving model to /content/drive/My Drive/savemodel/Model15chk/cp-0005\n",
            "77/77 - 30s - loss: 0.4485 - acc: 0.7980 - val_loss: 0.2195 - val_acc: 0.9388\n",
            "Epoch 6/15\n",
            "Epoch 1/15\n",
            "\n",
            "Epoch 00006: saving model to /content/drive/My Drive/savemodel/Model15chk/cp-0006\n",
            "77/77 - 30s - loss: 0.4111 - acc: 0.8115 - val_loss: 0.2001 - val_acc: 0.9388\n",
            "Epoch 7/15\n",
            "Epoch 1/15\n",
            "\n",
            "Epoch 00007: saving model to /content/drive/My Drive/savemodel/Model15chk/cp-0007\n",
            "77/77 - 30s - loss: 0.4056 - acc: 0.8285 - val_loss: 0.2098 - val_acc: 0.9184\n",
            "Epoch 8/15\n",
            "Epoch 1/15\n",
            "\n",
            "Epoch 00008: saving model to /content/drive/My Drive/savemodel/Model15chk/cp-0008\n",
            "77/77 - 30s - loss: 0.3922 - acc: 0.8332 - val_loss: 0.1416 - val_acc: 0.9490\n",
            "Epoch 9/15\n",
            "Epoch 1/15\n",
            "\n",
            "Epoch 00009: saving model to /content/drive/My Drive/savemodel/Model15chk/cp-0009\n",
            "77/77 - 30s - loss: 0.3535 - acc: 0.8372 - val_loss: 0.1879 - val_acc: 0.9388\n",
            "Epoch 10/15\n",
            "Epoch 1/15\n",
            "\n",
            "Epoch 00010: saving model to /content/drive/My Drive/savemodel/Model15chk/cp-0010\n",
            "77/77 - 30s - loss: 0.3253 - acc: 0.8435 - val_loss: 0.1579 - val_acc: 0.9490\n",
            "Epoch 11/15\n",
            "Epoch 1/15\n",
            "\n",
            "Epoch 00011: saving model to /content/drive/My Drive/savemodel/Model15chk/cp-0011\n",
            "77/77 - 30s - loss: 0.3497 - acc: 0.8399 - val_loss: 0.1900 - val_acc: 0.9286\n",
            "Epoch 12/15\n",
            "Epoch 1/15\n",
            "\n",
            "Epoch 00012: saving model to /content/drive/My Drive/savemodel/Model15chk/cp-0012\n",
            "77/77 - 30s - loss: 0.3385 - acc: 0.8451 - val_loss: 0.2018 - val_acc: 0.9082\n",
            "Epoch 13/15\n",
            "Epoch 1/15\n",
            "\n",
            "Epoch 00013: saving model to /content/drive/My Drive/savemodel/Model15chk/cp-0013\n",
            "77/77 - 30s - loss: 0.3308 - acc: 0.8458 - val_loss: 0.1568 - val_acc: 0.9388\n",
            "Epoch 14/15\n",
            "Epoch 1/15\n",
            "\n",
            "Epoch 00014: saving model to /content/drive/My Drive/savemodel/Model15chk/cp-0014\n",
            "77/77 - 30s - loss: 0.3022 - acc: 0.8542 - val_loss: 0.1658 - val_acc: 0.9286\n",
            "Epoch 15/15\n",
            "Epoch 1/15\n",
            "\n",
            "Epoch 00015: saving model to /content/drive/My Drive/savemodel/Model15chk/cp-0015\n",
            "77/77 - 30s - loss: 0.3164 - acc: 0.8431 - val_loss: 0.1628 - val_acc: 0.9286\n"
          ],
          "name": "stdout"
        },
        {
          "output_type": "execute_result",
          "data": {
            "text/plain": [
              "<tensorflow.python.keras.callbacks.History at 0x7f5fd0059d30>"
            ]
          },
          "metadata": {
            "tags": []
          },
          "execution_count": 82
        }
      ]
    },
    {
      "cell_type": "code",
      "metadata": {
        "id": "QK8RR15Ye2gl",
        "colab_type": "code",
        "outputId": "3d373c07-211e-445d-fd1f-6e556a75fbaa",
        "colab": {
          "base_uri": "https://localhost:8080/",
          "height": 282
        }
      },
      "source": [
        "#Matrice de confusion\n",
        "def matrice_confusion(modele) :\n",
        "  predicted_probs = modele.predict_generator(\n",
        "      validate_generator(test_files, test_labels, WAVS_PER_BATCH),\n",
        "      steps=steps_per_epoch(len(test_files), WAVS_PER_BATCH))\n",
        "  predicted_classes = np.argmax(predicted_probs, axis=1)\n",
        "  print(sklearn.metrics.accuracy_score(predicted_classes, test_labels))\n",
        "  sns.heatmap(sklearn.metrics.confusion_matrix(predicted_classes, test_labels), annot=True);\n",
        "\n",
        "matrice_confusion(model)"
      ],
      "execution_count": 0,
      "outputs": [
        {
          "output_type": "stream",
          "text": [
            "0.5\n"
          ],
          "name": "stdout"
        },
        {
          "output_type": "display_data",
          "data": {
            "image/png": "[encoded data removed]",
            "text/plain": [
              "<Figure size 432x288 with 2 Axes>"
            ]
          },
          "metadata": {
            "tags": []
          }
        }
      ]
    },
    {
      "cell_type": "code",
      "metadata": {
        "id": "ygKIo1zapva_",
        "colab_type": "code",
        "colab": {}
      },
      "source": [
        "\n",
        "# test sur un wav particulier\n",
        "aFile = \"/content/sample_data/cats_dogs/test/cats/cat_110.wav\"\n",
        "\n",
        "wave_raw = wavfile.read(aFile)[1]\n",
        "wave_raw = wave_raw/np.std(wave_raw)\n",
        "length = len(wave_raw)\n",
        "left = 0\n",
        "right = MAX_WAV_SAMPLES - left - length\n",
        "wave = np.pad(wave_raw, pad_width=((left, right)), mode='wrap')\n",
        "\n"
      ],
      "execution_count": 0,
      "outputs": []
    },
    {
      "cell_type": "code",
      "metadata": {
        "id": "mKzYIjaRDLDB",
        "colab_type": "code",
        "outputId": "683e0f71-98c4-4ac9-96ea-6ba712521794",
        "colab": {
          "base_uri": "https://localhost:8080/",
          "height": 34
        }
      },
      "source": [
        "wave = wave.reshape( (1,wave.size) )\n",
        "\n",
        "resu = model.predict(wave)\n",
        "print(resu)"
      ],
      "execution_count": 0,
      "outputs": [
        {
          "output_type": "stream",
          "text": [
            "[[9.9979645e-01 2.0354726e-04]]\n"
          ],
          "name": "stdout"
        }
      ]
    },
    {
      "cell_type": "code",
      "metadata": {
        "id": "XLN9QXi0FXPV",
        "colab_type": "code",
        "outputId": "6b3ee815-2737-4b02-de11-0b6af51aa428",
        "colab": {
          "base_uri": "https://localhost:8080/",
          "height": 51
        }
      },
      "source": [
        "# test sur un wav particulier\n",
        "files = [\"/content/sample_data/cats_dogs/test/cats/cat_110.wav\",\"/content/sample_data/cats_dogs/train/dog/dog_barking_10.wav\"]\n",
        "\n",
        "waves = []\n",
        "for aFile in files:\n",
        "  \n",
        "  wave_raw = wavfile.read(aFile)[1]\n",
        "  wave_raw = wave_raw/np.std(wave_raw)\n",
        "  length = len(wave_raw)\n",
        "  left = 0\n",
        "  right = MAX_WAV_SAMPLES - left - length\n",
        "  wave = np.pad(wave_raw, pad_width=((left, right)), mode='wrap')\n",
        "  wave = wave.reshape( (1,wave.size) )\n",
        "  print(wave.shape)\n",
        "\n",
        "  if len(waves) == 0 :\n",
        "    waves = wave\n",
        "  else :\n",
        "    waves = np.concatenate((waves, wave), axis = 0)\n"
      ],
      "execution_count": 0,
      "outputs": [
        {
          "output_type": "stream",
          "text": [
            "(1, 320000)\n",
            "(1, 320000)\n"
          ],
          "name": "stdout"
        }
      ]
    },
    {
      "cell_type": "code",
      "metadata": {
        "id": "tLGI6CVLHVL-",
        "colab_type": "code",
        "outputId": "ec67f0c7-412f-41dc-c0a1-cdbe867f27f0",
        "colab": {
          "base_uri": "https://localhost:8080/",
          "height": 34
        }
      },
      "source": [
        "print(waves.shape)"
      ],
      "execution_count": 0,
      "outputs": [
        {
          "output_type": "stream",
          "text": [
            "(2, 320000)\n"
          ],
          "name": "stdout"
        }
      ]
    },
    {
      "cell_type": "code",
      "metadata": {
        "id": "pdXI2HRXIaih",
        "colab_type": "code",
        "outputId": "ef03a4ea-6bdb-4307-c1ac-f3cc78175508",
        "colab": {
          "base_uri": "https://localhost:8080/",
          "height": 51
        }
      },
      "source": [
        "resu = model.predict(waves)\n",
        "print(resu)"
      ],
      "execution_count": 0,
      "outputs": [
        {
          "output_type": "stream",
          "text": [
            "[[0.99579704 0.00420293]\n",
            " [0.72803724 0.27196282]]\n"
          ],
          "name": "stdout"
        }
      ]
    },
    {
      "cell_type": "code",
      "metadata": {
        "id": "7izCYKE2oK55",
        "colab_type": "code",
        "outputId": "5316e9d3-5c5f-491c-fb8f-b47095173f26",
        "colab": {
          "base_uri": "https://localhost:8080/",
          "height": 408
        }
      },
      "source": [
        "valeur = \"/content/drive/My Drive/savemodel/Model15chk\"\n",
        "!ls \"$valeur\"\n"
      ],
      "execution_count": 0,
      "outputs": [
        {
          "output_type": "stream",
          "text": [
            "checkpoint\t\t     cp-0008.data-00001-of-00002\n",
            "cp-0001.data-00000-of-00002  cp-0008.index\n",
            "cp-0001.data-00001-of-00002  cp-0009.data-00000-of-00002\n",
            "cp-0001.index\t\t     cp-0009.data-00001-of-00002\n",
            "cp-0002.data-00000-of-00002  cp-0009.index\n",
            "cp-0002.data-00001-of-00002  cp-0010.data-00000-of-00002\n",
            "cp-0002.index\t\t     cp-0010.data-00001-of-00002\n",
            "cp-0003.data-00000-of-00002  cp-0010.index\n",
            "cp-0003.data-00001-of-00002  cp-0011.data-00000-of-00002\n",
            "cp-0003.index\t\t     cp-0011.data-00001-of-00002\n",
            "cp-0004.data-00000-of-00002  cp-0011.index\n",
            "cp-0004.data-00001-of-00002  cp-0012.data-00000-of-00002\n",
            "cp-0004.index\t\t     cp-0012.data-00001-of-00002\n",
            "cp-0005.data-00000-of-00002  cp-0012.index\n",
            "cp-0005.data-00001-of-00002  cp-0013.data-00000-of-00002\n",
            "cp-0005.index\t\t     cp-0013.data-00001-of-00002\n",
            "cp-0006.data-00000-of-00002  cp-0013.index\n",
            "cp-0006.data-00001-of-00002  cp-0014.data-00000-of-00002\n",
            "cp-0006.index\t\t     cp-0014.data-00001-of-00002\n",
            "cp-0007.data-00000-of-00002  cp-0014.index\n",
            "cp-0007.data-00001-of-00002  cp-0015.data-00000-of-00002\n",
            "cp-0007.index\t\t     cp-0015.data-00001-of-00002\n",
            "cp-0008.data-00000-of-00002  cp-0015.index\n"
          ],
          "name": "stdout"
        }
      ]
    },
    {
      "cell_type": "code",
      "metadata": {
        "id": "0rMYLf6131b4",
        "colab_type": "code",
        "outputId": "bceca0ca-fce4-49ce-a250-19ae1790c669",
        "colab": {
          "base_uri": "https://localhost:8080/",
          "height": 34
        }
      },
      "source": [
        "chaine=\"toto\"\n",
        "!echo \"truc$chaine\""
      ],
      "execution_count": 0,
      "outputs": [
        {
          "output_type": "stream",
          "text": [
            "tructoto\n"
          ],
          "name": "stdout"
        }
      ]
    },
    {
      "cell_type": "code",
      "metadata": {
        "id": "D7cWabb0sEfS",
        "colab_type": "code",
        "outputId": "d3a3f8d7-e173-4f09-fbe6-2b33c3ec9132",
        "colab": {
          "base_uri": "https://localhost:8080/",
          "height": 34
        }
      },
      "source": [
        "model1 = create_model()\n",
        "model1.load_weights(checkpoint_path.format(epoch=10))"
      ],
      "execution_count": 0,
      "outputs": [
        {
          "output_type": "execute_result",
          "data": {
            "text/plain": [
              "<tensorflow.python.training.tracking.util.CheckpointLoadStatus at 0x7f5071e63e10>"
            ]
          },
          "metadata": {
            "tags": []
          },
          "execution_count": 24
        }
      ]
    },
    {
      "cell_type": "code",
      "metadata": {
        "id": "4V4uBhOetjmS",
        "colab_type": "code",
        "outputId": "3b093601-9692-4aca-8f46-aa0f9cb4533b",
        "colab": {
          "base_uri": "https://localhost:8080/",
          "height": 286
        }
      },
      "source": [
        "#Matrice de confusion\n",
        "matrice_confusion(model1)"
      ],
      "execution_count": 0,
      "outputs": [
        {
          "output_type": "stream",
          "text": [
            "0.9489795918367347\n"
          ],
          "name": "stdout"
        },
        {
          "output_type": "display_data",
          "data": {
            "image/png": "[encoded data removed]",
            "text/plain": [
              "<Figure size 432x288 with 2 Axes>"
            ]
          },
          "metadata": {
            "tags": []
          }
        }
      ]
    },
    {
      "cell_type": "markdown",
      "metadata": {
        "id": "NoS6shGCkzXA",
        "colab_type": "text"
      },
      "source": [
        ""
      ]
    }
  ]
}