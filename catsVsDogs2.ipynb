{
  "nbformat": 4,
  "nbformat_minor": 0,
  "metadata": {
    "colab": {
      "name": "catsVsDogs2.ipynb",
      "provenance": [],
      "collapsed_sections": [],
      "authorship_tag": "ABX9TyNRWUISfH9tGNNDIPpv6Tdr",
      "include_colab_link": true
    },
    "kernelspec": {
      "name": "python3",
      "display_name": "Python 3"
    },
    "accelerator": "GPU"
  },
  "cells": [
    {
      "cell_type": "markdown",
      "metadata": {
        "id": "view-in-github",
        "colab_type": "text"
      },
      "source": [
        "<a href=\"https://colab.research.google.com/github/BanceSt/StageRN/blob/master/catsVsDogs2.ipynb\" target=\"_parent\"><img src=\"https://colab.research.google.com/assets/colab-badge.svg\" alt=\"Open In Colab\"/></a>"
      ]
    },
    {
      "cell_type": "code",
      "metadata": {
        "id": "aPYE9MvDOow4",
        "colab_type": "code",
        "colab": {}
      },
      "source": [
        ""
      ],
      "execution_count": 0,
      "outputs": []
    },
    {
      "cell_type": "code",
      "metadata": {
        "id": "EhkwBlLYOx0v",
        "colab_type": "code",
        "outputId": "b81de710-c030-450f-c699-1e79190dd8d4",
        "colab": {
          "base_uri": "https://localhost:8080/",
          "height": 122
        }
      },
      "source": [
        "from google.colab import drive\n",
        "drive.mount('/content/drive')"
      ],
      "execution_count": 1,
      "outputs": [
        {
          "output_type": "stream",
          "text": [
            "Go to this URL in a browser: https://accounts.google.com/o/oauth2/auth?client_id=947318989803-6bn6qk8qdgf4n4g3pfee6491hc0brc4i.apps.googleusercontent.com&redirect_uri=urn%3aietf%3awg%3aoauth%3a2.0%3aoob&response_type=code&scope=email%20https%3a%2f%2fwww.googleapis.com%2fauth%2fdocs.test%20https%3a%2f%2fwww.googleapis.com%2fauth%2fdrive%20https%3a%2f%2fwww.googleapis.com%2fauth%2fdrive.photos.readonly%20https%3a%2f%2fwww.googleapis.com%2fauth%2fpeopleapi.readonly\n",
            "\n",
            "Enter your authorization code:\n",
            "··········\n",
            "Mounted at /content/drive\n"
          ],
          "name": "stdout"
        }
      ]
    },
    {
      "cell_type": "code",
      "metadata": {
        "id": "4-K8k755PFLM",
        "colab_type": "code",
        "outputId": "d3e0750a-2da0-476e-e594-cd9f43a55f02",
        "colab": {
          "base_uri": "https://localhost:8080/",
          "height": 1000
        }
      },
      "source": [
        "!unzip \"/content/drive/My Drive/dataStage/audio-cats-and-dogs.zip\" -d /content/sample_data"
      ],
      "execution_count": 2,
      "outputs": [
        {
          "output_type": "stream",
          "text": [
            "Archive:  /content/drive/My Drive/dataStage/audio-cats-and-dogs.zip\n",
            "  inflating: /content/sample_data/cats_dogs/cat_1.wav  \n",
            "  inflating: /content/sample_data/cats_dogs/cat_10.wav  \n",
            "  inflating: /content/sample_data/cats_dogs/cat_100.wav  \n",
            "  inflating: /content/sample_data/cats_dogs/cat_101.wav  \n",
            "  inflating: /content/sample_data/cats_dogs/cat_102.wav  \n",
            "  inflating: /content/sample_data/cats_dogs/cat_103.wav  \n",
            "  inflating: /content/sample_data/cats_dogs/cat_105.wav  \n",
            "  inflating: /content/sample_data/cats_dogs/cat_106.wav  \n",
            "  inflating: /content/sample_data/cats_dogs/cat_107.wav  \n",
            "  inflating: /content/sample_data/cats_dogs/cat_108.wav  \n",
            "  inflating: /content/sample_data/cats_dogs/cat_109.wav  \n",
            "  inflating: /content/sample_data/cats_dogs/cat_11.wav  \n",
            "  inflating: /content/sample_data/cats_dogs/cat_110.wav  \n",
            "  inflating: /content/sample_data/cats_dogs/cat_112.wav  \n",
            "  inflating: /content/sample_data/cats_dogs/cat_113.wav  \n",
            "  inflating: /content/sample_data/cats_dogs/cat_114.wav  \n",
            "  inflating: /content/sample_data/cats_dogs/cat_115.wav  \n",
            "  inflating: /content/sample_data/cats_dogs/cat_116.wav  \n",
            "  inflating: /content/sample_data/cats_dogs/cat_117.wav  \n",
            "  inflating: /content/sample_data/cats_dogs/cat_118.wav  \n",
            "  inflating: /content/sample_data/cats_dogs/cat_119.wav  \n",
            "  inflating: /content/sample_data/cats_dogs/cat_12.wav  \n",
            "  inflating: /content/sample_data/cats_dogs/cat_120.wav  \n",
            "  inflating: /content/sample_data/cats_dogs/cat_121.wav  \n",
            "  inflating: /content/sample_data/cats_dogs/cat_122.wav  \n",
            "  inflating: /content/sample_data/cats_dogs/cat_123.wav  \n",
            "  inflating: /content/sample_data/cats_dogs/cat_124.wav  \n",
            "  inflating: /content/sample_data/cats_dogs/cat_125.wav  \n",
            "  inflating: /content/sample_data/cats_dogs/cat_126.wav  \n",
            "  inflating: /content/sample_data/cats_dogs/cat_127.wav  \n",
            "  inflating: /content/sample_data/cats_dogs/cat_128.wav  \n",
            "  inflating: /content/sample_data/cats_dogs/cat_129.wav  \n",
            "  inflating: /content/sample_data/cats_dogs/cat_13.wav  \n",
            "  inflating: /content/sample_data/cats_dogs/cat_130.wav  \n",
            "  inflating: /content/sample_data/cats_dogs/cat_131.wav  \n",
            "  inflating: /content/sample_data/cats_dogs/cat_132.wav  \n",
            "  inflating: /content/sample_data/cats_dogs/cat_133.wav  \n",
            "  inflating: /content/sample_data/cats_dogs/cat_134.wav  \n",
            "  inflating: /content/sample_data/cats_dogs/cat_135.wav  \n",
            "  inflating: /content/sample_data/cats_dogs/cat_136.wav  \n",
            "  inflating: /content/sample_data/cats_dogs/cat_137.wav  \n",
            "  inflating: /content/sample_data/cats_dogs/cat_138.wav  \n",
            "  inflating: /content/sample_data/cats_dogs/cat_139.wav  \n",
            "  inflating: /content/sample_data/cats_dogs/cat_14.wav  \n",
            "  inflating: /content/sample_data/cats_dogs/cat_140.wav  \n",
            "  inflating: /content/sample_data/cats_dogs/cat_141.wav  \n",
            "  inflating: /content/sample_data/cats_dogs/cat_142.wav  \n",
            "  inflating: /content/sample_data/cats_dogs/cat_143.wav  \n",
            "  inflating: /content/sample_data/cats_dogs/cat_144.wav  \n",
            "  inflating: /content/sample_data/cats_dogs/cat_146.wav  \n",
            "  inflating: /content/sample_data/cats_dogs/cat_147.wav  \n",
            "  inflating: /content/sample_data/cats_dogs/cat_148.wav  \n",
            "  inflating: /content/sample_data/cats_dogs/cat_149.wav  \n",
            "  inflating: /content/sample_data/cats_dogs/cat_15.wav  \n",
            "  inflating: /content/sample_data/cats_dogs/cat_150.wav  \n",
            "  inflating: /content/sample_data/cats_dogs/cat_151.wav  \n",
            "  inflating: /content/sample_data/cats_dogs/cat_152.wav  \n",
            "  inflating: /content/sample_data/cats_dogs/cat_153.wav  \n",
            "  inflating: /content/sample_data/cats_dogs/cat_154.wav  \n",
            "  inflating: /content/sample_data/cats_dogs/cat_155.wav  \n",
            "  inflating: /content/sample_data/cats_dogs/cat_156.wav  \n",
            "  inflating: /content/sample_data/cats_dogs/cat_157.wav  \n",
            "  inflating: /content/sample_data/cats_dogs/cat_158.wav  \n",
            "  inflating: /content/sample_data/cats_dogs/cat_159.wav  \n",
            "  inflating: /content/sample_data/cats_dogs/cat_16.wav  \n",
            "  inflating: /content/sample_data/cats_dogs/cat_160.wav  \n",
            "  inflating: /content/sample_data/cats_dogs/cat_161.wav  \n",
            "  inflating: /content/sample_data/cats_dogs/cat_162.wav  \n",
            "  inflating: /content/sample_data/cats_dogs/cat_163.wav  \n",
            "  inflating: /content/sample_data/cats_dogs/cat_164.wav  \n",
            "  inflating: /content/sample_data/cats_dogs/cat_165.wav  \n",
            "  inflating: /content/sample_data/cats_dogs/cat_166.wav  \n",
            "  inflating: /content/sample_data/cats_dogs/cat_167.wav  \n",
            "  inflating: /content/sample_data/cats_dogs/cat_17.wav  \n",
            "  inflating: /content/sample_data/cats_dogs/cat_18.wav  \n",
            "  inflating: /content/sample_data/cats_dogs/cat_19.wav  \n",
            "  inflating: /content/sample_data/cats_dogs/cat_2.wav  \n",
            "  inflating: /content/sample_data/cats_dogs/cat_20.wav  \n",
            "  inflating: /content/sample_data/cats_dogs/cat_21.wav  \n",
            "  inflating: /content/sample_data/cats_dogs/cat_22.wav  \n",
            "  inflating: /content/sample_data/cats_dogs/cat_23.wav  \n",
            "  inflating: /content/sample_data/cats_dogs/cat_24.wav  \n",
            "  inflating: /content/sample_data/cats_dogs/cat_25.wav  \n",
            "  inflating: /content/sample_data/cats_dogs/cat_26.wav  \n",
            "  inflating: /content/sample_data/cats_dogs/cat_27.wav  \n",
            "  inflating: /content/sample_data/cats_dogs/cat_28.wav  \n",
            "  inflating: /content/sample_data/cats_dogs/cat_29.wav  \n",
            "  inflating: /content/sample_data/cats_dogs/cat_3.wav  \n",
            "  inflating: /content/sample_data/cats_dogs/cat_30.wav  \n",
            "  inflating: /content/sample_data/cats_dogs/cat_31.wav  \n",
            "  inflating: /content/sample_data/cats_dogs/cat_32.wav  \n",
            "  inflating: /content/sample_data/cats_dogs/cat_33.wav  \n",
            "  inflating: /content/sample_data/cats_dogs/cat_34.wav  \n",
            "  inflating: /content/sample_data/cats_dogs/cat_35.wav  \n",
            "  inflating: /content/sample_data/cats_dogs/cat_36.wav  \n",
            "  inflating: /content/sample_data/cats_dogs/cat_37.wav  \n",
            "  inflating: /content/sample_data/cats_dogs/cat_38.wav  \n",
            "  inflating: /content/sample_data/cats_dogs/cat_39.wav  \n",
            "  inflating: /content/sample_data/cats_dogs/cat_4.wav  \n",
            "  inflating: /content/sample_data/cats_dogs/cat_40.wav  \n",
            "  inflating: /content/sample_data/cats_dogs/cat_41.wav  \n",
            "  inflating: /content/sample_data/cats_dogs/cat_42.wav  \n",
            "  inflating: /content/sample_data/cats_dogs/cat_43.wav  \n",
            "  inflating: /content/sample_data/cats_dogs/cat_44.wav  \n",
            "  inflating: /content/sample_data/cats_dogs/cat_45.wav  \n",
            "  inflating: /content/sample_data/cats_dogs/cat_46.wav  \n",
            "  inflating: /content/sample_data/cats_dogs/cat_47.wav  \n",
            "  inflating: /content/sample_data/cats_dogs/cat_48.wav  \n",
            "  inflating: /content/sample_data/cats_dogs/cat_49.wav  \n",
            "  inflating: /content/sample_data/cats_dogs/cat_5.wav  \n",
            "  inflating: /content/sample_data/cats_dogs/cat_50.wav  \n",
            "  inflating: /content/sample_data/cats_dogs/cat_51.wav  \n",
            "  inflating: /content/sample_data/cats_dogs/cat_52.wav  \n",
            "  inflating: /content/sample_data/cats_dogs/cat_53.wav  \n",
            "  inflating: /content/sample_data/cats_dogs/cat_54.wav  \n",
            "  inflating: /content/sample_data/cats_dogs/cat_55.wav  \n",
            "  inflating: /content/sample_data/cats_dogs/cat_56.wav  \n",
            "  inflating: /content/sample_data/cats_dogs/cat_57.wav  \n",
            "  inflating: /content/sample_data/cats_dogs/cat_58.wav  \n",
            "  inflating: /content/sample_data/cats_dogs/cat_59.wav  \n",
            "  inflating: /content/sample_data/cats_dogs/cat_6.wav  \n",
            "  inflating: /content/sample_data/cats_dogs/cat_60.wav  \n",
            "  inflating: /content/sample_data/cats_dogs/cat_61.wav  \n",
            "  inflating: /content/sample_data/cats_dogs/cat_62.wav  \n",
            "  inflating: /content/sample_data/cats_dogs/cat_63.wav  \n",
            "  inflating: /content/sample_data/cats_dogs/cat_64.wav  \n",
            "  inflating: /content/sample_data/cats_dogs/cat_65.wav  \n",
            "  inflating: /content/sample_data/cats_dogs/cat_66.wav  \n",
            "  inflating: /content/sample_data/cats_dogs/cat_67.wav  \n",
            "  inflating: /content/sample_data/cats_dogs/cat_68.wav  \n",
            "  inflating: /content/sample_data/cats_dogs/cat_69.wav  \n",
            "  inflating: /content/sample_data/cats_dogs/cat_7.wav  \n",
            "  inflating: /content/sample_data/cats_dogs/cat_70.wav  \n",
            "  inflating: /content/sample_data/cats_dogs/cat_71.wav  \n",
            "  inflating: /content/sample_data/cats_dogs/cat_72.wav  \n",
            "  inflating: /content/sample_data/cats_dogs/cat_73.wav  \n",
            "  inflating: /content/sample_data/cats_dogs/cat_74.wav  \n",
            "  inflating: /content/sample_data/cats_dogs/cat_75.wav  \n",
            "  inflating: /content/sample_data/cats_dogs/cat_76.wav  \n",
            "  inflating: /content/sample_data/cats_dogs/cat_77.wav  \n",
            "  inflating: /content/sample_data/cats_dogs/cat_78.wav  \n",
            "  inflating: /content/sample_data/cats_dogs/cat_79.wav  \n",
            "  inflating: /content/sample_data/cats_dogs/cat_8.wav  \n",
            "  inflating: /content/sample_data/cats_dogs/cat_80.wav  \n",
            "  inflating: /content/sample_data/cats_dogs/cat_81.wav  \n",
            "  inflating: /content/sample_data/cats_dogs/cat_82.wav  \n",
            "  inflating: /content/sample_data/cats_dogs/cat_83.wav  \n",
            "  inflating: /content/sample_data/cats_dogs/cat_84.wav  \n",
            "  inflating: /content/sample_data/cats_dogs/cat_85.wav  \n",
            "  inflating: /content/sample_data/cats_dogs/cat_86.wav  \n",
            "  inflating: /content/sample_data/cats_dogs/cat_87.wav  \n",
            "  inflating: /content/sample_data/cats_dogs/cat_88.wav  \n",
            "  inflating: /content/sample_data/cats_dogs/cat_89.wav  \n",
            "  inflating: /content/sample_data/cats_dogs/cat_9.wav  \n",
            "  inflating: /content/sample_data/cats_dogs/cat_90.wav  \n",
            "  inflating: /content/sample_data/cats_dogs/cat_91.wav  \n",
            "  inflating: /content/sample_data/cats_dogs/cat_92.wav  \n",
            "  inflating: /content/sample_data/cats_dogs/cat_93.wav  \n",
            "  inflating: /content/sample_data/cats_dogs/cat_94.wav  \n",
            "  inflating: /content/sample_data/cats_dogs/cat_95.wav  \n",
            "  inflating: /content/sample_data/cats_dogs/cat_96.wav  \n",
            "  inflating: /content/sample_data/cats_dogs/cat_97.wav  \n",
            "  inflating: /content/sample_data/cats_dogs/cat_98.wav  \n",
            "  inflating: /content/sample_data/cats_dogs/cat_99.wav  \n",
            "  inflating: /content/sample_data/cats_dogs/dog_barking_0.wav  \n",
            "  inflating: /content/sample_data/cats_dogs/dog_barking_1.wav  \n",
            "  inflating: /content/sample_data/cats_dogs/dog_barking_10.wav  \n",
            "  inflating: /content/sample_data/cats_dogs/dog_barking_100.wav  \n",
            "  inflating: /content/sample_data/cats_dogs/dog_barking_101.wav  \n",
            "  inflating: /content/sample_data/cats_dogs/dog_barking_102.wav  \n",
            "  inflating: /content/sample_data/cats_dogs/dog_barking_103.wav  \n",
            "  inflating: /content/sample_data/cats_dogs/dog_barking_104.wav  \n",
            "  inflating: /content/sample_data/cats_dogs/dog_barking_105.wav  \n",
            "  inflating: /content/sample_data/cats_dogs/dog_barking_106.wav  \n",
            "  inflating: /content/sample_data/cats_dogs/dog_barking_107.wav  \n",
            "  inflating: /content/sample_data/cats_dogs/dog_barking_108.wav  \n",
            "  inflating: /content/sample_data/cats_dogs/dog_barking_109.wav  \n",
            "  inflating: /content/sample_data/cats_dogs/dog_barking_11.wav  \n",
            "  inflating: /content/sample_data/cats_dogs/dog_barking_110.wav  \n",
            "  inflating: /content/sample_data/cats_dogs/dog_barking_111.wav  \n",
            "  inflating: /content/sample_data/cats_dogs/dog_barking_112.wav  \n",
            "  inflating: /content/sample_data/cats_dogs/dog_barking_12.wav  \n",
            "  inflating: /content/sample_data/cats_dogs/dog_barking_13.wav  \n",
            "  inflating: /content/sample_data/cats_dogs/dog_barking_14.wav  \n",
            "  inflating: /content/sample_data/cats_dogs/dog_barking_15.wav  \n",
            "  inflating: /content/sample_data/cats_dogs/dog_barking_16.wav  \n",
            "  inflating: /content/sample_data/cats_dogs/dog_barking_17.wav  \n",
            "  inflating: /content/sample_data/cats_dogs/dog_barking_18.wav  \n",
            "  inflating: /content/sample_data/cats_dogs/dog_barking_19.wav  \n",
            "  inflating: /content/sample_data/cats_dogs/dog_barking_2.wav  \n",
            "  inflating: /content/sample_data/cats_dogs/dog_barking_20.wav  \n",
            "  inflating: /content/sample_data/cats_dogs/dog_barking_21.wav  \n",
            "  inflating: /content/sample_data/cats_dogs/dog_barking_22.wav  \n",
            "  inflating: /content/sample_data/cats_dogs/dog_barking_23.wav  \n",
            "  inflating: /content/sample_data/cats_dogs/dog_barking_24.wav  \n",
            "  inflating: /content/sample_data/cats_dogs/dog_barking_25.wav  \n",
            "  inflating: /content/sample_data/cats_dogs/dog_barking_26.wav  \n",
            "  inflating: /content/sample_data/cats_dogs/dog_barking_27.wav  \n",
            "  inflating: /content/sample_data/cats_dogs/dog_barking_28.wav  \n",
            "  inflating: /content/sample_data/cats_dogs/dog_barking_29.wav  \n",
            "  inflating: /content/sample_data/cats_dogs/dog_barking_3.wav  \n",
            "  inflating: /content/sample_data/cats_dogs/dog_barking_30.wav  \n",
            "  inflating: /content/sample_data/cats_dogs/dog_barking_31.wav  \n",
            "  inflating: /content/sample_data/cats_dogs/dog_barking_32.wav  \n",
            "  inflating: /content/sample_data/cats_dogs/dog_barking_33.wav  \n",
            "  inflating: /content/sample_data/cats_dogs/dog_barking_34.wav  \n",
            "  inflating: /content/sample_data/cats_dogs/dog_barking_35.wav  \n",
            "  inflating: /content/sample_data/cats_dogs/dog_barking_36.wav  \n",
            "  inflating: /content/sample_data/cats_dogs/dog_barking_37.wav  \n",
            "  inflating: /content/sample_data/cats_dogs/dog_barking_38.wav  \n",
            "  inflating: /content/sample_data/cats_dogs/dog_barking_39.wav  \n",
            "  inflating: /content/sample_data/cats_dogs/dog_barking_4.wav  \n",
            "  inflating: /content/sample_data/cats_dogs/dog_barking_40.wav  \n",
            "  inflating: /content/sample_data/cats_dogs/dog_barking_41.wav  \n",
            "  inflating: /content/sample_data/cats_dogs/dog_barking_42.wav  \n",
            "  inflating: /content/sample_data/cats_dogs/dog_barking_43.wav  \n",
            "  inflating: /content/sample_data/cats_dogs/dog_barking_44.wav  \n",
            "  inflating: /content/sample_data/cats_dogs/dog_barking_45.wav  \n",
            "  inflating: /content/sample_data/cats_dogs/dog_barking_46.wav  \n",
            "  inflating: /content/sample_data/cats_dogs/dog_barking_47.wav  \n",
            "  inflating: /content/sample_data/cats_dogs/dog_barking_48.wav  \n",
            "  inflating: /content/sample_data/cats_dogs/dog_barking_49.wav  \n",
            "  inflating: /content/sample_data/cats_dogs/dog_barking_5.wav  \n",
            "  inflating: /content/sample_data/cats_dogs/dog_barking_50.wav  \n",
            "  inflating: /content/sample_data/cats_dogs/dog_barking_51.wav  \n",
            "  inflating: /content/sample_data/cats_dogs/dog_barking_52.wav  \n",
            "  inflating: /content/sample_data/cats_dogs/dog_barking_53.wav  \n",
            "  inflating: /content/sample_data/cats_dogs/dog_barking_54.wav  \n",
            "  inflating: /content/sample_data/cats_dogs/dog_barking_55.wav  \n",
            "  inflating: /content/sample_data/cats_dogs/dog_barking_56.wav  \n",
            "  inflating: /content/sample_data/cats_dogs/dog_barking_57.wav  \n",
            "  inflating: /content/sample_data/cats_dogs/dog_barking_58.wav  \n",
            "  inflating: /content/sample_data/cats_dogs/dog_barking_59.wav  \n",
            "  inflating: /content/sample_data/cats_dogs/dog_barking_6.wav  \n",
            "  inflating: /content/sample_data/cats_dogs/dog_barking_60.wav  \n",
            "  inflating: /content/sample_data/cats_dogs/dog_barking_61.wav  \n",
            "  inflating: /content/sample_data/cats_dogs/dog_barking_62.wav  \n",
            "  inflating: /content/sample_data/cats_dogs/dog_barking_63.wav  \n",
            "  inflating: /content/sample_data/cats_dogs/dog_barking_64.wav  \n",
            "  inflating: /content/sample_data/cats_dogs/dog_barking_65.wav  \n",
            "  inflating: /content/sample_data/cats_dogs/dog_barking_66.wav  \n",
            "  inflating: /content/sample_data/cats_dogs/dog_barking_67.wav  \n",
            "  inflating: /content/sample_data/cats_dogs/dog_barking_68.wav  \n",
            "  inflating: /content/sample_data/cats_dogs/dog_barking_69.wav  \n",
            "  inflating: /content/sample_data/cats_dogs/dog_barking_7.wav  \n",
            "  inflating: /content/sample_data/cats_dogs/dog_barking_70.wav  \n",
            "  inflating: /content/sample_data/cats_dogs/dog_barking_71.wav  \n",
            "  inflating: /content/sample_data/cats_dogs/dog_barking_72.wav  \n",
            "  inflating: /content/sample_data/cats_dogs/dog_barking_73.wav  \n",
            "  inflating: /content/sample_data/cats_dogs/dog_barking_74.wav  \n",
            "  inflating: /content/sample_data/cats_dogs/dog_barking_75.wav  \n",
            "  inflating: /content/sample_data/cats_dogs/dog_barking_76.wav  \n",
            "  inflating: /content/sample_data/cats_dogs/dog_barking_77.wav  \n",
            "  inflating: /content/sample_data/cats_dogs/dog_barking_78.wav  \n",
            "  inflating: /content/sample_data/cats_dogs/dog_barking_79.wav  \n",
            "  inflating: /content/sample_data/cats_dogs/dog_barking_8.wav  \n",
            "  inflating: /content/sample_data/cats_dogs/dog_barking_80.wav  \n",
            "  inflating: /content/sample_data/cats_dogs/dog_barking_81.wav  \n",
            "  inflating: /content/sample_data/cats_dogs/dog_barking_82.wav  \n",
            "  inflating: /content/sample_data/cats_dogs/dog_barking_83.wav  \n",
            "  inflating: /content/sample_data/cats_dogs/dog_barking_84.wav  \n",
            "  inflating: /content/sample_data/cats_dogs/dog_barking_85.wav  \n",
            "  inflating: /content/sample_data/cats_dogs/dog_barking_86.wav  \n",
            "  inflating: /content/sample_data/cats_dogs/dog_barking_87.wav  \n",
            "  inflating: /content/sample_data/cats_dogs/dog_barking_88.wav  \n",
            "  inflating: /content/sample_data/cats_dogs/dog_barking_89.wav  \n",
            "  inflating: /content/sample_data/cats_dogs/dog_barking_9.wav  \n",
            "  inflating: /content/sample_data/cats_dogs/dog_barking_90.wav  \n",
            "  inflating: /content/sample_data/cats_dogs/dog_barking_91.wav  \n",
            "  inflating: /content/sample_data/cats_dogs/dog_barking_92.wav  \n",
            "  inflating: /content/sample_data/cats_dogs/dog_barking_93.wav  \n",
            "  inflating: /content/sample_data/cats_dogs/dog_barking_94.wav  \n",
            "  inflating: /content/sample_data/cats_dogs/dog_barking_95.wav  \n",
            "  inflating: /content/sample_data/cats_dogs/dog_barking_96.wav  \n",
            "  inflating: /content/sample_data/cats_dogs/dog_barking_97.wav  \n",
            "  inflating: /content/sample_data/cats_dogs/dog_barking_98.wav  \n",
            "  inflating: /content/sample_data/cats_dogs/dog_barking_99.wav  \n",
            "  inflating: /content/sample_data/cats_dogs/test/cats/cat_110.wav  \n",
            "  inflating: /content/sample_data/cats_dogs/test/cats/cat_112.wav  \n",
            "  inflating: /content/sample_data/cats_dogs/test/cats/cat_115.wav  \n",
            "  inflating: /content/sample_data/cats_dogs/test/cats/cat_126.wav  \n",
            "  inflating: /content/sample_data/cats_dogs/test/cats/cat_129.wav  \n",
            "  inflating: /content/sample_data/cats_dogs/test/cats/cat_130.wav  \n",
            "  inflating: /content/sample_data/cats_dogs/test/cats/cat_133.wav  \n",
            "  inflating: /content/sample_data/cats_dogs/test/cats/cat_135.wav  \n",
            "  inflating: /content/sample_data/cats_dogs/test/cats/cat_137.wav  \n",
            "  inflating: /content/sample_data/cats_dogs/test/cats/cat_14.wav  \n",
            "  inflating: /content/sample_data/cats_dogs/test/cats/cat_143.wav  \n",
            "  inflating: /content/sample_data/cats_dogs/test/cats/cat_144.wav  \n",
            "  inflating: /content/sample_data/cats_dogs/test/cats/cat_148.wav  \n",
            "  inflating: /content/sample_data/cats_dogs/test/cats/cat_152.wav  \n",
            "  inflating: /content/sample_data/cats_dogs/test/cats/cat_158.wav  \n",
            "  inflating: /content/sample_data/cats_dogs/test/cats/cat_17.wav  \n",
            "  inflating: /content/sample_data/cats_dogs/test/cats/cat_20.wav  \n",
            "  inflating: /content/sample_data/cats_dogs/test/cats/cat_24.wav  \n",
            "  inflating: /content/sample_data/cats_dogs/test/cats/cat_28.wav  \n",
            "  inflating: /content/sample_data/cats_dogs/test/cats/cat_29.wav  \n",
            "  inflating: /content/sample_data/cats_dogs/test/cats/cat_3.wav  \n",
            "  inflating: /content/sample_data/cats_dogs/test/cats/cat_36.wav  \n",
            "  inflating: /content/sample_data/cats_dogs/test/cats/cat_42.wav  \n",
            "  inflating: /content/sample_data/cats_dogs/test/cats/cat_55.wav  \n",
            "  inflating: /content/sample_data/cats_dogs/test/cats/cat_56.wav  \n",
            "  inflating: /content/sample_data/cats_dogs/test/cats/cat_57.wav  \n",
            "  inflating: /content/sample_data/cats_dogs/test/cats/cat_58.wav  \n",
            "  inflating: /content/sample_data/cats_dogs/test/cats/cat_59.wav  \n",
            "  inflating: /content/sample_data/cats_dogs/test/cats/cat_61.wav  \n",
            "  inflating: /content/sample_data/cats_dogs/test/cats/cat_66.wav  \n",
            "  inflating: /content/sample_data/cats_dogs/test/cats/cat_67.wav  \n",
            "  inflating: /content/sample_data/cats_dogs/test/cats/cat_75.wav  \n",
            "  inflating: /content/sample_data/cats_dogs/test/cats/cat_76.wav  \n",
            "  inflating: /content/sample_data/cats_dogs/test/cats/cat_79.wav  \n",
            "  inflating: /content/sample_data/cats_dogs/test/cats/cat_82.wav  \n",
            "  inflating: /content/sample_data/cats_dogs/test/cats/cat_85.wav  \n",
            "  inflating: /content/sample_data/cats_dogs/test/cats/cat_86.wav  \n",
            "  inflating: /content/sample_data/cats_dogs/test/cats/cat_88.wav  \n",
            "  inflating: /content/sample_data/cats_dogs/test/cats/cat_90.wav  \n",
            "  inflating: /content/sample_data/cats_dogs/test/test/dog_barking_112.wav  \n",
            "  inflating: /content/sample_data/cats_dogs/test/test/dog_barking_12.wav  \n",
            "  inflating: /content/sample_data/cats_dogs/test/test/dog_barking_15.wav  \n",
            "  inflating: /content/sample_data/cats_dogs/test/test/dog_barking_19.wav  \n",
            "  inflating: /content/sample_data/cats_dogs/test/test/dog_barking_24.wav  \n",
            "  inflating: /content/sample_data/cats_dogs/test/test/dog_barking_3.wav  \n",
            "  inflating: /content/sample_data/cats_dogs/test/test/dog_barking_34.wav  \n",
            "  inflating: /content/sample_data/cats_dogs/test/test/dog_barking_43.wav  \n",
            "  inflating: /content/sample_data/cats_dogs/test/test/dog_barking_44.wav  \n",
            "  inflating: /content/sample_data/cats_dogs/test/test/dog_barking_45.wav  \n",
            "  inflating: /content/sample_data/cats_dogs/test/test/dog_barking_46.wav  \n",
            "  inflating: /content/sample_data/cats_dogs/test/test/dog_barking_48.wav  \n",
            "  inflating: /content/sample_data/cats_dogs/test/test/dog_barking_49.wav  \n",
            "  inflating: /content/sample_data/cats_dogs/test/test/dog_barking_54.wav  \n",
            "  inflating: /content/sample_data/cats_dogs/test/test/dog_barking_59.wav  \n",
            "  inflating: /content/sample_data/cats_dogs/test/test/dog_barking_62.wav  \n",
            "  inflating: /content/sample_data/cats_dogs/test/test/dog_barking_64.wav  \n",
            "  inflating: /content/sample_data/cats_dogs/test/test/dog_barking_66.wav  \n",
            "  inflating: /content/sample_data/cats_dogs/test/test/dog_barking_7.wav  \n",
            "  inflating: /content/sample_data/cats_dogs/test/test/dog_barking_73.wav  \n",
            "  inflating: /content/sample_data/cats_dogs/test/test/dog_barking_78.wav  \n",
            "  inflating: /content/sample_data/cats_dogs/test/test/dog_barking_8.wav  \n",
            "  inflating: /content/sample_data/cats_dogs/test/test/dog_barking_82.wav  \n",
            "  inflating: /content/sample_data/cats_dogs/test/test/dog_barking_89.wav  \n",
            "  inflating: /content/sample_data/cats_dogs/test/test/dog_barking_9.wav  \n",
            "  inflating: /content/sample_data/cats_dogs/test/test/dog_barking_90.wav  \n",
            "  inflating: /content/sample_data/cats_dogs/test/test/dog_barking_91.wav  \n",
            "  inflating: /content/sample_data/cats_dogs/test/test/dog_barking_99.wav  \n",
            "  inflating: /content/sample_data/cats_dogs/train/cat/cat_1.wav  \n",
            "  inflating: /content/sample_data/cats_dogs/train/cat/cat_10.wav  \n",
            "  inflating: /content/sample_data/cats_dogs/train/cat/cat_100.wav  \n",
            "  inflating: /content/sample_data/cats_dogs/train/cat/cat_101.wav  \n",
            "  inflating: /content/sample_data/cats_dogs/train/cat/cat_102.wav  \n",
            "  inflating: /content/sample_data/cats_dogs/train/cat/cat_103.wav  \n",
            "  inflating: /content/sample_data/cats_dogs/train/cat/cat_105.wav  \n",
            "  inflating: /content/sample_data/cats_dogs/train/cat/cat_106.wav  \n",
            "  inflating: /content/sample_data/cats_dogs/train/cat/cat_107.wav  \n",
            "  inflating: /content/sample_data/cats_dogs/train/cat/cat_108.wav  \n",
            "  inflating: /content/sample_data/cats_dogs/train/cat/cat_109.wav  \n",
            "  inflating: /content/sample_data/cats_dogs/train/cat/cat_11.wav  \n",
            "  inflating: /content/sample_data/cats_dogs/train/cat/cat_113.wav  \n",
            "  inflating: /content/sample_data/cats_dogs/train/cat/cat_114.wav  \n",
            "  inflating: /content/sample_data/cats_dogs/train/cat/cat_116.wav  \n",
            "  inflating: /content/sample_data/cats_dogs/train/cat/cat_117.wav  \n",
            "  inflating: /content/sample_data/cats_dogs/train/cat/cat_118.wav  \n",
            "  inflating: /content/sample_data/cats_dogs/train/cat/cat_119.wav  \n",
            "  inflating: /content/sample_data/cats_dogs/train/cat/cat_12.wav  \n",
            "  inflating: /content/sample_data/cats_dogs/train/cat/cat_120.wav  \n",
            "  inflating: /content/sample_data/cats_dogs/train/cat/cat_121.wav  \n",
            "  inflating: /content/sample_data/cats_dogs/train/cat/cat_122.wav  \n",
            "  inflating: /content/sample_data/cats_dogs/train/cat/cat_123.wav  \n",
            "  inflating: /content/sample_data/cats_dogs/train/cat/cat_124.wav  \n",
            "  inflating: /content/sample_data/cats_dogs/train/cat/cat_125.wav  \n",
            "  inflating: /content/sample_data/cats_dogs/train/cat/cat_127.wav  \n",
            "  inflating: /content/sample_data/cats_dogs/train/cat/cat_128.wav  \n",
            "  inflating: /content/sample_data/cats_dogs/train/cat/cat_13.wav  \n",
            "  inflating: /content/sample_data/cats_dogs/train/cat/cat_131.wav  \n",
            "  inflating: /content/sample_data/cats_dogs/train/cat/cat_132.wav  \n",
            "  inflating: /content/sample_data/cats_dogs/train/cat/cat_134.wav  \n",
            "  inflating: /content/sample_data/cats_dogs/train/cat/cat_136.wav  \n",
            "  inflating: /content/sample_data/cats_dogs/train/cat/cat_138.wav  \n",
            "  inflating: /content/sample_data/cats_dogs/train/cat/cat_139.wav  \n",
            "  inflating: /content/sample_data/cats_dogs/train/cat/cat_140.wav  \n",
            "  inflating: /content/sample_data/cats_dogs/train/cat/cat_141.wav  \n",
            "  inflating: /content/sample_data/cats_dogs/train/cat/cat_142.wav  \n",
            "  inflating: /content/sample_data/cats_dogs/train/cat/cat_146.wav  \n",
            "  inflating: /content/sample_data/cats_dogs/train/cat/cat_147.wav  \n",
            "  inflating: /content/sample_data/cats_dogs/train/cat/cat_149.wav  \n",
            "  inflating: /content/sample_data/cats_dogs/train/cat/cat_15.wav  \n",
            "  inflating: /content/sample_data/cats_dogs/train/cat/cat_150.wav  \n",
            "  inflating: /content/sample_data/cats_dogs/train/cat/cat_151.wav  \n",
            "  inflating: /content/sample_data/cats_dogs/train/cat/cat_153.wav  \n",
            "  inflating: /content/sample_data/cats_dogs/train/cat/cat_154.wav  \n",
            "  inflating: /content/sample_data/cats_dogs/train/cat/cat_155.wav  \n",
            "  inflating: /content/sample_data/cats_dogs/train/cat/cat_156.wav  \n",
            "  inflating: /content/sample_data/cats_dogs/train/cat/cat_157.wav  \n",
            "  inflating: /content/sample_data/cats_dogs/train/cat/cat_159.wav  \n",
            "  inflating: /content/sample_data/cats_dogs/train/cat/cat_16.wav  \n",
            "  inflating: /content/sample_data/cats_dogs/train/cat/cat_160.wav  \n",
            "  inflating: /content/sample_data/cats_dogs/train/cat/cat_161.wav  \n",
            "  inflating: /content/sample_data/cats_dogs/train/cat/cat_162.wav  \n",
            "  inflating: /content/sample_data/cats_dogs/train/cat/cat_163.wav  \n",
            "  inflating: /content/sample_data/cats_dogs/train/cat/cat_164.wav  \n",
            "  inflating: /content/sample_data/cats_dogs/train/cat/cat_165.wav  \n",
            "  inflating: /content/sample_data/cats_dogs/train/cat/cat_166.wav  \n",
            "  inflating: /content/sample_data/cats_dogs/train/cat/cat_167.wav  \n",
            "  inflating: /content/sample_data/cats_dogs/train/cat/cat_18.wav  \n",
            "  inflating: /content/sample_data/cats_dogs/train/cat/cat_19.wav  \n",
            "  inflating: /content/sample_data/cats_dogs/train/cat/cat_2.wav  \n",
            "  inflating: /content/sample_data/cats_dogs/train/cat/cat_21.wav  \n",
            "  inflating: /content/sample_data/cats_dogs/train/cat/cat_22.wav  \n",
            "  inflating: /content/sample_data/cats_dogs/train/cat/cat_23.wav  \n",
            "  inflating: /content/sample_data/cats_dogs/train/cat/cat_25.wav  \n",
            "  inflating: /content/sample_data/cats_dogs/train/cat/cat_26.wav  \n",
            "  inflating: /content/sample_data/cats_dogs/train/cat/cat_27.wav  \n",
            "  inflating: /content/sample_data/cats_dogs/train/cat/cat_30.wav  \n",
            "  inflating: /content/sample_data/cats_dogs/train/cat/cat_31.wav  \n",
            "  inflating: /content/sample_data/cats_dogs/train/cat/cat_32.wav  \n",
            "  inflating: /content/sample_data/cats_dogs/train/cat/cat_33.wav  \n",
            "  inflating: /content/sample_data/cats_dogs/train/cat/cat_34.wav  \n",
            "  inflating: /content/sample_data/cats_dogs/train/cat/cat_35.wav  \n",
            "  inflating: /content/sample_data/cats_dogs/train/cat/cat_37.wav  \n",
            "  inflating: /content/sample_data/cats_dogs/train/cat/cat_38.wav  \n",
            "  inflating: /content/sample_data/cats_dogs/train/cat/cat_39.wav  \n",
            "  inflating: /content/sample_data/cats_dogs/train/cat/cat_4.wav  \n",
            "  inflating: /content/sample_data/cats_dogs/train/cat/cat_40.wav  \n",
            "  inflating: /content/sample_data/cats_dogs/train/cat/cat_41.wav  \n",
            "  inflating: /content/sample_data/cats_dogs/train/cat/cat_43.wav  \n",
            "  inflating: /content/sample_data/cats_dogs/train/cat/cat_44.wav  \n",
            "  inflating: /content/sample_data/cats_dogs/train/cat/cat_45.wav  \n",
            "  inflating: /content/sample_data/cats_dogs/train/cat/cat_46.wav  \n",
            "  inflating: /content/sample_data/cats_dogs/train/cat/cat_47.wav  \n",
            "  inflating: /content/sample_data/cats_dogs/train/cat/cat_48.wav  \n",
            "  inflating: /content/sample_data/cats_dogs/train/cat/cat_49.wav  \n",
            "  inflating: /content/sample_data/cats_dogs/train/cat/cat_5.wav  \n",
            "  inflating: /content/sample_data/cats_dogs/train/cat/cat_50.wav  \n",
            "  inflating: /content/sample_data/cats_dogs/train/cat/cat_51.wav  \n",
            "  inflating: /content/sample_data/cats_dogs/train/cat/cat_52.wav  \n",
            "  inflating: /content/sample_data/cats_dogs/train/cat/cat_53.wav  \n",
            "  inflating: /content/sample_data/cats_dogs/train/cat/cat_54.wav  \n",
            "  inflating: /content/sample_data/cats_dogs/train/cat/cat_6.wav  \n",
            "  inflating: /content/sample_data/cats_dogs/train/cat/cat_60.wav  \n",
            "  inflating: /content/sample_data/cats_dogs/train/cat/cat_62.wav  \n",
            "  inflating: /content/sample_data/cats_dogs/train/cat/cat_63.wav  \n",
            "  inflating: /content/sample_data/cats_dogs/train/cat/cat_64.wav  \n",
            "  inflating: /content/sample_data/cats_dogs/train/cat/cat_65.wav  \n",
            "  inflating: /content/sample_data/cats_dogs/train/cat/cat_68.wav  \n",
            "  inflating: /content/sample_data/cats_dogs/train/cat/cat_69.wav  \n",
            "  inflating: /content/sample_data/cats_dogs/train/cat/cat_7.wav  \n",
            "  inflating: /content/sample_data/cats_dogs/train/cat/cat_70.wav  \n",
            "  inflating: /content/sample_data/cats_dogs/train/cat/cat_71.wav  \n",
            "  inflating: /content/sample_data/cats_dogs/train/cat/cat_72.wav  \n",
            "  inflating: /content/sample_data/cats_dogs/train/cat/cat_73.wav  \n",
            "  inflating: /content/sample_data/cats_dogs/train/cat/cat_74.wav  \n",
            "  inflating: /content/sample_data/cats_dogs/train/cat/cat_77.wav  \n",
            "  inflating: /content/sample_data/cats_dogs/train/cat/cat_78.wav  \n",
            "  inflating: /content/sample_data/cats_dogs/train/cat/cat_8.wav  \n",
            "  inflating: /content/sample_data/cats_dogs/train/cat/cat_80.wav  \n",
            "  inflating: /content/sample_data/cats_dogs/train/cat/cat_81.wav  \n",
            "  inflating: /content/sample_data/cats_dogs/train/cat/cat_83.wav  \n",
            "  inflating: /content/sample_data/cats_dogs/train/cat/cat_84.wav  \n",
            "  inflating: /content/sample_data/cats_dogs/train/cat/cat_87.wav  \n",
            "  inflating: /content/sample_data/cats_dogs/train/cat/cat_89.wav  \n",
            "  inflating: /content/sample_data/cats_dogs/train/cat/cat_9.wav  \n",
            "  inflating: /content/sample_data/cats_dogs/train/cat/cat_91.wav  \n",
            "  inflating: /content/sample_data/cats_dogs/train/cat/cat_92.wav  \n",
            "  inflating: /content/sample_data/cats_dogs/train/cat/cat_93.wav  \n",
            "  inflating: /content/sample_data/cats_dogs/train/cat/cat_94.wav  \n",
            "  inflating: /content/sample_data/cats_dogs/train/cat/cat_95.wav  \n",
            "  inflating: /content/sample_data/cats_dogs/train/cat/cat_96.wav  \n",
            "  inflating: /content/sample_data/cats_dogs/train/cat/cat_97.wav  \n",
            "  inflating: /content/sample_data/cats_dogs/train/cat/cat_98.wav  \n",
            "  inflating: /content/sample_data/cats_dogs/train/cat/cat_99.wav  \n",
            "  inflating: /content/sample_data/cats_dogs/train/dog/dog_barking_0.wav  \n",
            "  inflating: /content/sample_data/cats_dogs/train/dog/dog_barking_1.wav  \n",
            "  inflating: /content/sample_data/cats_dogs/train/dog/dog_barking_10.wav  \n",
            "  inflating: /content/sample_data/cats_dogs/train/dog/dog_barking_100.wav  \n",
            "  inflating: /content/sample_data/cats_dogs/train/dog/dog_barking_101.wav  \n",
            "  inflating: /content/sample_data/cats_dogs/train/dog/dog_barking_102.wav  \n",
            "  inflating: /content/sample_data/cats_dogs/train/dog/dog_barking_103.wav  \n",
            "  inflating: /content/sample_data/cats_dogs/train/dog/dog_barking_104.wav  \n",
            "  inflating: /content/sample_data/cats_dogs/train/dog/dog_barking_105.wav  \n",
            "  inflating: /content/sample_data/cats_dogs/train/dog/dog_barking_106.wav  \n",
            "  inflating: /content/sample_data/cats_dogs/train/dog/dog_barking_107.wav  \n",
            "  inflating: /content/sample_data/cats_dogs/train/dog/dog_barking_108.wav  \n",
            "  inflating: /content/sample_data/cats_dogs/train/dog/dog_barking_109.wav  \n",
            "  inflating: /content/sample_data/cats_dogs/train/dog/dog_barking_11.wav  \n",
            "  inflating: /content/sample_data/cats_dogs/train/dog/dog_barking_110.wav  \n",
            "  inflating: /content/sample_data/cats_dogs/train/dog/dog_barking_111.wav  \n",
            "  inflating: /content/sample_data/cats_dogs/train/dog/dog_barking_13.wav  \n",
            "  inflating: /content/sample_data/cats_dogs/train/dog/dog_barking_14.wav  \n",
            "  inflating: /content/sample_data/cats_dogs/train/dog/dog_barking_16.wav  \n",
            "  inflating: /content/sample_data/cats_dogs/train/dog/dog_barking_17.wav  \n",
            "  inflating: /content/sample_data/cats_dogs/train/dog/dog_barking_18.wav  \n",
            "  inflating: /content/sample_data/cats_dogs/train/dog/dog_barking_2.wav  \n",
            "  inflating: /content/sample_data/cats_dogs/train/dog/dog_barking_20.wav  \n",
            "  inflating: /content/sample_data/cats_dogs/train/dog/dog_barking_21.wav  \n",
            "  inflating: /content/sample_data/cats_dogs/train/dog/dog_barking_22.wav  \n",
            "  inflating: /content/sample_data/cats_dogs/train/dog/dog_barking_23.wav  \n",
            "  inflating: /content/sample_data/cats_dogs/train/dog/dog_barking_25.wav  \n",
            "  inflating: /content/sample_data/cats_dogs/train/dog/dog_barking_26.wav  \n",
            "  inflating: /content/sample_data/cats_dogs/train/dog/dog_barking_27.wav  \n",
            "  inflating: /content/sample_data/cats_dogs/train/dog/dog_barking_28.wav  \n",
            "  inflating: /content/sample_data/cats_dogs/train/dog/dog_barking_29.wav  \n",
            "  inflating: /content/sample_data/cats_dogs/train/dog/dog_barking_30.wav  \n",
            "  inflating: /content/sample_data/cats_dogs/train/dog/dog_barking_31.wav  \n",
            "  inflating: /content/sample_data/cats_dogs/train/dog/dog_barking_32.wav  \n",
            "  inflating: /content/sample_data/cats_dogs/train/dog/dog_barking_33.wav  \n",
            "  inflating: /content/sample_data/cats_dogs/train/dog/dog_barking_35.wav  \n",
            "  inflating: /content/sample_data/cats_dogs/train/dog/dog_barking_36.wav  \n",
            "  inflating: /content/sample_data/cats_dogs/train/dog/dog_barking_37.wav  \n",
            "  inflating: /content/sample_data/cats_dogs/train/dog/dog_barking_38.wav  \n",
            "  inflating: /content/sample_data/cats_dogs/train/dog/dog_barking_39.wav  \n",
            "  inflating: /content/sample_data/cats_dogs/train/dog/dog_barking_4.wav  \n",
            "  inflating: /content/sample_data/cats_dogs/train/dog/dog_barking_40.wav  \n",
            "  inflating: /content/sample_data/cats_dogs/train/dog/dog_barking_41.wav  \n",
            "  inflating: /content/sample_data/cats_dogs/train/dog/dog_barking_42.wav  \n",
            "  inflating: /content/sample_data/cats_dogs/train/dog/dog_barking_47.wav  \n",
            "  inflating: /content/sample_data/cats_dogs/train/dog/dog_barking_5.wav  \n",
            "  inflating: /content/sample_data/cats_dogs/train/dog/dog_barking_50.wav  \n",
            "  inflating: /content/sample_data/cats_dogs/train/dog/dog_barking_51.wav  \n",
            "  inflating: /content/sample_data/cats_dogs/train/dog/dog_barking_52.wav  \n",
            "  inflating: /content/sample_data/cats_dogs/train/dog/dog_barking_53.wav  \n",
            "  inflating: /content/sample_data/cats_dogs/train/dog/dog_barking_55.wav  \n",
            "  inflating: /content/sample_data/cats_dogs/train/dog/dog_barking_56.wav  \n",
            "  inflating: /content/sample_data/cats_dogs/train/dog/dog_barking_57.wav  \n",
            "  inflating: /content/sample_data/cats_dogs/train/dog/dog_barking_58.wav  \n",
            "  inflating: /content/sample_data/cats_dogs/train/dog/dog_barking_6.wav  \n",
            "  inflating: /content/sample_data/cats_dogs/train/dog/dog_barking_60.wav  \n",
            "  inflating: /content/sample_data/cats_dogs/train/dog/dog_barking_61.wav  \n",
            "  inflating: /content/sample_data/cats_dogs/train/dog/dog_barking_63.wav  \n",
            "  inflating: /content/sample_data/cats_dogs/train/dog/dog_barking_65.wav  \n",
            "  inflating: /content/sample_data/cats_dogs/train/dog/dog_barking_67.wav  \n",
            "  inflating: /content/sample_data/cats_dogs/train/dog/dog_barking_68.wav  \n",
            "  inflating: /content/sample_data/cats_dogs/train/dog/dog_barking_69.wav  \n",
            "  inflating: /content/sample_data/cats_dogs/train/dog/dog_barking_70.wav  \n",
            "  inflating: /content/sample_data/cats_dogs/train/dog/dog_barking_71.wav  \n",
            "  inflating: /content/sample_data/cats_dogs/train/dog/dog_barking_72.wav  \n",
            "  inflating: /content/sample_data/cats_dogs/train/dog/dog_barking_74.wav  \n",
            "  inflating: /content/sample_data/cats_dogs/train/dog/dog_barking_75.wav  \n",
            "  inflating: /content/sample_data/cats_dogs/train/dog/dog_barking_76.wav  \n",
            "  inflating: /content/sample_data/cats_dogs/train/dog/dog_barking_77.wav  \n",
            "  inflating: /content/sample_data/cats_dogs/train/dog/dog_barking_79.wav  \n",
            "  inflating: /content/sample_data/cats_dogs/train/dog/dog_barking_80.wav  \n",
            "  inflating: /content/sample_data/cats_dogs/train/dog/dog_barking_81.wav  \n",
            "  inflating: /content/sample_data/cats_dogs/train/dog/dog_barking_83.wav  \n",
            "  inflating: /content/sample_data/cats_dogs/train/dog/dog_barking_84.wav  \n",
            "  inflating: /content/sample_data/cats_dogs/train/dog/dog_barking_85.wav  \n",
            "  inflating: /content/sample_data/cats_dogs/train/dog/dog_barking_86.wav  \n",
            "  inflating: /content/sample_data/cats_dogs/train/dog/dog_barking_87.wav  \n",
            "  inflating: /content/sample_data/cats_dogs/train/dog/dog_barking_88.wav  \n",
            "  inflating: /content/sample_data/cats_dogs/train/dog/dog_barking_92.wav  \n",
            "  inflating: /content/sample_data/cats_dogs/train/dog/dog_barking_93.wav  \n",
            "  inflating: /content/sample_data/cats_dogs/train/dog/dog_barking_94.wav  \n",
            "  inflating: /content/sample_data/cats_dogs/train/dog/dog_barking_95.wav  \n",
            "  inflating: /content/sample_data/cats_dogs/train/dog/dog_barking_96.wav  \n",
            "  inflating: /content/sample_data/cats_dogs/train/dog/dog_barking_97.wav  \n",
            "  inflating: /content/sample_data/cats_dogs/train/dog/dog_barking_98.wav  \n",
            "  inflating: /content/sample_data/train_test_split.csv  \n",
            "  inflating: /content/sample_data/utils.py  \n"
          ],
          "name": "stdout"
        }
      ]
    },
    {
      "cell_type": "code",
      "metadata": {
        "id": "TMs5Le61Qeay",
        "colab_type": "code",
        "outputId": "dfe9a34e-c590-4dbb-81e7-7ea1e74266bd",
        "colab": {
          "base_uri": "https://localhost:8080/",
          "height": 34
        }
      },
      "source": [
        "from __future__ import absolute_import, division, print_function, unicode_literals\n",
        "from tensorflow import keras\n",
        "import numpy as np # linear algebra\n",
        "import pandas as pd # data processing, CSV file I/O (e.g. pd.read_csv)\n",
        "import scipy\n",
        "import scipy.io.wavfile as wavfile\n",
        "import sklearn\n",
        "import sklearn.metrics\n",
        "import seaborn as sns\n",
        "import random\n",
        "import math\n",
        "import sklearn.utils\n",
        "import sklearn.metrics\n",
        "import matplotlib.pyplot as plt\n",
        "import glob\n",
        "import os\n",
        "import scipy\n",
        "import scipy.signal\n",
        "import tensorflow as tf\n",
        "from imblearn.over_sampling import RandomOverSampler\n",
        "import IPython\n",
        "\n",
        "print(tf.version.VERSION)\n"
      ],
      "execution_count": 0,
      "outputs": [
        {
          "output_type": "stream",
          "text": [
            "1.15.0\n"
          ],
          "name": "stdout"
        }
      ]
    },
    {
      "cell_type": "code",
      "metadata": {
        "id": "D-2unp2xQf3P",
        "colab_type": "code",
        "colab": {}
      },
      "source": [
        "WAVE_FOLDER = '/content/sample_data/cats_dogs'\n",
        "FRAMERATE = 16000\n",
        "MAX_WAV_SAMPLES = 20*FRAMERATE\n",
        "DOWNSAMPLING_SCALE = 1\n",
        "\n",
        "df = pd.read_csv(\"/content/sample_data/train_test_split.csv\")\n",
        "test_cat = df[['test_cat']].dropna().rename(index=str, columns={\"test_cat\": \"file\"}).assign(label=0)\n",
        "test_dog = df[['test_dog']].dropna().rename(index=str, columns={\"test_dog\": \"file\"}).assign(label=1)\n",
        "train_cat = df[['train_cat']].dropna().rename(index=str, columns={\"train_cat\": \"file\"}).assign(label=0)\n",
        "train_dog = df[['train_dog']].dropna().rename(index=str, columns={\"train_dog\": \"file\"}).assign(label=1)\n",
        "\n",
        "test_df = pd.concat([test_cat, test_dog]).reset_index(drop=True)\n",
        "train_df = pd.concat([train_cat, train_dog]).reset_index(drop=True)"
      ],
      "execution_count": 0,
      "outputs": []
    },
    {
      "cell_type": "code",
      "metadata": {
        "id": "XYiqLvL5Q6bl",
        "colab_type": "code",
        "outputId": "0587cff6-f044-4097-9241-b067cc17c21c",
        "colab": {
          "base_uri": "https://localhost:8080/",
          "height": 555
        }
      },
      "source": [
        "def plot_spectrogram(file):\n",
        "    x = wavfile.read(file)[1]\n",
        "    f, t, Sxx = scipy.signal.spectrogram(x)\n",
        "    plt.pcolormesh(t, f, Sxx)\n",
        "    plt.ylabel('Frequency [Hz]')\n",
        "    plt.xlabel('Time [sample]')\n",
        "\n",
        "\n",
        "plt.figure(figsize=(50,50))\n",
        "for i in range(0,2,2):\n",
        "    plt.subplot(5,2,i+1)\n",
        "    plot_spectrogram(os.path.join(WAVE_FOLDER, test_cat.iloc[i]['file']))\n",
        "    plt.subplot(5,2,i+2)\n",
        "    plot_spectrogram(os.path.join(WAVE_FOLDER, test_dog.iloc[i]['file']))"
      ],
      "execution_count": 0,
      "outputs": [
        {
          "output_type": "display_data",
          "data": {
            "image/png": "[encoded data removed]",
            "text/plain": [
              "<Figure size 3600x3600 with 2 Axes>"
            ]
          },
          "metadata": {
            "tags": []
          }
        }
      ]
    },
    {
      "cell_type": "code",
      "metadata": {
        "id": "QohIHgvmmpiL",
        "colab_type": "code",
        "outputId": "264755d8-6cc9-45e1-fca2-3023c1d70c05",
        "colab": {
          "base_uri": "https://localhost:8080/",
          "height": 71
        }
      },
      "source": [
        "fig = plt.figure()\n",
        "def save_all_spectro(base ,path) :\n",
        "  for i in range(len(base)) :\n",
        "    img = base.iloc[i][\"file\"][:-3] + \"png\"\n",
        "    plt.axis(\"off\")\n",
        "    plot_spectrogram(os.path.join(\"/content/sample_data/cats_dogs\", base.iloc[i][\"file\"]))\n",
        "    fig.savefig(path + img,bbox_inches='tight',transparent=True, pad_inches=0)\n",
        "    plt.clf()\n",
        "\"\"\"\n",
        "\n",
        "plt.axis('off')\n",
        "plot_spectrogram(os.path.join(WAVE_FOLDER, test_cat.iloc[0]['file']))\n",
        "fig.savefig(\"/content/drive/My Drive/dataStage/cat_spec_0.png\",bbox_inches='tight',transparent=True, pad_inches=0)\n",
        "plt.clf()\n",
        "plt.axis('off')\n",
        "plot_spectrogram(os.path.join(WAVE_FOLDER, test_dog.iloc[0]['file']))\n",
        "fig.savefig(\"/content/drive/My Drive/dataStage/dog_spec_0.png\",bbox_inches='tight',transparent=True, pad_inches=0)\"\"\"\n"
      ],
      "execution_count": 0,
      "outputs": [
        {
          "output_type": "execute_result",
          "data": {
            "text/plain": [
              "'\\n\\nplt.axis(\\'off\\')\\nplot_spectrogram(os.path.join(WAVE_FOLDER, test_cat.iloc[0][\\'file\\']))\\nfig.savefig(\"/content/drive/My Drive/dataStage/cat_spec_0.png\",bbox_inches=\\'tight\\',transparent=True, pad_inches=0)\\nplt.clf()\\nplt.axis(\\'off\\')\\nplot_spectrogram(os.path.join(WAVE_FOLDER, test_dog.iloc[0][\\'file\\']))\\nfig.savefig(\"/content/drive/My Drive/dataStage/dog_spec_0.png\",bbox_inches=\\'tight\\',transparent=True, pad_inches=0)'"
            ]
          },
          "metadata": {
            "tags": []
          },
          "execution_count": 105
        },
        {
          "output_type": "display_data",
          "data": {
            "text/plain": [
              "<Figure size 432x288 with 0 Axes>"
            ]
          },
          "metadata": {
            "tags": []
          }
        }
      ]
    },
    {
      "cell_type": "code",
      "metadata": {
        "id": "ECI_9ULFaiVS",
        "colab_type": "code",
        "outputId": "f8dc6fff-0ba8-411f-e408-d0d988c7f450",
        "colab": {
          "base_uri": "https://localhost:8080/",
          "height": 34
        }
      },
      "source": [
        "\n",
        "save_all_spectro(train_cat, \"/content/sample_data/cats_dogs_spec/train/cats/\")\n",
        "save_all_spectro(train_dog, \"/content/sample_data/cats_dogs_spec/train/dogs/\")\n",
        "save_all_spectro(test_cat, \"/content/sample_data/cats_dogs_spec/test/cats/\")\n",
        "save_all_spectro(test_dog, \"/content/sample_data/cats_dogs_spec/test/dogs/\")"
      ],
      "execution_count": 0,
      "outputs": [
        {
          "output_type": "display_data",
          "data": {
            "text/plain": [
              "<Figure size 432x288 with 0 Axes>"
            ]
          },
          "metadata": {
            "tags": []
          }
        }
      ]
    },
    {
      "cell_type": "code",
      "metadata": {
        "id": "Pe3ue31wUeaw",
        "colab_type": "code",
        "colab": {}
      },
      "source": [
        "try :\n",
        "  os.makedirs(\"/content/sample_data/cats_dogs_spec\")\n",
        "  os.makedirs(\"/content/sample_data/cats_dogs_spec/test\")\n",
        "  os.makedirs(\"/content/sample_data/cats_dogs_spec/test/cats\")\n",
        "  os.makedirs(\"/content/sample_data/cats_dogs_spec/test/dogs\")\n",
        "  os.makedirs(\"/content/sample_data/cats_dogs_spec/train/cats\")\n",
        "  os.makedirs(\"/content/sample_data/cats_dogs_spec/train/dogs\")\n",
        "except OSError:\n",
        "  pass "
      ],
      "execution_count": 0,
      "outputs": []
    },
    {
      "cell_type": "code",
      "metadata": {
        "id": "XgfIpf0cJmSZ",
        "colab_type": "code",
        "colab": {}
      },
      "source": [
        "help(plt.figure)"
      ],
      "execution_count": 0,
      "outputs": []
    },
    {
      "cell_type": "code",
      "metadata": {
        "id": "VU03wbCpSv8p",
        "colab_type": "code",
        "outputId": "8a0b81b6-4ad0-49ca-bdcc-1dd82042fb93",
        "colab": {
          "base_uri": "https://localhost:8080/",
          "height": 285
        }
      },
      "source": [
        "#Histogramme du nombre de cris par type d'animaux (chat, chien)\n",
        "train_df['label'].plot.hist(bins=2)"
      ],
      "execution_count": 0,
      "outputs": [
        {
          "output_type": "execute_result",
          "data": {
            "text/plain": [
              "<matplotlib.axes._subplots.AxesSubplot at 0x7fad548a7470>"
            ]
          },
          "metadata": {
            "tags": []
          },
          "execution_count": 66
        },
        {
          "output_type": "display_data",
          "data": {
            "image/png": "[encoded data removed]",
            "text/plain": [
              "<Figure size 432x288 with 1 Axes>"
            ]
          },
          "metadata": {
            "tags": []
          }
        }
      ]
    },
    {
      "cell_type": "code",
      "metadata": {
        "id": "OQVMiqVQTn4V",
        "colab_type": "code",
        "outputId": "79d046e2-7b84-492c-def8-dd12141d78af",
        "colab": {
          "base_uri": "https://localhost:8080/",
          "height": 71
        }
      },
      "source": [
        "#Equilibrage des nombres de cris dans train_files, train_labels\n",
        "random_oversampler = RandomOverSampler()\n",
        "idx = np.arange(0, len(train_df)).reshape(-1, 1)\n",
        "idx_sampled, _ = random_oversampler.fit_sample(idx, train_df['label'])\n",
        "train_files, train_labels = train_df.iloc[idx_sampled.flatten()]['file'].values, train_df.iloc[idx_sampled.flatten()]['label'].values\n",
        "train_files, train_labels = sklearn.utils.shuffle(train_files, train_labels)\n",
        "test_files, test_labels = test_df['file'].values, test_df['label'].values\n",
        "\n"
      ],
      "execution_count": 0,
      "outputs": [
        {
          "output_type": "stream",
          "text": [
            "/usr/local/lib/python3.6/dist-packages/sklearn/utils/deprecation.py:87: FutureWarning: Function safe_indexing is deprecated; safe_indexing is deprecated in version 0.22 and will be removed in version 0.24.\n",
            "  warnings.warn(msg, category=FutureWarning)\n"
          ],
          "name": "stderr"
        }
      ]
    },
    {
      "cell_type": "code",
      "metadata": {
        "id": "cbDVt30zUald",
        "colab_type": "code",
        "outputId": "747a855c-f35e-45c7-b521-fadc82721805",
        "colab": {
          "base_uri": "https://localhost:8080/",
          "height": 268
        }
      },
      "source": [
        "#Historigramme après équilibrage\n",
        "pd.Series(train_labels).plot.hist(bins=2);"
      ],
      "execution_count": 0,
      "outputs": [
        {
          "output_type": "display_data",
          "data": {
            "image/png": "[encoded data removed]",
            "text/plain": [
              "<Figure size 432x288 with 1 Axes>"
            ]
          },
          "metadata": {
            "tags": []
          }
        }
      ]
    },
    {
      "cell_type": "code",
      "metadata": {
        "id": "xw-49Be5W-Al",
        "colab_type": "code",
        "colab": {}
      },
      "source": [
        "#Génére des batch, et des labels pour l'apprentissage\n",
        "def fit_generator(train_files, train_labels, wavs_per_batch=20, augments=5):\n",
        "    while True:\n",
        "        maxidx = len(train_files)\n",
        "        for i in range(0, maxidx, wavs_per_batch):\n",
        "            waves_batch = []\n",
        "            labels_batch = []\n",
        "            for j in range(i, min(maxidx, i+wavs_per_batch)):\n",
        "                file, label = train_files[j], train_labels[j]\n",
        "                wave_raw = wavfile.read(os.path.join(WAVE_FOLDER, file))[1]\n",
        "                wave_raw = wave_raw/np.std(wave_raw)\n",
        "                length = len(wave_raw)\n",
        "                waves_batch.append(np.pad(wave_raw, pad_width=((0, MAX_WAV_SAMPLES - length)), mode='wrap'))\n",
        "                labels_batch.append(label)\n",
        "                for _ in range(augments):\n",
        "                    wave_rotated = np.roll(wave_raw, random.randint(0, length))\n",
        "                    while random.choice([True, False]):\n",
        "                        wave_rotated += np.roll(wave_raw, random.randint(0, length))\n",
        "                    wave = np.pad(wave_rotated, pad_width=((0, MAX_WAV_SAMPLES - length)), mode='wrap')\n",
        "                    #wave = scipy.signal.decimate(wave, DOWNSAMPLING_SCALE)\n",
        "                    waves_batch.append(wave)\n",
        "                    labels_batch.append(label)\n",
        "            yield np.array(waves_batch), np.array(labels_batch)\n",
        "\n"
      ],
      "execution_count": 0,
      "outputs": []
    },
    {
      "cell_type": "code",
      "metadata": {
        "id": "-fEPNDf1Z9zg",
        "colab_type": "code",
        "colab": {}
      },
      "source": [
        "#Génére des batch, et des labels pour la validation\n",
        "def validate_generator(test_files, test_labels, wavs_per_batch=20):\n",
        "    while True:\n",
        "        maxidx = len(test_files)\n",
        "        for i in range(0, maxidx, wavs_per_batch):\n",
        "            waves_batch = []\n",
        "            labels_batch = []\n",
        "            for j in range(i, min(maxidx, i+wavs_per_batch)):\n",
        "                file, label = test_files[j], test_labels[j]\n",
        "                wave_raw = wavfile.read(os.path.join(WAVE_FOLDER, file))[1]\n",
        "                wave_raw = wave_raw/np.std(wave_raw)\n",
        "                length = len(wave_raw)\n",
        "                left = 0\n",
        "                right = MAX_WAV_SAMPLES - left - length\n",
        "                wave = np.pad(wave_raw, pad_width=((left, right)), mode='wrap')\n",
        "                #wave = scipy.signal.decimate(wave, DOWNSAMPLING_SCALE)\n",
        "                waves_batch.append(wave)\n",
        "                labels_batch.append(label)\n",
        "            yield np.array(waves_batch), np.array(labels_batch)"
      ],
      "execution_count": 0,
      "outputs": []
    },
    {
      "cell_type": "code",
      "metadata": {
        "id": "V9xH3m7zbH2V",
        "colab_type": "code",
        "colab": {}
      },
      "source": [
        "def steps_per_epoch(wavs_per_epoch, wavs_per_batch):\n",
        "    return int(math.ceil(wavs_per_epoch/wavs_per_batch))"
      ],
      "execution_count": 0,
      "outputs": []
    },
    {
      "cell_type": "code",
      "metadata": {
        "id": "7U-doLlmMxaL",
        "colab_type": "code",
        "colab": {}
      },
      "source": [
        "checkpoint_path = \"/content/drive/My Drive/savemodel/model\"\n",
        "checkpoint_dir = os.path.dirname(checkpoint_path)\n",
        "\n",
        "cp_callback = tf.keras.callbacks.ModelCheckpoint(filepath=checkpoint_path,\n",
        "                                                 save_weights_only=True,\n",
        "                                                 verbose=1)\n",
        "\n"
      ],
      "execution_count": 0,
      "outputs": []
    },
    {
      "cell_type": "code",
      "metadata": {
        "id": "mW0MlKAGb-UL",
        "colab_type": "code",
        "colab": {}
      },
      "source": [
        "#Création du model\n",
        "model = tf.keras.models.Sequential()\n",
        "model.add(tf.keras.layers.Reshape((MAX_WAV_SAMPLES//DOWNSAMPLING_SCALE,1), input_shape=(MAX_WAV_SAMPLES//DOWNSAMPLING_SCALE,)))\n",
        "for i in range(14):\n",
        "    model.add(tf.keras.layers.Conv1D(32, kernel_size=5, \n",
        "                                     padding='same',\n",
        "                                     activation='relu',\n",
        "                                     kernel_initializer=tf.keras.initializers.Orthogonal(),\n",
        "                                    ))\n",
        "    model.add(tf.keras.layers.MaxPooling1D(pool_size=3, strides=2))\n",
        "    model.add(tf.keras.layers.BatchNormalization())\n",
        "\n",
        "model.add(tf.keras.layers.Flatten())\n",
        "model.add(tf.keras.layers.BatchNormalization())\n",
        "model.add(tf.keras.layers.Dense(2, activation='softmax'))\n",
        "\n",
        "model.compile(optimizer=tf.keras.optimizers.Adam(0.0005),\n",
        "              loss=tf.keras.losses.sparse_categorical_crossentropy,\n",
        "              metrics=['accuracy']\n",
        "             )"
      ],
      "execution_count": 0,
      "outputs": []
    },
    {
      "cell_type": "code",
      "metadata": {
        "id": "du7iAeo9d9uJ",
        "colab_type": "code",
        "outputId": "98fb18f8-d589-4094-fcd5-3a0da87495a1",
        "colab": {
          "base_uri": "https://localhost:8080/",
          "height": 1000
        }
      },
      "source": [
        "#Apprentissage\n",
        "WAVS_PER_BATCH = 3\n",
        "AUGMENTS = 10\n",
        "EPOCHS=15\n",
        "model.fit_generator(fit_generator(train_files, train_labels, WAVS_PER_BATCH, AUGMENTS),\n",
        "                    steps_per_epoch=steps_per_epoch(len(train_files), WAVS_PER_BATCH),\n",
        "                    epochs = EPOCHS,\n",
        "                    validation_data=validate_generator(test_files, test_labels, WAVS_PER_BATCH),\n",
        "                    validation_steps=steps_per_epoch(len(test_files), WAVS_PER_BATCH),\n",
        "                    callbacks = [cp_callback],\n",
        "                    verbose=2)"
      ],
      "execution_count": 0,
      "outputs": [
        {
          "output_type": "stream",
          "text": [
            "Epoch 1/15\n",
            "Epoch 1/15\n",
            "\n",
            "Epoch 00001: saving model to /content/drive/My Drive/savemodel/model\n",
            "77/77 - 39s - loss: 0.7229 - acc: 0.6719 - val_loss: 0.7683 - val_acc: 0.5000\n",
            "Epoch 2/15\n",
            "Epoch 1/15\n",
            "\n",
            "Epoch 00002: saving model to /content/drive/My Drive/savemodel/model\n",
            "77/77 - 30s - loss: 0.6495 - acc: 0.6957 - val_loss: 0.7792 - val_acc: 0.5000\n",
            "Epoch 3/15\n",
            "Epoch 1/15\n",
            "\n",
            "Epoch 00003: saving model to /content/drive/My Drive/savemodel/model\n",
            "77/77 - 30s - loss: 0.5669 - acc: 0.7403 - val_loss: 0.5865 - val_acc: 0.7041\n",
            "Epoch 4/15\n",
            "Epoch 1/15\n",
            "\n",
            "Epoch 00004: saving model to /content/drive/My Drive/savemodel/model\n",
            "77/77 - 30s - loss: 0.5416 - acc: 0.7609 - val_loss: 0.5059 - val_acc: 0.7755\n",
            "Epoch 5/15\n",
            "Epoch 1/15\n",
            "\n",
            "Epoch 00005: saving model to /content/drive/My Drive/savemodel/model\n",
            "77/77 - 30s - loss: 0.4977 - acc: 0.7684 - val_loss: 0.3281 - val_acc: 0.8673\n",
            "Epoch 6/15\n",
            "Epoch 1/15\n",
            "\n",
            "Epoch 00006: saving model to /content/drive/My Drive/savemodel/model\n",
            "77/77 - 30s - loss: 0.4734 - acc: 0.7996 - val_loss: 0.2642 - val_acc: 0.9082\n",
            "Epoch 7/15\n",
            "Epoch 1/15\n",
            "\n",
            "Epoch 00007: saving model to /content/drive/My Drive/savemodel/model\n",
            "77/77 - 30s - loss: 0.4463 - acc: 0.7953 - val_loss: 0.2914 - val_acc: 0.9082\n",
            "Epoch 8/15\n",
            "Epoch 1/15\n",
            "\n",
            "Epoch 00008: saving model to /content/drive/My Drive/savemodel/model\n",
            "77/77 - 30s - loss: 0.4185 - acc: 0.8103 - val_loss: 0.1989 - val_acc: 0.9388\n",
            "Epoch 9/15\n",
            "Epoch 1/15\n",
            "\n",
            "Epoch 00009: saving model to /content/drive/My Drive/savemodel/model\n",
            "77/77 - 30s - loss: 0.4076 - acc: 0.8123 - val_loss: 0.2285 - val_acc: 0.9184\n",
            "Epoch 10/15\n",
            "Epoch 1/15\n",
            "\n",
            "Epoch 00010: saving model to /content/drive/My Drive/savemodel/model\n",
            "77/77 - 30s - loss: 0.3868 - acc: 0.8146 - val_loss: 0.1970 - val_acc: 0.9286\n",
            "Epoch 11/15\n",
            "Epoch 1/15\n",
            "\n",
            "Epoch 00011: saving model to /content/drive/My Drive/savemodel/model\n",
            "77/77 - 30s - loss: 0.3818 - acc: 0.8099 - val_loss: 0.3179 - val_acc: 0.8878\n",
            "Epoch 12/15\n",
            "Epoch 1/15\n",
            "\n",
            "Epoch 00012: saving model to /content/drive/My Drive/savemodel/model\n",
            "77/77 - 30s - loss: 0.3671 - acc: 0.8111 - val_loss: 0.2252 - val_acc: 0.8878\n",
            "Epoch 13/15\n",
            "Epoch 1/15\n",
            "\n",
            "Epoch 00013: saving model to /content/drive/My Drive/savemodel/model\n",
            "77/77 - 30s - loss: 0.3648 - acc: 0.8087 - val_loss: 0.3062 - val_acc: 0.8776\n",
            "Epoch 14/15\n",
            "Epoch 1/15\n",
            "\n",
            "Epoch 00014: saving model to /content/drive/My Drive/savemodel/model\n",
            "77/77 - 30s - loss: 0.3268 - acc: 0.8332 - val_loss: 0.2582 - val_acc: 0.9184\n",
            "Epoch 15/15\n",
            "Epoch 1/15\n",
            "\n",
            "Epoch 00015: saving model to /content/drive/My Drive/savemodel/model\n",
            "77/77 - 30s - loss: 0.3511 - acc: 0.8344 - val_loss: 0.2983 - val_acc: 0.8980\n"
          ],
          "name": "stdout"
        },
        {
          "output_type": "execute_result",
          "data": {
            "text/plain": [
              "<tensorflow.python.keras.callbacks.History at 0x7fad53f2f240>"
            ]
          },
          "metadata": {
            "tags": []
          },
          "execution_count": 78
        }
      ]
    },
    {
      "cell_type": "code",
      "metadata": {
        "id": "QK8RR15Ye2gl",
        "colab_type": "code",
        "outputId": "e5190004-3fb4-4d77-8fa3-bb77428d1b19",
        "colab": {
          "base_uri": "https://localhost:8080/",
          "height": 282
        }
      },
      "source": [
        "#Matrice de confusion\n",
        "predicted_probs = model.predict_generator(\n",
        "    validate_generator(test_files, test_labels, WAVS_PER_BATCH),\n",
        "    steps=steps_per_epoch(len(test_files), WAVS_PER_BATCH))\n",
        "predicted_classes = np.argmax(predicted_probs, axis=1)\n",
        "print(sklearn.metrics.accuracy_score(predicted_classes, test_labels))\n",
        "sns.heatmap(sklearn.metrics.confusion_matrix(predicted_classes, test_labels), annot=True);"
      ],
      "execution_count": 0,
      "outputs": [
        {
          "output_type": "stream",
          "text": [
            "0.8979591836734694\n"
          ],
          "name": "stdout"
        },
        {
          "output_type": "display_data",
          "data": {
            "image/png": "[encoded data removed]",
            "text/plain": [
              "<Figure size 432x288 with 2 Axes>"
            ]
          },
          "metadata": {
            "tags": []
          }
        }
      ]
    },
    {
      "cell_type": "code",
      "metadata": {
        "id": "ygKIo1zapva_",
        "colab_type": "code",
        "colab": {}
      },
      "source": [
        "\n",
        "# test sur un wav particulier\n",
        "aFile = \"/content/sample_data/cats_dogs/test/cats/cat_110.wav\"\n",
        "\n",
        "wave_raw = wavfile.read(aFile)[1]\n",
        "wave_raw = wave_raw/np.std(wave_raw)\n",
        "length = len(wave_raw)\n",
        "left = 0\n",
        "right = MAX_WAV_SAMPLES - left - length\n",
        "wave = np.pad(wave_raw, pad_width=((left, right)), mode='wrap')\n",
        "\n"
      ],
      "execution_count": 0,
      "outputs": []
    },
    {
      "cell_type": "code",
      "metadata": {
        "id": "0_eerpTVDocE",
        "colab_type": "code",
        "outputId": "002c0a9b-9f98-46ab-b85d-b926437cce38",
        "colab": {
          "base_uri": "https://localhost:8080/",
          "height": 51
        }
      },
      "source": [
        "print(type(wave))\n",
        "\n",
        "print(wave.shape)"
      ],
      "execution_count": 0,
      "outputs": [
        {
          "output_type": "stream",
          "text": [
            "<class 'numpy.ndarray'>\n",
            "(320000,)\n"
          ],
          "name": "stdout"
        }
      ]
    },
    {
      "cell_type": "code",
      "metadata": {
        "id": "mKzYIjaRDLDB",
        "colab_type": "code",
        "outputId": "6274b2d2-3445-4db1-9ca4-d91984a268be",
        "colab": {
          "base_uri": "https://localhost:8080/",
          "height": 34
        }
      },
      "source": [
        "wave = wave.reshape( (1,wave.size) )\n",
        "\n",
        "resu = model.predict(wave)\n",
        "print(resu)"
      ],
      "execution_count": 0,
      "outputs": [
        {
          "output_type": "stream",
          "text": [
            "[[0.77998054 0.2200195 ]]\n"
          ],
          "name": "stdout"
        }
      ]
    },
    {
      "cell_type": "code",
      "metadata": {
        "id": "XLN9QXi0FXPV",
        "colab_type": "code",
        "outputId": "1ec3b1a3-1d32-43fa-ec3a-33abe009f5af",
        "colab": {
          "base_uri": "https://localhost:8080/",
          "height": 51
        }
      },
      "source": [
        "# test sur un wav particulier\n",
        "files = [\"/content/sample_data/cats_dogs/test/cats/cat_110.wav\",\"/content/sample_data/cats_dogs/train/dog/dog_barking_10.wav\"]\n",
        "\n",
        "waves = []\n",
        "for aFile in files:\n",
        "  \n",
        "  wave_raw = wavfile.read(aFile)[1]\n",
        "  wave_raw = wave_raw/np.std(wave_raw)\n",
        "  length = len(wave_raw)\n",
        "  left = 0\n",
        "  right = MAX_WAV_SAMPLES - left - length\n",
        "  wave = np.pad(wave_raw, pad_width=((left, right)), mode='wrap')\n",
        "  wave = wave.reshape( (1,wave.size) )\n",
        "  print(wave.shape)\n",
        "\n",
        "  if len(waves) == 0 :\n",
        "    waves = wave\n",
        "  else :\n",
        "    waves = np.concatenate((waves, wave), axis = 0)\n"
      ],
      "execution_count": 0,
      "outputs": [
        {
          "output_type": "stream",
          "text": [
            "(1, 320000)\n",
            "(1, 320000)\n"
          ],
          "name": "stdout"
        }
      ]
    },
    {
      "cell_type": "code",
      "metadata": {
        "id": "tLGI6CVLHVL-",
        "colab_type": "code",
        "outputId": "72a21b65-9314-4910-fd31-7fdfeedd90a9",
        "colab": {
          "base_uri": "https://localhost:8080/",
          "height": 34
        }
      },
      "source": [
        "print(waves.shape)"
      ],
      "execution_count": 0,
      "outputs": [
        {
          "output_type": "stream",
          "text": [
            "(2, 320000)\n"
          ],
          "name": "stdout"
        }
      ]
    },
    {
      "cell_type": "code",
      "metadata": {
        "id": "pdXI2HRXIaih",
        "colab_type": "code",
        "outputId": "8b94c37b-cbd4-4f7a-d9fa-154152e34172",
        "colab": {
          "base_uri": "https://localhost:8080/",
          "height": 51
        }
      },
      "source": [
        "resu = model.predict(waves)\n",
        "print(resu)"
      ],
      "execution_count": 0,
      "outputs": [
        {
          "output_type": "stream",
          "text": [
            "[[0.7799804  0.22001958]\n",
            " [0.00720245 0.99279755]]\n"
          ],
          "name": "stdout"
        }
      ]
    },
    {
      "cell_type": "code",
      "metadata": {
        "id": "7izCYKE2oK55",
        "colab_type": "code",
        "outputId": "261d71f8-b75c-4f77-a9e9-dd404e76ee16",
        "colab": {
          "base_uri": "https://localhost:8080/",
          "height": 1000
        }
      },
      "source": [
        "\n",
        "#model1.load_weights(checkpoint_path)"
      ],
      "execution_count": 0,
      "outputs": [
        {
          "output_type": "stream",
          "text": [
            "WARNING:tensorflow:Unresolved object in checkpoint: (root).layer-0\n",
            "WARNING:tensorflow:Unresolved object in checkpoint: (root).layer-1\n",
            "WARNING:tensorflow:Unresolved object in checkpoint: (root).layer_with_weights-0\n",
            "WARNING:tensorflow:Unresolved object in checkpoint: (root).layer-3\n",
            "WARNING:tensorflow:Unresolved object in checkpoint: (root).layer_with_weights-1\n",
            "WARNING:tensorflow:Unresolved object in checkpoint: (root).layer_with_weights-2\n",
            "WARNING:tensorflow:Unresolved object in checkpoint: (root).layer-6\n",
            "WARNING:tensorflow:Unresolved object in checkpoint: (root).layer_with_weights-3\n",
            "WARNING:tensorflow:Unresolved object in checkpoint: (root).layer_with_weights-4\n",
            "WARNING:tensorflow:Unresolved object in checkpoint: (root).layer-9\n",
            "WARNING:tensorflow:Unresolved object in checkpoint: (root).layer_with_weights-5\n",
            "WARNING:tensorflow:Unresolved object in checkpoint: (root).layer_with_weights-6\n",
            "WARNING:tensorflow:Unresolved object in checkpoint: (root).layer-12\n",
            "WARNING:tensorflow:Unresolved object in checkpoint: (root).layer_with_weights-7\n",
            "WARNING:tensorflow:Unresolved object in checkpoint: (root).layer_with_weights-8\n",
            "WARNING:tensorflow:Unresolved object in checkpoint: (root).layer-15\n",
            "WARNING:tensorflow:Unresolved object in checkpoint: (root).layer_with_weights-9\n",
            "WARNING:tensorflow:Unresolved object in checkpoint: (root).layer_with_weights-10\n",
            "WARNING:tensorflow:Unresolved object in checkpoint: (root).layer-18\n",
            "WARNING:tensorflow:Unresolved object in checkpoint: (root).layer_with_weights-11\n",
            "WARNING:tensorflow:Unresolved object in checkpoint: (root).layer_with_weights-12\n",
            "WARNING:tensorflow:Unresolved object in checkpoint: (root).layer-21\n",
            "WARNING:tensorflow:Unresolved object in checkpoint: (root).layer_with_weights-13\n",
            "WARNING:tensorflow:Unresolved object in checkpoint: (root).layer_with_weights-14\n",
            "WARNING:tensorflow:Unresolved object in checkpoint: (root).layer-24\n",
            "WARNING:tensorflow:Unresolved object in checkpoint: (root).layer_with_weights-15\n",
            "WARNING:tensorflow:Unresolved object in checkpoint: (root).layer_with_weights-16\n",
            "WARNING:tensorflow:Unresolved object in checkpoint: (root).layer-27\n",
            "WARNING:tensorflow:Unresolved object in checkpoint: (root).layer_with_weights-17\n",
            "WARNING:tensorflow:Unresolved object in checkpoint: (root).layer_with_weights-18\n",
            "WARNING:tensorflow:Unresolved object in checkpoint: (root).layer-30\n",
            "WARNING:tensorflow:Unresolved object in checkpoint: (root).layer_with_weights-19\n",
            "WARNING:tensorflow:Unresolved object in checkpoint: (root).layer_with_weights-20\n",
            "WARNING:tensorflow:Unresolved object in checkpoint: (root).layer-33\n",
            "WARNING:tensorflow:Unresolved object in checkpoint: (root).layer_with_weights-21\n",
            "WARNING:tensorflow:Unresolved object in checkpoint: (root).layer_with_weights-22\n",
            "WARNING:tensorflow:Unresolved object in checkpoint: (root).layer-36\n",
            "WARNING:tensorflow:Unresolved object in checkpoint: (root).layer_with_weights-23\n",
            "WARNING:tensorflow:Unresolved object in checkpoint: (root).layer_with_weights-24\n",
            "WARNING:tensorflow:Unresolved object in checkpoint: (root).layer-39\n",
            "WARNING:tensorflow:Unresolved object in checkpoint: (root).layer_with_weights-25\n",
            "WARNING:tensorflow:Unresolved object in checkpoint: (root).layer_with_weights-26\n",
            "WARNING:tensorflow:Unresolved object in checkpoint: (root).layer-42\n",
            "WARNING:tensorflow:Unresolved object in checkpoint: (root).layer_with_weights-27\n",
            "WARNING:tensorflow:Unresolved object in checkpoint: (root).layer-44\n",
            "WARNING:tensorflow:Unresolved object in checkpoint: (root).layer_with_weights-28\n",
            "WARNING:tensorflow:Unresolved object in checkpoint: (root).layer_with_weights-29\n",
            "WARNING:tensorflow:Unresolved object in checkpoint: (root).optimizer\n",
            "WARNING:tensorflow:Unresolved object in checkpoint: (root).layer_with_weights-0.kernel\n",
            "WARNING:tensorflow:Unresolved object in checkpoint: (root).layer_with_weights-0.bias\n",
            "WARNING:tensorflow:Unresolved object in checkpoint: (root).layer_with_weights-1.axis\n",
            "WARNING:tensorflow:Unresolved object in checkpoint: (root).layer_with_weights-1.gamma\n",
            "WARNING:tensorflow:Unresolved object in checkpoint: (root).layer_with_weights-1.beta\n",
            "WARNING:tensorflow:Unresolved object in checkpoint: (root).layer_with_weights-1.moving_mean\n",
            "WARNING:tensorflow:Unresolved object in checkpoint: (root).layer_with_weights-1.moving_variance\n",
            "WARNING:tensorflow:Unresolved object in checkpoint: (root).layer_with_weights-1._updates\n",
            "WARNING:tensorflow:Unresolved object in checkpoint: (root).layer_with_weights-2.kernel\n",
            "WARNING:tensorflow:Unresolved object in checkpoint: (root).layer_with_weights-2.bias\n",
            "WARNING:tensorflow:Unresolved object in checkpoint: (root).layer_with_weights-3.axis\n",
            "WARNING:tensorflow:Unresolved object in checkpoint: (root).layer_with_weights-3.gamma\n",
            "WARNING:tensorflow:Unresolved object in checkpoint: (root).layer_with_weights-3.beta\n",
            "WARNING:tensorflow:Unresolved object in checkpoint: (root).layer_with_weights-3.moving_mean\n",
            "WARNING:tensorflow:Unresolved object in checkpoint: (root).layer_with_weights-3.moving_variance\n",
            "WARNING:tensorflow:Unresolved object in checkpoint: (root).layer_with_weights-3._updates\n",
            "WARNING:tensorflow:Unresolved object in checkpoint: (root).layer_with_weights-4.kernel\n",
            "WARNING:tensorflow:Unresolved object in checkpoint: (root).layer_with_weights-4.bias\n",
            "WARNING:tensorflow:Unresolved object in checkpoint: (root).layer_with_weights-5.axis\n",
            "WARNING:tensorflow:Unresolved object in checkpoint: (root).layer_with_weights-5.gamma\n",
            "WARNING:tensorflow:Unresolved object in checkpoint: (root).layer_with_weights-5.beta\n",
            "WARNING:tensorflow:Unresolved object in checkpoint: (root).layer_with_weights-5.moving_mean\n",
            "WARNING:tensorflow:Unresolved object in checkpoint: (root).layer_with_weights-5.moving_variance\n",
            "WARNING:tensorflow:Unresolved object in checkpoint: (root).layer_with_weights-5._updates\n",
            "WARNING:tensorflow:Unresolved object in checkpoint: (root).layer_with_weights-6.kernel\n",
            "WARNING:tensorflow:Unresolved object in checkpoint: (root).layer_with_weights-6.bias\n",
            "WARNING:tensorflow:Unresolved object in checkpoint: (root).layer_with_weights-7.axis\n",
            "WARNING:tensorflow:Unresolved object in checkpoint: (root).layer_with_weights-7.gamma\n",
            "WARNING:tensorflow:Unresolved object in checkpoint: (root).layer_with_weights-7.beta\n",
            "WARNING:tensorflow:Unresolved object in checkpoint: (root).layer_with_weights-7.moving_mean\n",
            "WARNING:tensorflow:Unresolved object in checkpoint: (root).layer_with_weights-7.moving_variance\n",
            "WARNING:tensorflow:Unresolved object in checkpoint: (root).layer_with_weights-7._updates\n",
            "WARNING:tensorflow:Unresolved object in checkpoint: (root).layer_with_weights-8.kernel\n",
            "WARNING:tensorflow:Unresolved object in checkpoint: (root).layer_with_weights-8.bias\n",
            "WARNING:tensorflow:Unresolved object in checkpoint: (root).layer_with_weights-9.axis\n",
            "WARNING:tensorflow:Unresolved object in checkpoint: (root).layer_with_weights-9.gamma\n",
            "WARNING:tensorflow:Unresolved object in checkpoint: (root).layer_with_weights-9.beta\n",
            "WARNING:tensorflow:Unresolved object in checkpoint: (root).layer_with_weights-9.moving_mean\n",
            "WARNING:tensorflow:Unresolved object in checkpoint: (root).layer_with_weights-9.moving_variance\n",
            "WARNING:tensorflow:Unresolved object in checkpoint: (root).layer_with_weights-9._updates\n",
            "WARNING:tensorflow:Unresolved object in checkpoint: (root).layer_with_weights-10.kernel\n",
            "WARNING:tensorflow:Unresolved object in checkpoint: (root).layer_with_weights-10.bias\n",
            "WARNING:tensorflow:Unresolved object in checkpoint: (root).layer_with_weights-11.axis\n",
            "WARNING:tensorflow:Unresolved object in checkpoint: (root).layer_with_weights-11.gamma\n",
            "WARNING:tensorflow:Unresolved object in checkpoint: (root).layer_with_weights-11.beta\n",
            "WARNING:tensorflow:Unresolved object in checkpoint: (root).layer_with_weights-11.moving_mean\n",
            "WARNING:tensorflow:Unresolved object in checkpoint: (root).layer_with_weights-11.moving_variance\n",
            "WARNING:tensorflow:Unresolved object in checkpoint: (root).layer_with_weights-11._updates\n",
            "WARNING:tensorflow:Unresolved object in checkpoint: (root).layer_with_weights-12.kernel\n",
            "WARNING:tensorflow:Unresolved object in checkpoint: (root).layer_with_weights-12.bias\n",
            "WARNING:tensorflow:Unresolved object in checkpoint: (root).layer_with_weights-13.axis\n",
            "WARNING:tensorflow:Unresolved object in checkpoint: (root).layer_with_weights-13.gamma\n",
            "WARNING:tensorflow:Unresolved object in checkpoint: (root).layer_with_weights-13.beta\n",
            "WARNING:tensorflow:Unresolved object in checkpoint: (root).layer_with_weights-13.moving_mean\n",
            "WARNING:tensorflow:Unresolved object in checkpoint: (root).layer_with_weights-13.moving_variance\n",
            "WARNING:tensorflow:Unresolved object in checkpoint: (root).layer_with_weights-13._updates\n",
            "WARNING:tensorflow:Unresolved object in checkpoint: (root).layer_with_weights-14.kernel\n",
            "WARNING:tensorflow:Unresolved object in checkpoint: (root).layer_with_weights-14.bias\n",
            "WARNING:tensorflow:Unresolved object in checkpoint: (root).layer_with_weights-15.axis\n",
            "WARNING:tensorflow:Unresolved object in checkpoint: (root).layer_with_weights-15.gamma\n",
            "WARNING:tensorflow:Unresolved object in checkpoint: (root).layer_with_weights-15.beta\n",
            "WARNING:tensorflow:Unresolved object in checkpoint: (root).layer_with_weights-15.moving_mean\n",
            "WARNING:tensorflow:Unresolved object in checkpoint: (root).layer_with_weights-15.moving_variance\n",
            "WARNING:tensorflow:Unresolved object in checkpoint: (root).layer_with_weights-15._updates\n",
            "WARNING:tensorflow:Unresolved object in checkpoint: (root).layer_with_weights-16.kernel\n",
            "WARNING:tensorflow:Unresolved object in checkpoint: (root).layer_with_weights-16.bias\n",
            "WARNING:tensorflow:Unresolved object in checkpoint: (root).layer_with_weights-17.axis\n",
            "WARNING:tensorflow:Unresolved object in checkpoint: (root).layer_with_weights-17.gamma\n",
            "WARNING:tensorflow:Unresolved object in checkpoint: (root).layer_with_weights-17.beta\n",
            "WARNING:tensorflow:Unresolved object in checkpoint: (root).layer_with_weights-17.moving_mean\n",
            "WARNING:tensorflow:Unresolved object in checkpoint: (root).layer_with_weights-17.moving_variance\n",
            "WARNING:tensorflow:Unresolved object in checkpoint: (root).layer_with_weights-17._updates\n",
            "WARNING:tensorflow:Unresolved object in checkpoint: (root).layer_with_weights-18.kernel\n",
            "WARNING:tensorflow:Unresolved object in checkpoint: (root).layer_with_weights-18.bias\n",
            "WARNING:tensorflow:Unresolved object in checkpoint: (root).layer_with_weights-19.axis\n",
            "WARNING:tensorflow:Unresolved object in checkpoint: (root).layer_with_weights-19.gamma\n",
            "WARNING:tensorflow:Unresolved object in checkpoint: (root).layer_with_weights-19.beta\n",
            "WARNING:tensorflow:Unresolved object in checkpoint: (root).layer_with_weights-19.moving_mean\n",
            "WARNING:tensorflow:Unresolved object in checkpoint: (root).layer_with_weights-19.moving_variance\n",
            "WARNING:tensorflow:Unresolved object in checkpoint: (root).layer_with_weights-19._updates\n",
            "WARNING:tensorflow:Unresolved object in checkpoint: (root).layer_with_weights-20.kernel\n",
            "WARNING:tensorflow:Unresolved object in checkpoint: (root).layer_with_weights-20.bias\n",
            "WARNING:tensorflow:Unresolved object in checkpoint: (root).layer_with_weights-21.axis\n",
            "WARNING:tensorflow:Unresolved object in checkpoint: (root).layer_with_weights-21.gamma\n",
            "WARNING:tensorflow:Unresolved object in checkpoint: (root).layer_with_weights-21.beta\n",
            "WARNING:tensorflow:Unresolved object in checkpoint: (root).layer_with_weights-21.moving_mean\n",
            "WARNING:tensorflow:Unresolved object in checkpoint: (root).layer_with_weights-21.moving_variance\n",
            "WARNING:tensorflow:Unresolved object in checkpoint: (root).layer_with_weights-21._updates\n",
            "WARNING:tensorflow:Unresolved object in checkpoint: (root).layer_with_weights-22.kernel\n",
            "WARNING:tensorflow:Unresolved object in checkpoint: (root).layer_with_weights-22.bias\n",
            "WARNING:tensorflow:Unresolved object in checkpoint: (root).layer_with_weights-23.axis\n",
            "WARNING:tensorflow:Unresolved object in checkpoint: (root).layer_with_weights-23.gamma\n",
            "WARNING:tensorflow:Unresolved object in checkpoint: (root).layer_with_weights-23.beta\n",
            "WARNING:tensorflow:Unresolved object in checkpoint: (root).layer_with_weights-23.moving_mean\n",
            "WARNING:tensorflow:Unresolved object in checkpoint: (root).layer_with_weights-23.moving_variance\n",
            "WARNING:tensorflow:Unresolved object in checkpoint: (root).layer_with_weights-23._updates\n",
            "WARNING:tensorflow:Unresolved object in checkpoint: (root).layer_with_weights-24.kernel\n",
            "WARNING:tensorflow:Unresolved object in checkpoint: (root).layer_with_weights-24.bias\n",
            "WARNING:tensorflow:Unresolved object in checkpoint: (root).layer_with_weights-25.axis\n",
            "WARNING:tensorflow:Unresolved object in checkpoint: (root).layer_with_weights-25.gamma\n",
            "WARNING:tensorflow:Unresolved object in checkpoint: (root).layer_with_weights-25.beta\n",
            "WARNING:tensorflow:Unresolved object in checkpoint: (root).layer_with_weights-25.moving_mean\n",
            "WARNING:tensorflow:Unresolved object in checkpoint: (root).layer_with_weights-25.moving_variance\n",
            "WARNING:tensorflow:Unresolved object in checkpoint: (root).layer_with_weights-25._updates\n",
            "WARNING:tensorflow:Unresolved object in checkpoint: (root).layer_with_weights-26.kernel\n",
            "WARNING:tensorflow:Unresolved object in checkpoint: (root).layer_with_weights-26.bias\n",
            "WARNING:tensorflow:Unresolved object in checkpoint: (root).layer_with_weights-27.axis\n",
            "WARNING:tensorflow:Unresolved object in checkpoint: (root).layer_with_weights-27.gamma\n",
            "WARNING:tensorflow:Unresolved object in checkpoint: (root).layer_with_weights-27.beta\n",
            "WARNING:tensorflow:Unresolved object in checkpoint: (root).layer_with_weights-27.moving_mean\n",
            "WARNING:tensorflow:Unresolved object in checkpoint: (root).layer_with_weights-27.moving_variance\n",
            "WARNING:tensorflow:Unresolved object in checkpoint: (root).layer_with_weights-27._updates\n",
            "WARNING:tensorflow:Unresolved object in checkpoint: (root).layer_with_weights-28.axis\n",
            "WARNING:tensorflow:Unresolved object in checkpoint: (root).layer_with_weights-28.gamma\n",
            "WARNING:tensorflow:Unresolved object in checkpoint: (root).layer_with_weights-28.beta\n",
            "WARNING:tensorflow:Unresolved object in checkpoint: (root).layer_with_weights-28.moving_mean\n",
            "WARNING:tensorflow:Unresolved object in checkpoint: (root).layer_with_weights-28.moving_variance\n",
            "WARNING:tensorflow:Unresolved object in checkpoint: (root).layer_with_weights-28._updates\n",
            "WARNING:tensorflow:Unresolved object in checkpoint: (root).layer_with_weights-29.kernel\n",
            "WARNING:tensorflow:Unresolved object in checkpoint: (root).layer_with_weights-29.bias\n",
            "WARNING:tensorflow:Unresolved object in checkpoint: (root).optimizer.iter\n",
            "WARNING:tensorflow:Unresolved object in checkpoint: (root).optimizer.beta_1\n",
            "WARNING:tensorflow:Unresolved object in checkpoint: (root).optimizer.beta_2\n",
            "WARNING:tensorflow:Unresolved object in checkpoint: (root).optimizer.decay\n",
            "WARNING:tensorflow:Unresolved object in checkpoint: (root).optimizer.learning_rate\n",
            "WARNING:tensorflow:Unresolved object in checkpoint: (root).optimizer's state 'm' for (root).layer_with_weights-0.kernel\n",
            "WARNING:tensorflow:Unresolved object in checkpoint: (root).optimizer's state 'm' for (root).layer_with_weights-0.bias\n",
            "WARNING:tensorflow:Unresolved object in checkpoint: (root).optimizer's state 'm' for (root).layer_with_weights-1.gamma\n",
            "WARNING:tensorflow:Unresolved object in checkpoint: (root).optimizer's state 'm' for (root).layer_with_weights-1.beta\n",
            "WARNING:tensorflow:Unresolved object in checkpoint: (root).optimizer's state 'm' for (root).layer_with_weights-2.kernel\n",
            "WARNING:tensorflow:Unresolved object in checkpoint: (root).optimizer's state 'm' for (root).layer_with_weights-2.bias\n",
            "WARNING:tensorflow:Unresolved object in checkpoint: (root).optimizer's state 'm' for (root).layer_with_weights-3.gamma\n",
            "WARNING:tensorflow:Unresolved object in checkpoint: (root).optimizer's state 'm' for (root).layer_with_weights-3.beta\n",
            "WARNING:tensorflow:Unresolved object in checkpoint: (root).optimizer's state 'm' for (root).layer_with_weights-4.kernel\n",
            "WARNING:tensorflow:Unresolved object in checkpoint: (root).optimizer's state 'm' for (root).layer_with_weights-4.bias\n",
            "WARNING:tensorflow:Unresolved object in checkpoint: (root).optimizer's state 'm' for (root).layer_with_weights-5.gamma\n",
            "WARNING:tensorflow:Unresolved object in checkpoint: (root).optimizer's state 'm' for (root).layer_with_weights-5.beta\n",
            "WARNING:tensorflow:Unresolved object in checkpoint: (root).optimizer's state 'm' for (root).layer_with_weights-6.kernel\n",
            "WARNING:tensorflow:Unresolved object in checkpoint: (root).optimizer's state 'm' for (root).layer_with_weights-6.bias\n",
            "WARNING:tensorflow:Unresolved object in checkpoint: (root).optimizer's state 'm' for (root).layer_with_weights-7.gamma\n",
            "WARNING:tensorflow:Unresolved object in checkpoint: (root).optimizer's state 'm' for (root).layer_with_weights-7.beta\n",
            "WARNING:tensorflow:Unresolved object in checkpoint: (root).optimizer's state 'm' for (root).layer_with_weights-8.kernel\n",
            "WARNING:tensorflow:Unresolved object in checkpoint: (root).optimizer's state 'm' for (root).layer_with_weights-8.bias\n",
            "WARNING:tensorflow:Unresolved object in checkpoint: (root).optimizer's state 'm' for (root).layer_with_weights-9.gamma\n",
            "WARNING:tensorflow:Unresolved object in checkpoint: (root).optimizer's state 'm' for (root).layer_with_weights-9.beta\n",
            "WARNING:tensorflow:Unresolved object in checkpoint: (root).optimizer's state 'm' for (root).layer_with_weights-10.kernel\n",
            "WARNING:tensorflow:Unresolved object in checkpoint: (root).optimizer's state 'm' for (root).layer_with_weights-10.bias\n",
            "WARNING:tensorflow:Unresolved object in checkpoint: (root).optimizer's state 'm' for (root).layer_with_weights-11.gamma\n",
            "WARNING:tensorflow:Unresolved object in checkpoint: (root).optimizer's state 'm' for (root).layer_with_weights-11.beta\n",
            "WARNING:tensorflow:Unresolved object in checkpoint: (root).optimizer's state 'm' for (root).layer_with_weights-12.kernel\n",
            "WARNING:tensorflow:Unresolved object in checkpoint: (root).optimizer's state 'm' for (root).layer_with_weights-12.bias\n",
            "WARNING:tensorflow:Unresolved object in checkpoint: (root).optimizer's state 'm' for (root).layer_with_weights-13.gamma\n",
            "WARNING:tensorflow:Unresolved object in checkpoint: (root).optimizer's state 'm' for (root).layer_with_weights-13.beta\n",
            "WARNING:tensorflow:Unresolved object in checkpoint: (root).optimizer's state 'm' for (root).layer_with_weights-14.kernel\n",
            "WARNING:tensorflow:Unresolved object in checkpoint: (root).optimizer's state 'm' for (root).layer_with_weights-14.bias\n",
            "WARNING:tensorflow:Unresolved object in checkpoint: (root).optimizer's state 'm' for (root).layer_with_weights-15.gamma\n",
            "WARNING:tensorflow:Unresolved object in checkpoint: (root).optimizer's state 'm' for (root).layer_with_weights-15.beta\n",
            "WARNING:tensorflow:Unresolved object in checkpoint: (root).optimizer's state 'm' for (root).layer_with_weights-16.kernel\n",
            "WARNING:tensorflow:Unresolved object in checkpoint: (root).optimizer's state 'm' for (root).layer_with_weights-16.bias\n",
            "WARNING:tensorflow:Unresolved object in checkpoint: (root).optimizer's state 'm' for (root).layer_with_weights-17.gamma\n",
            "WARNING:tensorflow:Unresolved object in checkpoint: (root).optimizer's state 'm' for (root).layer_with_weights-17.beta\n",
            "WARNING:tensorflow:Unresolved object in checkpoint: (root).optimizer's state 'm' for (root).layer_with_weights-18.kernel\n",
            "WARNING:tensorflow:Unresolved object in checkpoint: (root).optimizer's state 'm' for (root).layer_with_weights-18.bias\n",
            "WARNING:tensorflow:Unresolved object in checkpoint: (root).optimizer's state 'm' for (root).layer_with_weights-19.gamma\n",
            "WARNING:tensorflow:Unresolved object in checkpoint: (root).optimizer's state 'm' for (root).layer_with_weights-19.beta\n",
            "WARNING:tensorflow:Unresolved object in checkpoint: (root).optimizer's state 'm' for (root).layer_with_weights-20.kernel\n",
            "WARNING:tensorflow:Unresolved object in checkpoint: (root).optimizer's state 'm' for (root).layer_with_weights-20.bias\n",
            "WARNING:tensorflow:Unresolved object in checkpoint: (root).optimizer's state 'm' for (root).layer_with_weights-21.gamma\n",
            "WARNING:tensorflow:Unresolved object in checkpoint: (root).optimizer's state 'm' for (root).layer_with_weights-21.beta\n",
            "WARNING:tensorflow:Unresolved object in checkpoint: (root).optimizer's state 'm' for (root).layer_with_weights-22.kernel\n",
            "WARNING:tensorflow:Unresolved object in checkpoint: (root).optimizer's state 'm' for (root).layer_with_weights-22.bias\n",
            "WARNING:tensorflow:Unresolved object in checkpoint: (root).optimizer's state 'm' for (root).layer_with_weights-23.gamma\n",
            "WARNING:tensorflow:Unresolved object in checkpoint: (root).optimizer's state 'm' for (root).layer_with_weights-23.beta\n",
            "WARNING:tensorflow:Unresolved object in checkpoint: (root).optimizer's state 'm' for (root).layer_with_weights-24.kernel\n",
            "WARNING:tensorflow:Unresolved object in checkpoint: (root).optimizer's state 'm' for (root).layer_with_weights-24.bias\n",
            "WARNING:tensorflow:Unresolved object in checkpoint: (root).optimizer's state 'm' for (root).layer_with_weights-25.gamma\n",
            "WARNING:tensorflow:Unresolved object in checkpoint: (root).optimizer's state 'm' for (root).layer_with_weights-25.beta\n",
            "WARNING:tensorflow:Unresolved object in checkpoint: (root).optimizer's state 'm' for (root).layer_with_weights-26.kernel\n",
            "WARNING:tensorflow:Unresolved object in checkpoint: (root).optimizer's state 'm' for (root).layer_with_weights-26.bias\n",
            "WARNING:tensorflow:Unresolved object in checkpoint: (root).optimizer's state 'm' for (root).layer_with_weights-27.gamma\n",
            "WARNING:tensorflow:Unresolved object in checkpoint: (root).optimizer's state 'm' for (root).layer_with_weights-27.beta\n",
            "WARNING:tensorflow:Unresolved object in checkpoint: (root).optimizer's state 'm' for (root).layer_with_weights-28.gamma\n",
            "WARNING:tensorflow:Unresolved object in checkpoint: (root).optimizer's state 'm' for (root).layer_with_weights-28.beta\n",
            "WARNING:tensorflow:Unresolved object in checkpoint: (root).optimizer's state 'm' for (root).layer_with_weights-29.kernel\n",
            "WARNING:tensorflow:Unresolved object in checkpoint: (root).optimizer's state 'm' for (root).layer_with_weights-29.bias\n",
            "WARNING:tensorflow:Unresolved object in checkpoint: (root).optimizer's state 'v' for (root).layer_with_weights-0.kernel\n",
            "WARNING:tensorflow:Unresolved object in checkpoint: (root).optimizer's state 'v' for (root).layer_with_weights-0.bias\n",
            "WARNING:tensorflow:Unresolved object in checkpoint: (root).optimizer's state 'v' for (root).layer_with_weights-1.gamma\n",
            "WARNING:tensorflow:Unresolved object in checkpoint: (root).optimizer's state 'v' for (root).layer_with_weights-1.beta\n",
            "WARNING:tensorflow:Unresolved object in checkpoint: (root).optimizer's state 'v' for (root).layer_with_weights-2.kernel\n",
            "WARNING:tensorflow:Unresolved object in checkpoint: (root).optimizer's state 'v' for (root).layer_with_weights-2.bias\n",
            "WARNING:tensorflow:Unresolved object in checkpoint: (root).optimizer's state 'v' for (root).layer_with_weights-3.gamma\n",
            "WARNING:tensorflow:Unresolved object in checkpoint: (root).optimizer's state 'v' for (root).layer_with_weights-3.beta\n",
            "WARNING:tensorflow:Unresolved object in checkpoint: (root).optimizer's state 'v' for (root).layer_with_weights-4.kernel\n",
            "WARNING:tensorflow:Unresolved object in checkpoint: (root).optimizer's state 'v' for (root).layer_with_weights-4.bias\n",
            "WARNING:tensorflow:Unresolved object in checkpoint: (root).optimizer's state 'v' for (root).layer_with_weights-5.gamma\n",
            "WARNING:tensorflow:Unresolved object in checkpoint: (root).optimizer's state 'v' for (root).layer_with_weights-5.beta\n",
            "WARNING:tensorflow:Unresolved object in checkpoint: (root).optimizer's state 'v' for (root).layer_with_weights-6.kernel\n",
            "WARNING:tensorflow:Unresolved object in checkpoint: (root).optimizer's state 'v' for (root).layer_with_weights-6.bias\n",
            "WARNING:tensorflow:Unresolved object in checkpoint: (root).optimizer's state 'v' for (root).layer_with_weights-7.gamma\n",
            "WARNING:tensorflow:Unresolved object in checkpoint: (root).optimizer's state 'v' for (root).layer_with_weights-7.beta\n",
            "WARNING:tensorflow:Unresolved object in checkpoint: (root).optimizer's state 'v' for (root).layer_with_weights-8.kernel\n",
            "WARNING:tensorflow:Unresolved object in checkpoint: (root).optimizer's state 'v' for (root).layer_with_weights-8.bias\n",
            "WARNING:tensorflow:Unresolved object in checkpoint: (root).optimizer's state 'v' for (root).layer_with_weights-9.gamma\n",
            "WARNING:tensorflow:Unresolved object in checkpoint: (root).optimizer's state 'v' for (root).layer_with_weights-9.beta\n",
            "WARNING:tensorflow:Unresolved object in checkpoint: (root).optimizer's state 'v' for (root).layer_with_weights-10.kernel\n",
            "WARNING:tensorflow:Unresolved object in checkpoint: (root).optimizer's state 'v' for (root).layer_with_weights-10.bias\n",
            "WARNING:tensorflow:Unresolved object in checkpoint: (root).optimizer's state 'v' for (root).layer_with_weights-11.gamma\n",
            "WARNING:tensorflow:Unresolved object in checkpoint: (root).optimizer's state 'v' for (root).layer_with_weights-11.beta\n",
            "WARNING:tensorflow:Unresolved object in checkpoint: (root).optimizer's state 'v' for (root).layer_with_weights-12.kernel\n",
            "WARNING:tensorflow:Unresolved object in checkpoint: (root).optimizer's state 'v' for (root).layer_with_weights-12.bias\n",
            "WARNING:tensorflow:Unresolved object in checkpoint: (root).optimizer's state 'v' for (root).layer_with_weights-13.gamma\n",
            "WARNING:tensorflow:Unresolved object in checkpoint: (root).optimizer's state 'v' for (root).layer_with_weights-13.beta\n",
            "WARNING:tensorflow:Unresolved object in checkpoint: (root).optimizer's state 'v' for (root).layer_with_weights-14.kernel\n",
            "WARNING:tensorflow:Unresolved object in checkpoint: (root).optimizer's state 'v' for (root).layer_with_weights-14.bias\n",
            "WARNING:tensorflow:Unresolved object in checkpoint: (root).optimizer's state 'v' for (root).layer_with_weights-15.gamma\n",
            "WARNING:tensorflow:Unresolved object in checkpoint: (root).optimizer's state 'v' for (root).layer_with_weights-15.beta\n",
            "WARNING:tensorflow:Unresolved object in checkpoint: (root).optimizer's state 'v' for (root).layer_with_weights-16.kernel\n",
            "WARNING:tensorflow:Unresolved object in checkpoint: (root).optimizer's state 'v' for (root).layer_with_weights-16.bias\n",
            "WARNING:tensorflow:Unresolved object in checkpoint: (root).optimizer's state 'v' for (root).layer_with_weights-17.gamma\n",
            "WARNING:tensorflow:Unresolved object in checkpoint: (root).optimizer's state 'v' for (root).layer_with_weights-17.beta\n",
            "WARNING:tensorflow:Unresolved object in checkpoint: (root).optimizer's state 'v' for (root).layer_with_weights-18.kernel\n",
            "WARNING:tensorflow:Unresolved object in checkpoint: (root).optimizer's state 'v' for (root).layer_with_weights-18.bias\n",
            "WARNING:tensorflow:Unresolved object in checkpoint: (root).optimizer's state 'v' for (root).layer_with_weights-19.gamma\n",
            "WARNING:tensorflow:Unresolved object in checkpoint: (root).optimizer's state 'v' for (root).layer_with_weights-19.beta\n",
            "WARNING:tensorflow:Unresolved object in checkpoint: (root).optimizer's state 'v' for (root).layer_with_weights-20.kernel\n",
            "WARNING:tensorflow:Unresolved object in checkpoint: (root).optimizer's state 'v' for (root).layer_with_weights-20.bias\n",
            "WARNING:tensorflow:Unresolved object in checkpoint: (root).optimizer's state 'v' for (root).layer_with_weights-21.gamma\n",
            "WARNING:tensorflow:Unresolved object in checkpoint: (root).optimizer's state 'v' for (root).layer_with_weights-21.beta\n",
            "WARNING:tensorflow:Unresolved object in checkpoint: (root).optimizer's state 'v' for (root).layer_with_weights-22.kernel\n",
            "WARNING:tensorflow:Unresolved object in checkpoint: (root).optimizer's state 'v' for (root).layer_with_weights-22.bias\n",
            "WARNING:tensorflow:Unresolved object in checkpoint: (root).optimizer's state 'v' for (root).layer_with_weights-23.gamma\n",
            "WARNING:tensorflow:Unresolved object in checkpoint: (root).optimizer's state 'v' for (root).layer_with_weights-23.beta\n",
            "WARNING:tensorflow:Unresolved object in checkpoint: (root).optimizer's state 'v' for (root).layer_with_weights-24.kernel\n",
            "WARNING:tensorflow:Unresolved object in checkpoint: (root).optimizer's state 'v' for (root).layer_with_weights-24.bias\n",
            "WARNING:tensorflow:Unresolved object in checkpoint: (root).optimizer's state 'v' for (root).layer_with_weights-25.gamma\n",
            "WARNING:tensorflow:Unresolved object in checkpoint: (root).optimizer's state 'v' for (root).layer_with_weights-25.beta\n",
            "WARNING:tensorflow:Unresolved object in checkpoint: (root).optimizer's state 'v' for (root).layer_with_weights-26.kernel\n",
            "WARNING:tensorflow:Unresolved object in checkpoint: (root).optimizer's state 'v' for (root).layer_with_weights-26.bias\n",
            "WARNING:tensorflow:Unresolved object in checkpoint: (root).optimizer's state 'v' for (root).layer_with_weights-27.gamma\n",
            "WARNING:tensorflow:Unresolved object in checkpoint: (root).optimizer's state 'v' for (root).layer_with_weights-27.beta\n",
            "WARNING:tensorflow:Unresolved object in checkpoint: (root).optimizer's state 'v' for (root).layer_with_weights-28.gamma\n",
            "WARNING:tensorflow:Unresolved object in checkpoint: (root).optimizer's state 'v' for (root).layer_with_weights-28.beta\n",
            "WARNING:tensorflow:Unresolved object in checkpoint: (root).optimizer's state 'v' for (root).layer_with_weights-29.kernel\n",
            "WARNING:tensorflow:Unresolved object in checkpoint: (root).optimizer's state 'v' for (root).layer_with_weights-29.bias\n",
            "WARNING:tensorflow:A checkpoint was restored (e.g. tf.train.Checkpoint.restore or tf.keras.Model.load_weights) but not all checkpointed values were used. See above for specific issues. Use expect_partial() on the load status object, e.g. tf.train.Checkpoint.restore(...).expect_partial(), to silence these warnings, or use assert_consumed() to make the check explicit. See https://www.tensorflow.org/alpha/guide/checkpoints#loading_mechanics for details.\n"
          ],
          "name": "stdout"
        },
        {
          "output_type": "error",
          "ename": "AssertionError",
          "evalue": "ignored",
          "traceback": [
            "\u001b[0;31m---------------------------------------------------------------------------\u001b[0m",
            "\u001b[0;31mAssertionError\u001b[0m                            Traceback (most recent call last)",
            "\u001b[0;32m<ipython-input-92-939ebe6b16f1>\u001b[0m in \u001b[0;36m<module>\u001b[0;34m()\u001b[0m\n\u001b[1;32m      1\u001b[0m \u001b[0mmodel1\u001b[0m \u001b[0;34m=\u001b[0m \u001b[0mtf\u001b[0m\u001b[0;34m.\u001b[0m\u001b[0mkeras\u001b[0m\u001b[0;34m.\u001b[0m\u001b[0mmodels\u001b[0m\u001b[0;34m.\u001b[0m\u001b[0mSequential\u001b[0m\u001b[0;34m(\u001b[0m\u001b[0;34m)\u001b[0m\u001b[0;34m\u001b[0m\u001b[0;34m\u001b[0m\u001b[0m\n\u001b[0;32m----> 2\u001b[0;31m \u001b[0mmodel1\u001b[0m\u001b[0;34m.\u001b[0m\u001b[0mload_weights\u001b[0m\u001b[0;34m(\u001b[0m\u001b[0mcheckpoint_path\u001b[0m\u001b[0;34m)\u001b[0m\u001b[0;34m\u001b[0m\u001b[0;34m\u001b[0m\u001b[0m\n\u001b[0m",
            "\u001b[0;32m/usr/local/lib/python3.6/dist-packages/tensorflow_core/python/keras/engine/training.py\u001b[0m in \u001b[0;36mload_weights\u001b[0;34m(self, filepath, by_name)\u001b[0m\n\u001b[1;32m    180\u001b[0m         raise ValueError('Load weights is not yet supported with TPUStrategy '\n\u001b[1;32m    181\u001b[0m                          'with steps_per_run greater than 1.')\n\u001b[0;32m--> 182\u001b[0;31m     \u001b[0;32mreturn\u001b[0m \u001b[0msuper\u001b[0m\u001b[0;34m(\u001b[0m\u001b[0mModel\u001b[0m\u001b[0;34m,\u001b[0m \u001b[0mself\u001b[0m\u001b[0;34m)\u001b[0m\u001b[0;34m.\u001b[0m\u001b[0mload_weights\u001b[0m\u001b[0;34m(\u001b[0m\u001b[0mfilepath\u001b[0m\u001b[0;34m,\u001b[0m \u001b[0mby_name\u001b[0m\u001b[0;34m)\u001b[0m\u001b[0;34m\u001b[0m\u001b[0;34m\u001b[0m\u001b[0m\n\u001b[0m\u001b[1;32m    183\u001b[0m \u001b[0;34m\u001b[0m\u001b[0m\n\u001b[1;32m    184\u001b[0m   \u001b[0;34m@\u001b[0m\u001b[0mtrackable\u001b[0m\u001b[0;34m.\u001b[0m\u001b[0mno_automatic_dependency_tracking\u001b[0m\u001b[0;34m\u001b[0m\u001b[0;34m\u001b[0m\u001b[0m\n",
            "\u001b[0;32m/usr/local/lib/python3.6/dist-packages/tensorflow_core/python/keras/engine/network.py\u001b[0m in \u001b[0;36mload_weights\u001b[0;34m(self, filepath, by_name)\u001b[0m\n\u001b[1;32m   1354\u001b[0m         \u001b[0;31m# streaming restore for any variables created in the future.\u001b[0m\u001b[0;34m\u001b[0m\u001b[0;34m\u001b[0m\u001b[0;34m\u001b[0m\u001b[0m\n\u001b[1;32m   1355\u001b[0m         \u001b[0mtrackable_utils\u001b[0m\u001b[0;34m.\u001b[0m\u001b[0mstreaming_restore\u001b[0m\u001b[0;34m(\u001b[0m\u001b[0mstatus\u001b[0m\u001b[0;34m=\u001b[0m\u001b[0mstatus\u001b[0m\u001b[0;34m,\u001b[0m \u001b[0msession\u001b[0m\u001b[0;34m=\u001b[0m\u001b[0msession\u001b[0m\u001b[0;34m)\u001b[0m\u001b[0;34m\u001b[0m\u001b[0;34m\u001b[0m\u001b[0m\n\u001b[0;32m-> 1356\u001b[0;31m       \u001b[0mstatus\u001b[0m\u001b[0;34m.\u001b[0m\u001b[0massert_nontrivial_match\u001b[0m\u001b[0;34m(\u001b[0m\u001b[0;34m)\u001b[0m\u001b[0;34m\u001b[0m\u001b[0;34m\u001b[0m\u001b[0m\n\u001b[0m\u001b[1;32m   1357\u001b[0m       \u001b[0;32mreturn\u001b[0m \u001b[0mstatus\u001b[0m\u001b[0;34m\u001b[0m\u001b[0;34m\u001b[0m\u001b[0m\n\u001b[1;32m   1358\u001b[0m     \u001b[0;32mif\u001b[0m \u001b[0mh5py\u001b[0m \u001b[0;32mis\u001b[0m \u001b[0;32mNone\u001b[0m\u001b[0;34m:\u001b[0m\u001b[0;34m\u001b[0m\u001b[0;34m\u001b[0m\u001b[0m\n",
            "\u001b[0;32m/usr/local/lib/python3.6/dist-packages/tensorflow_core/python/training/tracking/util.py\u001b[0m in \u001b[0;36massert_nontrivial_match\u001b[0;34m(self)\u001b[0m\n\u001b[1;32m    790\u001b[0m         raise AssertionError(\n\u001b[1;32m    791\u001b[0m             \u001b[0;34m\"Nothing to load. No dependencies have been added to %s yet.\"\u001b[0m \u001b[0;34m%\u001b[0m\u001b[0;34m\u001b[0m\u001b[0;34m\u001b[0m\u001b[0m\n\u001b[0;32m--> 792\u001b[0;31m             (self._graph_view.root,))\n\u001b[0m\u001b[1;32m    793\u001b[0m     \u001b[0;32mreturn\u001b[0m \u001b[0mself\u001b[0m\u001b[0;34m\u001b[0m\u001b[0;34m\u001b[0m\u001b[0m\n\u001b[1;32m    794\u001b[0m \u001b[0;34m\u001b[0m\u001b[0m\n",
            "\u001b[0;31mAssertionError\u001b[0m: Nothing to load. No dependencies have been added to <tensorflow.python.keras.engine.sequential.Sequential object at 0x7fad4fb6c128> yet."
          ]
        }
      ]
    }
  ]
}