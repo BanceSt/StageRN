{
  "nbformat": 4,
  "nbformat_minor": 0,
  "metadata": {
    "colab": {
      "name": "CatsVsDogsClassique.ipynb",
      "provenance": [],
      "collapsed_sections": [],
      "authorship_tag": "ABX9TyNTDPgOmikjBhH4kijAdVu4",
      "include_colab_link": true
    },
    "kernelspec": {
      "name": "python3",
      "display_name": "Python 3"
    },
    "accelerator": "GPU"
  },
  "cells": [
    {
      "cell_type": "markdown",
      "metadata": {
        "id": "view-in-github",
        "colab_type": "text"
      },
      "source": [
        "<a href=\"https://colab.research.google.com/github/BanceSt/StageRN/blob/master/CatsVsDogsClassique.ipynb\" target=\"_parent\"><img src=\"https://colab.research.google.com/assets/colab-badge.svg\" alt=\"Open In Colab\"/></a>"
      ]
    },
    {
      "cell_type": "code",
      "metadata": {
        "id": "dSoH3F3Vj3Vx",
        "colab_type": "code",
        "colab": {
          "base_uri": "https://localhost:8080/",
          "height": 253
        },
        "outputId": "06ce3818-0543-4b56-af13-8ebe94ed09f0"
      },
      "source": [
        "from __future__ import absolute_import, division, print_function, unicode_literals\n",
        "from tensorflow.keras.layers import Dense, Conv2D, Flatten, Dropout, MaxPooling2D\n",
        "from tensorflow.keras.preprocessing.image import ImageDataGenerator\n",
        "from tensorflow.keras.models import Sequential\n",
        "from matplotlib.image import imread\n",
        "from google.colab import drive\n",
        "from tensorflow import keras\n",
        "import numpy as np # linear algebra\n",
        "import pandas as pd # data processing, CSV file I/O (e.g. pd.read_csv)\n",
        "import scipy\n",
        "import scipy.io.wavfile as wavfile\n",
        "import sklearn\n",
        "import sklearn.metrics\n",
        "import seaborn as sns\n",
        "import random\n",
        "import math\n",
        "import sklearn.utils\n",
        "import sklearn.metrics\n",
        "import matplotlib.pyplot as plt\n",
        "import glob\n",
        "import os\n",
        "import scipy\n",
        "import scipy.signal\n",
        "import tensorflow as tf\n",
        "from imblearn.over_sampling import RandomOverSampler\n",
        "import IPython\n",
        "drive.mount('/content/drive')"
      ],
      "execution_count": 2,
      "outputs": [
        {
          "output_type": "display_data",
          "data": {
            "text/html": [
              "<p style=\"color: red;\">\n",
              "The default version of TensorFlow in Colab will soon switch to TensorFlow 2.x.<br>\n",
              "We recommend you <a href=\"https://www.tensorflow.org/guide/migrate\" target=\"_blank\">upgrade</a> now \n",
              "or ensure your notebook will continue to use TensorFlow 1.x via the <code>%tensorflow_version 1.x</code> magic:\n",
              "<a href=\"https://colab.research.google.com/notebooks/tensorflow_version.ipynb\" target=\"_blank\">more info</a>.</p>\n"
            ],
            "text/plain": [
              "<IPython.core.display.HTML object>"
            ]
          },
          "metadata": {
            "tags": []
          }
        },
        {
          "output_type": "stream",
          "text": [
            "/usr/local/lib/python3.6/dist-packages/sklearn/externals/six.py:31: FutureWarning: The module is deprecated in version 0.21 and will be removed in version 0.23 since we've dropped support for Python 2.7. Please rely on the official version of six (https://pypi.org/project/six/).\n",
            "  \"(https://pypi.org/project/six/).\", FutureWarning)\n",
            "/usr/local/lib/python3.6/dist-packages/sklearn/utils/deprecation.py:144: FutureWarning: The sklearn.neighbors.base module is  deprecated in version 0.22 and will be removed in version 0.24. The corresponding classes / functions should instead be imported from sklearn.neighbors. Anything that cannot be imported from sklearn.neighbors is now part of the private API.\n",
            "  warnings.warn(message, FutureWarning)\n"
          ],
          "name": "stderr"
        },
        {
          "output_type": "stream",
          "text": [
            "Go to this URL in a browser: https://accounts.google.com/o/oauth2/auth?client_id=947318989803-6bn6qk8qdgf4n4g3pfee6491hc0brc4i.apps.googleusercontent.com&redirect_uri=urn%3aietf%3awg%3aoauth%3a2.0%3aoob&response_type=code&scope=email%20https%3a%2f%2fwww.googleapis.com%2fauth%2fdocs.test%20https%3a%2f%2fwww.googleapis.com%2fauth%2fdrive%20https%3a%2f%2fwww.googleapis.com%2fauth%2fdrive.photos.readonly%20https%3a%2f%2fwww.googleapis.com%2fauth%2fpeopleapi.readonly\n",
            "\n",
            "Enter your authorization code:\n",
            "··········\n",
            "Mounted at /content/drive\n"
          ],
          "name": "stdout"
        }
      ]
    },
    {
      "cell_type": "code",
      "metadata": {
        "id": "4rCxBph-kXMD",
        "colab_type": "code",
        "colab": {
          "base_uri": "https://localhost:8080/",
          "height": 1000
        },
        "outputId": "fab6e78c-b87a-4718-87a2-50fcb2b3fe5b"
      },
      "source": [
        "!unzip \"/content/drive/My Drive/dataStage/audio-cats-and-dogs.zip\" -d /content/sample_data"
      ],
      "execution_count": 3,
      "outputs": [
        {
          "output_type": "stream",
          "text": [
            "Archive:  /content/drive/My Drive/dataStage/audio-cats-and-dogs.zip\n",
            "  inflating: /content/sample_data/cats_dogs/cat_1.wav  \n",
            "  inflating: /content/sample_data/cats_dogs/cat_10.wav  \n",
            "  inflating: /content/sample_data/cats_dogs/cat_100.wav  \n",
            "  inflating: /content/sample_data/cats_dogs/cat_101.wav  \n",
            "  inflating: /content/sample_data/cats_dogs/cat_102.wav  \n",
            "  inflating: /content/sample_data/cats_dogs/cat_103.wav  \n",
            "  inflating: /content/sample_data/cats_dogs/cat_105.wav  \n",
            "  inflating: /content/sample_data/cats_dogs/cat_106.wav  \n",
            "  inflating: /content/sample_data/cats_dogs/cat_107.wav  \n",
            "  inflating: /content/sample_data/cats_dogs/cat_108.wav  \n",
            "  inflating: /content/sample_data/cats_dogs/cat_109.wav  \n",
            "  inflating: /content/sample_data/cats_dogs/cat_11.wav  \n",
            "  inflating: /content/sample_data/cats_dogs/cat_110.wav  \n",
            "  inflating: /content/sample_data/cats_dogs/cat_112.wav  \n",
            "  inflating: /content/sample_data/cats_dogs/cat_113.wav  \n",
            "  inflating: /content/sample_data/cats_dogs/cat_114.wav  \n",
            "  inflating: /content/sample_data/cats_dogs/cat_115.wav  \n",
            "  inflating: /content/sample_data/cats_dogs/cat_116.wav  \n",
            "  inflating: /content/sample_data/cats_dogs/cat_117.wav  \n",
            "  inflating: /content/sample_data/cats_dogs/cat_118.wav  \n",
            "  inflating: /content/sample_data/cats_dogs/cat_119.wav  \n",
            "  inflating: /content/sample_data/cats_dogs/cat_12.wav  \n",
            "  inflating: /content/sample_data/cats_dogs/cat_120.wav  \n",
            "  inflating: /content/sample_data/cats_dogs/cat_121.wav  \n",
            "  inflating: /content/sample_data/cats_dogs/cat_122.wav  \n",
            "  inflating: /content/sample_data/cats_dogs/cat_123.wav  \n",
            "  inflating: /content/sample_data/cats_dogs/cat_124.wav  \n",
            "  inflating: /content/sample_data/cats_dogs/cat_125.wav  \n",
            "  inflating: /content/sample_data/cats_dogs/cat_126.wav  \n",
            "  inflating: /content/sample_data/cats_dogs/cat_127.wav  \n",
            "  inflating: /content/sample_data/cats_dogs/cat_128.wav  \n",
            "  inflating: /content/sample_data/cats_dogs/cat_129.wav  \n",
            "  inflating: /content/sample_data/cats_dogs/cat_13.wav  \n",
            "  inflating: /content/sample_data/cats_dogs/cat_130.wav  \n",
            "  inflating: /content/sample_data/cats_dogs/cat_131.wav  \n",
            "  inflating: /content/sample_data/cats_dogs/cat_132.wav  \n",
            "  inflating: /content/sample_data/cats_dogs/cat_133.wav  \n",
            "  inflating: /content/sample_data/cats_dogs/cat_134.wav  \n",
            "  inflating: /content/sample_data/cats_dogs/cat_135.wav  \n",
            "  inflating: /content/sample_data/cats_dogs/cat_136.wav  \n",
            "  inflating: /content/sample_data/cats_dogs/cat_137.wav  \n",
            "  inflating: /content/sample_data/cats_dogs/cat_138.wav  \n",
            "  inflating: /content/sample_data/cats_dogs/cat_139.wav  \n",
            "  inflating: /content/sample_data/cats_dogs/cat_14.wav  \n",
            "  inflating: /content/sample_data/cats_dogs/cat_140.wav  \n",
            "  inflating: /content/sample_data/cats_dogs/cat_141.wav  \n",
            "  inflating: /content/sample_data/cats_dogs/cat_142.wav  \n",
            "  inflating: /content/sample_data/cats_dogs/cat_143.wav  \n",
            "  inflating: /content/sample_data/cats_dogs/cat_144.wav  \n",
            "  inflating: /content/sample_data/cats_dogs/cat_146.wav  \n",
            "  inflating: /content/sample_data/cats_dogs/cat_147.wav  \n",
            "  inflating: /content/sample_data/cats_dogs/cat_148.wav  \n",
            "  inflating: /content/sample_data/cats_dogs/cat_149.wav  \n",
            "  inflating: /content/sample_data/cats_dogs/cat_15.wav  \n",
            "  inflating: /content/sample_data/cats_dogs/cat_150.wav  \n",
            "  inflating: /content/sample_data/cats_dogs/cat_151.wav  \n",
            "  inflating: /content/sample_data/cats_dogs/cat_152.wav  \n",
            "  inflating: /content/sample_data/cats_dogs/cat_153.wav  \n",
            "  inflating: /content/sample_data/cats_dogs/cat_154.wav  \n",
            "  inflating: /content/sample_data/cats_dogs/cat_155.wav  \n",
            "  inflating: /content/sample_data/cats_dogs/cat_156.wav  \n",
            "  inflating: /content/sample_data/cats_dogs/cat_157.wav  \n",
            "  inflating: /content/sample_data/cats_dogs/cat_158.wav  \n",
            "  inflating: /content/sample_data/cats_dogs/cat_159.wav  \n",
            "  inflating: /content/sample_data/cats_dogs/cat_16.wav  \n",
            "  inflating: /content/sample_data/cats_dogs/cat_160.wav  \n",
            "  inflating: /content/sample_data/cats_dogs/cat_161.wav  \n",
            "  inflating: /content/sample_data/cats_dogs/cat_162.wav  \n",
            "  inflating: /content/sample_data/cats_dogs/cat_163.wav  \n",
            "  inflating: /content/sample_data/cats_dogs/cat_164.wav  \n",
            "  inflating: /content/sample_data/cats_dogs/cat_165.wav  \n",
            "  inflating: /content/sample_data/cats_dogs/cat_166.wav  \n",
            "  inflating: /content/sample_data/cats_dogs/cat_167.wav  \n",
            "  inflating: /content/sample_data/cats_dogs/cat_17.wav  \n",
            "  inflating: /content/sample_data/cats_dogs/cat_18.wav  \n",
            "  inflating: /content/sample_data/cats_dogs/cat_19.wav  \n",
            "  inflating: /content/sample_data/cats_dogs/cat_2.wav  \n",
            "  inflating: /content/sample_data/cats_dogs/cat_20.wav  \n",
            "  inflating: /content/sample_data/cats_dogs/cat_21.wav  \n",
            "  inflating: /content/sample_data/cats_dogs/cat_22.wav  \n",
            "  inflating: /content/sample_data/cats_dogs/cat_23.wav  \n",
            "  inflating: /content/sample_data/cats_dogs/cat_24.wav  \n",
            "  inflating: /content/sample_data/cats_dogs/cat_25.wav  \n",
            "  inflating: /content/sample_data/cats_dogs/cat_26.wav  \n",
            "  inflating: /content/sample_data/cats_dogs/cat_27.wav  \n",
            "  inflating: /content/sample_data/cats_dogs/cat_28.wav  \n",
            "  inflating: /content/sample_data/cats_dogs/cat_29.wav  \n",
            "  inflating: /content/sample_data/cats_dogs/cat_3.wav  \n",
            "  inflating: /content/sample_data/cats_dogs/cat_30.wav  \n",
            "  inflating: /content/sample_data/cats_dogs/cat_31.wav  \n",
            "  inflating: /content/sample_data/cats_dogs/cat_32.wav  \n",
            "  inflating: /content/sample_data/cats_dogs/cat_33.wav  \n",
            "  inflating: /content/sample_data/cats_dogs/cat_34.wav  \n",
            "  inflating: /content/sample_data/cats_dogs/cat_35.wav  \n",
            "  inflating: /content/sample_data/cats_dogs/cat_36.wav  \n",
            "  inflating: /content/sample_data/cats_dogs/cat_37.wav  \n",
            "  inflating: /content/sample_data/cats_dogs/cat_38.wav  \n",
            "  inflating: /content/sample_data/cats_dogs/cat_39.wav  \n",
            "  inflating: /content/sample_data/cats_dogs/cat_4.wav  \n",
            "  inflating: /content/sample_data/cats_dogs/cat_40.wav  \n",
            "  inflating: /content/sample_data/cats_dogs/cat_41.wav  \n",
            "  inflating: /content/sample_data/cats_dogs/cat_42.wav  \n",
            "  inflating: /content/sample_data/cats_dogs/cat_43.wav  \n",
            "  inflating: /content/sample_data/cats_dogs/cat_44.wav  \n",
            "  inflating: /content/sample_data/cats_dogs/cat_45.wav  \n",
            "  inflating: /content/sample_data/cats_dogs/cat_46.wav  \n",
            "  inflating: /content/sample_data/cats_dogs/cat_47.wav  \n",
            "  inflating: /content/sample_data/cats_dogs/cat_48.wav  \n",
            "  inflating: /content/sample_data/cats_dogs/cat_49.wav  \n",
            "  inflating: /content/sample_data/cats_dogs/cat_5.wav  \n",
            "  inflating: /content/sample_data/cats_dogs/cat_50.wav  \n",
            "  inflating: /content/sample_data/cats_dogs/cat_51.wav  \n",
            "  inflating: /content/sample_data/cats_dogs/cat_52.wav  \n",
            "  inflating: /content/sample_data/cats_dogs/cat_53.wav  \n",
            "  inflating: /content/sample_data/cats_dogs/cat_54.wav  \n",
            "  inflating: /content/sample_data/cats_dogs/cat_55.wav  \n",
            "  inflating: /content/sample_data/cats_dogs/cat_56.wav  \n",
            "  inflating: /content/sample_data/cats_dogs/cat_57.wav  \n",
            "  inflating: /content/sample_data/cats_dogs/cat_58.wav  \n",
            "  inflating: /content/sample_data/cats_dogs/cat_59.wav  \n",
            "  inflating: /content/sample_data/cats_dogs/cat_6.wav  \n",
            "  inflating: /content/sample_data/cats_dogs/cat_60.wav  \n",
            "  inflating: /content/sample_data/cats_dogs/cat_61.wav  \n",
            "  inflating: /content/sample_data/cats_dogs/cat_62.wav  \n",
            "  inflating: /content/sample_data/cats_dogs/cat_63.wav  \n",
            "  inflating: /content/sample_data/cats_dogs/cat_64.wav  \n",
            "  inflating: /content/sample_data/cats_dogs/cat_65.wav  \n",
            "  inflating: /content/sample_data/cats_dogs/cat_66.wav  \n",
            "  inflating: /content/sample_data/cats_dogs/cat_67.wav  \n",
            "  inflating: /content/sample_data/cats_dogs/cat_68.wav  \n",
            "  inflating: /content/sample_data/cats_dogs/cat_69.wav  \n",
            "  inflating: /content/sample_data/cats_dogs/cat_7.wav  \n",
            "  inflating: /content/sample_data/cats_dogs/cat_70.wav  \n",
            "  inflating: /content/sample_data/cats_dogs/cat_71.wav  \n",
            "  inflating: /content/sample_data/cats_dogs/cat_72.wav  \n",
            "  inflating: /content/sample_data/cats_dogs/cat_73.wav  \n",
            "  inflating: /content/sample_data/cats_dogs/cat_74.wav  \n",
            "  inflating: /content/sample_data/cats_dogs/cat_75.wav  \n",
            "  inflating: /content/sample_data/cats_dogs/cat_76.wav  \n",
            "  inflating: /content/sample_data/cats_dogs/cat_77.wav  \n",
            "  inflating: /content/sample_data/cats_dogs/cat_78.wav  \n",
            "  inflating: /content/sample_data/cats_dogs/cat_79.wav  \n",
            "  inflating: /content/sample_data/cats_dogs/cat_8.wav  \n",
            "  inflating: /content/sample_data/cats_dogs/cat_80.wav  \n",
            "  inflating: /content/sample_data/cats_dogs/cat_81.wav  \n",
            "  inflating: /content/sample_data/cats_dogs/cat_82.wav  \n",
            "  inflating: /content/sample_data/cats_dogs/cat_83.wav  \n",
            "  inflating: /content/sample_data/cats_dogs/cat_84.wav  \n",
            "  inflating: /content/sample_data/cats_dogs/cat_85.wav  \n",
            "  inflating: /content/sample_data/cats_dogs/cat_86.wav  \n",
            "  inflating: /content/sample_data/cats_dogs/cat_87.wav  \n",
            "  inflating: /content/sample_data/cats_dogs/cat_88.wav  \n",
            "  inflating: /content/sample_data/cats_dogs/cat_89.wav  \n",
            "  inflating: /content/sample_data/cats_dogs/cat_9.wav  \n",
            "  inflating: /content/sample_data/cats_dogs/cat_90.wav  \n",
            "  inflating: /content/sample_data/cats_dogs/cat_91.wav  \n",
            "  inflating: /content/sample_data/cats_dogs/cat_92.wav  \n",
            "  inflating: /content/sample_data/cats_dogs/cat_93.wav  \n",
            "  inflating: /content/sample_data/cats_dogs/cat_94.wav  \n",
            "  inflating: /content/sample_data/cats_dogs/cat_95.wav  \n",
            "  inflating: /content/sample_data/cats_dogs/cat_96.wav  \n",
            "  inflating: /content/sample_data/cats_dogs/cat_97.wav  \n",
            "  inflating: /content/sample_data/cats_dogs/cat_98.wav  \n",
            "  inflating: /content/sample_data/cats_dogs/cat_99.wav  \n",
            "  inflating: /content/sample_data/cats_dogs/dog_barking_0.wav  \n",
            "  inflating: /content/sample_data/cats_dogs/dog_barking_1.wav  \n",
            "  inflating: /content/sample_data/cats_dogs/dog_barking_10.wav  \n",
            "  inflating: /content/sample_data/cats_dogs/dog_barking_100.wav  \n",
            "  inflating: /content/sample_data/cats_dogs/dog_barking_101.wav  \n",
            "  inflating: /content/sample_data/cats_dogs/dog_barking_102.wav  \n",
            "  inflating: /content/sample_data/cats_dogs/dog_barking_103.wav  \n",
            "  inflating: /content/sample_data/cats_dogs/dog_barking_104.wav  \n",
            "  inflating: /content/sample_data/cats_dogs/dog_barking_105.wav  \n",
            "  inflating: /content/sample_data/cats_dogs/dog_barking_106.wav  \n",
            "  inflating: /content/sample_data/cats_dogs/dog_barking_107.wav  \n",
            "  inflating: /content/sample_data/cats_dogs/dog_barking_108.wav  \n",
            "  inflating: /content/sample_data/cats_dogs/dog_barking_109.wav  \n",
            "  inflating: /content/sample_data/cats_dogs/dog_barking_11.wav  \n",
            "  inflating: /content/sample_data/cats_dogs/dog_barking_110.wav  \n",
            "  inflating: /content/sample_data/cats_dogs/dog_barking_111.wav  \n",
            "  inflating: /content/sample_data/cats_dogs/dog_barking_112.wav  \n",
            "  inflating: /content/sample_data/cats_dogs/dog_barking_12.wav  \n",
            "  inflating: /content/sample_data/cats_dogs/dog_barking_13.wav  \n",
            "  inflating: /content/sample_data/cats_dogs/dog_barking_14.wav  \n",
            "  inflating: /content/sample_data/cats_dogs/dog_barking_15.wav  \n",
            "  inflating: /content/sample_data/cats_dogs/dog_barking_16.wav  \n",
            "  inflating: /content/sample_data/cats_dogs/dog_barking_17.wav  \n",
            "  inflating: /content/sample_data/cats_dogs/dog_barking_18.wav  \n",
            "  inflating: /content/sample_data/cats_dogs/dog_barking_19.wav  \n",
            "  inflating: /content/sample_data/cats_dogs/dog_barking_2.wav  \n",
            "  inflating: /content/sample_data/cats_dogs/dog_barking_20.wav  \n",
            "  inflating: /content/sample_data/cats_dogs/dog_barking_21.wav  \n",
            "  inflating: /content/sample_data/cats_dogs/dog_barking_22.wav  \n",
            "  inflating: /content/sample_data/cats_dogs/dog_barking_23.wav  \n",
            "  inflating: /content/sample_data/cats_dogs/dog_barking_24.wav  \n",
            "  inflating: /content/sample_data/cats_dogs/dog_barking_25.wav  \n",
            "  inflating: /content/sample_data/cats_dogs/dog_barking_26.wav  \n",
            "  inflating: /content/sample_data/cats_dogs/dog_barking_27.wav  \n",
            "  inflating: /content/sample_data/cats_dogs/dog_barking_28.wav  \n",
            "  inflating: /content/sample_data/cats_dogs/dog_barking_29.wav  \n",
            "  inflating: /content/sample_data/cats_dogs/dog_barking_3.wav  \n",
            "  inflating: /content/sample_data/cats_dogs/dog_barking_30.wav  \n",
            "  inflating: /content/sample_data/cats_dogs/dog_barking_31.wav  \n",
            "  inflating: /content/sample_data/cats_dogs/dog_barking_32.wav  \n",
            "  inflating: /content/sample_data/cats_dogs/dog_barking_33.wav  \n",
            "  inflating: /content/sample_data/cats_dogs/dog_barking_34.wav  \n",
            "  inflating: /content/sample_data/cats_dogs/dog_barking_35.wav  \n",
            "  inflating: /content/sample_data/cats_dogs/dog_barking_36.wav  \n",
            "  inflating: /content/sample_data/cats_dogs/dog_barking_37.wav  \n",
            "  inflating: /content/sample_data/cats_dogs/dog_barking_38.wav  \n",
            "  inflating: /content/sample_data/cats_dogs/dog_barking_39.wav  \n",
            "  inflating: /content/sample_data/cats_dogs/dog_barking_4.wav  \n",
            "  inflating: /content/sample_data/cats_dogs/dog_barking_40.wav  \n",
            "  inflating: /content/sample_data/cats_dogs/dog_barking_41.wav  \n",
            "  inflating: /content/sample_data/cats_dogs/dog_barking_42.wav  \n",
            "  inflating: /content/sample_data/cats_dogs/dog_barking_43.wav  \n",
            "  inflating: /content/sample_data/cats_dogs/dog_barking_44.wav  \n",
            "  inflating: /content/sample_data/cats_dogs/dog_barking_45.wav  \n",
            "  inflating: /content/sample_data/cats_dogs/dog_barking_46.wav  \n",
            "  inflating: /content/sample_data/cats_dogs/dog_barking_47.wav  \n",
            "  inflating: /content/sample_data/cats_dogs/dog_barking_48.wav  \n",
            "  inflating: /content/sample_data/cats_dogs/dog_barking_49.wav  \n",
            "  inflating: /content/sample_data/cats_dogs/dog_barking_5.wav  \n",
            "  inflating: /content/sample_data/cats_dogs/dog_barking_50.wav  \n",
            "  inflating: /content/sample_data/cats_dogs/dog_barking_51.wav  \n",
            "  inflating: /content/sample_data/cats_dogs/dog_barking_52.wav  \n",
            "  inflating: /content/sample_data/cats_dogs/dog_barking_53.wav  \n",
            "  inflating: /content/sample_data/cats_dogs/dog_barking_54.wav  \n",
            "  inflating: /content/sample_data/cats_dogs/dog_barking_55.wav  \n",
            "  inflating: /content/sample_data/cats_dogs/dog_barking_56.wav  \n",
            "  inflating: /content/sample_data/cats_dogs/dog_barking_57.wav  \n",
            "  inflating: /content/sample_data/cats_dogs/dog_barking_58.wav  \n",
            "  inflating: /content/sample_data/cats_dogs/dog_barking_59.wav  \n",
            "  inflating: /content/sample_data/cats_dogs/dog_barking_6.wav  \n",
            "  inflating: /content/sample_data/cats_dogs/dog_barking_60.wav  \n",
            "  inflating: /content/sample_data/cats_dogs/dog_barking_61.wav  \n",
            "  inflating: /content/sample_data/cats_dogs/dog_barking_62.wav  \n",
            "  inflating: /content/sample_data/cats_dogs/dog_barking_63.wav  \n",
            "  inflating: /content/sample_data/cats_dogs/dog_barking_64.wav  \n",
            "  inflating: /content/sample_data/cats_dogs/dog_barking_65.wav  \n",
            "  inflating: /content/sample_data/cats_dogs/dog_barking_66.wav  \n",
            "  inflating: /content/sample_data/cats_dogs/dog_barking_67.wav  \n",
            "  inflating: /content/sample_data/cats_dogs/dog_barking_68.wav  \n",
            "  inflating: /content/sample_data/cats_dogs/dog_barking_69.wav  \n",
            "  inflating: /content/sample_data/cats_dogs/dog_barking_7.wav  \n",
            "  inflating: /content/sample_data/cats_dogs/dog_barking_70.wav  \n",
            "  inflating: /content/sample_data/cats_dogs/dog_barking_71.wav  \n",
            "  inflating: /content/sample_data/cats_dogs/dog_barking_72.wav  \n",
            "  inflating: /content/sample_data/cats_dogs/dog_barking_73.wav  \n",
            "  inflating: /content/sample_data/cats_dogs/dog_barking_74.wav  \n",
            "  inflating: /content/sample_data/cats_dogs/dog_barking_75.wav  \n",
            "  inflating: /content/sample_data/cats_dogs/dog_barking_76.wav  \n",
            "  inflating: /content/sample_data/cats_dogs/dog_barking_77.wav  \n",
            "  inflating: /content/sample_data/cats_dogs/dog_barking_78.wav  \n",
            "  inflating: /content/sample_data/cats_dogs/dog_barking_79.wav  \n",
            "  inflating: /content/sample_data/cats_dogs/dog_barking_8.wav  \n",
            "  inflating: /content/sample_data/cats_dogs/dog_barking_80.wav  \n",
            "  inflating: /content/sample_data/cats_dogs/dog_barking_81.wav  \n",
            "  inflating: /content/sample_data/cats_dogs/dog_barking_82.wav  \n",
            "  inflating: /content/sample_data/cats_dogs/dog_barking_83.wav  \n",
            "  inflating: /content/sample_data/cats_dogs/dog_barking_84.wav  \n",
            "  inflating: /content/sample_data/cats_dogs/dog_barking_85.wav  \n",
            "  inflating: /content/sample_data/cats_dogs/dog_barking_86.wav  \n",
            "  inflating: /content/sample_data/cats_dogs/dog_barking_87.wav  \n",
            "  inflating: /content/sample_data/cats_dogs/dog_barking_88.wav  \n",
            "  inflating: /content/sample_data/cats_dogs/dog_barking_89.wav  \n",
            "  inflating: /content/sample_data/cats_dogs/dog_barking_9.wav  \n",
            "  inflating: /content/sample_data/cats_dogs/dog_barking_90.wav  \n",
            "  inflating: /content/sample_data/cats_dogs/dog_barking_91.wav  \n",
            "  inflating: /content/sample_data/cats_dogs/dog_barking_92.wav  \n",
            "  inflating: /content/sample_data/cats_dogs/dog_barking_93.wav  \n",
            "  inflating: /content/sample_data/cats_dogs/dog_barking_94.wav  \n",
            "  inflating: /content/sample_data/cats_dogs/dog_barking_95.wav  \n",
            "  inflating: /content/sample_data/cats_dogs/dog_barking_96.wav  \n",
            "  inflating: /content/sample_data/cats_dogs/dog_barking_97.wav  \n",
            "  inflating: /content/sample_data/cats_dogs/dog_barking_98.wav  \n",
            "  inflating: /content/sample_data/cats_dogs/dog_barking_99.wav  \n",
            "  inflating: /content/sample_data/cats_dogs/test/cats/cat_110.wav  \n",
            "  inflating: /content/sample_data/cats_dogs/test/cats/cat_112.wav  \n",
            "  inflating: /content/sample_data/cats_dogs/test/cats/cat_115.wav  \n",
            "  inflating: /content/sample_data/cats_dogs/test/cats/cat_126.wav  \n",
            "  inflating: /content/sample_data/cats_dogs/test/cats/cat_129.wav  \n",
            "  inflating: /content/sample_data/cats_dogs/test/cats/cat_130.wav  \n",
            "  inflating: /content/sample_data/cats_dogs/test/cats/cat_133.wav  \n",
            "  inflating: /content/sample_data/cats_dogs/test/cats/cat_135.wav  \n",
            "  inflating: /content/sample_data/cats_dogs/test/cats/cat_137.wav  \n",
            "  inflating: /content/sample_data/cats_dogs/test/cats/cat_14.wav  \n",
            "  inflating: /content/sample_data/cats_dogs/test/cats/cat_143.wav  \n",
            "  inflating: /content/sample_data/cats_dogs/test/cats/cat_144.wav  \n",
            "  inflating: /content/sample_data/cats_dogs/test/cats/cat_148.wav  \n",
            "  inflating: /content/sample_data/cats_dogs/test/cats/cat_152.wav  \n",
            "  inflating: /content/sample_data/cats_dogs/test/cats/cat_158.wav  \n",
            "  inflating: /content/sample_data/cats_dogs/test/cats/cat_17.wav  \n",
            "  inflating: /content/sample_data/cats_dogs/test/cats/cat_20.wav  \n",
            "  inflating: /content/sample_data/cats_dogs/test/cats/cat_24.wav  \n",
            "  inflating: /content/sample_data/cats_dogs/test/cats/cat_28.wav  \n",
            "  inflating: /content/sample_data/cats_dogs/test/cats/cat_29.wav  \n",
            "  inflating: /content/sample_data/cats_dogs/test/cats/cat_3.wav  \n",
            "  inflating: /content/sample_data/cats_dogs/test/cats/cat_36.wav  \n",
            "  inflating: /content/sample_data/cats_dogs/test/cats/cat_42.wav  \n",
            "  inflating: /content/sample_data/cats_dogs/test/cats/cat_55.wav  \n",
            "  inflating: /content/sample_data/cats_dogs/test/cats/cat_56.wav  \n",
            "  inflating: /content/sample_data/cats_dogs/test/cats/cat_57.wav  \n",
            "  inflating: /content/sample_data/cats_dogs/test/cats/cat_58.wav  \n",
            "  inflating: /content/sample_data/cats_dogs/test/cats/cat_59.wav  \n",
            "  inflating: /content/sample_data/cats_dogs/test/cats/cat_61.wav  \n",
            "  inflating: /content/sample_data/cats_dogs/test/cats/cat_66.wav  \n",
            "  inflating: /content/sample_data/cats_dogs/test/cats/cat_67.wav  \n",
            "  inflating: /content/sample_data/cats_dogs/test/cats/cat_75.wav  \n",
            "  inflating: /content/sample_data/cats_dogs/test/cats/cat_76.wav  \n",
            "  inflating: /content/sample_data/cats_dogs/test/cats/cat_79.wav  \n",
            "  inflating: /content/sample_data/cats_dogs/test/cats/cat_82.wav  \n",
            "  inflating: /content/sample_data/cats_dogs/test/cats/cat_85.wav  \n",
            "  inflating: /content/sample_data/cats_dogs/test/cats/cat_86.wav  \n",
            "  inflating: /content/sample_data/cats_dogs/test/cats/cat_88.wav  \n",
            "  inflating: /content/sample_data/cats_dogs/test/cats/cat_90.wav  \n",
            "  inflating: /content/sample_data/cats_dogs/test/test/dog_barking_112.wav  \n",
            "  inflating: /content/sample_data/cats_dogs/test/test/dog_barking_12.wav  \n",
            "  inflating: /content/sample_data/cats_dogs/test/test/dog_barking_15.wav  \n",
            "  inflating: /content/sample_data/cats_dogs/test/test/dog_barking_19.wav  \n",
            "  inflating: /content/sample_data/cats_dogs/test/test/dog_barking_24.wav  \n",
            "  inflating: /content/sample_data/cats_dogs/test/test/dog_barking_3.wav  \n",
            "  inflating: /content/sample_data/cats_dogs/test/test/dog_barking_34.wav  \n",
            "  inflating: /content/sample_data/cats_dogs/test/test/dog_barking_43.wav  \n",
            "  inflating: /content/sample_data/cats_dogs/test/test/dog_barking_44.wav  \n",
            "  inflating: /content/sample_data/cats_dogs/test/test/dog_barking_45.wav  \n",
            "  inflating: /content/sample_data/cats_dogs/test/test/dog_barking_46.wav  \n",
            "  inflating: /content/sample_data/cats_dogs/test/test/dog_barking_48.wav  \n",
            "  inflating: /content/sample_data/cats_dogs/test/test/dog_barking_49.wav  \n",
            "  inflating: /content/sample_data/cats_dogs/test/test/dog_barking_54.wav  \n",
            "  inflating: /content/sample_data/cats_dogs/test/test/dog_barking_59.wav  \n",
            "  inflating: /content/sample_data/cats_dogs/test/test/dog_barking_62.wav  \n",
            "  inflating: /content/sample_data/cats_dogs/test/test/dog_barking_64.wav  \n",
            "  inflating: /content/sample_data/cats_dogs/test/test/dog_barking_66.wav  \n",
            "  inflating: /content/sample_data/cats_dogs/test/test/dog_barking_7.wav  \n",
            "  inflating: /content/sample_data/cats_dogs/test/test/dog_barking_73.wav  \n",
            "  inflating: /content/sample_data/cats_dogs/test/test/dog_barking_78.wav  \n",
            "  inflating: /content/sample_data/cats_dogs/test/test/dog_barking_8.wav  \n",
            "  inflating: /content/sample_data/cats_dogs/test/test/dog_barking_82.wav  \n",
            "  inflating: /content/sample_data/cats_dogs/test/test/dog_barking_89.wav  \n",
            "  inflating: /content/sample_data/cats_dogs/test/test/dog_barking_9.wav  \n",
            "  inflating: /content/sample_data/cats_dogs/test/test/dog_barking_90.wav  \n",
            "  inflating: /content/sample_data/cats_dogs/test/test/dog_barking_91.wav  \n",
            "  inflating: /content/sample_data/cats_dogs/test/test/dog_barking_99.wav  \n",
            "  inflating: /content/sample_data/cats_dogs/train/cat/cat_1.wav  \n",
            "  inflating: /content/sample_data/cats_dogs/train/cat/cat_10.wav  \n",
            "  inflating: /content/sample_data/cats_dogs/train/cat/cat_100.wav  \n",
            "  inflating: /content/sample_data/cats_dogs/train/cat/cat_101.wav  \n",
            "  inflating: /content/sample_data/cats_dogs/train/cat/cat_102.wav  \n",
            "  inflating: /content/sample_data/cats_dogs/train/cat/cat_103.wav  \n",
            "  inflating: /content/sample_data/cats_dogs/train/cat/cat_105.wav  \n",
            "  inflating: /content/sample_data/cats_dogs/train/cat/cat_106.wav  \n",
            "  inflating: /content/sample_data/cats_dogs/train/cat/cat_107.wav  \n",
            "  inflating: /content/sample_data/cats_dogs/train/cat/cat_108.wav  \n",
            "  inflating: /content/sample_data/cats_dogs/train/cat/cat_109.wav  \n",
            "  inflating: /content/sample_data/cats_dogs/train/cat/cat_11.wav  \n",
            "  inflating: /content/sample_data/cats_dogs/train/cat/cat_113.wav  \n",
            "  inflating: /content/sample_data/cats_dogs/train/cat/cat_114.wav  \n",
            "  inflating: /content/sample_data/cats_dogs/train/cat/cat_116.wav  \n",
            "  inflating: /content/sample_data/cats_dogs/train/cat/cat_117.wav  \n",
            "  inflating: /content/sample_data/cats_dogs/train/cat/cat_118.wav  \n",
            "  inflating: /content/sample_data/cats_dogs/train/cat/cat_119.wav  \n",
            "  inflating: /content/sample_data/cats_dogs/train/cat/cat_12.wav  \n",
            "  inflating: /content/sample_data/cats_dogs/train/cat/cat_120.wav  \n",
            "  inflating: /content/sample_data/cats_dogs/train/cat/cat_121.wav  \n",
            "  inflating: /content/sample_data/cats_dogs/train/cat/cat_122.wav  \n",
            "  inflating: /content/sample_data/cats_dogs/train/cat/cat_123.wav  \n",
            "  inflating: /content/sample_data/cats_dogs/train/cat/cat_124.wav  \n",
            "  inflating: /content/sample_data/cats_dogs/train/cat/cat_125.wav  \n",
            "  inflating: /content/sample_data/cats_dogs/train/cat/cat_127.wav  \n",
            "  inflating: /content/sample_data/cats_dogs/train/cat/cat_128.wav  \n",
            "  inflating: /content/sample_data/cats_dogs/train/cat/cat_13.wav  \n",
            "  inflating: /content/sample_data/cats_dogs/train/cat/cat_131.wav  \n",
            "  inflating: /content/sample_data/cats_dogs/train/cat/cat_132.wav  \n",
            "  inflating: /content/sample_data/cats_dogs/train/cat/cat_134.wav  \n",
            "  inflating: /content/sample_data/cats_dogs/train/cat/cat_136.wav  \n",
            "  inflating: /content/sample_data/cats_dogs/train/cat/cat_138.wav  \n",
            "  inflating: /content/sample_data/cats_dogs/train/cat/cat_139.wav  \n",
            "  inflating: /content/sample_data/cats_dogs/train/cat/cat_140.wav  \n",
            "  inflating: /content/sample_data/cats_dogs/train/cat/cat_141.wav  \n",
            "  inflating: /content/sample_data/cats_dogs/train/cat/cat_142.wav  \n",
            "  inflating: /content/sample_data/cats_dogs/train/cat/cat_146.wav  \n",
            "  inflating: /content/sample_data/cats_dogs/train/cat/cat_147.wav  \n",
            "  inflating: /content/sample_data/cats_dogs/train/cat/cat_149.wav  \n",
            "  inflating: /content/sample_data/cats_dogs/train/cat/cat_15.wav  \n",
            "  inflating: /content/sample_data/cats_dogs/train/cat/cat_150.wav  \n",
            "  inflating: /content/sample_data/cats_dogs/train/cat/cat_151.wav  \n",
            "  inflating: /content/sample_data/cats_dogs/train/cat/cat_153.wav  \n",
            "  inflating: /content/sample_data/cats_dogs/train/cat/cat_154.wav  \n",
            "  inflating: /content/sample_data/cats_dogs/train/cat/cat_155.wav  \n",
            "  inflating: /content/sample_data/cats_dogs/train/cat/cat_156.wav  \n",
            "  inflating: /content/sample_data/cats_dogs/train/cat/cat_157.wav  \n",
            "  inflating: /content/sample_data/cats_dogs/train/cat/cat_159.wav  \n",
            "  inflating: /content/sample_data/cats_dogs/train/cat/cat_16.wav  \n",
            "  inflating: /content/sample_data/cats_dogs/train/cat/cat_160.wav  \n",
            "  inflating: /content/sample_data/cats_dogs/train/cat/cat_161.wav  \n",
            "  inflating: /content/sample_data/cats_dogs/train/cat/cat_162.wav  \n",
            "  inflating: /content/sample_data/cats_dogs/train/cat/cat_163.wav  \n",
            "  inflating: /content/sample_data/cats_dogs/train/cat/cat_164.wav  \n",
            "  inflating: /content/sample_data/cats_dogs/train/cat/cat_165.wav  \n",
            "  inflating: /content/sample_data/cats_dogs/train/cat/cat_166.wav  \n",
            "  inflating: /content/sample_data/cats_dogs/train/cat/cat_167.wav  \n",
            "  inflating: /content/sample_data/cats_dogs/train/cat/cat_18.wav  \n",
            "  inflating: /content/sample_data/cats_dogs/train/cat/cat_19.wav  \n",
            "  inflating: /content/sample_data/cats_dogs/train/cat/cat_2.wav  \n",
            "  inflating: /content/sample_data/cats_dogs/train/cat/cat_21.wav  \n",
            "  inflating: /content/sample_data/cats_dogs/train/cat/cat_22.wav  \n",
            "  inflating: /content/sample_data/cats_dogs/train/cat/cat_23.wav  \n",
            "  inflating: /content/sample_data/cats_dogs/train/cat/cat_25.wav  \n",
            "  inflating: /content/sample_data/cats_dogs/train/cat/cat_26.wav  \n",
            "  inflating: /content/sample_data/cats_dogs/train/cat/cat_27.wav  \n",
            "  inflating: /content/sample_data/cats_dogs/train/cat/cat_30.wav  \n",
            "  inflating: /content/sample_data/cats_dogs/train/cat/cat_31.wav  \n",
            "  inflating: /content/sample_data/cats_dogs/train/cat/cat_32.wav  \n",
            "  inflating: /content/sample_data/cats_dogs/train/cat/cat_33.wav  \n",
            "  inflating: /content/sample_data/cats_dogs/train/cat/cat_34.wav  \n",
            "  inflating: /content/sample_data/cats_dogs/train/cat/cat_35.wav  \n",
            "  inflating: /content/sample_data/cats_dogs/train/cat/cat_37.wav  \n",
            "  inflating: /content/sample_data/cats_dogs/train/cat/cat_38.wav  \n",
            "  inflating: /content/sample_data/cats_dogs/train/cat/cat_39.wav  \n",
            "  inflating: /content/sample_data/cats_dogs/train/cat/cat_4.wav  \n",
            "  inflating: /content/sample_data/cats_dogs/train/cat/cat_40.wav  \n",
            "  inflating: /content/sample_data/cats_dogs/train/cat/cat_41.wav  \n",
            "  inflating: /content/sample_data/cats_dogs/train/cat/cat_43.wav  \n",
            "  inflating: /content/sample_data/cats_dogs/train/cat/cat_44.wav  \n",
            "  inflating: /content/sample_data/cats_dogs/train/cat/cat_45.wav  \n",
            "  inflating: /content/sample_data/cats_dogs/train/cat/cat_46.wav  \n",
            "  inflating: /content/sample_data/cats_dogs/train/cat/cat_47.wav  \n",
            "  inflating: /content/sample_data/cats_dogs/train/cat/cat_48.wav  \n",
            "  inflating: /content/sample_data/cats_dogs/train/cat/cat_49.wav  \n",
            "  inflating: /content/sample_data/cats_dogs/train/cat/cat_5.wav  \n",
            "  inflating: /content/sample_data/cats_dogs/train/cat/cat_50.wav  \n",
            "  inflating: /content/sample_data/cats_dogs/train/cat/cat_51.wav  \n",
            "  inflating: /content/sample_data/cats_dogs/train/cat/cat_52.wav  \n",
            "  inflating: /content/sample_data/cats_dogs/train/cat/cat_53.wav  \n",
            "  inflating: /content/sample_data/cats_dogs/train/cat/cat_54.wav  \n",
            "  inflating: /content/sample_data/cats_dogs/train/cat/cat_6.wav  \n",
            "  inflating: /content/sample_data/cats_dogs/train/cat/cat_60.wav  \n",
            "  inflating: /content/sample_data/cats_dogs/train/cat/cat_62.wav  \n",
            "  inflating: /content/sample_data/cats_dogs/train/cat/cat_63.wav  \n",
            "  inflating: /content/sample_data/cats_dogs/train/cat/cat_64.wav  \n",
            "  inflating: /content/sample_data/cats_dogs/train/cat/cat_65.wav  \n",
            "  inflating: /content/sample_data/cats_dogs/train/cat/cat_68.wav  \n",
            "  inflating: /content/sample_data/cats_dogs/train/cat/cat_69.wav  \n",
            "  inflating: /content/sample_data/cats_dogs/train/cat/cat_7.wav  \n",
            "  inflating: /content/sample_data/cats_dogs/train/cat/cat_70.wav  \n",
            "  inflating: /content/sample_data/cats_dogs/train/cat/cat_71.wav  \n",
            "  inflating: /content/sample_data/cats_dogs/train/cat/cat_72.wav  \n",
            "  inflating: /content/sample_data/cats_dogs/train/cat/cat_73.wav  \n",
            "  inflating: /content/sample_data/cats_dogs/train/cat/cat_74.wav  \n",
            "  inflating: /content/sample_data/cats_dogs/train/cat/cat_77.wav  \n",
            "  inflating: /content/sample_data/cats_dogs/train/cat/cat_78.wav  \n",
            "  inflating: /content/sample_data/cats_dogs/train/cat/cat_8.wav  \n",
            "  inflating: /content/sample_data/cats_dogs/train/cat/cat_80.wav  \n",
            "  inflating: /content/sample_data/cats_dogs/train/cat/cat_81.wav  \n",
            "  inflating: /content/sample_data/cats_dogs/train/cat/cat_83.wav  \n",
            "  inflating: /content/sample_data/cats_dogs/train/cat/cat_84.wav  \n",
            "  inflating: /content/sample_data/cats_dogs/train/cat/cat_87.wav  \n",
            "  inflating: /content/sample_data/cats_dogs/train/cat/cat_89.wav  \n",
            "  inflating: /content/sample_data/cats_dogs/train/cat/cat_9.wav  \n",
            "  inflating: /content/sample_data/cats_dogs/train/cat/cat_91.wav  \n",
            "  inflating: /content/sample_data/cats_dogs/train/cat/cat_92.wav  \n",
            "  inflating: /content/sample_data/cats_dogs/train/cat/cat_93.wav  \n",
            "  inflating: /content/sample_data/cats_dogs/train/cat/cat_94.wav  \n",
            "  inflating: /content/sample_data/cats_dogs/train/cat/cat_95.wav  \n",
            "  inflating: /content/sample_data/cats_dogs/train/cat/cat_96.wav  \n",
            "  inflating: /content/sample_data/cats_dogs/train/cat/cat_97.wav  \n",
            "  inflating: /content/sample_data/cats_dogs/train/cat/cat_98.wav  \n",
            "  inflating: /content/sample_data/cats_dogs/train/cat/cat_99.wav  \n",
            "  inflating: /content/sample_data/cats_dogs/train/dog/dog_barking_0.wav  \n",
            "  inflating: /content/sample_data/cats_dogs/train/dog/dog_barking_1.wav  \n",
            "  inflating: /content/sample_data/cats_dogs/train/dog/dog_barking_10.wav  \n",
            "  inflating: /content/sample_data/cats_dogs/train/dog/dog_barking_100.wav  \n",
            "  inflating: /content/sample_data/cats_dogs/train/dog/dog_barking_101.wav  \n",
            "  inflating: /content/sample_data/cats_dogs/train/dog/dog_barking_102.wav  \n",
            "  inflating: /content/sample_data/cats_dogs/train/dog/dog_barking_103.wav  \n",
            "  inflating: /content/sample_data/cats_dogs/train/dog/dog_barking_104.wav  \n",
            "  inflating: /content/sample_data/cats_dogs/train/dog/dog_barking_105.wav  \n",
            "  inflating: /content/sample_data/cats_dogs/train/dog/dog_barking_106.wav  \n",
            "  inflating: /content/sample_data/cats_dogs/train/dog/dog_barking_107.wav  \n",
            "  inflating: /content/sample_data/cats_dogs/train/dog/dog_barking_108.wav  \n",
            "  inflating: /content/sample_data/cats_dogs/train/dog/dog_barking_109.wav  \n",
            "  inflating: /content/sample_data/cats_dogs/train/dog/dog_barking_11.wav  \n",
            "  inflating: /content/sample_data/cats_dogs/train/dog/dog_barking_110.wav  \n",
            "  inflating: /content/sample_data/cats_dogs/train/dog/dog_barking_111.wav  \n",
            "  inflating: /content/sample_data/cats_dogs/train/dog/dog_barking_13.wav  \n",
            "  inflating: /content/sample_data/cats_dogs/train/dog/dog_barking_14.wav  \n",
            "  inflating: /content/sample_data/cats_dogs/train/dog/dog_barking_16.wav  \n",
            "  inflating: /content/sample_data/cats_dogs/train/dog/dog_barking_17.wav  \n",
            "  inflating: /content/sample_data/cats_dogs/train/dog/dog_barking_18.wav  \n",
            "  inflating: /content/sample_data/cats_dogs/train/dog/dog_barking_2.wav  \n",
            "  inflating: /content/sample_data/cats_dogs/train/dog/dog_barking_20.wav  \n",
            "  inflating: /content/sample_data/cats_dogs/train/dog/dog_barking_21.wav  \n",
            "  inflating: /content/sample_data/cats_dogs/train/dog/dog_barking_22.wav  \n",
            "  inflating: /content/sample_data/cats_dogs/train/dog/dog_barking_23.wav  \n",
            "  inflating: /content/sample_data/cats_dogs/train/dog/dog_barking_25.wav  \n",
            "  inflating: /content/sample_data/cats_dogs/train/dog/dog_barking_26.wav  \n",
            "  inflating: /content/sample_data/cats_dogs/train/dog/dog_barking_27.wav  \n",
            "  inflating: /content/sample_data/cats_dogs/train/dog/dog_barking_28.wav  \n",
            "  inflating: /content/sample_data/cats_dogs/train/dog/dog_barking_29.wav  \n",
            "  inflating: /content/sample_data/cats_dogs/train/dog/dog_barking_30.wav  \n",
            "  inflating: /content/sample_data/cats_dogs/train/dog/dog_barking_31.wav  \n",
            "  inflating: /content/sample_data/cats_dogs/train/dog/dog_barking_32.wav  \n",
            "  inflating: /content/sample_data/cats_dogs/train/dog/dog_barking_33.wav  \n",
            "  inflating: /content/sample_data/cats_dogs/train/dog/dog_barking_35.wav  \n",
            "  inflating: /content/sample_data/cats_dogs/train/dog/dog_barking_36.wav  \n",
            "  inflating: /content/sample_data/cats_dogs/train/dog/dog_barking_37.wav  \n",
            "  inflating: /content/sample_data/cats_dogs/train/dog/dog_barking_38.wav  \n",
            "  inflating: /content/sample_data/cats_dogs/train/dog/dog_barking_39.wav  \n",
            "  inflating: /content/sample_data/cats_dogs/train/dog/dog_barking_4.wav  \n",
            "  inflating: /content/sample_data/cats_dogs/train/dog/dog_barking_40.wav  \n",
            "  inflating: /content/sample_data/cats_dogs/train/dog/dog_barking_41.wav  \n",
            "  inflating: /content/sample_data/cats_dogs/train/dog/dog_barking_42.wav  \n",
            "  inflating: /content/sample_data/cats_dogs/train/dog/dog_barking_47.wav  \n",
            "  inflating: /content/sample_data/cats_dogs/train/dog/dog_barking_5.wav  \n",
            "  inflating: /content/sample_data/cats_dogs/train/dog/dog_barking_50.wav  \n",
            "  inflating: /content/sample_data/cats_dogs/train/dog/dog_barking_51.wav  \n",
            "  inflating: /content/sample_data/cats_dogs/train/dog/dog_barking_52.wav  \n",
            "  inflating: /content/sample_data/cats_dogs/train/dog/dog_barking_53.wav  \n",
            "  inflating: /content/sample_data/cats_dogs/train/dog/dog_barking_55.wav  \n",
            "  inflating: /content/sample_data/cats_dogs/train/dog/dog_barking_56.wav  \n",
            "  inflating: /content/sample_data/cats_dogs/train/dog/dog_barking_57.wav  \n",
            "  inflating: /content/sample_data/cats_dogs/train/dog/dog_barking_58.wav  \n",
            "  inflating: /content/sample_data/cats_dogs/train/dog/dog_barking_6.wav  \n",
            "  inflating: /content/sample_data/cats_dogs/train/dog/dog_barking_60.wav  \n",
            "  inflating: /content/sample_data/cats_dogs/train/dog/dog_barking_61.wav  \n",
            "  inflating: /content/sample_data/cats_dogs/train/dog/dog_barking_63.wav  \n",
            "  inflating: /content/sample_data/cats_dogs/train/dog/dog_barking_65.wav  \n",
            "  inflating: /content/sample_data/cats_dogs/train/dog/dog_barking_67.wav  \n",
            "  inflating: /content/sample_data/cats_dogs/train/dog/dog_barking_68.wav  \n",
            "  inflating: /content/sample_data/cats_dogs/train/dog/dog_barking_69.wav  \n",
            "  inflating: /content/sample_data/cats_dogs/train/dog/dog_barking_70.wav  \n",
            "  inflating: /content/sample_data/cats_dogs/train/dog/dog_barking_71.wav  \n",
            "  inflating: /content/sample_data/cats_dogs/train/dog/dog_barking_72.wav  \n",
            "  inflating: /content/sample_data/cats_dogs/train/dog/dog_barking_74.wav  \n",
            "  inflating: /content/sample_data/cats_dogs/train/dog/dog_barking_75.wav  \n",
            "  inflating: /content/sample_data/cats_dogs/train/dog/dog_barking_76.wav  \n",
            "  inflating: /content/sample_data/cats_dogs/train/dog/dog_barking_77.wav  \n",
            "  inflating: /content/sample_data/cats_dogs/train/dog/dog_barking_79.wav  \n",
            "  inflating: /content/sample_data/cats_dogs/train/dog/dog_barking_80.wav  \n",
            "  inflating: /content/sample_data/cats_dogs/train/dog/dog_barking_81.wav  \n",
            "  inflating: /content/sample_data/cats_dogs/train/dog/dog_barking_83.wav  \n",
            "  inflating: /content/sample_data/cats_dogs/train/dog/dog_barking_84.wav  \n",
            "  inflating: /content/sample_data/cats_dogs/train/dog/dog_barking_85.wav  \n",
            "  inflating: /content/sample_data/cats_dogs/train/dog/dog_barking_86.wav  \n",
            "  inflating: /content/sample_data/cats_dogs/train/dog/dog_barking_87.wav  \n",
            "  inflating: /content/sample_data/cats_dogs/train/dog/dog_barking_88.wav  \n",
            "  inflating: /content/sample_data/cats_dogs/train/dog/dog_barking_92.wav  \n",
            "  inflating: /content/sample_data/cats_dogs/train/dog/dog_barking_93.wav  \n",
            "  inflating: /content/sample_data/cats_dogs/train/dog/dog_barking_94.wav  \n",
            "  inflating: /content/sample_data/cats_dogs/train/dog/dog_barking_95.wav  \n",
            "  inflating: /content/sample_data/cats_dogs/train/dog/dog_barking_96.wav  \n",
            "  inflating: /content/sample_data/cats_dogs/train/dog/dog_barking_97.wav  \n",
            "  inflating: /content/sample_data/cats_dogs/train/dog/dog_barking_98.wav  \n",
            "  inflating: /content/sample_data/train_test_split.csv  \n",
            "  inflating: /content/sample_data/utils.py  \n"
          ],
          "name": "stdout"
        }
      ]
    },
    {
      "cell_type": "markdown",
      "metadata": {
        "id": "_pPzDv0QlbjL",
        "colab_type": "text"
      },
      "source": [
        "**Récupération des données :**"
      ]
    },
    {
      "cell_type": "code",
      "metadata": {
        "id": "D-2unp2xQf3P",
        "colab_type": "code",
        "colab": {}
      },
      "source": [
        "WAVE_FOLDER = '/content/sample_data/cats_dogs'\n",
        "FRAMERATE = 16000\n",
        "MAX_WAV_SAMPLES = 20*FRAMERATE\n",
        "DOWNSAMPLING_SCALE = 1\n",
        "\n",
        "df = pd.read_csv(\"/content/sample_data/train_test_split.csv\")\n",
        "test_cat = df[['test_cat']].dropna().rename(index=str, columns={\"test_cat\": \"file\"}).assign(label=0)\n",
        "test_dog = df[['test_dog']].dropna().rename(index=str, columns={\"test_dog\": \"file\"}).assign(label=1)\n",
        "train_cat = df[['train_cat']].dropna().rename(index=str, columns={\"train_cat\": \"file\"}).assign(label=0)\n",
        "train_dog = df[['train_dog']].dropna().rename(index=str, columns={\"train_dog\": \"file\"}).assign(label=1)\n",
        "\n",
        "test_df = pd.concat([test_cat, test_dog]).reset_index(drop=True)\n",
        "train_df = pd.concat([train_cat, train_dog]).reset_index(drop=True)"
      ],
      "execution_count": 0,
      "outputs": []
    },
    {
      "cell_type": "markdown",
      "metadata": {
        "id": "F2Zz4CVp93al",
        "colab_type": "text"
      },
      "source": [
        "**Partie qui servira à equilibre le nombre de cris de chats et de chiens**"
      ]
    },
    {
      "cell_type": "code",
      "metadata": {
        "id": "VU03wbCpSv8p",
        "colab_type": "code",
        "outputId": "242e018f-928a-45a4-c6f5-b0c4f36fd926",
        "colab": {
          "base_uri": "https://localhost:8080/",
          "height": 285
        }
      },
      "source": [
        "#Histogramme du nombre de cris par type d'animaux (chat, chien)\n",
        "train_df['label'].plot.hist(bins=2)"
      ],
      "execution_count": 5,
      "outputs": [
        {
          "output_type": "execute_result",
          "data": {
            "text/plain": [
              "<matplotlib.axes._subplots.AxesSubplot at 0x7fd5b6edbb38>"
            ]
          },
          "metadata": {
            "tags": []
          },
          "execution_count": 5
        },
        {
          "output_type": "display_data",
          "data": {
            "image/png": "[encoded data removed]",
            "text/plain": [
              "<Figure size 432x288 with 1 Axes>"
            ]
          },
          "metadata": {
            "tags": []
          }
        }
      ]
    },
    {
      "cell_type": "code",
      "metadata": {
        "id": "OQVMiqVQTn4V",
        "colab_type": "code",
        "outputId": "3b8c0565-784f-4846-bef8-da611273f370",
        "colab": {
          "base_uri": "https://localhost:8080/",
          "height": 71
        }
      },
      "source": [
        "#Equilibrage des nombres de cris dans train_files, train_labels\n",
        "random_oversampler = RandomOverSampler()\n",
        "idx = np.arange(0, len(train_df)).reshape(-1, 1)\n",
        "idx_sampled, _ = random_oversampler.fit_sample(idx, train_df['label'])\n",
        "train_files, train_labels = train_df.iloc[idx_sampled.flatten()]['file'].values, train_df.iloc[idx_sampled.flatten()]['label'].values\n",
        "train_files, train_labels = sklearn.utils.shuffle(train_files, train_labels)\n",
        "test_files, test_labels = test_df['file'].values, test_df['label'].values\n",
        "\n"
      ],
      "execution_count": 6,
      "outputs": [
        {
          "output_type": "stream",
          "text": [
            "/usr/local/lib/python3.6/dist-packages/sklearn/utils/deprecation.py:87: FutureWarning: Function safe_indexing is deprecated; safe_indexing is deprecated in version 0.22 and will be removed in version 0.24.\n",
            "  warnings.warn(msg, category=FutureWarning)\n"
          ],
          "name": "stderr"
        }
      ]
    },
    {
      "cell_type": "code",
      "metadata": {
        "id": "cbDVt30zUald",
        "colab_type": "code",
        "outputId": "ca5b6560-0018-4f74-90ca-1a0829266278",
        "colab": {
          "base_uri": "https://localhost:8080/",
          "height": 268
        }
      },
      "source": [
        "#Historigramme après équilibrage\n",
        "pd.Series(train_labels).plot.hist(bins=2);"
      ],
      "execution_count": 7,
      "outputs": [
        {
          "output_type": "display_data",
          "data": {
            "image/png": "[encoded data removed]",
            "text/plain": [
              "<Figure size 432x288 with 1 Axes>"
            ]
          },
          "metadata": {
            "tags": []
          }
        }
      ]
    },
    {
      "cell_type": "markdown",
      "metadata": {
        "id": "VN3-ONIW-Fa0",
        "colab_type": "text"
      },
      "source": [
        "**Générateur qui seront utiliser sur le model**"
      ]
    },
    {
      "cell_type": "code",
      "metadata": {
        "id": "xw-49Be5W-Al",
        "colab_type": "code",
        "colab": {}
      },
      "source": [
        "#Génére des batch, et des labels pour l'apprentissage\n",
        "def fit_generator(train_files, train_labels, wavs_per_batch=20, augments=5):\n",
        "    while True:\n",
        "        maxidx = len(train_files)\n",
        "        for i in range(0, maxidx, wavs_per_batch):\n",
        "            waves_batch = []\n",
        "            labels_batch = []\n",
        "            for j in range(i, min(maxidx, i+wavs_per_batch)):\n",
        "                file, label = train_files[j], train_labels[j]\n",
        "                wave_raw = wavfile.read(os.path.join(WAVE_FOLDER, file))[1]\n",
        "                wave_raw = wave_raw/np.std(wave_raw)\n",
        "                length = len(wave_raw)\n",
        "                waves_batch.append(np.pad(wave_raw, pad_width=((0, MAX_WAV_SAMPLES - length)), mode='wrap'))\n",
        "                labels_batch.append(label)\n",
        "                for _ in range(augments):\n",
        "                    wave_rotated = np.roll(wave_raw, random.randint(0, length))\n",
        "                    while random.choice([True, False]):\n",
        "                        wave_rotated += np.roll(wave_raw, random.randint(0, length))\n",
        "                    wave = np.pad(wave_rotated, pad_width=((0, MAX_WAV_SAMPLES - length)), mode='wrap')\n",
        "                    #wave = scipy.signal.decimate(wave, DOWNSAMPLING_SCALE)\n",
        "                    waves_batch.append(wave)\n",
        "                    labels_batch.append(label)\n",
        "            yield np.array(waves_batch), np.array(labels_batch)\n",
        "\n"
      ],
      "execution_count": 0,
      "outputs": []
    },
    {
      "cell_type": "code",
      "metadata": {
        "id": "-fEPNDf1Z9zg",
        "colab_type": "code",
        "colab": {}
      },
      "source": [
        "#Génére des batch, et des labels pour la validation\n",
        "def validate_generator(test_files, test_labels, wavs_per_batch=20):\n",
        "    while True:\n",
        "        maxidx = len(test_files)\n",
        "        for i in range(0, maxidx, wavs_per_batch):\n",
        "            waves_batch = []\n",
        "            labels_batch = []\n",
        "            for j in range(i, min(maxidx, i+wavs_per_batch)):\n",
        "                file, label = test_files[j], test_labels[j]\n",
        "                wave_raw = wavfile.read(os.path.join(WAVE_FOLDER, file))[1]\n",
        "                wave_raw = wave_raw/np.std(wave_raw)\n",
        "                length = len(wave_raw)\n",
        "                left = 0\n",
        "                right = MAX_WAV_SAMPLES - left - length\n",
        "                wave = np.pad(wave_raw, pad_width=((left, right)), mode='wrap')\n",
        "                #wave = scipy.signal.decimate(wave, DOWNSAMPLING_SCALE)\n",
        "                waves_batch.append(wave)\n",
        "                labels_batch.append(label)\n",
        "            yield np.array(waves_batch), np.array(labels_batch)"
      ],
      "execution_count": 0,
      "outputs": []
    },
    {
      "cell_type": "code",
      "metadata": {
        "id": "V9xH3m7zbH2V",
        "colab_type": "code",
        "colab": {}
      },
      "source": [
        "def steps_per_epoch(wavs_per_epoch, wavs_per_batch):\n",
        "    return int(math.ceil(wavs_per_epoch/wavs_per_batch))"
      ],
      "execution_count": 0,
      "outputs": []
    },
    {
      "cell_type": "markdown",
      "metadata": {
        "id": "GKDWaknco_Wz",
        "colab_type": "text"
      },
      "source": [
        "**Création du Model :**"
      ]
    },
    {
      "cell_type": "code",
      "metadata": {
        "id": "mW0MlKAGb-UL",
        "colab_type": "code",
        "outputId": "ebe7c368-537c-40a9-b7ba-8882498b09f1",
        "colab": {
          "base_uri": "https://localhost:8080/",
          "height": 88
        }
      },
      "source": [
        "#Création du model\n",
        "def create_model() :\n",
        "  model = tf.keras.models.Sequential()\n",
        "  model.add(tf.keras.layers.Reshape((MAX_WAV_SAMPLES//DOWNSAMPLING_SCALE,1), input_shape=(MAX_WAV_SAMPLES//DOWNSAMPLING_SCALE,)))\n",
        "  for i in range(14):\n",
        "    model.add(tf.keras.layers.Conv1D(32, kernel_size=5, \n",
        "                                     padding='same',\n",
        "                                     activation='relu',\n",
        "                                     kernel_initializer=tf.keras.initializers.Orthogonal(),\n",
        "                                     ))\n",
        "    model.add(tf.keras.layers.MaxPooling1D(pool_size=3, strides=2))\n",
        "    model.add(tf.keras.layers.BatchNormalization())\n",
        "  model.add(tf.keras.layers.Flatten())\n",
        "  model.add(tf.keras.layers.BatchNormalization())\n",
        "  model.add(tf.keras.layers.Dense(2, activation='softmax'))\n",
        "  \n",
        "  model.compile(optimizer=tf.keras.optimizers.Adam(0.0005),\n",
        "                loss=tf.keras.losses.sparse_categorical_crossentropy,\n",
        "                metrics=['accuracy'])\n",
        "  return model\n",
        "  \n",
        "model = create_model()"
      ],
      "execution_count": 11,
      "outputs": [
        {
          "output_type": "stream",
          "text": [
            "WARNING:tensorflow:From /usr/local/lib/python3.6/dist-packages/tensorflow_core/python/ops/resource_variable_ops.py:1630: calling BaseResourceVariable.__init__ (from tensorflow.python.ops.resource_variable_ops) with constraint is deprecated and will be removed in a future version.\n",
            "Instructions for updating:\n",
            "If using Keras pass *_constraint arguments to layers.\n"
          ],
          "name": "stdout"
        }
      ]
    },
    {
      "cell_type": "code",
      "metadata": {
        "id": "lh6gnGb0Ztii",
        "colab_type": "code",
        "colab": {}
      },
      "source": [
        "WAVS_PER_BATCH = 3\n",
        "AUGMENTS = 10\n",
        "EPOCHS=15"
      ],
      "execution_count": 0,
      "outputs": []
    },
    {
      "cell_type": "markdown",
      "metadata": {
        "id": "lkZfmj1rp8Fi",
        "colab_type": "text"
      },
      "source": [
        "**Mise en place des points de sauvegarde :**"
      ]
    },
    {
      "cell_type": "code",
      "metadata": {
        "id": "7U-doLlmMxaL",
        "colab_type": "code",
        "outputId": "6df8d191-920e-46b8-dc41-d3e1bb7cba44",
        "colab": {
          "base_uri": "https://localhost:8080/",
          "height": 34
        }
      },
      "source": [
        "checkpoint_path = \"/content/drive/My Drive/savemodel/Model15chk/cp-{epoch:04d}\"\n",
        "checkpoint_dir = os.path.dirname(checkpoint_path)\n",
        "\n",
        "cp_callback = tf.keras.callbacks.ModelCheckpoint(filepath=checkpoint_path,\n",
        "                                                 save_weights_only=True,\n",
        "                                                 verbose=1)\n",
        "\n",
        "print(checkpoint_dir)"
      ],
      "execution_count": 13,
      "outputs": [
        {
          "output_type": "stream",
          "text": [
            "/content/drive/My Drive/savemodel/Model15chk\n"
          ],
          "name": "stdout"
        }
      ]
    },
    {
      "cell_type": "markdown",
      "metadata": {
        "id": "yjLmJZHKqo-T",
        "colab_type": "text"
      },
      "source": [
        "**Apprentissage et validation :**"
      ]
    },
    {
      "cell_type": "code",
      "metadata": {
        "id": "du7iAeo9d9uJ",
        "colab_type": "code",
        "colab": {
          "base_uri": "https://localhost:8080/",
          "height": 1000
        },
        "outputId": "b4f86d25-04bb-4a63-d4cb-ddf301e1f659"
      },
      "source": [
        "#Apprentissage\n",
        "\n",
        "model.save_weights(checkpoint_path.format(epoch=0))\n",
        "model.fit_generator(fit_generator(train_files, train_labels, WAVS_PER_BATCH, AUGMENTS),\n",
        "                    steps_per_epoch=steps_per_epoch(len(train_files), WAVS_PER_BATCH),\n",
        "                    epochs = EPOCHS,\n",
        "                    validation_data=validate_generator(test_files, test_labels, WAVS_PER_BATCH),\n",
        "                    validation_steps=steps_per_epoch(len(test_files), WAVS_PER_BATCH),\n",
        "                    callbacks = [cp_callback],\n",
        "                    verbose=2)"
      ],
      "execution_count": 14,
      "outputs": [
        {
          "output_type": "stream",
          "text": [
            "Epoch 1/15\n",
            "Epoch 1/15\n",
            "\n",
            "Epoch 00001: saving model to /content/drive/My Drive/savemodel/Model15chk/cp-0001\n",
            "77/77 - 70s - loss: 0.7503 - acc: 0.6458 - val_loss: 0.6959 - val_acc: 0.5000\n",
            "Epoch 2/15\n",
            "Epoch 1/15\n",
            "\n",
            "Epoch 00002: saving model to /content/drive/My Drive/savemodel/Model15chk/cp-0002\n",
            "77/77 - 56s - loss: 0.5626 - acc: 0.7360 - val_loss: 0.6624 - val_acc: 0.5714\n",
            "Epoch 3/15\n",
            "Epoch 1/15\n",
            "\n",
            "Epoch 00003: saving model to /content/drive/My Drive/savemodel/Model15chk/cp-0003\n",
            "77/77 - 56s - loss: 0.5234 - acc: 0.7791 - val_loss: 0.4520 - val_acc: 0.7857\n",
            "Epoch 4/15\n",
            "Epoch 1/15\n",
            "\n",
            "Epoch 00004: saving model to /content/drive/My Drive/savemodel/Model15chk/cp-0004\n",
            "77/77 - 56s - loss: 0.4774 - acc: 0.7779 - val_loss: 0.2623 - val_acc: 0.8878\n",
            "Epoch 5/15\n",
            "Epoch 1/15\n",
            "\n",
            "Epoch 00005: saving model to /content/drive/My Drive/savemodel/Model15chk/cp-0005\n",
            "77/77 - 56s - loss: 0.4465 - acc: 0.7929 - val_loss: 0.2581 - val_acc: 0.8980\n",
            "Epoch 6/15\n",
            "Epoch 1/15\n",
            "\n",
            "Epoch 00006: saving model to /content/drive/My Drive/savemodel/Model15chk/cp-0006\n",
            "77/77 - 56s - loss: 0.4250 - acc: 0.8016 - val_loss: 0.1725 - val_acc: 0.9286\n",
            "Epoch 7/15\n",
            "Epoch 1/15\n",
            "\n",
            "Epoch 00007: saving model to /content/drive/My Drive/savemodel/Model15chk/cp-0007\n",
            "77/77 - 56s - loss: 0.4008 - acc: 0.8134 - val_loss: 0.2098 - val_acc: 0.8980\n",
            "Epoch 8/15\n",
            "Epoch 1/15\n",
            "\n",
            "Epoch 00008: saving model to /content/drive/My Drive/savemodel/Model15chk/cp-0008\n",
            "77/77 - 56s - loss: 0.3834 - acc: 0.8198 - val_loss: 0.1482 - val_acc: 0.9388\n",
            "Epoch 9/15\n",
            "Epoch 1/15\n",
            "\n",
            "Epoch 00009: saving model to /content/drive/My Drive/savemodel/Model15chk/cp-0009\n",
            "77/77 - 57s - loss: 0.3699 - acc: 0.8245 - val_loss: 0.1536 - val_acc: 0.9388\n",
            "Epoch 10/15\n",
            "Epoch 1/15\n",
            "\n",
            "Epoch 00010: saving model to /content/drive/My Drive/savemodel/Model15chk/cp-0010\n",
            "77/77 - 57s - loss: 0.3595 - acc: 0.8225 - val_loss: 0.1737 - val_acc: 0.9184\n",
            "Epoch 11/15\n",
            "Epoch 1/15\n",
            "\n",
            "Epoch 00011: saving model to /content/drive/My Drive/savemodel/Model15chk/cp-0011\n",
            "77/77 - 57s - loss: 0.3506 - acc: 0.8265 - val_loss: 0.1586 - val_acc: 0.9286\n",
            "Epoch 12/15\n",
            "Epoch 1/15\n",
            "\n",
            "Epoch 00012: saving model to /content/drive/My Drive/savemodel/Model15chk/cp-0012\n",
            "77/77 - 57s - loss: 0.3395 - acc: 0.8324 - val_loss: 0.1564 - val_acc: 0.9490\n",
            "Epoch 13/15\n",
            "Epoch 1/15\n",
            "\n",
            "Epoch 00013: saving model to /content/drive/My Drive/savemodel/Model15chk/cp-0013\n",
            "77/77 - 57s - loss: 0.3395 - acc: 0.8304 - val_loss: 0.1368 - val_acc: 0.9184\n",
            "Epoch 14/15\n",
            "Epoch 1/15\n",
            "\n",
            "Epoch 00014: saving model to /content/drive/My Drive/savemodel/Model15chk/cp-0014\n",
            "77/77 - 57s - loss: 0.3308 - acc: 0.8336 - val_loss: 0.1420 - val_acc: 0.9592\n",
            "Epoch 15/15\n",
            "Epoch 1/15\n",
            "\n",
            "Epoch 00015: saving model to /content/drive/My Drive/savemodel/Model15chk/cp-0015\n",
            "77/77 - 57s - loss: 0.3101 - acc: 0.8451 - val_loss: 0.0899 - val_acc: 0.9592\n"
          ],
          "name": "stdout"
        },
        {
          "output_type": "execute_result",
          "data": {
            "text/plain": [
              "<tensorflow.python.keras.callbacks.History at 0x7fd5b4ccfb38>"
            ]
          },
          "metadata": {
            "tags": []
          },
          "execution_count": 14
        }
      ]
    },
    {
      "cell_type": "code",
      "metadata": {
        "id": "QK8RR15Ye2gl",
        "colab_type": "code",
        "colab": {
          "base_uri": "https://localhost:8080/",
          "height": 286
        },
        "outputId": "b13900c9-848f-45a5-89cd-7b5c24893536"
      },
      "source": [
        "#Matrice de confusion\n",
        "def matrice_confusion(modele) :\n",
        "  predicted_probs = modele.predict_generator(\n",
        "      validate_generator(test_files, test_labels, WAVS_PER_BATCH),\n",
        "      steps=steps_per_epoch(len(test_files), WAVS_PER_BATCH))\n",
        "  predicted_classes = np.argmax(predicted_probs, axis=1)\n",
        "  print(sklearn.metrics.accuracy_score(predicted_classes, test_labels))\n",
        "  sns.heatmap(sklearn.metrics.confusion_matrix(predicted_classes, test_labels), annot=True);\n",
        "\n",
        "matrice_confusion(model)"
      ],
      "execution_count": 16,
      "outputs": [
        {
          "output_type": "stream",
          "text": [
            "0.9591836734693877\n"
          ],
          "name": "stdout"
        },
        {
          "output_type": "display_data",
          "data": {
            "image/png": "[encoded data removed]",
            "text/plain": [
              "<Figure size 432x288 with 2 Axes>"
            ]
          },
          "metadata": {
            "tags": []
          }
        }
      ]
    },
    {
      "cell_type": "markdown",
      "metadata": {
        "id": "DUxRy1oRwKcp",
        "colab_type": "text"
      },
      "source": [
        "**Test indépendant :**"
      ]
    },
    {
      "cell_type": "code",
      "metadata": {
        "id": "ygKIo1zapva_",
        "colab_type": "code",
        "colab": {}
      },
      "source": [
        "# test sur un wav particulier\n",
        "#aFile = \"/content/sample_data/cats_dogs/test/cats/cat_110.wav\"\n",
        "def shape_to_predict(sons) :\n",
        "  waves = []\n",
        "  \n",
        "  for son in sons :\n",
        "    wave_raw = wavfile.read(son)[1]\n",
        "    wave_raw = wave_raw/np.std(wave_raw)\n",
        "    length = len(wave_raw)\n",
        "    left = 0\n",
        "    right = MAX_WAV_SAMPLES - left - length\n",
        "    wave = np.pad(wave_raw, pad_width=((left, right)), mode='wrap')\n",
        "    wave = wave.reshape( (1,wave.size) )\n",
        "\n",
        "    if len(waves) == 0 :\n",
        "      waves = wave\n",
        "    else :\n",
        "      waves = np.concatenate((waves, wave), axis = 0)\n",
        "\n",
        "  return waves\n",
        "\n",
        "def predict_model(sons) :\n",
        "  resu = model.predict(sons)\n",
        "  reps = []\n",
        "  for i in resu :\n",
        "    rep = np.argmax(i)\n",
        "    if rep == 0 :\n",
        "      reps.append(\"cat\")\n",
        "    else :\n",
        "      reps.append(\"dogs\")\n",
        "  return reps\n",
        "\n",
        "\n"
      ],
      "execution_count": 0,
      "outputs": []
    },
    {
      "cell_type": "code",
      "metadata": {
        "id": "1vqN-VKA0Wwi",
        "colab_type": "code",
        "colab": {
          "base_uri": "https://localhost:8080/",
          "height": 34
        },
        "outputId": "0892d328-75e7-4388-958e-cf4d36db699d"
      },
      "source": [
        "aFile = [\"/content/sample_data/cats_dogs/train/cat/cat_1.wav\"]\n",
        "test = shape_to_predict(aFile)\n",
        "reps = predict_model(test)\n",
        "for i in range(len(test)) :\n",
        "  if \"cat_\" in aFile[i] :\n",
        "    predict = \"cat\"\n",
        "  else :\n",
        "    predict = \"dog\"\n",
        "  print(\"prédiction : {} ; réponse : {}\".format(reps[i], predict))"
      ],
      "execution_count": 50,
      "outputs": [
        {
          "output_type": "stream",
          "text": [
            "prédiction : cat ; réponse : cat\n"
          ],
          "name": "stdout"
        }
      ]
    },
    {
      "cell_type": "code",
      "metadata": {
        "id": "kmCi6vInxOvo",
        "colab_type": "code",
        "colab": {
          "base_uri": "https://localhost:8080/",
          "height": 51
        },
        "outputId": "e939440b-acd9-43ab-fda1-4ce64b79b5cf"
      },
      "source": [
        "files = [\"/content/sample_data/cats_dogs/test/cats/cat_110.wav\",\"/content/sample_data/cats_dogs/train/dog/dog_barking_10.wav\"]\n",
        "test = shape_to_predict(files)\n",
        "reps = predict_model(test)\n",
        "test.shape\n",
        "for i in range(len(test)) :\n",
        "  if \"cat_\" in files[i] :\n",
        "    predict = \"cat\"\n",
        "  else :\n",
        "    predict = \"dog\"\n",
        "  print(\"prédiction : {} ; réponse : {}\".format(reps[i], predict))"
      ],
      "execution_count": 54,
      "outputs": [
        {
          "output_type": "stream",
          "text": [
            "prédiction : cat ; réponse : cat\n",
            "prédiction : dogs ; réponse : dog\n"
          ],
          "name": "stdout"
        }
      ]
    },
    {
      "cell_type": "markdown",
      "metadata": {
        "id": "LO5xmJBy3ywF",
        "colab_type": "text"
      },
      "source": [
        "**Récupération des sauvegardes :**"
      ]
    },
    {
      "cell_type": "code",
      "metadata": {
        "id": "2i__sZ_X36SU",
        "colab_type": "code",
        "colab": {
          "base_uri": "https://localhost:8080/",
          "height": 442
        },
        "outputId": "e98687e9-379f-4db9-86cb-c9f95536d572"
      },
      "source": [
        "!ls \"$checkpoint_dir\""
      ],
      "execution_count": 56,
      "outputs": [
        {
          "output_type": "stream",
          "text": [
            "checkpoint\t\t     cp-0008.data-00000-of-00002\n",
            "cp-0000.data-00000-of-00002  cp-0008.data-00001-of-00002\n",
            "cp-0000.data-00001-of-00002  cp-0008.index\n",
            "cp-0000.index\t\t     cp-0009.data-00000-of-00002\n",
            "cp-0001.data-00000-of-00002  cp-0009.data-00001-of-00002\n",
            "cp-0001.data-00001-of-00002  cp-0009.index\n",
            "cp-0001.index\t\t     cp-0010.data-00000-of-00002\n",
            "cp-0002.data-00000-of-00002  cp-0010.data-00001-of-00002\n",
            "cp-0002.data-00001-of-00002  cp-0010.index\n",
            "cp-0002.index\t\t     cp-0011.data-00000-of-00002\n",
            "cp-0003.data-00000-of-00002  cp-0011.data-00001-of-00002\n",
            "cp-0003.data-00001-of-00002  cp-0011.index\n",
            "cp-0003.index\t\t     cp-0012.data-00000-of-00002\n",
            "cp-0004.data-00000-of-00002  cp-0012.data-00001-of-00002\n",
            "cp-0004.data-00001-of-00002  cp-0012.index\n",
            "cp-0004.index\t\t     cp-0013.data-00000-of-00002\n",
            "cp-0005.data-00000-of-00002  cp-0013.data-00001-of-00002\n",
            "cp-0005.data-00001-of-00002  cp-0013.index\n",
            "cp-0005.index\t\t     cp-0014.data-00000-of-00002\n",
            "cp-0006.data-00000-of-00002  cp-0014.data-00001-of-00002\n",
            "cp-0006.data-00001-of-00002  cp-0014.index\n",
            "cp-0006.index\t\t     cp-0015.data-00000-of-00002\n",
            "cp-0007.data-00000-of-00002  cp-0015.data-00001-of-00002\n",
            "cp-0007.data-00001-of-00002  cp-0015.index\n",
            "cp-0007.index\n"
          ],
          "name": "stdout"
        }
      ]
    },
    {
      "cell_type": "code",
      "metadata": {
        "id": "vQzYmgeL4OIG",
        "colab_type": "code",
        "colab": {
          "base_uri": "https://localhost:8080/",
          "height": 286
        },
        "outputId": "ac75456a-abb1-4a14-daba-ff91fb6b97f1"
      },
      "source": [
        "#Création d'un model non entraîner\n",
        "modelRecup = create_model()\n",
        "matrice_confusion(modelRecup)"
      ],
      "execution_count": 57,
      "outputs": [
        {
          "output_type": "stream",
          "text": [
            "0.5\n"
          ],
          "name": "stdout"
        },
        {
          "output_type": "display_data",
          "data": {
            "image/png": "[encoded data removed]",
            "text/plain": [
              "<Figure size 432x288 with 2 Axes>"
            ]
          },
          "metadata": {
            "tags": []
          }
        }
      ]
    },
    {
      "cell_type": "code",
      "metadata": {
        "id": "Iucl64oI4gCz",
        "colab_type": "code",
        "colab": {
          "base_uri": "https://localhost:8080/",
          "height": 286
        },
        "outputId": "79b1a0fd-6c9a-4251-c2c8-e441fafe3f78"
      },
      "source": [
        "#Récupération du model à l'epoch 15\n",
        "modelRecup.load_weights(checkpoint_path.format(epoch=15))\n",
        "matrice_confusion(modelRecup)"
      ],
      "execution_count": 59,
      "outputs": [
        {
          "output_type": "stream",
          "text": [
            "0.9591836734693877\n"
          ],
          "name": "stdout"
        },
        {
          "output_type": "display_data",
          "data": {
            "image/png": "[encoded data removed]",
            "text/plain": [
              "<Figure size 432x288 with 2 Axes>"
            ]
          },
          "metadata": {
            "tags": []
          }
        }
      ]
    }
  ]
}